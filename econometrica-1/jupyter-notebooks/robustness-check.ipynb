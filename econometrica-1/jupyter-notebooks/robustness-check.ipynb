{
 "cells": [
  {
   "cell_type": "markdown",
   "metadata": {},
   "source": [
    "# Robustness check"
   ]
  },
  {
   "cell_type": "code",
   "execution_count": 1,
   "metadata": {},
   "outputs": [],
   "source": [
    "import pandas as pd\n",
    "import numpy as np\n",
    "\n",
    "import statsmodels.formula.api as smf\n",
    "from statsmodels.iolib.summary2 import summary_col # вывод подгонки\n",
    "\n",
    "import seaborn as sns\n",
    "\n",
    "# настройки визуализация\n",
    "import matplotlib.pyplot as plt\n",
    "\n",
    "# Не показывать Warning\n",
    "import warnings\n",
    "warnings.simplefilter(action='ignore', category=Warning)"
   ]
  },
  {
   "cell_type": "markdown",
   "metadata": {},
   "source": [
    "<div style=\"background-color:Bisque; color:DarkBlue; padding:30px;\">\n",
    "\n",
    "<i><b><span style=\"color: purple\">Robustness check</span> </b><br>\n",
    "\n",
    "Формально __выводы эмпирического анализа зависят от выбранной модели__\n",
    "(например, значимость нужных коэффициентов).\n",
    "\n",
    "Может случиться, что при выборе другой модели мы получим противоположные выводы. \n",
    "\n",
    "\n",
    "**<span style=\"color:purple\">Возможное решение:</span>** __robustness check__\n",
    "\n",
    "__Robustness check__:\n",
    "* Проверяем насколько выводы зависят от выбора модели\n",
    "* Проверяем устойчивость выводов к изменению базовой модели\n",
    "\n",
    "**<span style=\"color:purple\">Релизация:</span>** проверяем устойчивость/робастность\n",
    "* к изменению спецификации (log-переменные, квадраты регрессоров etc)\n",
    "* к выбору контрольных переменных\n",
    "\n",
    "</div>"
   ]
  },
  {
   "cell_type": "code",
   "execution_count": 3,
   "metadata": {},
   "outputs": [],
   "source": [
    "df = pd.read_csv('wage1.csv')\n",
    "df.shape"
   ]
  },
  {
   "cell_type": "code",
   "execution_count": null,
   "metadata": {},
   "outputs": [],
   "source": [
    "df.describe()"
   ]
  }
 ],
 "metadata": {
  "kernelspec": {
   "display_name": "base",
   "language": "python",
   "name": "python3"
  },
  "language_info": {
   "codemirror_mode": {
    "name": "ipython",
    "version": 3
   },
   "file_extension": ".py",
   "mimetype": "text/x-python",
   "name": "python",
   "nbconvert_exporter": "python",
   "pygments_lexer": "ipython3",
   "version": "3.12.3"
  }
 },
 "nbformat": 4,
 "nbformat_minor": 2
}
