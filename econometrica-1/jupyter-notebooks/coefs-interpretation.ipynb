{
 "cells": [
  {
   "cell_type": "markdown",
   "metadata": {},
   "source": [
    "# Интерпретация коэффициентов\n",
    "\n",
    "Рассмотрим линейную регрессию\n",
    "\n",
    "\\begin{equation}\n",
    "\ty=\\beta_0+\\beta_1x_1+\\cdots+\\beta_kx_k+u\n",
    "\\end{equation}\n",
    "\n",
    "где\n",
    "\n",
    "* $y$ – количественная эндогенная переменная\n",
    "* $\\begin{pmatrix} x_1 & \\cdots & x_k \\end{pmatrix}$ – экзогенные количественные или категориальные переменные\n",
    "* $u$ – ошибка модели, агрегированное влияние неучтённых переменных/внешние шоки\n",
    "\n",
    "Для удобства записи введём обозначения\n",
    "\n",
    "\\begin{align*}\n",
    "\t\\beta&=\\begin{pmatrix} \\beta_0 \\\\ \\beta_1 \\\\ \\vdots \\\\ \\beta_k \\end{pmatrix} &\n",
    "\tx &=\\begin{pmatrix} 1 \\\\ x_1 \\\\ \\vdots \\\\ x_k \\end{pmatrix}\n",
    "\\end{align*}\n",
    "\n",
    "Тогда регрессию можно записать \n",
    "\n",
    "$$\n",
    "\ty=x^\\top \\beta+u\n",
    "$$"
   ]
  },
  {
   "cell_type": "markdown",
   "metadata": {},
   "source": [
    "## Количественный регрессор\n",
    "\n",
    "Будем предполагать, что  $x_1$ – количественный регрессор\n",
    "\n",
    "### Пример 1\n",
    "\n",
    "Рассмотрим линейную регрессию \n",
    "\n",
    "$$\n",
    "\ty=\\beta_0+\\beta_1x_1+\\cdots+u\n",
    "$$\n",
    "\n",
    "<span style=\"color: purple\"> Интерпретация </span>  $\\color{purple}\\beta_1$: __на сколько в среднем__ изменится зависимая переменная при __увеличении регрессора на единицу__ при прочих равных (ceteris paribus).\n",
    "\n",
    "Другими словами $\\beta_1$ имеет смысл <span style=\"color: red\">__среднего предельного значения__</span>:"
   ]
  },
  {
   "cell_type": "markdown",
   "metadata": {},
   "source": [
    "### Пример 2\n",
    "\n",
    "Рассмотрим линейную регрессию (__log всегда натуральный!__)\n",
    "\n",
    "$$\n",
    "\t\\log y=\\beta_0+\\beta_1x_1+\\cdots+u\n",
    "$$\n",
    "\n",
    "<span style=\"color: purple\"> Интерпретация </span>  $\\color{purple}\\beta_1$: При увеличении $x_1$ __на единицу__ при прочих равных\n",
    "(ceteris paribus) зависимая переменная $y$ __в среднем изменяется__ на $\\beta_1\\cdot 100\\%$."
   ]
  },
  {
   "cell_type": "markdown",
   "metadata": {},
   "source": [
    "### Пример 3\n",
    "\n",
    "Рассмотрим линейную регрессию (__log всегда натуральный!__)\n",
    "\n",
    "$$\n",
    "\t\\log y=\\beta_0+\\beta_1\\log x_1+\\cdots+u\n",
    "$$\n",
    "\n",
    "<span style=\"color: purple\"> Интерпретация </span>  $\\color{purple}\\beta_1$: при увеличении $x_1$ __на 1%__ при прочих равных\n",
    "(ceteris paribus),зависимая переменная $y$ __в среднем изменяется__ на $\\beta_1\\%$."
   ]
  },
  {
   "cell_type": "markdown",
   "metadata": {},
   "source": [
    "### Пример 4\n",
    "\n",
    "Рассмотрим линейную регрессию (__log всегда натуральный!__)\n",
    "\n",
    "$$\n",
    "\ty=\\beta_0+\\beta_1\\log x_1+\\cdots+u\n",
    "$$\n",
    "\n",
    "<span style=\"color: purple\"> Интерпретация </span>  $\\color{purple}\\beta_1$: при увеличении  $x_1$ __на 1%__ при прочих равных\n",
    "(ceteris paribus), зависимая переменная $y$ __в среднем изменяется__ на $\\beta_1/100$."
   ]
  },
  {
   "cell_type": "markdown",
   "metadata": {},
   "source": [
    "## Бинарный регрессор\n",
    "\n",
    "Будем предполагать, что  $x_1$ – бинарный регрессор, т.е.\n",
    "\n",
    "$$\n",
    "\tx_1=\\begin{cases} 1 \\\\ 0\\end{cases}\n",
    "$$\n",
    "\n",
    "Рассмотрим линейную регрессию \n",
    "\n",
    "$$\n",
    "\ty=\\beta_0+\\beta_1x_1+\\cdots+u\n",
    "$$\n",
    "\n",
    "<span style=\"color: purple\"> Интерпретация </span>  $\\color{purple}\\beta_1$: __эффект воздействия/\"отдача\"__\n",
    "(в среднем) от качественного признака при прочих равных (ceteris paribus)."
   ]
  },
  {
   "cell_type": "markdown",
   "metadata": {},
   "source": []
  }
 ],
 "metadata": {
  "language_info": {
   "name": "python"
  }
 },
 "nbformat": 4,
 "nbformat_minor": 2
}
