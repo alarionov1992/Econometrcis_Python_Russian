{
 "cells": [
  {
   "cell_type": "markdown",
   "metadata": {},
   "source": [
    "# Диагностика модели: тесты на серийную корреляцию"
   ]
  },
  {
   "cell_type": "code",
   "execution_count": null,
   "metadata": {},
   "outputs": [],
   "source": [
    "import pandas as pd\n",
    "import numpy as np\n",
    "\n",
    "import statsmodels.formula.api as smf\n",
    "import statsmodels.stats.api as sms # тесты\n",
    "from statsmodels.iolib.summary2 import summary_col # вывод подгонки\n",
    "\n",
    "from scipy.stats import chi2 # chi2-распределение и критические значения\n",
    "\n",
    "# настройки визуализация\n",
    "import pandas_datareader.data as web\n",
    "\n",
    "import matplotlib.pyplot as plt\n",
    "\n",
    "# Не показывать Warning\n",
    "import warnings\n",
    "warnings.simplefilter(action='ignore', category=Warning)"
   ]
  },
  {
   "cell_type": "markdown",
   "metadata": {},
   "source": [
    "<div style=\"background-color:Bisque; color:DarkBlue; padding:30px;\">\n",
    "\n",
    "<i><b><span style=\"color: purple\">Диагностика модели: тесты на гетероскедастичность</span></i></b>\n",
    "<br>\n",
    "\n",
    "Рассмотрим линейную регрессию \n",
    "\n",
    "$$\n",
    "\\begin{aligned}\n",
    "\ty_i&=x_i^\\top\\beta+u_i & i&=1,\\ldots,n\n",
    "\\end{aligned}\n",
    "$$\n",
    "\n",
    "\n",
    "Критерий Дарбина-Уотсона применяется в ситуации, когда регрессионные остатки связаны **автокорреляционной зависимостью 1-го порядка**:\n",
    "\n",
    "$$ \\varepsilon_i = \\rho \\varepsilon_{i-1} + \\delta_i, \\quad i=\\overline{2,n}$$\n",
    "\n",
    "где $\\rho$ - некоторое число ($|\\rho|<1$), а случайные величины $\\delta_i$ удовлетворяют требованиям, предъявляемым к регрессионным остаткам классической модели (т.е. равенство нулю среднего значения, постоянство дисперсии и некоррелированность между собой):\n",
    "\n",
    "$$E(\\delta_i)=0$$\n",
    "$$ E(\\delta_i\\delta_j)=\n",
    "\\begin{cases}\n",
    "{\\sigma_0}^2, & \\quad i=j \\\\\n",
    "0, & \\quad i \\neq j\n",
    "\\end{cases} $$\n",
    "\n",
    "Проверяется **нулевая гипотеза** об <u>отсутствии автокорреляции</u>:\n",
    "\n",
    "$\\begin{aligned}\n",
    "\\qquad H_0: \\rho = 0\n",
    "\\end{aligned}$\n",
    "\n",
    "**Альтернативной гипотезой** может быть:\n",
    "* существование отрицательной автокорреляции (левосторонняя критическая область):\n",
    "\n",
    "$\\begin{aligned}\n",
    "\\qquad H_1: \\rho < 0\n",
    "\\end{aligned}$  \n",
    "\n",
    "* существование положительной автокорреляции (правосторонняя критическая область):\n",
    "\n",
    "$\\begin{aligned}\n",
    "\\qquad H_1: \\rho > 0\n",
    "\\end{aligned}$  \n",
    "\n",
    "* существование автокорреляции вообще (двусторонняя критическая область):\n",
    "\n",
    "$\\begin{aligned}\n",
    "\\qquad H_1: \\rho \\neq 0\n",
    "\\end{aligned}$\n",
    "\n",
    "__Расчетное значение__ статистики $DW$ критерия Дарбина-Уотсона имеет вид:\n",
    "\n",
    "$$ DW = \\frac {\\displaystyle\\sum_{i=2}^{n} (\\varepsilon_i - \\varepsilon_{i-1})^2} {{\\displaystyle\\sum_{i=1}^{n} {\\varepsilon_i}^2}} $$\n",
    "\n",
    "где $\\varepsilon_i = y_i - \\widehat{y}_i$ - остатки (невязки) регрессионной модели.\n",
    "\n",
    "По таблицам в зависимости от уровня значимости $\\alpha$, числа регрессоров модели $k$ и объема выборки $n$ (от 15 до 100) определяются __критические значения статистики Дарбина-Уотсона__: <u>нижний</u> $d_L$ и <u>верхний</u> $d_U$ предел.\n",
    "\n",
    "__Правила принятия решения по критерию Дарбина-Уотсона__\n",
    "\n",
    "Критические значения образуют <u>пять областей</u> различных статистических решений\n",
    "\n",
    "|Значение $DW$             |Гипотеза $H_0$                         |Вывод                            |\n",
    "|:-------------------------------:|:--------------------------------------------:|:-------------------------------:|\n",
    "|$0 \\leq DW< d_L$         |отвергается|есть положительная автокорреляция|\n",
    "|$d_L \\leq DW \\leq d_U$    |                                              |неопределенность                 |\n",
    "|$d_U < DW < 4-d_U$        |не отвергается                             |автокорреляция отсутствует       |\n",
    "|$4-d_U \\leq DW \\leq 4-d_L$|                                              |неопределенность                 |\n",
    "|$4-d_L < DW \\leq 4$       |отвергается|есть отрицательная автокорреляция|\n",
    "\n",
    "Между статистикой критерия $DW$ и коэффициентом автокорреляции $\\rho$ существует приближенное соотношение:\n",
    "\n",
    "$$ DW \\approx 2 \\cdot (1-\\rho) $$\n",
    "\n",
    "Существуют и другие критерии для проверки автокорреляции (тест Бройша-Годфри, Льюнга-Бокса и пр.).\n",
    "\n",
    "</div>"
   ]
  },
  {
   "cell_type": "markdown",
   "metadata": {},
   "source": [
    "Рассмотрим регрессию\n",
    "\n",
    "$$\n",
    "\t\\text{наберите уравнение регрессии}\n",
    "$$"
   ]
  },
  {
   "cell_type": "code",
   "execution_count": null,
   "metadata": {},
   "outputs": [],
   "source": [
    "# загрузим данные\n",
    "df = pd.read_csv('Labour.csv')"
   ]
  },
  {
   "cell_type": "markdown",
   "metadata": {},
   "source": [
    "## Спецификация и подгонка"
   ]
  },
  {
   "cell_type": "code",
   "execution_count": null,
   "metadata": {},
   "outputs": [],
   "source": [
    "# спецификация модели через формулу\n",
    "mod = smf.ols(formula='your specification', data=df)\n",
    "# подгонка модели с ковариационной матрицей по умолчанию (неробастной)\n",
    "res = mod.fit()"
   ]
  },
  {
   "cell_type": "markdown",
   "metadata": {},
   "source": [
    "## DW-тест\n",
    "\n",
    "Тестируем модель на серийную корреляцию 1-го порядка"
   ]
  },
  {
   "cell_type": "code",
   "execution_count": null,
   "metadata": {},
   "outputs": [],
   "source": [
    "# DW-статистика\n",
    "sms.durbin_watson(res.resid)"
   ]
  },
  {
   "cell_type": "markdown",
   "metadata": {},
   "source": [
    "## Вывод"
   ]
  },
  {
   "cell_type": "markdown",
   "metadata": {},
   "source": [
    "ваш вывод"
   ]
  },
  {
   "cell_type": "markdown",
   "metadata": {},
   "source": [
    "## LM/BG-тест\n",
    "\n",
    "Тестируем модель на серийную корреляцию 1-го порядка "
   ]
  },
  {
   "cell_type": "code",
   "execution_count": null,
   "metadata": {},
   "outputs": [],
   "source": [
    "# LM-тест на автокорреляцию 1-го порядка\n",
    "lm, lmpval, fval, fpval = sms.acorr_breusch_godfrey(res, nlags=1)\n",
    "lm, lmpval"
   ]
  },
  {
   "cell_type": "markdown",
   "metadata": {},
   "source": [
    "## Критическое значение $\\chi^2$-распределения"
   ]
  },
  {
   "cell_type": "code",
   "execution_count": null,
   "metadata": {},
   "outputs": [],
   "source": [
    "# Задаём уровень значимости\n",
    "sign_level = 0.05\n",
    "# Критическое значение распределения chi2\n",
    "chi2.ppf(q=1-sign_level, df=mod.exog.shape[1])"
   ]
  },
  {
   "cell_type": "markdown",
   "metadata": {},
   "source": [
    "## Вывод\n",
    "\n",
    "<div style=\"background-color:Bisque; color:DarkBlue; padding:30px;\">\n",
    "\n",
    "<span style=\"color: purple\"><i><b>Тест указывает на серийную корреляцию </i></b></span> (отвергаем $H_0$) т.к. $LM>\\chi^2_{cr}$ или $P<\\alpha$.\n",
    "\n",
    "</div>"
   ]
  },
  {
   "cell_type": "markdown",
   "metadata": {},
   "source": [
    "ваш вывод"
   ]
  },
  {
   "cell_type": "markdown",
   "metadata": {},
   "source": [
    "## Робастный t-тест (HAC s.e.)\n",
    "\n",
    "Используем HAC-оценку ковариационной матрицы"
   ]
  },
  {
   "cell_type": "code",
   "execution_count": null,
   "metadata": {},
   "outputs": [],
   "source": [
    "# спецификация модели через формулу\n",
    "mod = smf.ols(formula='sleep~1+totwrk+age+male+south+smsa+yngkid+marr+union', data=df)\n",
    "# подгонка модели с робастной HC3-оценкой ковариационной матрицы\n",
    "res_hac = mod.fit(cov_type='HAC')"
   ]
  }
 ],
 "metadata": {
  "language_info": {
   "name": "python"
  }
 },
 "nbformat": 4,
 "nbformat_minor": 2
}
