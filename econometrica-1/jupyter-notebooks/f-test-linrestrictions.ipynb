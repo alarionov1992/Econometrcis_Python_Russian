{
 "cells": [
  {
   "cell_type": "markdown",
   "metadata": {},
   "source": [
    "# F-тест: линейные ограничения"
   ]
  },
  {
   "cell_type": "code",
   "execution_count": 1,
   "metadata": {},
   "outputs": [],
   "source": [
    "import pandas as pd\n",
    "import numpy as np\n",
    "import statsmodels.formula.api as smf\n",
    "from statsmodels.iolib.summary2 import summary_col # вывод результатов тестирования\n",
    "from scipy.stats import f # f-распределение и критические значения\n",
    "\n",
    "# Не показывать FutureWarnings\n",
    "import warnings\n",
    "warnings.simplefilter(action='ignore', category=FutureWarning)"
   ]
  },
  {
   "cell_type": "markdown",
   "metadata": {},
   "source": [
    "<div style=\"background-color:Bisque; color:DarkBlue; padding:30px;\">\n",
    "\n",
    "<i><b><span style=\"color: purple\">Значимость регрессии </span> </b><br>\n",
    "\n",
    "Для линейной регрессии\n",
    "\n",
    "$$\n",
    "\t(\\log)y=\\beta_0+\\beta_1(\\log)x_1+\\cdots+\\beta_k(\\log)x_k+u=x^\\top \\beta+u\n",
    "$$\n",
    "\n",
    "Тестируется гипотеза, что коэффициенты модели удовлетворяют системе $J$ линейных ограничений (запишем их в матричном виде)\n",
    "\n",
    "$$\n",
    "H_0: R\\beta=q\n",
    "$$\n",
    "\n",
    "с матрицами $\\underset{J\\times(k+1)}{R}$ и $\\underset{J\\times(1)}{q}$. Будем предполагать, что ограничения линейно независимы, т.е. $rank (R)=J$\n",
    "\n",
    "__Интерпретация__: зависит от модели/контекста\n",
    "\n",
    "__Тестовая статистика__ для выбранной оценки ковариационной матрицы $\\hat{V}$ формула для F-статистики (всё вычисляется автоматически!)\n",
    "\n",
    "$$\n",
    "\tF=\\frac{1}{J}(R\\widehat{\\beta}-q)^\\top\n",
    "\t\\Bigl(R\\cdot\\hat{V}\\cdot R^\\top\\Bigr)^{-1}\n",
    "\t(R\\widehat{\\beta}-q) \n",
    "$$\n",
    "\n",
    "__Критическое значение__: $F$-распределения со степенями свободы ($k$ - число объясняющих переменных)\n",
    "\n",
    "$$ \n",
    "\\begin{aligned} \n",
    "\tdf_1&=dfn=J & df_2&=dfd=n-k-1\n",
    "\\end{aligned}\n",
    "$$\n",
    "\n",
    "__Замечание__: \n",
    "* для F-тест есть неробастный (по умолчанию) и робастный вариант\n",
    "* для подогнанной регрессии используем метод `.f_test(r_matrix)` или `.wald_test(r_matrix, use_f=True)`\n",
    "* тестируемую гипотезу специфицируем в виде `'x1=x2=0'` или `'x1=0,x2=0'` (параметр `r_matrix`) \n",
    "\n",
    "__Вывод__\n",
    "\n",
    "**<span style=\"color:purple\">Способ 1:</span>** используем $F$-статистику\n",
    "\n",
    "* Отвергаем гипотезу $H_0$ при $F>F_{cr}$, <i><b><span style=\"color: purple\">совместное влияния значимо</span></b><br>\n",
    "* Не отвергаем гипотезу $H_0$ при $F<F_{cr}$, <i><b><span style=\"color: purple\">совместное влияния незначимо</span> </b><br>\n",
    "\n",
    "**<span style=\"color:purple\">Способ 2:</span>** используем $P-value$\n",
    "\n",
    "* Отвергаем гипотезу $H_0$  при $P<\\alpha$, <i><b><span style=\"color: purple\">совместное влияния значимо</span> </b><br>\n",
    "* Не отвергаем гипотезу $H_0$ при $P>\\alpha$, <i><b><span style=\"color: purple\">совместное влияния незначимо</span> </b><br>\n",
    "\n",
    "</div>"
   ]
  },
  {
   "cell_type": "markdown",
   "metadata": {},
   "source": [
    "Для набора данных `Labour` рассмотрим линейную регрессию __log(output)~log(caputal)+log(labour)+log(wage)__\n",
    "\n",
    "Тестируем гипотезу\n",
    "\n",
    "$$\n",
    "\tH_0:\\beta_{capital}+\\beta_{labour}+\\beta_{wage}=1\n",
    "$$\n",
    "\n",
    "Для этой гипотезы $J=1$"
   ]
  },
  {
   "cell_type": "code",
   "execution_count": 2,
   "metadata": {},
   "outputs": [],
   "source": [
    "# импорт данных\n",
    "df = pd.read_csv('Labour.csv')"
   ]
  },
  {
   "cell_type": "markdown",
   "metadata": {},
   "source": [
    "## F-тест (неробастный)\n",
    "\n",
    "Используем OLS-оценку ковариационной матрицы $\\hat{V}=s^2(X^\\top X)^{-1}$"
   ]
  },
  {
   "cell_type": "code",
   "execution_count": 3,
   "metadata": {},
   "outputs": [],
   "source": [
    "# спецификация модели через формулу\n",
    "mod = smf.ols(formula='np.log(output)~1+np.log(capital)+np.log(labour)+np.log(wage)', data=df)\n",
    "# подгонка модели с неробастной оценкой ковариационной матрицы\n",
    "res_ols = mod.fit()"
   ]
  },
  {
   "cell_type": "code",
   "execution_count": 4,
   "metadata": {},
   "outputs": [
    {
     "name": "stdout",
     "output_type": "stream",
     "text": [
      "<F test: F=198.58693315849226, p=7.280959454662307e-39, df_denom=565, df_num=1>\n"
     ]
    }
   ],
   "source": [
    "F_test = res_ols.f_test('np.log(capital)+np.log(labour)+np.log(wage)=1')\n",
    "print(F_test)"
   ]
  },
  {
   "cell_type": "code",
   "execution_count": 5,
   "metadata": {},
   "outputs": [
    {
     "data": {
      "text/plain": [
       "(198.58693315849226, 7.280959454662307e-39)"
      ]
     },
     "execution_count": 5,
     "metadata": {},
     "output_type": "execute_result"
    }
   ],
   "source": [
    "# Тестовая статистика и её P-значение\n",
    "F_test.statistic, F_test.pvalue"
   ]
  },
  {
   "cell_type": "code",
   "execution_count": 6,
   "metadata": {},
   "outputs": [
    {
     "data": {
      "text/plain": [
       "3.857969880147654"
      ]
     },
     "execution_count": 6,
     "metadata": {},
     "output_type": "execute_result"
    }
   ],
   "source": [
    "# уровень значимости\n",
    "sign_level = 0.05\n",
    "# Критическое значение F-распределения\n",
    "f.ppf(q=1-sign_level, dfn=F_test.df_num, dfd=F_test.df_denom)"
   ]
  },
  {
   "cell_type": "code",
   "execution_count": 7,
   "metadata": {},
   "outputs": [
    {
     "data": {
      "text/plain": [
       "(1.0, 565.0)"
      ]
     },
     "execution_count": 7,
     "metadata": {},
     "output_type": "execute_result"
    }
   ],
   "source": [
    "# степени свободы \n",
    "F_test.df_num, F_test.df_denom"
   ]
  },
  {
   "cell_type": "markdown",
   "metadata": {},
   "source": [
    "## Вывод\n",
    "\n",
    "<div style=\"background-color:Bisque; color:DarkBlue; padding:30px;\">\n",
    "\n",
    "Отвергаем гипотезу $H_0$ (т.к. $F<F_{cr}$ или $P>\\alpha$)\n",
    "\n",
    "</div>"
   ]
  },
  {
   "cell_type": "markdown",
   "metadata": {},
   "source": [
    "## F-тест (робастный)\n",
    "\n",
    "Используем HC3-оценку ковариационной матрицы"
   ]
  },
  {
   "cell_type": "code",
   "execution_count": 8,
   "metadata": {},
   "outputs": [],
   "source": [
    "# спецификация модели через формулу\n",
    "mod = smf.ols(formula='np.log(output)~1+np.log(capital)+np.log(labour)+np.log(wage)', data=df)\n",
    "# подгонка модели с робастной HC3-оценкой ковариационной матрицы\n",
    "res_hc = mod.fit(cov_type='HC3')"
   ]
  },
  {
   "cell_type": "code",
   "execution_count": 9,
   "metadata": {},
   "outputs": [
    {
     "name": "stdout",
     "output_type": "stream",
     "text": [
      "<F test: F=109.34016651228757, p=1.630280244154787e-23, df_denom=565, df_num=1>\n"
     ]
    }
   ],
   "source": [
    "F_test = res_hc.f_test('np.log(capital)+np.log(labour)+np.log(wage)=1')\n",
    "print(F_test)"
   ]
  },
  {
   "cell_type": "code",
   "execution_count": 10,
   "metadata": {},
   "outputs": [
    {
     "data": {
      "text/plain": [
       "(109.34016651228757, 1.630280244154787e-23)"
      ]
     },
     "execution_count": 10,
     "metadata": {},
     "output_type": "execute_result"
    }
   ],
   "source": [
    "# Тестовая статистика и её P-значение\n",
    "F_test.statistic, F_test.pvalue"
   ]
  },
  {
   "cell_type": "code",
   "execution_count": 11,
   "metadata": {},
   "outputs": [
    {
     "data": {
      "text/plain": [
       "3.857969880147654"
      ]
     },
     "execution_count": 11,
     "metadata": {},
     "output_type": "execute_result"
    }
   ],
   "source": [
    "# уровень значимости\n",
    "sign_level = 0.05\n",
    "# Критическое значение F-распределения\n",
    "f.ppf(q=1-sign_level, dfn=F_test.df_num, dfd=F_test.df_denom)"
   ]
  },
  {
   "cell_type": "code",
   "execution_count": 12,
   "metadata": {},
   "outputs": [
    {
     "name": "stdout",
     "output_type": "stream",
     "text": [
      "<F test: F=array([[109.34016651]]), p=1.630280244154787e-23, df_denom=565, df_num=1>\n"
     ]
    }
   ],
   "source": [
    "# альтернативно\n",
    "W_test = res_hc.wald_test('np.log(capital)+np.log(labour)+np.log(wage)=1', use_f=True)\n",
    "print(W_test)"
   ]
  },
  {
   "cell_type": "markdown",
   "metadata": {},
   "source": [
    "## Вывод\n",
    "\n",
    "<div style=\"background-color:Bisque; color:DarkBlue; padding:30px;\">\n",
    "\n",
    "Отвергаем гипотезу $H_0$ (т.к. $F<F_{cr}$ или $P>\\alpha$)\n",
    "\n",
    "</div>"
   ]
  }
 ],
 "metadata": {
  "kernelspec": {
   "display_name": "base",
   "language": "python",
   "name": "python3"
  },
  "language_info": {
   "codemirror_mode": {
    "name": "ipython",
    "version": 3
   },
   "file_extension": ".py",
   "mimetype": "text/x-python",
   "name": "python",
   "nbconvert_exporter": "python",
   "pygments_lexer": "ipython3",
   "version": "3.11.7"
  }
 },
 "nbformat": 4,
 "nbformat_minor": 2
}
