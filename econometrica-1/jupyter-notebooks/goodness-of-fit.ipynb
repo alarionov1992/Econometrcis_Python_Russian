{
 "cells": [
  {
   "cell_type": "markdown",
   "metadata": {},
   "source": [
    "# Степень подгонки модели регрессии\n",
    "\n",
    "Модель линейной регрессии\n",
    "\n",
    "\\begin{equation*}\n",
    "\ty=\\beta_0+\\beta_1x_1+\\cdots+\\beta_kx_k+u\n",
    "\\end{equation*}\n",
    "\n",
    "В матричной записи\n",
    "\n",
    "\\begin{align*}\n",
    "\ty&=x^\\top\\beta+u & \\beta&=\\begin{pmatrix} \\beta_0 \\\\ \\beta_1 \\\\ \\vdots \\\\ \\beta_k \\end{pmatrix} &\n",
    "\tx &=\\begin{pmatrix} 1 \\\\ x_1 \\\\ \\vdots \\\\ x_k \\end{pmatrix}\n",
    "\\end{align*}"
   ]
  },
  {
   "cell_type": "markdown",
   "metadata": {},
   "source": [
    "## Прогнозы и остатки\n",
    "\n",
    "Модель подгоняется (OLS) по серии из $n$ наблюдений (обучающая выборка)\n",
    "\n",
    "$$\n",
    "\t\\{y_i, x_{i1},\\ldots,x_{ik}\\}_{i=1}^n\n",
    "$$\n",
    "\n",
    "Коэффициенты подогнанной модели $\\hat{\\beta}=\\begin{pmatrix} \\hat{\\beta}_0 & \\hat{\\beta}_1 & \\cdots & \\hat{\\beta}_k \\end{pmatrix}^\\top$\n",
    "\n",
    "Для каждого наблюдения имеем\n",
    "\n",
    "* $y_i$ – фактическое наблюдение\n",
    "* $\\hat{y}_i$ – прогноз по подогнанной модели ($\\hat{y}_i=x_i^\\top\\hat{\\beta}$), подогнанные значения\n",
    "* $e_i=(y_i-\\hat{y}_i)$ – остаток/ошибка прогноза\n",
    "\n",
    "__Замечание__: т.к. модель включает $\\beta_0$, то $\\sum_{i=1}^n e_i=0$\n",
    "\n",
    "__Замечание__: для регрессии $\\log y=x^\\top\\beta+u$ прогноз $\\widehat{\\log y_i}=x_i^\\top\\hat{\\beta}$ и остаток $e_i=\\log y_i-\\widehat{\\log y_i}$"
   ]
  },
  {
   "cell_type": "markdown",
   "metadata": {},
   "source": [
    "## Разложение дисперсии\n",
    "\n",
    "Определим следующие величины\n",
    "\n",
    "* $TSS=\\sum_{i=1}^n\\left(y_i-\\bar{y}\\right)^2$ – общая сумма квадратов зависимой переменной\n",
    "* $ESS=\\sum_{i=1}^n\\left(\\hat{y}_i-\\bar{y}\\right)^2$ – объяснённая сумма квадратов зависимой переменной\n",
    "* $RSS=\\sum_{i=1}^n\\left(y_i-\\hat{y}_i\\right)^2=\\sum_{i=1}^n e^2_i$ – остаточная сумма квадратов зависимой переменной\n",
    "\n",
    "Тогда\n",
    "\n",
    "* $Var(y)=TSS/n$ – выборочная дисперсия $y$\n",
    "* $Var(\\hat{y})=ESS/n$ – дисперсия прогнозов $\\hat{y}$\n",
    "* $MSE=Var(e)=RSS/n$ – <span style=\"color: purple\">средняя квадратическая ошибка прогноза</span> (на обучающей выборке)/дисперсия остатков\n",
    "\n",
    "Стандартная ошибка регрессии\n",
    "\n",
    "$$\n",
    "\ts=\\sqrt{\\frac{RSS}{n-k-1}}\n",
    "$$\n",
    "\n",
    "<div style=\"background-color:Bisque; color:DarkBlue; padding:30px;\">\n",
    "\n",
    "<i><b><span style=\"color: purple\"> Разложение дисперсии </span> </b><br>\n",
    "\n",
    "Для линейной регрессии с $\\beta_0$ выполнено равенство\n",
    "\n",
    "$$\n",
    "\tVar(y)=Var(\\hat{y})+Var(e)\\Longleftrightarrow  \\frac{1}{n}TSS=\\frac{1}{n}ESS+\\frac{1}{n}RSS\n",
    "$$\n",
    "\n",
    "</div>"
   ]
  },
  {
   "cell_type": "markdown",
   "metadata": {},
   "source": [
    "## Коэффициент $R^2$\n",
    "\n",
    "Для линейной регрессии на выборочных данных определим\n",
    "\n",
    "<div style=\"background-color:Bisque; color:DarkBlue; padding:30px;\">\n",
    "\n",
    "<i><b><span style=\"color: purple\"> Коэффициент </span> $\\color{purple}R^2$ </b><br> \n",
    "\n",
    "Для линейной регрессии с $\\beta_0$ коэффициент $R^2$ или детерминации определяется как\n",
    "\n",
    "$$\n",
    "\tR^2=1-\\frac{Var(e)}{Var(y)}=1-\\frac{RSS}{TSS}=\\frac{ESS}{TSS}=\\frac{Var(\\hat{y})}{Var(y)}\n",
    "$$\n",
    "\n",
    "</i></div>\n",
    "\n",
    "Базовые свойства\n",
    "\n",
    "* $0\\leq R^2\\leq 1$\n",
    "* $R^2=0\\Leftrightarrow \\hat{y}_i=\\bar{y}\\Leftrightarrow \\hat{\\beta}_1=\\cdots=\\hat{\\beta}_k=0$\n",
    "* $R^2=1\\Leftrightarrow e_i=0\\Leftrightarrow y_i=\\hat{y}_i$\n",
    "* При добавлении новых регрессоров из того же датасета может только увеличиться\n",
    "\n",
    "<div style=\"background-color:Bisque; color:DarkBlue; padding:30px;\">\n",
    "\n",
    "<i><b><span style=\"color: purple\"> Интерпретация </span> $\\color{purple}R^2$ <span style=\"color: purple\"> как показателя \"качества подгонки\" модели </span> </b><br> \n",
    "\n",
    "Какая доля зависимой переменной объясняется моделью на выборочных данных\n",
    "\n",
    "</i></div>"
   ]
  },
  {
   "cell_type": "markdown",
   "metadata": {},
   "source": [
    "## Коэффициент $R^2_{adj}$\n",
    "\n",
    "Обозначим\n",
    "* $s^2_e=RSS/(n-k-1)$\n",
    "* $s^2_y=TSS/(n-1)$\n",
    "\n",
    "(это \"исправленные\" дисперсии)\n",
    "\n",
    "<div style=\"background-color:Bisque; color:DarkBlue; padding:30px;\">\n",
    "\n",
    "<i><b><span style=\"color: purple\"> Коэффициент </span> $\\color{purple}R^2_{adj}$ </b><br> \n",
    "\n",
    "Для линейной регрессии с $\\beta_0$ коэффициент скорректированный $R^2_{adj}$ определяется как\n",
    "\n",
    "$$\n",
    "\tR^2_{adj}=1-\\frac{s^2_e}{s^2_y}=1-\\frac{RSS/(n-k-1)}{TSS/(n-1)}=1-(1-R^2)\\frac{n-1}{n-k-1}\n",
    "$$\n",
    "\n",
    "</i></div>\n",
    "\n",
    "Базовые свойства\n",
    "\n",
    "* $R^2_{adj}\\leq R^2$\n",
    "* м.б. отрицательным\n",
    "* неинтерптетируем\n",
    "* используется для сравнения нескольких регрессий"
   ]
  },
  {
   "cell_type": "code",
   "execution_count": null,
   "metadata": {},
   "outputs": [],
   "source": [
    "import numpy as np\n",
    "import pandas as pd\n",
    "import statsmodels.formula.api as smf"
   ]
  },
  {
   "cell_type": "code",
   "execution_count": null,
   "metadata": {},
   "outputs": [],
   "source": [
    "# импорт данных из файла как DataFrame\n",
    "df = pd.read_csv('sleep75.csv')"
   ]
  },
  {
   "cell_type": "code",
   "execution_count": null,
   "metadata": {},
   "outputs": [],
   "source": [
    "# спецификация модели через формулу\n",
    "mod = smf.ols(formula='sleep~1+totwrk+age+smsa', data=df)\n",
    "# подгонка модели\n",
    "res = mod.fit()"
   ]
  },
  {
   "cell_type": "code",
   "execution_count": null,
   "metadata": {},
   "outputs": [],
   "source": [
    "# TSS\n",
    "res.centered_tss"
   ]
  },
  {
   "cell_type": "code",
   "execution_count": null,
   "metadata": {},
   "outputs": [],
   "source": [
    "# ESS\n",
    "res.ess"
   ]
  },
  {
   "cell_type": "code",
   "execution_count": null,
   "metadata": {},
   "outputs": [],
   "source": [
    "# RSS\n",
    "res.ssr"
   ]
  },
  {
   "cell_type": "code",
   "execution_count": null,
   "metadata": {},
   "outputs": [],
   "source": [
    "# R^2\n",
    "res.rsquared"
   ]
  },
  {
   "cell_type": "code",
   "execution_count": null,
   "metadata": {},
   "outputs": [],
   "source": [
    "# adj R^2\n",
    "res.rsquared_adj"
   ]
  },
  {
   "cell_type": "code",
   "execution_count": null,
   "metadata": {},
   "outputs": [],
   "source": [
    "# стандартная ошибка регрессии\n",
    "res.scale"
   ]
  }
 ],
 "metadata": {
  "kernelspec": {
   "display_name": "base",
   "language": "python",
   "name": "python3"
  },
  "language_info": {
   "codemirror_mode": {
    "name": "ipython",
    "version": 3
   },
   "file_extension": ".py",
   "mimetype": "text/x-python",
   "name": "python",
   "nbconvert_exporter": "python",
   "pygments_lexer": "ipython3",
   "version": "3.11.6"
  }
 },
 "nbformat": 4,
 "nbformat_minor": 2
}
