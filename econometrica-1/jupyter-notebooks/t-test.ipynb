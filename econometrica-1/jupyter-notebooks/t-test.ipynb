{
 "cells": [
  {
   "cell_type": "markdown",
   "id": "5d687fde",
   "metadata": {},
   "source": [
    "# Линейная регрессия: t-тест"
   ]
  },
  {
   "cell_type": "code",
   "execution_count": 4,
   "id": "d9fa721f",
   "metadata": {},
   "outputs": [],
   "source": [
    "import pandas as pd\n",
    "import numpy as np\n",
    "import statsmodels.formula.api as smf\n",
    "from statsmodels.iolib.summary2 import summary_params, summary_col # вывод результатов тестирования\n",
    "from scipy.stats import t # t-распределение и критические значения\n",
    "\n",
    "# Не показывать FutureWarnings\n",
    "import warnings\n",
    "warnings.simplefilter(action='ignore', category=FutureWarning)"
   ]
  },
  {
   "cell_type": "markdown",
   "id": "20df6f9c",
   "metadata": {},
   "source": [
    "## t-тест: значимость коэффициентов\n",
    "\n",
    "<div style=\"background-color:Bisque; color:DarkBlue; padding:30px;\">\n",
    "\n",
    "Тестируем нулевую гипотезу $H_0:\\beta=0$\n",
    "\n",
    "Альтернативная гипотеза $H_1:\\beta\\ne 0$\n",
    "\n",
    "Тестовая статистика $$t=\\frac{\\hat{\\beta}}{s.e.(\\beta)}$$\n",
    "\n",
    "Критическое значение $t_{cr}=t_{df}(\\alpha)$, где  $df=n-k-1$ --- степени свободы для t-распределения\n",
    "\n",
    "$\\color{purple}{\\text{\\textbf{Значим ли коэффициент} }\\beta ?}$\n",
    "\n",
    "**<span style=\"color:purple\">Способ 1:</span>** используем $t_{cr}$\n",
    "\n",
    "* Отвергаем гипотезу $H_0$ при $|t|>t_{cr}$, <i><b><span style=\"color: purple\">коэффициент значим</span></b><br>\n",
    "* Не отвергаем гипотезу $H_0$ при $|t|<t_{cr}$, <i><b><span style=\"color: purple\">коэффициент незначим</span> </b><br>\n",
    "\n",
    "**<span style=\"color:purple\">Способ 2:</span>** используем P-value\n",
    "\n",
    "* Отвергаем гипотезу $H_0$  при $P<\\alpha$, <i><b><span style=\"color: purple\">коэффициент значим</span> </b><br>\n",
    "* Не отвергаем гипотезу $H_0$ при $P>\\alpha$, <i><b><span style=\"color: purple\">коэффициент незначим</span> </b><br>\n",
    "\n",
    "---\n",
    "\n",
    "<i><b><span style=\"color: purple\">Сравниваем самостоятельно или автоматизированно</span> <br>\n",
    "\n",
    "<span style=\"color:#59afe1\">ОБЯЗАТЕЛЬНО ПЕЧАТАЕМ ВЫВОД</span></b>\n",
    "\n",
    "---\n",
    "\n",
    "</div>"
   ]
  },
  {
   "cell_type": "markdown",
   "id": "7bb176c9",
   "metadata": {},
   "source": [
    "Для набора данных `sleep75` рассмотрим линейную регрессию\n",
    "\n",
    "$$\n",
    "    sleep = \\beta_0+\\beta_1 totwrk+\\beta_2 age+\\beta_3 south+\\beta_4 male+\\beta_5 smsa+\\beta_6 yngkid+\\beta_7 marr+\\beta_8 union+\\beta_9 \\log(hrwage)+error\n",
    "$$"
   ]
  },
  {
   "cell_type": "code",
   "execution_count": 5,
   "id": "9d5237e2",
   "metadata": {},
   "outputs": [
    {
     "data": {
      "text/html": [
       "<div>\n",
       "<style scoped>\n",
       "    .dataframe tbody tr th:only-of-type {\n",
       "        vertical-align: middle;\n",
       "    }\n",
       "\n",
       "    .dataframe tbody tr th {\n",
       "        vertical-align: top;\n",
       "    }\n",
       "\n",
       "    .dataframe thead th {\n",
       "        text-align: right;\n",
       "    }\n",
       "</style>\n",
       "<table border=\"1\" class=\"dataframe\">\n",
       "  <thead>\n",
       "    <tr style=\"text-align: right;\">\n",
       "      <th></th>\n",
       "      <th>age</th>\n",
       "      <th>black</th>\n",
       "      <th>case</th>\n",
       "      <th>clerical</th>\n",
       "      <th>construc</th>\n",
       "      <th>educ</th>\n",
       "      <th>earns74</th>\n",
       "      <th>gdhlth</th>\n",
       "      <th>inlf</th>\n",
       "      <th>leis1</th>\n",
       "      <th>...</th>\n",
       "      <th>spwrk75</th>\n",
       "      <th>totwrk</th>\n",
       "      <th>union</th>\n",
       "      <th>worknrm</th>\n",
       "      <th>workscnd</th>\n",
       "      <th>exper</th>\n",
       "      <th>yngkid</th>\n",
       "      <th>yrsmarr</th>\n",
       "      <th>hrwage</th>\n",
       "      <th>agesq</th>\n",
       "    </tr>\n",
       "  </thead>\n",
       "  <tbody>\n",
       "    <tr>\n",
       "      <th>0</th>\n",
       "      <td>32</td>\n",
       "      <td>0</td>\n",
       "      <td>1</td>\n",
       "      <td>0.0</td>\n",
       "      <td>0.0</td>\n",
       "      <td>12</td>\n",
       "      <td>0</td>\n",
       "      <td>0</td>\n",
       "      <td>1</td>\n",
       "      <td>3529</td>\n",
       "      <td>...</td>\n",
       "      <td>0</td>\n",
       "      <td>3438</td>\n",
       "      <td>0</td>\n",
       "      <td>3438</td>\n",
       "      <td>0</td>\n",
       "      <td>14</td>\n",
       "      <td>0</td>\n",
       "      <td>13</td>\n",
       "      <td>7.070004</td>\n",
       "      <td>1024</td>\n",
       "    </tr>\n",
       "    <tr>\n",
       "      <th>1</th>\n",
       "      <td>31</td>\n",
       "      <td>0</td>\n",
       "      <td>2</td>\n",
       "      <td>0.0</td>\n",
       "      <td>0.0</td>\n",
       "      <td>14</td>\n",
       "      <td>9500</td>\n",
       "      <td>1</td>\n",
       "      <td>1</td>\n",
       "      <td>2140</td>\n",
       "      <td>...</td>\n",
       "      <td>0</td>\n",
       "      <td>5020</td>\n",
       "      <td>0</td>\n",
       "      <td>5020</td>\n",
       "      <td>0</td>\n",
       "      <td>11</td>\n",
       "      <td>0</td>\n",
       "      <td>0</td>\n",
       "      <td>1.429999</td>\n",
       "      <td>961</td>\n",
       "    </tr>\n",
       "    <tr>\n",
       "      <th>2</th>\n",
       "      <td>44</td>\n",
       "      <td>0</td>\n",
       "      <td>3</td>\n",
       "      <td>0.0</td>\n",
       "      <td>0.0</td>\n",
       "      <td>17</td>\n",
       "      <td>42500</td>\n",
       "      <td>1</td>\n",
       "      <td>1</td>\n",
       "      <td>4595</td>\n",
       "      <td>...</td>\n",
       "      <td>1</td>\n",
       "      <td>2815</td>\n",
       "      <td>0</td>\n",
       "      <td>2815</td>\n",
       "      <td>0</td>\n",
       "      <td>21</td>\n",
       "      <td>0</td>\n",
       "      <td>0</td>\n",
       "      <td>20.529997</td>\n",
       "      <td>1936</td>\n",
       "    </tr>\n",
       "    <tr>\n",
       "      <th>3</th>\n",
       "      <td>30</td>\n",
       "      <td>0</td>\n",
       "      <td>4</td>\n",
       "      <td>0.0</td>\n",
       "      <td>0.0</td>\n",
       "      <td>12</td>\n",
       "      <td>42500</td>\n",
       "      <td>1</td>\n",
       "      <td>1</td>\n",
       "      <td>3211</td>\n",
       "      <td>...</td>\n",
       "      <td>1</td>\n",
       "      <td>3786</td>\n",
       "      <td>0</td>\n",
       "      <td>3786</td>\n",
       "      <td>0</td>\n",
       "      <td>12</td>\n",
       "      <td>0</td>\n",
       "      <td>12</td>\n",
       "      <td>9.619998</td>\n",
       "      <td>900</td>\n",
       "    </tr>\n",
       "    <tr>\n",
       "      <th>4</th>\n",
       "      <td>64</td>\n",
       "      <td>0</td>\n",
       "      <td>5</td>\n",
       "      <td>0.0</td>\n",
       "      <td>0.0</td>\n",
       "      <td>14</td>\n",
       "      <td>2500</td>\n",
       "      <td>1</td>\n",
       "      <td>1</td>\n",
       "      <td>4052</td>\n",
       "      <td>...</td>\n",
       "      <td>1</td>\n",
       "      <td>2580</td>\n",
       "      <td>0</td>\n",
       "      <td>2580</td>\n",
       "      <td>0</td>\n",
       "      <td>44</td>\n",
       "      <td>0</td>\n",
       "      <td>33</td>\n",
       "      <td>2.750000</td>\n",
       "      <td>4096</td>\n",
       "    </tr>\n",
       "  </tbody>\n",
       "</table>\n",
       "<p>5 rows × 34 columns</p>\n",
       "</div>"
      ],
      "text/plain": [
       "   age  black  case  clerical  construc  educ  earns74  gdhlth  inlf  leis1  \\\n",
       "0   32      0     1       0.0       0.0    12        0       0     1   3529   \n",
       "1   31      0     2       0.0       0.0    14     9500       1     1   2140   \n",
       "2   44      0     3       0.0       0.0    17    42500       1     1   4595   \n",
       "3   30      0     4       0.0       0.0    12    42500       1     1   3211   \n",
       "4   64      0     5       0.0       0.0    14     2500       1     1   4052   \n",
       "\n",
       "   ...  spwrk75  totwrk  union  worknrm  workscnd  exper  yngkid  yrsmarr  \\\n",
       "0  ...        0    3438      0     3438         0     14       0       13   \n",
       "1  ...        0    5020      0     5020         0     11       0        0   \n",
       "2  ...        1    2815      0     2815         0     21       0        0   \n",
       "3  ...        1    3786      0     3786         0     12       0       12   \n",
       "4  ...        1    2580      0     2580         0     44       0       33   \n",
       "\n",
       "      hrwage  agesq  \n",
       "0   7.070004   1024  \n",
       "1   1.429999    961  \n",
       "2  20.529997   1936  \n",
       "3   9.619998    900  \n",
       "4   2.750000   4096  \n",
       "\n",
       "[5 rows x 34 columns]"
      ]
     },
     "execution_count": 5,
     "metadata": {},
     "output_type": "execute_result"
    }
   ],
   "source": [
    "# импорт данных\n",
    "df = pd.read_csv('sleep75.csv')\n",
    "df.head()"
   ]
  },
  {
   "cell_type": "markdown",
   "id": "956b544f",
   "metadata": {},
   "source": [
    "## Спецификация и подгонка"
   ]
  },
  {
   "cell_type": "code",
   "execution_count": 6,
   "id": "6a6e8e54",
   "metadata": {},
   "outputs": [],
   "source": [
    "# спецификация модели через формулу\n",
    "mod = smf.ols(formula='sleep~totwrk+age+south+male+smsa+yngkid+marr+union+np.log(hrwage)', data=df)\n",
    "# подгонка модели\n",
    "res = mod.fit()"
   ]
  },
  {
   "cell_type": "code",
   "execution_count": 7,
   "id": "a50f8456",
   "metadata": {},
   "outputs": [
    {
     "data": {
      "text/html": [
       "<table class=\"simpletable\">\n",
       "<caption>OLS Regression Results</caption>\n",
       "<tr>\n",
       "  <th>Dep. Variable:</th>      <td>sleep</td>   <th>  R-squared:         </th> <td>   0.123</td>\n",
       "</tr>\n",
       "<tr>\n",
       "  <th>Model:</th>               <td>OLS</td>    <th>  Adj. R-squared:    </th> <td>   0.108</td>\n",
       "</tr>\n",
       "<tr>\n",
       "  <th>No. Observations:</th>  <td>   532</td>   <th>  F-statistic:       </th> <td>   8.117</td>\n",
       "</tr>\n",
       "<tr>\n",
       "  <th>Covariance Type:</th>  <td>nonrobust</td> <th>  Prob (F-statistic):</th> <td>2.59e-11</td>\n",
       "</tr>\n",
       "</table>\n",
       "<table class=\"simpletable\">\n",
       "<tr>\n",
       "         <td></td>           <th>coef</th>     <th>std err</th>      <th>t</th>      <th>P>|t|</th>  <th>[0.025</th>    <th>0.975]</th>  \n",
       "</tr>\n",
       "<tr>\n",
       "  <th>Intercept</th>      <td> 3431.8036</td> <td>   96.309</td> <td>   35.633</td> <td> 0.000</td> <td> 3242.602</td> <td> 3621.005</td>\n",
       "</tr>\n",
       "<tr>\n",
       "  <th>totwrk</th>         <td>   -0.1581</td> <td>    0.021</td> <td>   -7.576</td> <td> 0.000</td> <td>   -0.199</td> <td>   -0.117</td>\n",
       "</tr>\n",
       "<tr>\n",
       "  <th>age</th>            <td>    2.4371</td> <td>    1.672</td> <td>    1.458</td> <td> 0.146</td> <td>   -0.847</td> <td>    5.721</td>\n",
       "</tr>\n",
       "<tr>\n",
       "  <th>south</th>          <td>   78.0461</td> <td>   45.287</td> <td>    1.723</td> <td> 0.085</td> <td>  -10.921</td> <td>  167.014</td>\n",
       "</tr>\n",
       "<tr>\n",
       "  <th>male</th>           <td>   36.4854</td> <td>   43.350</td> <td>    0.842</td> <td> 0.400</td> <td>  -48.677</td> <td>  121.648</td>\n",
       "</tr>\n",
       "<tr>\n",
       "  <th>smsa</th>           <td>  -34.9646</td> <td>   38.232</td> <td>   -0.915</td> <td> 0.361</td> <td> -110.072</td> <td>   40.143</td>\n",
       "</tr>\n",
       "<tr>\n",
       "  <th>yngkid</th>         <td>   50.1365</td> <td>   54.790</td> <td>    0.915</td> <td> 0.361</td> <td>  -57.499</td> <td>  157.772</td>\n",
       "</tr>\n",
       "<tr>\n",
       "  <th>marr</th>           <td>   54.0716</td> <td>   46.920</td> <td>    1.152</td> <td> 0.250</td> <td>  -38.104</td> <td>  146.247</td>\n",
       "</tr>\n",
       "<tr>\n",
       "  <th>union</th>          <td>   27.0187</td> <td>   43.044</td> <td>    0.628</td> <td> 0.530</td> <td>  -57.542</td> <td>  111.580</td>\n",
       "</tr>\n",
       "<tr>\n",
       "  <th>np.log(hrwage)</th> <td>   -2.7268</td> <td>   32.202</td> <td>   -0.085</td> <td> 0.933</td> <td>  -65.989</td> <td>   60.536</td>\n",
       "</tr>\n",
       "</table><br/><br/>Notes:<br/>[1] Standard Errors assume that the covariance matrix of the errors is correctly specified.<br/>[2] The condition number is large, 1.35e+04. This might indicate that there are<br/>strong multicollinearity or other numerical problems."
      ],
      "text/latex": [
       "\\begin{center}\n",
       "\\begin{tabular}{lclc}\n",
       "\\toprule\n",
       "\\textbf{Dep. Variable:}    &     sleep     & \\textbf{  R-squared:         } &     0.123   \\\\\n",
       "\\textbf{Model:}            &      OLS      & \\textbf{  Adj. R-squared:    } &     0.108   \\\\\n",
       "\\textbf{No. Observations:} &        532    & \\textbf{  F-statistic:       } &     8.117   \\\\\n",
       "\\textbf{Covariance Type:}  &   nonrobust   & \\textbf{  Prob (F-statistic):} &  2.59e-11   \\\\\n",
       "\\bottomrule\n",
       "\\end{tabular}\n",
       "\\begin{tabular}{lcccccc}\n",
       "                        & \\textbf{coef} & \\textbf{std err} & \\textbf{t} & \\textbf{P$> |$t$|$} & \\textbf{[0.025} & \\textbf{0.975]}  \\\\\n",
       "\\midrule\n",
       "\\textbf{Intercept}      &    3431.8036  &       96.309     &    35.633  &         0.000        &     3242.602    &     3621.005     \\\\\n",
       "\\textbf{totwrk}         &      -0.1581  &        0.021     &    -7.576  &         0.000        &       -0.199    &       -0.117     \\\\\n",
       "\\textbf{age}            &       2.4371  &        1.672     &     1.458  &         0.146        &       -0.847    &        5.721     \\\\\n",
       "\\textbf{south}          &      78.0461  &       45.287     &     1.723  &         0.085        &      -10.921    &      167.014     \\\\\n",
       "\\textbf{male}           &      36.4854  &       43.350     &     0.842  &         0.400        &      -48.677    &      121.648     \\\\\n",
       "\\textbf{smsa}           &     -34.9646  &       38.232     &    -0.915  &         0.361        &     -110.072    &       40.143     \\\\\n",
       "\\textbf{yngkid}         &      50.1365  &       54.790     &     0.915  &         0.361        &      -57.499    &      157.772     \\\\\n",
       "\\textbf{marr}           &      54.0716  &       46.920     &     1.152  &         0.250        &      -38.104    &      146.247     \\\\\n",
       "\\textbf{union}          &      27.0187  &       43.044     &     0.628  &         0.530        &      -57.542    &      111.580     \\\\\n",
       "\\textbf{np.log(hrwage)} &      -2.7268  &       32.202     &    -0.085  &         0.933        &      -65.989    &       60.536     \\\\\n",
       "\\bottomrule\n",
       "\\end{tabular}\n",
       "%\\caption{OLS Regression Results}\n",
       "\\end{center}\n",
       "\n",
       "Notes: \\newline\n",
       " [1] Standard Errors assume that the covariance matrix of the errors is correctly specified. \\newline\n",
       " [2] The condition number is large, 1.35e+04. This might indicate that there are \\newline\n",
       " strong multicollinearity or other numerical problems."
      ],
      "text/plain": [
       "<class 'statsmodels.iolib.summary.Summary'>\n",
       "\"\"\"\n",
       "                            OLS Regression Results                            \n",
       "==============================================================================\n",
       "Dep. Variable:                  sleep   R-squared:                       0.123\n",
       "Model:                            OLS   Adj. R-squared:                  0.108\n",
       "No. Observations:                 532   F-statistic:                     8.117\n",
       "Covariance Type:            nonrobust   Prob (F-statistic):           2.59e-11\n",
       "==================================================================================\n",
       "                     coef    std err          t      P>|t|      [0.025      0.975]\n",
       "----------------------------------------------------------------------------------\n",
       "Intercept       3431.8036     96.309     35.633      0.000    3242.602    3621.005\n",
       "totwrk            -0.1581      0.021     -7.576      0.000      -0.199      -0.117\n",
       "age                2.4371      1.672      1.458      0.146      -0.847       5.721\n",
       "south             78.0461     45.287      1.723      0.085     -10.921     167.014\n",
       "male              36.4854     43.350      0.842      0.400     -48.677     121.648\n",
       "smsa             -34.9646     38.232     -0.915      0.361    -110.072      40.143\n",
       "yngkid            50.1365     54.790      0.915      0.361     -57.499     157.772\n",
       "marr              54.0716     46.920      1.152      0.250     -38.104     146.247\n",
       "union             27.0187     43.044      0.628      0.530     -57.542     111.580\n",
       "np.log(hrwage)    -2.7268     32.202     -0.085      0.933     -65.989      60.536\n",
       "==================================================================================\n",
       "\n",
       "Notes:\n",
       "[1] Standard Errors assume that the covariance matrix of the errors is correctly specified.\n",
       "[2] The condition number is large, 1.35e+04. This might indicate that there are\n",
       "strong multicollinearity or other numerical problems.\n",
       "\"\"\""
      ]
     },
     "execution_count": 7,
     "metadata": {},
     "output_type": "execute_result"
    }
   ],
   "source": [
    "# Общий отчет\n",
    "res.summary(slim=True)"
   ]
  },
  {
   "cell_type": "markdown",
   "id": "6a0e0790",
   "metadata": {},
   "source": [
    "## Гипотеза\n",
    "\n",
    "Тестируем значимость коэффициента $\\beta_{age}$, т.е. гипотезу $H_0: \\beta_{age} = 0$"
   ]
  },
  {
   "cell_type": "markdown",
   "id": "8ee725a4",
   "metadata": {},
   "source": [
    "## Уровень значимости\n",
    "Пусть уровень значимости $\\alpha=5\\%=0.05$"
   ]
  },
  {
   "cell_type": "markdown",
   "id": "cc2146a1",
   "metadata": {},
   "source": [
    "Число наблюдений $n$, по которым была оценена модель"
   ]
  },
  {
   "cell_type": "code",
   "execution_count": 8,
   "id": "f48df642",
   "metadata": {},
   "outputs": [
    {
     "data": {
      "text/plain": [
       "532.0"
      ]
     },
     "execution_count": 8,
     "metadata": {},
     "output_type": "execute_result"
    }
   ],
   "source": [
    "# Число наблюдений, по которым была оценена модель\n",
    "res.nobs"
   ]
  },
  {
   "cell_type": "markdown",
   "id": "33bfa693",
   "metadata": {},
   "source": [
    "Число регрессоров $k$, по которым была оценена модель"
   ]
  },
  {
   "cell_type": "code",
   "execution_count": 9,
   "id": "c30b0391",
   "metadata": {},
   "outputs": [
    {
     "data": {
      "text/plain": [
       "9.0"
      ]
     },
     "execution_count": 9,
     "metadata": {},
     "output_type": "execute_result"
    }
   ],
   "source": [
    "# Число регрессоров, по которым была оценена модель\n",
    "res.df_model"
   ]
  },
  {
   "cell_type": "markdown",
   "id": "9dc19be7",
   "metadata": {},
   "source": [
    "Степени свободы для t-распределения $df=n-k-1$"
   ]
  },
  {
   "cell_type": "code",
   "execution_count": 10,
   "id": "be849d24",
   "metadata": {},
   "outputs": [
    {
     "data": {
      "text/plain": [
       "522.0"
      ]
     },
     "execution_count": 10,
     "metadata": {},
     "output_type": "execute_result"
    }
   ],
   "source": [
    "# Степени свободы для t-распределения\n",
    "res.df_resid"
   ]
  },
  {
   "cell_type": "markdown",
   "id": "4836a520",
   "metadata": {},
   "source": [
    "### Составляющие t-теста для коэффициентов"
   ]
  },
  {
   "cell_type": "code",
   "execution_count": 11,
   "id": "57bc3ee3",
   "metadata": {},
   "outputs": [
    {
     "data": {
      "text/plain": [
       "Intercept         96.309\n",
       "totwrk             0.021\n",
       "age                1.672\n",
       "south             45.287\n",
       "male              43.350\n",
       "smsa              38.232\n",
       "yngkid            54.790\n",
       "marr              46.920\n",
       "union             43.044\n",
       "np.log(hrwage)    32.202\n",
       "dtype: float64"
      ]
     },
     "execution_count": 11,
     "metadata": {},
     "output_type": "execute_result"
    }
   ],
   "source": [
    "# стандартные ошибки s.e.(beta) для кажлого коэффциента с округленим\n",
    "res.bse.round(3)"
   ]
  },
  {
   "cell_type": "code",
   "execution_count": 12,
   "id": "a96b53f2",
   "metadata": {},
   "outputs": [
    {
     "data": {
      "text/plain": [
       "Intercept         35.633\n",
       "totwrk            -7.576\n",
       "age                1.458\n",
       "south              1.723\n",
       "male               0.842\n",
       "smsa              -0.915\n",
       "yngkid             0.915\n",
       "marr               1.152\n",
       "union              0.628\n",
       "np.log(hrwage)    -0.085\n",
       "dtype: float64"
      ]
     },
     "execution_count": 12,
     "metadata": {},
     "output_type": "execute_result"
    }
   ],
   "source": [
    "# тестовые t-статистики для кажлого коэффциента с округленим\n",
    "res.tvalues.round(3)"
   ]
  },
  {
   "cell_type": "code",
   "execution_count": 13,
   "id": "9ac33508",
   "metadata": {},
   "outputs": [
    {
     "data": {
      "text/plain": [
       "Intercept         0.0000\n",
       "totwrk            0.0000\n",
       "age               0.1455\n",
       "south             0.0854\n",
       "male              0.4004\n",
       "smsa              0.3609\n",
       "yngkid            0.3606\n",
       "marr              0.2497\n",
       "union             0.5305\n",
       "np.log(hrwage)    0.9326\n",
       "dtype: float64"
      ]
     },
     "execution_count": 13,
     "metadata": {},
     "output_type": "execute_result"
    }
   ],
   "source": [
    "# P-значения для t-статистик с округленим\n",
    "res.pvalues.round(4)"
   ]
  },
  {
   "cell_type": "code",
   "execution_count": 14,
   "id": "8b1645ff",
   "metadata": {},
   "outputs": [
    {
     "data": {
      "text/html": [
       "<div>\n",
       "<style scoped>\n",
       "    .dataframe tbody tr th:only-of-type {\n",
       "        vertical-align: middle;\n",
       "    }\n",
       "\n",
       "    .dataframe tbody tr th {\n",
       "        vertical-align: top;\n",
       "    }\n",
       "\n",
       "    .dataframe thead th {\n",
       "        text-align: right;\n",
       "    }\n",
       "</style>\n",
       "<table border=\"1\" class=\"dataframe\">\n",
       "  <thead>\n",
       "    <tr style=\"text-align: right;\">\n",
       "      <th></th>\n",
       "      <th>Coef.</th>\n",
       "      <th>Std.Err.</th>\n",
       "      <th>t</th>\n",
       "      <th>P&gt;|t|</th>\n",
       "      <th>[0.025</th>\n",
       "      <th>0.975]</th>\n",
       "    </tr>\n",
       "  </thead>\n",
       "  <tbody>\n",
       "    <tr>\n",
       "      <th>Intercept</th>\n",
       "      <td>3431.804</td>\n",
       "      <td>96.309</td>\n",
       "      <td>35.633</td>\n",
       "      <td>0.000</td>\n",
       "      <td>3242.602</td>\n",
       "      <td>3621.005</td>\n",
       "    </tr>\n",
       "    <tr>\n",
       "      <th>totwrk</th>\n",
       "      <td>-0.158</td>\n",
       "      <td>0.021</td>\n",
       "      <td>-7.576</td>\n",
       "      <td>0.000</td>\n",
       "      <td>-0.199</td>\n",
       "      <td>-0.117</td>\n",
       "    </tr>\n",
       "    <tr>\n",
       "      <th>age</th>\n",
       "      <td>2.437</td>\n",
       "      <td>1.672</td>\n",
       "      <td>1.458</td>\n",
       "      <td>0.146</td>\n",
       "      <td>-0.847</td>\n",
       "      <td>5.721</td>\n",
       "    </tr>\n",
       "    <tr>\n",
       "      <th>south</th>\n",
       "      <td>78.046</td>\n",
       "      <td>45.287</td>\n",
       "      <td>1.723</td>\n",
       "      <td>0.085</td>\n",
       "      <td>-10.921</td>\n",
       "      <td>167.014</td>\n",
       "    </tr>\n",
       "    <tr>\n",
       "      <th>male</th>\n",
       "      <td>36.485</td>\n",
       "      <td>43.350</td>\n",
       "      <td>0.842</td>\n",
       "      <td>0.400</td>\n",
       "      <td>-48.677</td>\n",
       "      <td>121.648</td>\n",
       "    </tr>\n",
       "    <tr>\n",
       "      <th>smsa</th>\n",
       "      <td>-34.965</td>\n",
       "      <td>38.232</td>\n",
       "      <td>-0.915</td>\n",
       "      <td>0.361</td>\n",
       "      <td>-110.072</td>\n",
       "      <td>40.143</td>\n",
       "    </tr>\n",
       "    <tr>\n",
       "      <th>yngkid</th>\n",
       "      <td>50.136</td>\n",
       "      <td>54.790</td>\n",
       "      <td>0.915</td>\n",
       "      <td>0.361</td>\n",
       "      <td>-57.499</td>\n",
       "      <td>157.772</td>\n",
       "    </tr>\n",
       "    <tr>\n",
       "      <th>marr</th>\n",
       "      <td>54.072</td>\n",
       "      <td>46.920</td>\n",
       "      <td>1.152</td>\n",
       "      <td>0.250</td>\n",
       "      <td>-38.104</td>\n",
       "      <td>146.247</td>\n",
       "    </tr>\n",
       "    <tr>\n",
       "      <th>union</th>\n",
       "      <td>27.019</td>\n",
       "      <td>43.044</td>\n",
       "      <td>0.628</td>\n",
       "      <td>0.530</td>\n",
       "      <td>-57.542</td>\n",
       "      <td>111.580</td>\n",
       "    </tr>\n",
       "    <tr>\n",
       "      <th>np.log(hrwage)</th>\n",
       "      <td>-2.727</td>\n",
       "      <td>32.202</td>\n",
       "      <td>-0.085</td>\n",
       "      <td>0.933</td>\n",
       "      <td>-65.989</td>\n",
       "      <td>60.536</td>\n",
       "    </tr>\n",
       "  </tbody>\n",
       "</table>\n",
       "</div>"
      ],
      "text/plain": [
       "                   Coef.  Std.Err.       t  P>|t|    [0.025    0.975]\n",
       "Intercept       3431.804    96.309  35.633  0.000  3242.602  3621.005\n",
       "totwrk            -0.158     0.021  -7.576  0.000    -0.199    -0.117\n",
       "age                2.437     1.672   1.458  0.146    -0.847     5.721\n",
       "south             78.046    45.287   1.723  0.085   -10.921   167.014\n",
       "male              36.485    43.350   0.842  0.400   -48.677   121.648\n",
       "smsa             -34.965    38.232  -0.915  0.361  -110.072    40.143\n",
       "yngkid            50.136    54.790   0.915  0.361   -57.499   157.772\n",
       "marr              54.072    46.920   1.152  0.250   -38.104   146.247\n",
       "union             27.019    43.044   0.628  0.530   -57.542   111.580\n",
       "np.log(hrwage)    -2.727    32.202  -0.085  0.933   -65.989    60.536"
      ]
     },
     "execution_count": 14,
     "metadata": {},
     "output_type": "execute_result"
    }
   ],
   "source": [
    "# Составляющие t-теста для коэффициента(ов) в одной таблице\n",
    "summary_params(res).round(3)"
   ]
  },
  {
   "cell_type": "markdown",
   "id": "3734d8a7",
   "metadata": {},
   "source": [
    "## Критическое значение t-распределения с уровнем значимости 5%=0.05"
   ]
  },
  {
   "cell_type": "code",
   "execution_count": 15,
   "id": "3d778daf",
   "metadata": {},
   "outputs": [
    {
     "data": {
      "text/plain": [
       "1.965"
      ]
     },
     "execution_count": 15,
     "metadata": {},
     "output_type": "execute_result"
    }
   ],
   "source": [
    "# уровнь значимости\n",
    "sign_level = 0.05\n",
    "# 5%-критическое значение t-распределения\n",
    "t_cr = t.ppf(q=1-sign_level/2, df=res.df_resid).round(3)\n",
    "t_cr"
   ]
  },
  {
   "cell_type": "markdown",
   "id": "c45dad9b",
   "metadata": {},
   "source": [
    "**<span style=\"color:#59afe1\">ВЫВОД</span>**: На уровне значимости 5% значим коэффициент при `age`"
   ]
  },
  {
   "cell_type": "markdown",
   "id": "9e9148fb",
   "metadata": {},
   "source": [
    "## Какие коэффиценты значимы?"
   ]
  },
  {
   "cell_type": "markdown",
   "id": "50527cbd",
   "metadata": {},
   "source": [
    "## Значимость всех коэффициентов\n",
    "\n",
    "- проверяем значимость коэффициентов используя P-value (сравниваем самостоятельно или автоматизированно)\n",
    "\n",
    "- проверяем значимость коэффициентов используя t_cr (сравниваем самостоятельно или автоматизированно)\n",
    "\n",
    "**<span style=\"color:#59afe1\">ОБЯЗАТЕЛЬНО ПЕЧАТАЕМ ВЫВОД</span>**"
   ]
  },
  {
   "cell_type": "code",
   "execution_count": 16,
   "id": "ca996617",
   "metadata": {},
   "outputs": [
    {
     "data": {
      "text/html": [
       "<div>\n",
       "<style scoped>\n",
       "    .dataframe tbody tr th:only-of-type {\n",
       "        vertical-align: middle;\n",
       "    }\n",
       "\n",
       "    .dataframe tbody tr th {\n",
       "        vertical-align: top;\n",
       "    }\n",
       "\n",
       "    .dataframe thead th {\n",
       "        text-align: right;\n",
       "    }\n",
       "</style>\n",
       "<table border=\"1\" class=\"dataframe\">\n",
       "  <thead>\n",
       "    <tr style=\"text-align: right;\">\n",
       "      <th></th>\n",
       "      <th>Coef.</th>\n",
       "      <th>Std.Err.</th>\n",
       "      <th>t</th>\n",
       "      <th>P&gt;|t|</th>\n",
       "      <th>[0.025</th>\n",
       "      <th>0.975]</th>\n",
       "      <th>significance</th>\n",
       "    </tr>\n",
       "  </thead>\n",
       "  <tbody>\n",
       "    <tr>\n",
       "      <th>Intercept</th>\n",
       "      <td>3431.804</td>\n",
       "      <td>96.309</td>\n",
       "      <td>35.633</td>\n",
       "      <td>0.000</td>\n",
       "      <td>3242.602</td>\n",
       "      <td>3621.005</td>\n",
       "      <td>Значим</td>\n",
       "    </tr>\n",
       "    <tr>\n",
       "      <th>totwrk</th>\n",
       "      <td>-0.158</td>\n",
       "      <td>0.021</td>\n",
       "      <td>-7.576</td>\n",
       "      <td>0.000</td>\n",
       "      <td>-0.199</td>\n",
       "      <td>-0.117</td>\n",
       "      <td>Значим</td>\n",
       "    </tr>\n",
       "    <tr>\n",
       "      <th>age</th>\n",
       "      <td>2.437</td>\n",
       "      <td>1.672</td>\n",
       "      <td>1.458</td>\n",
       "      <td>0.146</td>\n",
       "      <td>-0.847</td>\n",
       "      <td>5.721</td>\n",
       "      <td>Незначим</td>\n",
       "    </tr>\n",
       "    <tr>\n",
       "      <th>south</th>\n",
       "      <td>78.046</td>\n",
       "      <td>45.287</td>\n",
       "      <td>1.723</td>\n",
       "      <td>0.085</td>\n",
       "      <td>-10.921</td>\n",
       "      <td>167.014</td>\n",
       "      <td>Незначим</td>\n",
       "    </tr>\n",
       "    <tr>\n",
       "      <th>male</th>\n",
       "      <td>36.485</td>\n",
       "      <td>43.350</td>\n",
       "      <td>0.842</td>\n",
       "      <td>0.400</td>\n",
       "      <td>-48.677</td>\n",
       "      <td>121.648</td>\n",
       "      <td>Незначим</td>\n",
       "    </tr>\n",
       "    <tr>\n",
       "      <th>smsa</th>\n",
       "      <td>-34.965</td>\n",
       "      <td>38.232</td>\n",
       "      <td>-0.915</td>\n",
       "      <td>0.361</td>\n",
       "      <td>-110.072</td>\n",
       "      <td>40.143</td>\n",
       "      <td>Незначим</td>\n",
       "    </tr>\n",
       "    <tr>\n",
       "      <th>yngkid</th>\n",
       "      <td>50.136</td>\n",
       "      <td>54.790</td>\n",
       "      <td>0.915</td>\n",
       "      <td>0.361</td>\n",
       "      <td>-57.499</td>\n",
       "      <td>157.772</td>\n",
       "      <td>Незначим</td>\n",
       "    </tr>\n",
       "    <tr>\n",
       "      <th>marr</th>\n",
       "      <td>54.072</td>\n",
       "      <td>46.920</td>\n",
       "      <td>1.152</td>\n",
       "      <td>0.250</td>\n",
       "      <td>-38.104</td>\n",
       "      <td>146.247</td>\n",
       "      <td>Незначим</td>\n",
       "    </tr>\n",
       "    <tr>\n",
       "      <th>union</th>\n",
       "      <td>27.019</td>\n",
       "      <td>43.044</td>\n",
       "      <td>0.628</td>\n",
       "      <td>0.530</td>\n",
       "      <td>-57.542</td>\n",
       "      <td>111.580</td>\n",
       "      <td>Незначим</td>\n",
       "    </tr>\n",
       "    <tr>\n",
       "      <th>np.log(hrwage)</th>\n",
       "      <td>-2.727</td>\n",
       "      <td>32.202</td>\n",
       "      <td>-0.085</td>\n",
       "      <td>0.933</td>\n",
       "      <td>-65.989</td>\n",
       "      <td>60.536</td>\n",
       "      <td>Незначим</td>\n",
       "    </tr>\n",
       "  </tbody>\n",
       "</table>\n",
       "</div>"
      ],
      "text/plain": [
       "                   Coef.  Std.Err.       t  P>|t|    [0.025    0.975]  \\\n",
       "Intercept       3431.804    96.309  35.633  0.000  3242.602  3621.005   \n",
       "totwrk            -0.158     0.021  -7.576  0.000    -0.199    -0.117   \n",
       "age                2.437     1.672   1.458  0.146    -0.847     5.721   \n",
       "south             78.046    45.287   1.723  0.085   -10.921   167.014   \n",
       "male              36.485    43.350   0.842  0.400   -48.677   121.648   \n",
       "smsa             -34.965    38.232  -0.915  0.361  -110.072    40.143   \n",
       "yngkid            50.136    54.790   0.915  0.361   -57.499   157.772   \n",
       "marr              54.072    46.920   1.152  0.250   -38.104   146.247   \n",
       "union             27.019    43.044   0.628  0.530   -57.542   111.580   \n",
       "np.log(hrwage)    -2.727    32.202  -0.085  0.933   -65.989    60.536   \n",
       "\n",
       "               significance  \n",
       "Intercept            Значим  \n",
       "totwrk               Значим  \n",
       "age                Незначим  \n",
       "south              Незначим  \n",
       "male               Незначим  \n",
       "smsa               Незначим  \n",
       "yngkid             Незначим  \n",
       "marr               Незначим  \n",
       "union              Незначим  \n",
       "np.log(hrwage)     Незначим  "
      ]
     },
     "execution_count": 16,
     "metadata": {},
     "output_type": "execute_result"
    }
   ],
   "source": [
    "# проверим значимость коэффициентов используя P-value\n",
    "df_sign = np.round(summary_params(res, alpha=sign_level), 3)\n",
    "df_sign['significance'] = df_sign.apply(lambda x: 'Значим' if x['P>|t|']<sign_level else 'Незначим', axis=1)\n",
    "df_sign"
   ]
  },
  {
   "cell_type": "markdown",
   "id": "06afdd69",
   "metadata": {},
   "source": [
    "**<span style=\"color:#59afe1\">ВЫВОД</span>**: На уровне значимости 5% значим коэффициент при `totwrk`"
   ]
  },
  {
   "cell_type": "code",
   "execution_count": 17,
   "id": "a47766b2",
   "metadata": {},
   "outputs": [
    {
     "data": {
      "text/html": [
       "<div>\n",
       "<style scoped>\n",
       "    .dataframe tbody tr th:only-of-type {\n",
       "        vertical-align: middle;\n",
       "    }\n",
       "\n",
       "    .dataframe tbody tr th {\n",
       "        vertical-align: top;\n",
       "    }\n",
       "\n",
       "    .dataframe thead th {\n",
       "        text-align: right;\n",
       "    }\n",
       "</style>\n",
       "<table border=\"1\" class=\"dataframe\">\n",
       "  <thead>\n",
       "    <tr style=\"text-align: right;\">\n",
       "      <th></th>\n",
       "      <th>Coef.</th>\n",
       "      <th>Std.Err.</th>\n",
       "      <th>t</th>\n",
       "      <th>P&gt;|t|</th>\n",
       "      <th>[0.025</th>\n",
       "      <th>0.975]</th>\n",
       "      <th>significance</th>\n",
       "    </tr>\n",
       "  </thead>\n",
       "  <tbody>\n",
       "    <tr>\n",
       "      <th>Intercept</th>\n",
       "      <td>3431.804</td>\n",
       "      <td>96.309</td>\n",
       "      <td>35.633</td>\n",
       "      <td>0.000</td>\n",
       "      <td>3242.602</td>\n",
       "      <td>3621.005</td>\n",
       "      <td>Значим</td>\n",
       "    </tr>\n",
       "    <tr>\n",
       "      <th>totwrk</th>\n",
       "      <td>-0.158</td>\n",
       "      <td>0.021</td>\n",
       "      <td>-7.576</td>\n",
       "      <td>0.000</td>\n",
       "      <td>-0.199</td>\n",
       "      <td>-0.117</td>\n",
       "      <td>Значим</td>\n",
       "    </tr>\n",
       "    <tr>\n",
       "      <th>age</th>\n",
       "      <td>2.437</td>\n",
       "      <td>1.672</td>\n",
       "      <td>1.458</td>\n",
       "      <td>0.146</td>\n",
       "      <td>-0.847</td>\n",
       "      <td>5.721</td>\n",
       "      <td>Незначим</td>\n",
       "    </tr>\n",
       "    <tr>\n",
       "      <th>south</th>\n",
       "      <td>78.046</td>\n",
       "      <td>45.287</td>\n",
       "      <td>1.723</td>\n",
       "      <td>0.085</td>\n",
       "      <td>-10.921</td>\n",
       "      <td>167.014</td>\n",
       "      <td>Незначим</td>\n",
       "    </tr>\n",
       "    <tr>\n",
       "      <th>male</th>\n",
       "      <td>36.485</td>\n",
       "      <td>43.350</td>\n",
       "      <td>0.842</td>\n",
       "      <td>0.400</td>\n",
       "      <td>-48.677</td>\n",
       "      <td>121.648</td>\n",
       "      <td>Незначим</td>\n",
       "    </tr>\n",
       "    <tr>\n",
       "      <th>smsa</th>\n",
       "      <td>-34.965</td>\n",
       "      <td>38.232</td>\n",
       "      <td>-0.915</td>\n",
       "      <td>0.361</td>\n",
       "      <td>-110.072</td>\n",
       "      <td>40.143</td>\n",
       "      <td>Незначим</td>\n",
       "    </tr>\n",
       "    <tr>\n",
       "      <th>yngkid</th>\n",
       "      <td>50.136</td>\n",
       "      <td>54.790</td>\n",
       "      <td>0.915</td>\n",
       "      <td>0.361</td>\n",
       "      <td>-57.499</td>\n",
       "      <td>157.772</td>\n",
       "      <td>Незначим</td>\n",
       "    </tr>\n",
       "    <tr>\n",
       "      <th>marr</th>\n",
       "      <td>54.072</td>\n",
       "      <td>46.920</td>\n",
       "      <td>1.152</td>\n",
       "      <td>0.250</td>\n",
       "      <td>-38.104</td>\n",
       "      <td>146.247</td>\n",
       "      <td>Незначим</td>\n",
       "    </tr>\n",
       "    <tr>\n",
       "      <th>union</th>\n",
       "      <td>27.019</td>\n",
       "      <td>43.044</td>\n",
       "      <td>0.628</td>\n",
       "      <td>0.530</td>\n",
       "      <td>-57.542</td>\n",
       "      <td>111.580</td>\n",
       "      <td>Незначим</td>\n",
       "    </tr>\n",
       "    <tr>\n",
       "      <th>np.log(hrwage)</th>\n",
       "      <td>-2.727</td>\n",
       "      <td>32.202</td>\n",
       "      <td>-0.085</td>\n",
       "      <td>0.933</td>\n",
       "      <td>-65.989</td>\n",
       "      <td>60.536</td>\n",
       "      <td>Незначим</td>\n",
       "    </tr>\n",
       "  </tbody>\n",
       "</table>\n",
       "</div>"
      ],
      "text/plain": [
       "                   Coef.  Std.Err.       t  P>|t|    [0.025    0.975]  \\\n",
       "Intercept       3431.804    96.309  35.633  0.000  3242.602  3621.005   \n",
       "totwrk            -0.158     0.021  -7.576  0.000    -0.199    -0.117   \n",
       "age                2.437     1.672   1.458  0.146    -0.847     5.721   \n",
       "south             78.046    45.287   1.723  0.085   -10.921   167.014   \n",
       "male              36.485    43.350   0.842  0.400   -48.677   121.648   \n",
       "smsa             -34.965    38.232  -0.915  0.361  -110.072    40.143   \n",
       "yngkid            50.136    54.790   0.915  0.361   -57.499   157.772   \n",
       "marr              54.072    46.920   1.152  0.250   -38.104   146.247   \n",
       "union             27.019    43.044   0.628  0.530   -57.542   111.580   \n",
       "np.log(hrwage)    -2.727    32.202  -0.085  0.933   -65.989    60.536   \n",
       "\n",
       "               significance  \n",
       "Intercept            Значим  \n",
       "totwrk               Значим  \n",
       "age                Незначим  \n",
       "south              Незначим  \n",
       "male               Незначим  \n",
       "smsa               Незначим  \n",
       "yngkid             Незначим  \n",
       "marr               Незначим  \n",
       "union              Незначим  \n",
       "np.log(hrwage)     Незначим  "
      ]
     },
     "execution_count": 17,
     "metadata": {},
     "output_type": "execute_result"
    }
   ],
   "source": [
    "# проверим значимость коэффициентов используя t_cr\n",
    "df_sign = np.round(summary_params(res, alpha=sign_level), 3)\n",
    "df_sign['significance'] = df_sign.apply(lambda x: 'Значим' if np.abs(x['t'])>t_cr else 'Незначим', axis=1)\n",
    "df_sign"
   ]
  },
  {
   "cell_type": "markdown",
   "id": "9ff1c74e",
   "metadata": {},
   "source": [
    "**<span style=\"color:#59afe1\">ВЫВОД</span>**: На уровне значимости 5% значим коэффициент при `totwrk`"
   ]
  },
  {
   "cell_type": "markdown",
   "id": "495f9bf9",
   "metadata": {},
   "source": [
    "## Значимость выбранных коэффициентов\n",
    "Потестируем значимость коэффициентов $\\beta_{totwrk}$ и $\\beta_{male}$ на уровне значимости 5%"
   ]
  },
  {
   "cell_type": "code",
   "execution_count": 18,
   "id": "9e850fd9",
   "metadata": {},
   "outputs": [
    {
     "data": {
      "text/plain": [
       "<class 'statsmodels.stats.contrast.ContrastResults'>\n",
       "                             Test for Constraints                             \n",
       "==============================================================================\n",
       "                 coef    std err          t      P>|t|      [0.025      0.975]\n",
       "------------------------------------------------------------------------------\n",
       "c0            -0.1581      0.021     -7.576      0.000      -0.199      -0.117\n",
       "c1            36.4854     43.350      0.842      0.400     -48.677     121.648\n",
       "=============================================================================="
      ]
     },
     "execution_count": 18,
     "metadata": {},
     "output_type": "execute_result"
    }
   ],
   "source": [
    "res.t_test('totwrk=0, male=0')"
   ]
  },
  {
   "cell_type": "markdown",
   "id": "ed1e0853",
   "metadata": {},
   "source": [
    "## Критическое значение t-распределения с уровнем значимости 5%=0.05"
   ]
  },
  {
   "cell_type": "code",
   "execution_count": 19,
   "id": "fffc74cb",
   "metadata": {},
   "outputs": [
    {
     "data": {
      "text/plain": [
       "1.965"
      ]
     },
     "execution_count": 19,
     "metadata": {},
     "output_type": "execute_result"
    }
   ],
   "source": [
    "# уровнь значимости\n",
    "sign_level = 0.05\n",
    "# 5%-критическое значение t-распределения\n",
    "t_cr = t.ppf(q=1-sign_level/2, df=res.df_resid).round(3)\n",
    "t_cr"
   ]
  },
  {
   "cell_type": "markdown",
   "id": "f98eebbc",
   "metadata": {},
   "source": [
    "**<span style=\"color:#59afe1\">ВЫВОД</span>**: На уровне значимости 5% значим коэффициент при `totwrk`"
   ]
  },
  {
   "cell_type": "markdown",
   "id": "9c6dec1f",
   "metadata": {},
   "source": [
    "---"
   ]
  },
  {
   "cell_type": "markdown",
   "id": "42dee16e",
   "metadata": {},
   "source": [
    "# Общий t-тест\n",
    "\n",
    "<div style=\"background-color:Bisque; color:DarkBlue; padding:30px;\">\n",
    "\n",
    "Тестируем $H_0:\\beta=\\theta$ ($\\theta$ - заданное число)\n",
    "\n",
    "Тестовая статистика $$t=\\frac{\\hat{\\beta}-\\theta}{s.e.(\\beta)}$$\n",
    "\n",
    "Критическое значение $t_{cr}=t_{df}(\\alpha)$, где  $df=n-k-1$ --- степени свободы для t-распределения\n",
    "\n",
    "$\\color{purple}{\\text{\\bf Значимо ли коэффициент }\\beta \\text{ \\bf отличается от числа } \\theta?}$\n",
    "\n",
    "**<span style=\"color: purple\">Способ 1:</span>** используем $t_{cr}$\n",
    "\n",
    "* Отвергаем гипотезу $H_0$ при $|t|>t_{cr}$, $\\color{purple}{\\text{\\bf коэффициент }\\beta \\text{ \\bf значимо отличается от числа } \\theta?}$<br> \n",
    "* Не отвергаем гипотезу $H_0$ при $|t|<t_{cr}$, $\\color{purple}{\\text{\\bf коэффициент }\\beta \\text{ \\bf незначимо отличается от числа } \\theta?}$<br> \n",
    "\n",
    "**<span style=\"color: purple\">Способ 2:</span>** используем P-value\n",
    "\n",
    "* Отвергаем гипотезу $H_0$  при $P<\\alpha$, $\\color{purple}{\\text{\\bf коэффициент }\\beta \\text{ \\bf значимо отличается от числа } \\theta?}$<br> \n",
    "* Не отвергаем гипотезу $H_0$ при $P>\\alpha$, $\\color{purple}{\\text{\\bf коэффициент }\\beta \\text{ \\bf незначимо отличается от числа } \\theta?}$<br> \n",
    "\n",
    "---\n",
    "\n",
    "<i><b><span style=\"color: purple\">Сравниваем самостоятельно</span> <br>\n",
    "\n",
    "<span style=\"color:#59afe1\">ОБЯЗАТЕЛЬНО ПЕЧАТАЕМ ВЫВОД</span></b>\n",
    "\n",
    "---\n",
    "\n",
    "</div>"
   ]
  },
  {
   "cell_type": "markdown",
   "id": "2633626e",
   "metadata": {},
   "source": [
    "Для набора данных `Labour` рассмотрим регрессию \n",
    "\n",
    "$$\n",
    "\\log(output) = \\beta_0+\\beta_1\\log(capital) + \\beta_2\\log(labour)+error\n",
    "$$"
   ]
  },
  {
   "cell_type": "code",
   "execution_count": 20,
   "id": "8a169ce2",
   "metadata": {},
   "outputs": [
    {
     "data": {
      "text/html": [
       "<div>\n",
       "<style scoped>\n",
       "    .dataframe tbody tr th:only-of-type {\n",
       "        vertical-align: middle;\n",
       "    }\n",
       "\n",
       "    .dataframe tbody tr th {\n",
       "        vertical-align: top;\n",
       "    }\n",
       "\n",
       "    .dataframe thead th {\n",
       "        text-align: right;\n",
       "    }\n",
       "</style>\n",
       "<table border=\"1\" class=\"dataframe\">\n",
       "  <thead>\n",
       "    <tr style=\"text-align: right;\">\n",
       "      <th></th>\n",
       "      <th>capital</th>\n",
       "      <th>labour</th>\n",
       "      <th>output</th>\n",
       "      <th>wage</th>\n",
       "    </tr>\n",
       "  </thead>\n",
       "  <tbody>\n",
       "    <tr>\n",
       "      <th>0</th>\n",
       "      <td>2.606563</td>\n",
       "      <td>184</td>\n",
       "      <td>9.250759</td>\n",
       "      <td>43.080307</td>\n",
       "    </tr>\n",
       "    <tr>\n",
       "      <th>1</th>\n",
       "      <td>1.323237</td>\n",
       "      <td>91</td>\n",
       "      <td>3.664310</td>\n",
       "      <td>27.780016</td>\n",
       "    </tr>\n",
       "    <tr>\n",
       "      <th>2</th>\n",
       "      <td>22.093692</td>\n",
       "      <td>426</td>\n",
       "      <td>28.781516</td>\n",
       "      <td>44.467748</td>\n",
       "    </tr>\n",
       "    <tr>\n",
       "      <th>3</th>\n",
       "      <td>10.737851</td>\n",
       "      <td>72</td>\n",
       "      <td>4.124642</td>\n",
       "      <td>39.734710</td>\n",
       "    </tr>\n",
       "    <tr>\n",
       "      <th>4</th>\n",
       "      <td>1.161365</td>\n",
       "      <td>46</td>\n",
       "      <td>2.890150</td>\n",
       "      <td>34.650709</td>\n",
       "    </tr>\n",
       "  </tbody>\n",
       "</table>\n",
       "</div>"
      ],
      "text/plain": [
       "     capital  labour     output       wage\n",
       "0   2.606563     184   9.250759  43.080307\n",
       "1   1.323237      91   3.664310  27.780016\n",
       "2  22.093692     426  28.781516  44.467748\n",
       "3  10.737851      72   4.124642  39.734710\n",
       "4   1.161365      46   2.890150  34.650709"
      ]
     },
     "execution_count": 20,
     "metadata": {},
     "output_type": "execute_result"
    }
   ],
   "source": [
    "# импорт данных\n",
    "df = pd.read_csv('Labour.csv')\n",
    "df.head()"
   ]
  },
  {
   "cell_type": "markdown",
   "id": "aaa214a2",
   "metadata": {},
   "source": [
    "## Спецификация и подгонка"
   ]
  },
  {
   "cell_type": "code",
   "execution_count": 21,
   "id": "e70adf1a",
   "metadata": {},
   "outputs": [],
   "source": [
    "# спецификация модели через формулу\n",
    "mod = smf.ols(formula='np.log(output)~np.log(capital)+np.log(labour)', data=df)\n",
    "# подгонка модели\n",
    "res = mod.fit()"
   ]
  },
  {
   "cell_type": "code",
   "execution_count": 22,
   "id": "ddbd31e8",
   "metadata": {},
   "outputs": [
    {
     "data": {
      "text/html": [
       "<table class=\"simpletable\">\n",
       "<caption>OLS Regression Results</caption>\n",
       "<tr>\n",
       "  <th>Dep. Variable:</th>    <td>np.log(output)</td> <th>  R-squared:         </th> <td>   0.838</td> \n",
       "</tr>\n",
       "<tr>\n",
       "  <th>Model:</th>                  <td>OLS</td>      <th>  Adj. R-squared:    </th> <td>   0.837</td> \n",
       "</tr>\n",
       "<tr>\n",
       "  <th>No. Observations:</th>     <td>   569</td>     <th>  F-statistic:       </th> <td>   1462.</td> \n",
       "</tr>\n",
       "<tr>\n",
       "  <th>Covariance Type:</th>     <td>nonrobust</td>   <th>  Prob (F-statistic):</th> <td>2.64e-224</td>\n",
       "</tr>\n",
       "</table>\n",
       "<table class=\"simpletable\">\n",
       "<tr>\n",
       "         <td></td>            <th>coef</th>     <th>std err</th>      <th>t</th>      <th>P>|t|</th>  <th>[0.025</th>    <th>0.975]</th>  \n",
       "</tr>\n",
       "<tr>\n",
       "  <th>Intercept</th>       <td>   -1.7115</td> <td>    0.097</td> <td>  -17.697</td> <td> 0.000</td> <td>   -1.901</td> <td>   -1.522</td>\n",
       "</tr>\n",
       "<tr>\n",
       "  <th>np.log(capital)</th> <td>    0.2076</td> <td>    0.017</td> <td>   12.077</td> <td> 0.000</td> <td>    0.174</td> <td>    0.241</td>\n",
       "</tr>\n",
       "<tr>\n",
       "  <th>np.log(labour)</th>  <td>    0.7148</td> <td>    0.023</td> <td>   30.890</td> <td> 0.000</td> <td>    0.669</td> <td>    0.760</td>\n",
       "</tr>\n",
       "</table><br/><br/>Notes:<br/>[1] Standard Errors assume that the covariance matrix of the errors is correctly specified."
      ],
      "text/latex": [
       "\\begin{center}\n",
       "\\begin{tabular}{lclc}\n",
       "\\toprule\n",
       "\\textbf{Dep. Variable:}    & np.log(output) & \\textbf{  R-squared:         } &     0.838   \\\\\n",
       "\\textbf{Model:}            &      OLS       & \\textbf{  Adj. R-squared:    } &     0.837   \\\\\n",
       "\\textbf{No. Observations:} &        569     & \\textbf{  F-statistic:       } &     1462.   \\\\\n",
       "\\textbf{Covariance Type:}  &   nonrobust    & \\textbf{  Prob (F-statistic):} & 2.64e-224   \\\\\n",
       "\\bottomrule\n",
       "\\end{tabular}\n",
       "\\begin{tabular}{lcccccc}\n",
       "                         & \\textbf{coef} & \\textbf{std err} & \\textbf{t} & \\textbf{P$> |$t$|$} & \\textbf{[0.025} & \\textbf{0.975]}  \\\\\n",
       "\\midrule\n",
       "\\textbf{Intercept}       &      -1.7115  &        0.097     &   -17.697  &         0.000        &       -1.901    &       -1.522     \\\\\n",
       "\\textbf{np.log(capital)} &       0.2076  &        0.017     &    12.077  &         0.000        &        0.174    &        0.241     \\\\\n",
       "\\textbf{np.log(labour)}  &       0.7148  &        0.023     &    30.890  &         0.000        &        0.669    &        0.760     \\\\\n",
       "\\bottomrule\n",
       "\\end{tabular}\n",
       "%\\caption{OLS Regression Results}\n",
       "\\end{center}\n",
       "\n",
       "Notes: \\newline\n",
       " [1] Standard Errors assume that the covariance matrix of the errors is correctly specified."
      ],
      "text/plain": [
       "<class 'statsmodels.iolib.summary.Summary'>\n",
       "\"\"\"\n",
       "                            OLS Regression Results                            \n",
       "==============================================================================\n",
       "Dep. Variable:         np.log(output)   R-squared:                       0.838\n",
       "Model:                            OLS   Adj. R-squared:                  0.837\n",
       "No. Observations:                 569   F-statistic:                     1462.\n",
       "Covariance Type:            nonrobust   Prob (F-statistic):          2.64e-224\n",
       "===================================================================================\n",
       "                      coef    std err          t      P>|t|      [0.025      0.975]\n",
       "-----------------------------------------------------------------------------------\n",
       "Intercept          -1.7115      0.097    -17.697      0.000      -1.901      -1.522\n",
       "np.log(capital)     0.2076      0.017     12.077      0.000       0.174       0.241\n",
       "np.log(labour)      0.7148      0.023     30.890      0.000       0.669       0.760\n",
       "===================================================================================\n",
       "\n",
       "Notes:\n",
       "[1] Standard Errors assume that the covariance matrix of the errors is correctly specified.\n",
       "\"\"\""
      ]
     },
     "execution_count": 22,
     "metadata": {},
     "output_type": "execute_result"
    }
   ],
   "source": [
    "# Общий отчет\n",
    "res.summary(slim=True)"
   ]
  },
  {
   "cell_type": "markdown",
   "id": "22fbf9a3",
   "metadata": {},
   "source": [
    "## Гипотеза\n",
    "Тестируется гипотеза $H_0:\\beta_{capital}=0.5$ \n"
   ]
  },
  {
   "cell_type": "markdown",
   "id": "c26ded5a",
   "metadata": {},
   "source": [
    "## Уровень значимости\n",
    "Пусть уровень значимости $\\alpha=1\\%=0.01$"
   ]
  },
  {
   "cell_type": "markdown",
   "id": "afcfe0c3",
   "metadata": {},
   "source": [
    "## Результаты тестирования"
   ]
  },
  {
   "cell_type": "code",
   "execution_count": 23,
   "id": "e343de00",
   "metadata": {
    "scrolled": true
   },
   "outputs": [
    {
     "data": {
      "text/plain": [
       "<class 'statsmodels.stats.contrast.ContrastResults'>\n",
       "                             Test for Constraints                             \n",
       "==============================================================================\n",
       "                 coef    std err          t      P>|t|      [0.025      0.975]\n",
       "------------------------------------------------------------------------------\n",
       "c0             0.2076      0.017    -17.014      0.000       0.174       0.241\n",
       "=============================================================================="
      ]
     },
     "execution_count": 23,
     "metadata": {},
     "output_type": "execute_result"
    }
   ],
   "source": [
    "# Составляющие общего t-теста для коэффициента(ов) в одной таблице\n",
    "res.t_test('np.log(capital)=0.5')"
   ]
  },
  {
   "cell_type": "markdown",
   "id": "128e706a",
   "metadata": {},
   "source": [
    "## Критическое значение t-распределения с уровнем значимости 1%=0.01"
   ]
  },
  {
   "cell_type": "code",
   "execution_count": 24,
   "id": "183538ec",
   "metadata": {
    "scrolled": true
   },
   "outputs": [
    {
     "data": {
      "text/plain": [
       "2.585"
      ]
     },
     "execution_count": 24,
     "metadata": {},
     "output_type": "execute_result"
    }
   ],
   "source": [
    "# зададим уровнь значимости\n",
    "sign_level = 0.01\n",
    "# 1%-критическое значение t-распределения\n",
    "t_cr = t.ppf(q=1-sign_level/2, df=res.df_resid).round(3)\n",
    "t_cr"
   ]
  },
  {
   "cell_type": "markdown",
   "id": "3b804554",
   "metadata": {},
   "source": [
    "**<span style=\"color:#59afe1\">ВЫВОД</span>**: На уровне значимости 1% коэффициент при `log(capital)` значимо отличается от числа 0.5"
   ]
  }
 ],
 "metadata": {
  "kernelspec": {
   "display_name": "Python 3 (ipykernel)",
   "language": "python",
   "name": "python3"
  },
  "language_info": {
   "codemirror_mode": {
    "name": "ipython",
    "version": 3
   },
   "file_extension": ".py",
   "mimetype": "text/x-python",
   "name": "python",
   "nbconvert_exporter": "python",
   "pygments_lexer": "ipython3",
   "version": "3.11.7"
  }
 },
 "nbformat": 4,
 "nbformat_minor": 5
}
