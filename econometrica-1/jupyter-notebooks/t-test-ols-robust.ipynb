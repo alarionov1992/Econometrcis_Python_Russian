{
 "cells": [
  {
   "cell_type": "markdown",
   "metadata": {},
   "source": [
    "#  Неробастный и робастный t-тест: значимость коэффициентов"
   ]
  },
  {
   "cell_type": "code",
   "execution_count": null,
   "metadata": {},
   "outputs": [],
   "source": [
    "import pandas as pd\n",
    "import numpy as np\n",
    "import statsmodels.formula.api as smf\n",
    "from statsmodels.iolib.summary2 import summary_params, summary_col # вывод результатов тестирования\n",
    "from scipy.stats import t # t-распределение и критические значения\n",
    "\n",
    "# Не показывать FutureWarnings\n",
    "import warnings\n",
    "warnings.simplefilter(action='ignore', category=FutureWarning)"
   ]
  },
  {
   "cell_type": "code",
   "execution_count": null,
   "metadata": {},
   "outputs": [],
   "source": [
    "# импорт данных\n",
    "df = pd.read_csv('Labour.csv')\n",
    "df.head()"
   ]
  },
  {
   "cell_type": "markdown",
   "metadata": {},
   "source": [
    "Рассмотрим регрессию\n",
    "\n",
    "$$\n",
    "\t\\log(output)=\\beta_0+\\beta_1\\log(capital)+\\beta_2\\log(labour)+\\beta_3\\log^2(capital)+\\beta_4\\log^2(labour)+error\n",
    "$$\n",
    "\n",
    "Подгоним модель методом OLS с двумя опциями\n",
    "* с оценкой ковариационной матрицы коэффициентов по умолчанию (неробастной) $Var_{OLS}(\\hat{\\beta})=s^2(X^\\top X)^{-1}$, где $s^2=\\sum e^2_i/(n-k-1)$\n",
    "* с оценкой ковариационной матрицы коэффициентов, робастной к гетероскедастичности (HC3-оценкой)\n",
    "\n",
    "Далее CME = Covariance Matrix Estimator\n",
    "\n",
    "Стандартные ошибки коэффициентов $s.e.(\\beta)$ - корни из диагональных элементов матрицы CME"
   ]
  },
  {
   "cell_type": "code",
   "execution_count": null,
   "metadata": {},
   "outputs": [],
   "source": [
    "# спецификация модели\n",
    "mod = smf.ols(formula='np.log(output)~np.log(capital)+np.log(labour)+I(np.log(capital)**2)+I(np.log(labour)**2)', data=df)\n",
    "# подгонка модели с ковариационной матрицей по умолчанию (неробастной)\n",
    "res_ols = mod.fit()\n",
    "# подгонка модели с робастной HC3 ковариационной матрицей\n",
    "res_hc = mod.fit(cov_type='HC3')"
   ]
  },
  {
   "cell_type": "markdown",
   "metadata": {},
   "source": [
    "Критическое значение t-распределения"
   ]
  },
  {
   "cell_type": "code",
   "execution_count": null,
   "metadata": {},
   "outputs": [],
   "source": [
    "# уровнь значимости\n",
    "sign_level = 0.05\n",
    "# критическое значение t-распределения\n",
    "t.ppf(q=1-sign_level/2, df=mod.df_resid)"
   ]
  },
  {
   "cell_type": "markdown",
   "metadata": {},
   "source": [
    "## Результаты неробастного t-теста на значимость коэффициентов"
   ]
  },
  {
   "cell_type": "code",
   "execution_count": null,
   "metadata": {},
   "outputs": [],
   "source": [
    "summary_params(res_ols, alpha=0.05).round(3)"
   ]
  },
  {
   "cell_type": "markdown",
   "metadata": {},
   "source": [
    "## Результаты робастного t-теста на значимость коэффициентов (HC3-оценка ковариационной матрицы)"
   ]
  },
  {
   "cell_type": "code",
   "execution_count": null,
   "metadata": {},
   "outputs": [],
   "source": [
    "summary_params(res_hc, alpha=0.05).round(3)"
   ]
  },
  {
   "cell_type": "markdown",
   "metadata": {},
   "source": [
    "## Результаты двух оцениваний в одной таблице\n",
    "\n",
    "__Обратим внимание на коды значимости (количество звёздочек у коэффициентов)__"
   ]
  },
  {
   "cell_type": "code",
   "execution_count": null,
   "metadata": {},
   "outputs": [],
   "source": [
    "summary_col([res_ols, res_hc], model_names=['OLS-CME', 'HC3-CME'], stars=True)"
   ]
  }
 ],
 "metadata": {
  "kernelspec": {
   "display_name": "base",
   "language": "python",
   "name": "python3"
  },
  "language_info": {
   "codemirror_mode": {
    "name": "ipython",
    "version": 3
   },
   "file_extension": ".py",
   "mimetype": "text/x-python",
   "name": "python",
   "nbconvert_exporter": "python",
   "pygments_lexer": "ipython3",
   "version": "3.11.7"
  }
 },
 "nbformat": 4,
 "nbformat_minor": 2
}
