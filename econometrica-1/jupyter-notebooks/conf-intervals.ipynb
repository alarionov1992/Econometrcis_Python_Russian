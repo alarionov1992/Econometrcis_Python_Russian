{
 "cells": [
  {
   "cell_type": "markdown",
   "metadata": {},
   "source": [
    "# Доверительные интервалы для коэффициентов"
   ]
  },
  {
   "cell_type": "code",
   "execution_count": null,
   "metadata": {},
   "outputs": [],
   "source": [
    "import pandas as pd\n",
    "import numpy as np\n",
    "\n",
    "import statsmodels.formula.api as smf\n",
    "\n",
    "# Не показывать Warning\n",
    "import warnings\n",
    "warnings.simplefilter(action='ignore', category=Warning)"
   ]
  },
  {
   "cell_type": "markdown",
   "metadata": {},
   "source": [
    "<div style=\"background-color:Bisque; color:DarkBlue; padding:30px;\">\n",
    "\n",
    "<i><b><span style=\"color: purple\">Доверительные интервалы для коэффициентов</span> </b><br>\n",
    "\n",
    "Пусть $\\gamma$ - доверительная вероятность (обычно 90%, 95%, 99%). Ей соответствует уровень значимости $\\alpha=1-\\gamma$\n",
    "\n",
    "Доверительный интервал для коэффициента $\\beta$\n",
    "$$\n",
    "\t\\mathcal{I}_\\gamma=\\left(\\hat{\\beta}-s.e.(\\beta)\\cdot t_{cr}\\; ;\\;\\hat{\\beta}+s.e.(\\beta)\\cdot t_{cr}\\right)\n",
    "$$\n",
    "\n",
    "где $t_{cr}=t_{df=n-k-1}(\\alpha)$\n",
    "\n",
    "__Интерпретация:__ $P(\\beta\\in\\mathcal{I}_\\gamma)=\\gamma$. \n",
    "\n",
    "__Замечание 1:__ доверительный интервал можно рассматривать как \"точно оценивания\" коэффициента\n",
    "\n",
    "__Замечание 2__: в зависимости от используемых $s.e.(\\beta)$ доверительный интервал м.б. неробастным и робастным \n",
    "\n",
    "**<span style=\"color:purple\">Доверительный интервал и t-тест:</span>** доверительный интервал можно использовать для тестирования гипотезы \n",
    "\n",
    "$$\n",
    "\\begin{aligned}\n",
    "\tH_0:\\beta&=\\theta & &vs & H_1:\\beta&\\ne\\theta\n",
    "\\end{aligned}\n",
    "$$\n",
    "\n",
    "__Вывод__: при уровне значимости $\\alpha$ не отвергаем гипотезу $\\iff \\theta\\in \\mathcal{I}_\\gamma$. В частности, коэффициент незначим $\\iff 0\\in \\mathcal{I}_\\gamma$\n",
    "\n",
    "</div>"
   ]
  },
  {
   "cell_type": "markdown",
   "metadata": {},
   "source": [
    "Для датасета `sleep75` рассмотрим регрессию `sleep~1+totwrk+age+I(age**2)+smsa+male+south+marr+union`"
   ]
  },
  {
   "cell_type": "code",
   "execution_count": null,
   "metadata": {},
   "outputs": [],
   "source": [
    "# загрузим данные\n",
    "df = pd.read_csv('sleep75.csv')"
   ]
  },
  {
   "cell_type": "markdown",
   "metadata": {},
   "source": [
    "## Неробастный доверительный интервал\n",
    "\n",
    "Подгноим модель выведем протокол подгонки с `90%` доверительными интервала для коэффициентов"
   ]
  },
  {
   "cell_type": "code",
   "execution_count": null,
   "metadata": {},
   "outputs": [],
   "source": [
    "# спецификация модели\n",
    "mod = smf.ols(formula='sleep~1+totwrk+age+I(age**2)+smsa+male+south+marr+union', data=df)\n",
    "# подгонка модели с ковариационной матрицей по умолчанию (неробастной)\n",
    "res_ols = mod.fit()\n",
    "\n",
    "res_ols.summary(slim=True, alpha=0.1)"
   ]
  },
  {
   "cell_type": "code",
   "execution_count": null,
   "metadata": {},
   "outputs": [],
   "source": [
    "# неробастные доверительные интервалы\n",
    "res_ols.conf_int(alpha=0.1).round(3)"
   ]
  },
  {
   "cell_type": "markdown",
   "metadata": {},
   "source": [
    "## Робастный доверительный интервал\n",
    "\n",
    "Подгноим модель выведем протокол подгонки с `99%` доверительными интервала для коэффициентов"
   ]
  },
  {
   "cell_type": "code",
   "execution_count": null,
   "metadata": {},
   "outputs": [],
   "source": [
    "# спецификация модели\n",
    "mod = smf.ols(formula='sleep~1+totwrk+age+I(age**2)+smsa+male+south+marr+union', data=df)\n",
    "# подгонка модели с ковариационной матрицей по умолчанию (неробастной)\n",
    "res_hc = mod.fit(cov_type='HC3')\n",
    "\n",
    "res_hc.summary(slim=True, alpha=0.01)"
   ]
  },
  {
   "cell_type": "code",
   "execution_count": null,
   "metadata": {},
   "outputs": [],
   "source": [
    "# неробастные доверительные интервалы\n",
    "res_hc.conf_int(alpha=0.01).round(3)"
   ]
  }
 ],
 "metadata": {
  "kernelspec": {
   "display_name": "base",
   "language": "python",
   "name": "python3"
  },
  "language_info": {
   "codemirror_mode": {
    "name": "ipython",
    "version": 3
   },
   "file_extension": ".py",
   "mimetype": "text/x-python",
   "name": "python",
   "nbconvert_exporter": "python",
   "pygments_lexer": "ipython3",
   "version": "3.12.2"
  }
 },
 "nbformat": 4,
 "nbformat_minor": 2
}
