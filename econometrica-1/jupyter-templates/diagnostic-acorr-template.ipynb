{
 "cells": [
  {
   "cell_type": "markdown",
   "metadata": {},
   "source": [
    "# Диагностика модели: тесты на серийную корреляцию"
   ]
  },
  {
   "cell_type": "code",
   "execution_count": null,
   "metadata": {},
   "outputs": [],
   "source": [
    "import pandas as pd\n",
    "import numpy as np\n",
    "\n",
    "import statsmodels.formula.api as smf\n",
    "import statsmodels.stats.api as sms # тесты\n",
    "from statsmodels.iolib.summary2 import summary_col # вывод подгонки\n",
    "\n",
    "from scipy.stats import chi2 # chi2-распределение и критические значения\n",
    "\n",
    "# настройки визуализация\n",
    "import pandas_datareader.data as web\n",
    "\n",
    "import matplotlib.pyplot as plt\n",
    "\n",
    "# Не показывать Warning\n",
    "import warnings\n",
    "warnings.simplefilter(action='ignore', category=Warning)"
   ]
  },
  {
   "cell_type": "code",
   "execution_count": null,
   "metadata": {},
   "outputs": [],
   "source": [
    "# загрузим данные\n",
    "df = pd.read_csv('Labour.csv')"
   ]
  },
  {
   "cell_type": "markdown",
   "metadata": {},
   "source": [
    "Рассмотрим регрессию\n",
    "\n",
    "$$\n",
    "\t\\text{наберите уравнение регрессии}\n",
    "$$"
   ]
  },
  {
   "cell_type": "markdown",
   "metadata": {},
   "source": [
    "## Спецификация и подгонка"
   ]
  },
  {
   "cell_type": "code",
   "execution_count": null,
   "metadata": {},
   "outputs": [],
   "source": [
    "# спецификация модели через формулу\n",
    "mod = smf.ols(formula='your specification', data=df)\n",
    "# подгонка модели с ковариационной матрицей по умолчанию (неробастной)\n",
    "res = mod.fit()"
   ]
  },
  {
   "cell_type": "markdown",
   "metadata": {},
   "source": [
    "## DW-тест\n",
    "\n",
    "Тестируем модель на серийную корреляцию 1-го порядка"
   ]
  },
  {
   "cell_type": "code",
   "execution_count": null,
   "metadata": {},
   "outputs": [],
   "source": [
    "# DW-статистика\n",
    "sms.durbin_watson(res.resid)"
   ]
  },
  {
   "cell_type": "markdown",
   "metadata": {},
   "source": [
    "__Правила принятия решения по критерию Дарбина-Уотсона__\n",
    "\n",
    "|Значение $DW$             |Гипотеза $H_0$                         |Вывод                            |\n",
    "|:-------------------------------:|:--------------------------------------------:|:-------------------------------:|\n",
    "|$0 \\leq DW< d_L$         |отвергается|есть положительная автокорреляция|\n",
    "|$d_L \\leq DW \\leq d_U$    |                                              |неопределенность                 |\n",
    "|$d_U < DW < 4-d_U$        |не отвергается                             |автокорреляция отсутствует       |\n",
    "|$4-d_U \\leq DW \\leq 4-d_L$|                                              |неопределенность                 |\n",
    "|$4-d_L < DW \\leq 4$       |отвергается|есть отрицательная автокорреляция|"
   ]
  },
  {
   "cell_type": "markdown",
   "metadata": {},
   "source": [
    "__По таблицам__\n",
    "\n",
    "$d_L = $\n",
    "\n",
    "$d_U = $"
   ]
  },
  {
   "cell_type": "markdown",
   "metadata": {},
   "source": [
    "## Вывод"
   ]
  },
  {
   "cell_type": "markdown",
   "metadata": {},
   "source": [
    "ваш вывод"
   ]
  },
  {
   "cell_type": "markdown",
   "metadata": {},
   "source": [
    "## LM/BG-тест\n",
    "\n",
    "Тестируем модель на серийную корреляцию *-го порядка"
   ]
  },
  {
   "cell_type": "code",
   "execution_count": null,
   "metadata": {},
   "outputs": [],
   "source": [
    "# LM-тест на автокорреляцию *-го порядка\n",
    "lm, lmpval, fval, fpval = sms.acorr_breusch_godfrey(res, nlags=*)\n",
    "lm, lmpval"
   ]
  },
  {
   "cell_type": "markdown",
   "metadata": {},
   "source": [
    "## Критическое значение $\\chi^2$-распределения"
   ]
  },
  {
   "cell_type": "code",
   "execution_count": null,
   "metadata": {},
   "outputs": [],
   "source": [
    "# Задаём уровень значимости\n",
    "sign_level = \n",
    "# Критическое значение распределения chi2\n",
    "chi2.ppf(q=1-sign_level, df=mod.exog.shape[1])"
   ]
  },
  {
   "cell_type": "markdown",
   "metadata": {},
   "source": [
    "## Вывод"
   ]
  },
  {
   "cell_type": "markdown",
   "metadata": {},
   "source": [
    "ваш вывод"
   ]
  },
  {
   "cell_type": "markdown",
   "metadata": {},
   "source": [
    "## Робастный t-тест (HAC s.e.)\n",
    "\n",
    "Используем HAC-оценку ковариационной матрицы"
   ]
  },
  {
   "cell_type": "code",
   "execution_count": null,
   "metadata": {},
   "outputs": [],
   "source": [
    "# спецификация модели через формулу\n",
    "mod = smf.ols(formula='sleep~1+totwrk+age+male+south+smsa+yngkid+marr+union', data=df)\n",
    "# подгонка модели с робастной HC3-оценкой ковариационной матрицы\n",
    "res_hac = mod.fit(cov_type='HAC')"
   ]
  }
 ],
 "metadata": {
  "language_info": {
   "name": "python"
  }
 },
 "nbformat": 4,
 "nbformat_minor": 2
}
