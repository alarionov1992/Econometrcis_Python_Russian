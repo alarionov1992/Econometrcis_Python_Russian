{
 "cells": [
  {
   "cell_type": "markdown",
   "metadata": {},
   "source": [
    "# F-тест: структурные изменения/сдвиги"
   ]
  },
  {
   "cell_type": "code",
   "execution_count": null,
   "metadata": {},
   "outputs": [],
   "source": [
    "import pandas as pd\n",
    "import numpy as np\n",
    "import statsmodels.formula.api as smf\n",
    "from statsmodels.iolib.summary2 import summary_col # вывод результатов тестирования\n",
    "from scipy.stats import f # f-распределение и критические значения\n",
    "\n",
    "# Не показывать FutureWarnings\n",
    "import warnings\n",
    "warnings.simplefilter(action='ignore', category=FutureWarning)"
   ]
  },
  {
   "cell_type": "code",
   "execution_count": null,
   "metadata": {},
   "outputs": [],
   "source": [
    "# импорт данных\n",
    "df = pd.read_csv('Filename.csv')"
   ]
  },
  {
   "cell_type": "markdown",
   "metadata": {},
   "source": [
    "Рассмотрим регрессию\n"
   ]
  },
  {
   "cell_type": "markdown",
   "metadata": {},
   "source": [
    "## Спецификация и подгонка"
   ]
  },
  {
   "cell_type": "code",
   "execution_count": null,
   "metadata": {},
   "outputs": [],
   "source": [
    "# спецификация исходной модели \n",
    "mod = smf.ols(formula='your specification', data = df)\n",
    "# подгонка исходной модели\n",
    "res = mod.fit()\n",
    "# спецификация модели со структурными сдвигами\n",
    "mod_breaks = smf.ols(formula='your specification', data = df)\n",
    "# подгонка модели со структурными сдвигами\n",
    "res_breaks = mod_breaks.fit()\n",
    "# Результаты двух оцениваний в одной таблице\n",
    "summary_col([res, res_breaks], stars=True)"
   ]
  },
  {
   "cell_type": "code",
   "execution_count": null,
   "metadata": {},
   "outputs": [],
   "source": [
    "# подгонка исходной модели с робастной HC3 ковариационной матрицей\n",
    "res_hc = mod.fit(cov_type='HC3')\n",
    "# подгонка модели со структурными сдвигами с робастной HC3 ковариационной матрицей\n",
    "res_breaks_hc = mod_breaks.fit(cov_type='HC3')\n",
    "# Результаты двух оцениваний в одной таблице\n",
    "summary_col([res_hc, res_breaks_hc], stars=True)"
   ]
  },
  {
   "cell_type": "markdown",
   "metadata": {},
   "source": [
    "## Гипотеза\n",
    "\n",
    "Тестируем значимость структурных сдвигов\n",
    "\n",
    "$$\n",
    "\tH_0: \\text{наберите гипотезу}\n",
    "$$\n",
    "\n",
    "Для этой гипотезы $J=$\n",
    "\n",
    "Пусть уровень значимости $\\alpha= \\%=$"
   ]
  },
  {
   "cell_type": "markdown",
   "metadata": {},
   "source": [
    "## F-тест (неробастный)"
   ]
  },
  {
   "cell_type": "code",
   "execution_count": null,
   "metadata": {},
   "outputs": [],
   "source": [
    "# Тестовая статистика, её P-значение и число степеней свободы \n",
    "F_test, F_pvalue, df_diff = res_breaks.compare_f_test(res)\n",
    "F_test, F_pvalue, df_diff"
   ]
  },
  {
   "cell_type": "code",
   "execution_count": null,
   "metadata": {},
   "outputs": [],
   "source": [
    "# степени свободы \n",
    "df_diff, res_breaks.df_resid"
   ]
  },
  {
   "cell_type": "markdown",
   "metadata": {},
   "source": [
    "## Критическое значение F-распределения"
   ]
  },
  {
   "cell_type": "code",
   "execution_count": null,
   "metadata": {},
   "outputs": [],
   "source": [
    "# уровень значимости\n",
    "sign_level = \n",
    "# Критическое значение F-распределения\n",
    "f.ppf(q=1-sign_level, dfn=df_diff, dfd=res_breaks.df_resid)"
   ]
  },
  {
   "cell_type": "markdown",
   "metadata": {},
   "source": [
    "## Вывод"
   ]
  },
  {
   "cell_type": "markdown",
   "metadata": {},
   "source": [
    "ваш вывод"
   ]
  },
  {
   "cell_type": "markdown",
   "metadata": {},
   "source": [
    "## F-тест (робастный)\n",
    "\n",
    "Используем HC3-оценку ковариационной матрицы"
   ]
  },
  {
   "cell_type": "code",
   "execution_count": null,
   "metadata": {},
   "outputs": [],
   "source": [
    "# Тестовая статистика, её P-значение и число степеней свободы df_diff\n",
    "F_test, F_pvalue, df_diff = res_breaks_hc.compare_f_test(res_hc)\n",
    "F_test, F_pvalue, df_diff"
   ]
  },
  {
   "cell_type": "code",
   "execution_count": null,
   "metadata": {},
   "outputs": [],
   "source": [
    "# степени свободы \n",
    "df_diff, res_breaks_hc.df_resid"
   ]
  },
  {
   "cell_type": "markdown",
   "metadata": {},
   "source": [
    "## Вывод"
   ]
  },
  {
   "cell_type": "markdown",
   "metadata": {},
   "source": [
    "ваш вывод"
   ]
  }
 ],
 "metadata": {
  "kernelspec": {
   "display_name": "base",
   "language": "python",
   "name": "python3"
  },
  "language_info": {
   "codemirror_mode": {
    "name": "ipython",
    "version": 3
   },
   "file_extension": ".py",
   "mimetype": "text/x-python",
   "name": "python",
   "nbconvert_exporter": "python",
   "pygments_lexer": "ipython3",
   "version": "3.11.7"
  }
 },
 "nbformat": 4,
 "nbformat_minor": 2
}
