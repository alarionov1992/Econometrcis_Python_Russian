{
 "cells": [
  {
   "cell_type": "markdown",
   "metadata": {},
   "source": [
    "# probit-регрессия: предельные значения"
   ]
  },
  {
   "cell_type": "code",
   "execution_count": 3,
   "metadata": {},
   "outputs": [],
   "source": [
    "import numpy as np\n",
    "import pandas as pd\n",
    "import statsmodels.formula.api as smf\n",
    "from statsmodels.iolib.summary2 import summary_col\n",
    "\n",
    "# Не показывать FutureWarnings\n",
    "import warnings\n",
    "warnings.simplefilter(action='ignore', category=FutureWarning)"
   ]
  },
  {
   "cell_type": "markdown",
   "metadata": {},
   "source": [
    "## labour force equation\n",
    "\n",
    "Для датасета [mroz_Green](http://www.stern.nyu.edu/~wgreene/Text/Edition7/TableF5-1.csv)\n",
    "рассморим probit-регрессию **LFP на WA, log(FAMINC), WE, KL6, K618, CIT, UN**"
   ]
  },
  {
   "cell_type": "code",
   "execution_count": 4,
   "metadata": {},
   "outputs": [],
   "source": [
    "# подключим датасет mroz_Greene по ссылке \n",
    "df = pd.read_csv('https://raw.githubusercontent.com/artamonoff/econometrica/main/econometrica2/data-csv/TableF5-1.csv', na_values=(' ', '', '  '))\n",
    "#подключим датасет mroz_Greene из локального файла\n",
    "#df = pd.read_csv('TableF5-1.csv', na_values=(' ', '', '  '))"
   ]
  },
  {
   "cell_type": "markdown",
   "metadata": {},
   "source": [
    "## Спецификация и подгонка"
   ]
  },
  {
   "cell_type": "code",
   "execution_count": 5,
   "metadata": {},
   "outputs": [
    {
     "name": "stdout",
     "output_type": "stream",
     "text": [
      "Optimization terminated successfully.\n",
      "         Current function value: 0.614282\n",
      "         Iterations 5\n"
     ]
    }
   ],
   "source": [
    "# probit\n",
    "mod = smf.probit(formula='LFP~WA+np.log(FAMINC)+WE+KL6+K618+CIT+UN', data=df)\n",
    "res = mod.fit()"
   ]
  },
  {
   "cell_type": "markdown",
   "metadata": {},
   "source": [
    "## Предельные значения\n",
    "Для вычисления нужно указать указать параметр `at`:\n",
    "* `mean` для вычисления предельного значения в средней точке\n",
    "* `overall` для вычисления среднего по выборке предельного значения\n",
    "\n",
    "[Документация](https://www.statsmodels.org/dev/generated/statsmodels.discrete.discrete_model.LogitResults.get_margeff.html) "
   ]
  },
  {
   "cell_type": "markdown",
   "metadata": {},
   "source": [
    "### Предельные значения для каждого регрессора в средней точке для probit модели"
   ]
  },
  {
   "cell_type": "code",
   "execution_count": 6,
   "metadata": {},
   "outputs": [
    {
     "data": {
      "text/html": [
       "<table class=\"simpletable\">\n",
       "<caption>Probit Marginal Effects</caption>\n",
       "<tr>\n",
       "  <th>Dep. Variable:</th>  <td>LFP</td>\n",
       "</tr>\n",
       "<tr>\n",
       "  <th>Method:</th>        <td>dydx</td>\n",
       "</tr>\n",
       "<tr>\n",
       "  <th>At:</th>            <td>mean</td>\n",
       "</tr>\n",
       "</table>\n",
       "<table class=\"simpletable\">\n",
       "<tr>\n",
       "         <th></th>           <th>dy/dx</th>    <th>std err</th>      <th>z</th>      <th>P>|z|</th>  <th>[0.025</th>    <th>0.975]</th>  \n",
       "</tr>\n",
       "<tr>\n",
       "  <th>WA</th>             <td>   -0.0149</td> <td>    0.003</td> <td>   -5.053</td> <td> 0.000</td> <td>   -0.021</td> <td>   -0.009</td>\n",
       "</tr>\n",
       "<tr>\n",
       "  <th>np.log(FAMINC)</th> <td>    0.0805</td> <td>    0.041</td> <td>    1.973</td> <td> 0.049</td> <td>    0.001</td> <td>    0.161</td>\n",
       "</tr>\n",
       "<tr>\n",
       "  <th>WE</th>             <td>    0.0425</td> <td>    0.009</td> <td>    4.504</td> <td> 0.000</td> <td>    0.024</td> <td>    0.061</td>\n",
       "</tr>\n",
       "<tr>\n",
       "  <th>KL6</th>            <td>   -0.3405</td> <td>    0.044</td> <td>   -7.738</td> <td> 0.000</td> <td>   -0.427</td> <td>   -0.254</td>\n",
       "</tr>\n",
       "<tr>\n",
       "  <th>K618</th>           <td>   -0.0223</td> <td>    0.016</td> <td>   -1.407</td> <td> 0.160</td> <td>   -0.053</td> <td>    0.009</td>\n",
       "</tr>\n",
       "<tr>\n",
       "  <th>CIT</th>            <td>   -0.0492</td> <td>    0.042</td> <td>   -1.170</td> <td> 0.242</td> <td>   -0.132</td> <td>    0.033</td>\n",
       "</tr>\n",
       "<tr>\n",
       "  <th>UN</th>             <td>   -0.0041</td> <td>    0.006</td> <td>   -0.670</td> <td> 0.503</td> <td>   -0.016</td> <td>    0.008</td>\n",
       "</tr>\n",
       "</table>"
      ],
      "text/latex": [
       "\\begin{center}\n",
       "\\begin{tabular}{lc}\n",
       "\\toprule\n",
       "\\textbf{Dep. Variable:} &      LFP        \\\\\n",
       "\\textbf{Method:}        &      dydx       \\\\\n",
       "\\textbf{At:}            &      mean       \\\\\n",
       "\\bottomrule\n",
       "\\end{tabular}\n",
       "\\begin{tabular}{ccccccc}\n",
       "       \\textbf{}        & \\textbf{dy/dx} & \\textbf{std err} & \\textbf{z} & \\textbf{P$> |$z$|$} & \\textbf{[0.025} & \\textbf{0.975]}  \\\\\n",
       "\\midrule\n",
       "\\bottomrule\n",
       "\\end{tabular}\n",
       "\\begin{tabular}{lcccccc}\n",
       "\\textbf{WA}             &      -0.0149   &        0.003     &    -5.053  &         0.000        &       -0.021    &       -0.009     \\\\\n",
       "\\textbf{np.log(FAMINC)} &       0.0805   &        0.041     &     1.973  &         0.049        &        0.001    &        0.161     \\\\\n",
       "\\textbf{WE}             &       0.0425   &        0.009     &     4.504  &         0.000        &        0.024    &        0.061     \\\\\n",
       "\\textbf{KL6}            &      -0.3405   &        0.044     &    -7.738  &         0.000        &       -0.427    &       -0.254     \\\\\n",
       "\\textbf{K618}           &      -0.0223   &        0.016     &    -1.407  &         0.160        &       -0.053    &        0.009     \\\\\n",
       "\\textbf{CIT}            &      -0.0492   &        0.042     &    -1.170  &         0.242        &       -0.132    &        0.033     \\\\\n",
       "\\textbf{UN}             &      -0.0041   &        0.006     &    -0.670  &         0.503        &       -0.016    &        0.008     \\\\\n",
       "\\bottomrule\n",
       "\\end{tabular}\n",
       "%\\caption{Probit Marginal Effects}\n",
       "\\end{center}"
      ],
      "text/plain": [
       "<class 'statsmodels.iolib.summary.Summary'>\n",
       "\"\"\"\n",
       "       Probit Marginal Effects       \n",
       "=====================================\n",
       "Dep. Variable:                    LFP\n",
       "Method:                          dydx\n",
       "At:                              mean\n",
       "==================================================================================\n",
       "                    dy/dx    std err          z      P>|z|      [0.025      0.975]\n",
       "----------------------------------------------------------------------------------\n",
       "WA                -0.0149      0.003     -5.053      0.000      -0.021      -0.009\n",
       "np.log(FAMINC)     0.0805      0.041      1.973      0.049       0.001       0.161\n",
       "WE                 0.0425      0.009      4.504      0.000       0.024       0.061\n",
       "KL6               -0.3405      0.044     -7.738      0.000      -0.427      -0.254\n",
       "K618              -0.0223      0.016     -1.407      0.160      -0.053       0.009\n",
       "CIT               -0.0492      0.042     -1.170      0.242      -0.132       0.033\n",
       "UN                -0.0041      0.006     -0.670      0.503      -0.016       0.008\n",
       "==================================================================================\n",
       "\"\"\""
      ]
     },
     "execution_count": 6,
     "metadata": {},
     "output_type": "execute_result"
    }
   ],
   "source": [
    "margeff_res= res.get_margeff(at='mean')\n",
    "# вывод результатов\n",
    "margeff_res.summary()\n",
    "# краткий отчёт\n",
    "# margeff_res.summary_frame() "
   ]
  },
  {
   "cell_type": "markdown",
   "metadata": {},
   "source": [
    "### Средние по выборке предельные значения для каждого регрессора в средней точке для probit модели"
   ]
  },
  {
   "cell_type": "code",
   "execution_count": 7,
   "metadata": {},
   "outputs": [
    {
     "data": {
      "text/html": [
       "<table class=\"simpletable\">\n",
       "<caption>Probit Marginal Effects</caption>\n",
       "<tr>\n",
       "  <th>Dep. Variable:</th>   <td>LFP</td>  \n",
       "</tr>\n",
       "<tr>\n",
       "  <th>Method:</th>         <td>dydx</td>  \n",
       "</tr>\n",
       "<tr>\n",
       "  <th>At:</th>            <td>overall</td>\n",
       "</tr>\n",
       "</table>\n",
       "<table class=\"simpletable\">\n",
       "<tr>\n",
       "         <th></th>           <th>dy/dx</th>    <th>std err</th>      <th>z</th>      <th>P>|z|</th>  <th>[0.025</th>    <th>0.975]</th>  \n",
       "</tr>\n",
       "<tr>\n",
       "  <th>WA</th>             <td>   -0.0134</td> <td>    0.003</td> <td>   -5.314</td> <td> 0.000</td> <td>   -0.018</td> <td>   -0.008</td>\n",
       "</tr>\n",
       "<tr>\n",
       "  <th>np.log(FAMINC)</th> <td>    0.0720</td> <td>    0.036</td> <td>    1.987</td> <td> 0.047</td> <td>    0.001</td> <td>    0.143</td>\n",
       "</tr>\n",
       "<tr>\n",
       "  <th>WE</th>             <td>    0.0380</td> <td>    0.008</td> <td>    4.686</td> <td> 0.000</td> <td>    0.022</td> <td>    0.054</td>\n",
       "</tr>\n",
       "<tr>\n",
       "  <th>KL6</th>            <td>   -0.3044</td> <td>    0.035</td> <td>   -8.818</td> <td> 0.000</td> <td>   -0.372</td> <td>   -0.237</td>\n",
       "</tr>\n",
       "<tr>\n",
       "  <th>K618</th>           <td>   -0.0199</td> <td>    0.014</td> <td>   -1.412</td> <td> 0.158</td> <td>   -0.048</td> <td>    0.008</td>\n",
       "</tr>\n",
       "<tr>\n",
       "  <th>CIT</th>            <td>   -0.0440</td> <td>    0.038</td> <td>   -1.173</td> <td> 0.241</td> <td>   -0.118</td> <td>    0.030</td>\n",
       "</tr>\n",
       "<tr>\n",
       "  <th>UN</th>             <td>   -0.0037</td> <td>    0.005</td> <td>   -0.671</td> <td> 0.502</td> <td>   -0.014</td> <td>    0.007</td>\n",
       "</tr>\n",
       "</table>"
      ],
      "text/latex": [
       "\\begin{center}\n",
       "\\begin{tabular}{lc}\n",
       "\\toprule\n",
       "\\textbf{Dep. Variable:} &      LFP        \\\\\n",
       "\\textbf{Method:}        &      dydx       \\\\\n",
       "\\textbf{At:}            &    overall      \\\\\n",
       "\\bottomrule\n",
       "\\end{tabular}\n",
       "\\begin{tabular}{ccccccc}\n",
       "       \\textbf{}        & \\textbf{dy/dx} & \\textbf{std err} & \\textbf{z} & \\textbf{P$> |$z$|$} & \\textbf{[0.025} & \\textbf{0.975]}  \\\\\n",
       "\\midrule\n",
       "\\bottomrule\n",
       "\\end{tabular}\n",
       "\\begin{tabular}{lcccccc}\n",
       "\\textbf{WA}             &      -0.0134   &        0.003     &    -5.314  &         0.000        &       -0.018    &       -0.008     \\\\\n",
       "\\textbf{np.log(FAMINC)} &       0.0720   &        0.036     &     1.987  &         0.047        &        0.001    &        0.143     \\\\\n",
       "\\textbf{WE}             &       0.0380   &        0.008     &     4.686  &         0.000        &        0.022    &        0.054     \\\\\n",
       "\\textbf{KL6}            &      -0.3044   &        0.035     &    -8.818  &         0.000        &       -0.372    &       -0.237     \\\\\n",
       "\\textbf{K618}           &      -0.0199   &        0.014     &    -1.412  &         0.158        &       -0.048    &        0.008     \\\\\n",
       "\\textbf{CIT}            &      -0.0440   &        0.038     &    -1.173  &         0.241        &       -0.118    &        0.030     \\\\\n",
       "\\textbf{UN}             &      -0.0037   &        0.005     &    -0.671  &         0.502        &       -0.014    &        0.007     \\\\\n",
       "\\bottomrule\n",
       "\\end{tabular}\n",
       "%\\caption{Probit Marginal Effects}\n",
       "\\end{center}"
      ],
      "text/plain": [
       "<class 'statsmodels.iolib.summary.Summary'>\n",
       "\"\"\"\n",
       "       Probit Marginal Effects       \n",
       "=====================================\n",
       "Dep. Variable:                    LFP\n",
       "Method:                          dydx\n",
       "At:                           overall\n",
       "==================================================================================\n",
       "                    dy/dx    std err          z      P>|z|      [0.025      0.975]\n",
       "----------------------------------------------------------------------------------\n",
       "WA                -0.0134      0.003     -5.314      0.000      -0.018      -0.008\n",
       "np.log(FAMINC)     0.0720      0.036      1.987      0.047       0.001       0.143\n",
       "WE                 0.0380      0.008      4.686      0.000       0.022       0.054\n",
       "KL6               -0.3044      0.035     -8.818      0.000      -0.372      -0.237\n",
       "K618              -0.0199      0.014     -1.412      0.158      -0.048       0.008\n",
       "CIT               -0.0440      0.038     -1.173      0.241      -0.118       0.030\n",
       "UN                -0.0037      0.005     -0.671      0.502      -0.014       0.007\n",
       "==================================================================================\n",
       "\"\"\""
      ]
     },
     "execution_count": 7,
     "metadata": {},
     "output_type": "execute_result"
    }
   ],
   "source": [
    "margeff_res = res.get_margeff(at='overall')\n",
    "# вывод результатов\n",
    "margeff_res.summary()\n",
    "# краткий отчёт\n",
    "# margeff_res.summary_frame() "
   ]
  }
 ],
 "metadata": {
  "kernelspec": {
   "display_name": "base",
   "language": "python",
   "name": "python3"
  },
  "language_info": {
   "codemirror_mode": {
    "name": "ipython",
    "version": 3
   },
   "file_extension": ".py",
   "mimetype": "text/x-python",
   "name": "python",
   "nbconvert_exporter": "python",
   "pygments_lexer": "ipython3",
   "version": "3.11.5"
  }
 },
 "nbformat": 4,
 "nbformat_minor": 2
}
