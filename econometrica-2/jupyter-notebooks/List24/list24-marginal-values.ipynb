{
 "cells": [
  {
   "cell_type": "markdown",
   "metadata": {},
   "source": [
    "# logit/probit-регрессии: предельные значения"
   ]
  },
  {
   "cell_type": "code",
   "execution_count": 39,
   "metadata": {},
   "outputs": [],
   "source": [
    "import numpy as np\n",
    "import pandas as pd\n",
    "import statsmodels.formula.api as smf\n",
    "from statsmodels.iolib.summary2 import summary_col\n",
    "\n",
    "# Не показывать FutureWarnings\n",
    "import warnings\n",
    "warnings.simplefilter(action='ignore', category=FutureWarning)"
   ]
  },
  {
   "cell_type": "markdown",
   "metadata": {},
   "source": [
    "## labour force equation\n",
    "\n",
    "Для датасета [mroz_Green](http://www.stern.nyu.edu/~wgreene/Text/Edition7/TableF5-1.csv)\n",
    "рассморим регрессию **LFP на WA, log(FAMINC), WE, KL6, K618, CIT, UN**\n",
    "трёх спецификаций:\n",
    "\n",
    "- LPM\n",
    "- logit\n",
    "- probit"
   ]
  },
  {
   "cell_type": "code",
   "execution_count": 40,
   "metadata": {},
   "outputs": [],
   "source": [
    "# подключим датасет mroz_Greene по ссылке \n",
    "df = pd.read_csv('https://raw.githubusercontent.com/artamonoff/econometrica/main/econometrica2/data-csv/TableF5-1.csv', na_values=(' ', '', '  '))\n",
    "#подключим датасет mroz_Greene из локального файла\n",
    "#df = pd.read_csv('TableF5-1.csv', na_values=(' ', '', '  '))"
   ]
  },
  {
   "cell_type": "markdown",
   "metadata": {},
   "source": [
    "## Спецификация и подгонка"
   ]
  },
  {
   "cell_type": "code",
   "execution_count": 41,
   "metadata": {},
   "outputs": [],
   "source": [
    "# LPM \n",
    "res_lpm_hc = smf.ols(formula='LFP~WA+np.log(FAMINC)+WE+KL6+K618+CIT+UN', data=df).fit(cov_type='HC3')"
   ]
  },
  {
   "cell_type": "code",
   "execution_count": 42,
   "metadata": {},
   "outputs": [
    {
     "name": "stdout",
     "output_type": "stream",
     "text": [
      "Optimization terminated successfully.\n",
      "         Current function value: 0.614104\n",
      "         Iterations 5\n"
     ]
    }
   ],
   "source": [
    "# logit\n",
    "res_logit = smf.logit(formula='LFP~WA+np.log(FAMINC)+WE+KL6+K618+CIT+UN', data=df).fit()"
   ]
  },
  {
   "cell_type": "code",
   "execution_count": 43,
   "metadata": {},
   "outputs": [
    {
     "name": "stdout",
     "output_type": "stream",
     "text": [
      "Optimization terminated successfully.\n",
      "         Current function value: 0.614282\n",
      "         Iterations 5\n"
     ]
    }
   ],
   "source": [
    "# probit\n",
    "res_probit = smf.probit(formula='LFP~WA+np.log(FAMINC)+WE+KL6+K618+CIT+UN', data=df).fit()"
   ]
  },
  {
   "cell_type": "code",
   "execution_count": 44,
   "metadata": {},
   "outputs": [
    {
     "name": "stdout",
     "output_type": "stream",
     "text": [
      "\n",
      "================================================\n",
      "                  Robust LPM   logit     probit \n",
      "------------------------------------------------\n",
      "CIT               -0.048     -0.214    -0.126   \n",
      "                  (0.037)    (0.176)   (0.107)  \n",
      "Intercept         0.079      -1.856    -1.108   \n",
      "                  (0.362)    (1.679)   (1.014)  \n",
      "K618              -0.018     -0.095    -0.057   \n",
      "                  (0.014)    (0.067)   (0.040)  \n",
      "KL6               -0.302***  -1.443*** -0.868***\n",
      "                  (0.034)    (0.194)   (0.112)  \n",
      "R-squared         0.130                         \n",
      "R-squared Adj.    0.122                         \n",
      "UN                -0.004     -0.017    -0.011   \n",
      "                  (0.006)    (0.026)   (0.016)  \n",
      "WA                -0.013***  -0.063*** -0.038***\n",
      "                  (0.002)    (0.013)   (0.008)  \n",
      "WE                0.038***   0.179***  0.108*** \n",
      "                  (0.008)    (0.040)   (0.024)  \n",
      "np.log(FAMINC)    0.075**    0.341**   0.205**  \n",
      "                  (0.038)    (0.172)   (0.104)  \n",
      "Observations      753        753       753      \n",
      "Log Likelihood    -487.089   -462.420  -462.554 \n",
      "Akaike Inf. Crit. 990.177    940.840   941.108  \n",
      "================================================\n",
      "Standard errors in parentheses.\n",
      "* p<.1, ** p<.05, ***p<.01\n"
     ]
    }
   ],
   "source": [
    "# Сравнение моделей\n",
    "print(summary_col([res_lpm_hc, res_logit, res_probit], model_names=['Robust LPM', 'logit', 'probit'], float_format=\"%.3f\", stars=True, info_dict = {'Observations': lambda x: '{0:d}'.format(int(x.nobs)), 'Log Likelihood': lambda x: '{:.3f}'.format(x.llf), 'Akaike Inf. Crit.': lambda x: '{:.3f}'.format(x.aic)}))"
   ]
  },
  {
   "cell_type": "markdown",
   "metadata": {},
   "source": [
    "## Предельные значения\n",
    "Для вычисления нужно указать указать параметр `at`:\n",
    "* `mean` для вычисления предельного значения в средней точке\n",
    "* `overall` для вычисления среднего по выборке предельного значения\n",
    "\n",
    "[Документация](https://www.statsmodels.org/dev/generated/statsmodels.discrete.discrete_model.LogitResults.get_margeff.html) "
   ]
  },
  {
   "cell_type": "markdown",
   "metadata": {},
   "source": [
    "### Предельные значения для каждого регрессора в средней точке для logit модели"
   ]
  },
  {
   "cell_type": "code",
   "execution_count": 45,
   "metadata": {},
   "outputs": [
    {
     "data": {
      "text/html": [
       "<table class=\"simpletable\">\n",
       "<caption>Logit Marginal Effects</caption>\n",
       "<tr>\n",
       "  <th>Dep. Variable:</th>  <td>LFP</td>\n",
       "</tr>\n",
       "<tr>\n",
       "  <th>Method:</th>        <td>dydx</td>\n",
       "</tr>\n",
       "<tr>\n",
       "  <th>At:</th>            <td>mean</td>\n",
       "</tr>\n",
       "</table>\n",
       "<table class=\"simpletable\">\n",
       "<tr>\n",
       "         <th></th>           <th>dy/dx</th>    <th>std err</th>      <th>z</th>      <th>P>|z|</th>  <th>[0.025</th>    <th>0.975]</th>  \n",
       "</tr>\n",
       "<tr>\n",
       "  <th>WA</th>             <td>   -0.0154</td> <td>    0.003</td> <td>   -5.006</td> <td> 0.000</td> <td>   -0.021</td> <td>   -0.009</td>\n",
       "</tr>\n",
       "<tr>\n",
       "  <th>np.log(FAMINC)</th> <td>    0.0835</td> <td>    0.042</td> <td>    1.982</td> <td> 0.048</td> <td>    0.001</td> <td>    0.166</td>\n",
       "</tr>\n",
       "<tr>\n",
       "  <th>WE</th>             <td>    0.0439</td> <td>    0.010</td> <td>    4.450</td> <td> 0.000</td> <td>    0.025</td> <td>    0.063</td>\n",
       "</tr>\n",
       "<tr>\n",
       "  <th>KL6</th>            <td>   -0.3527</td> <td>    0.048</td> <td>   -7.395</td> <td> 0.000</td> <td>   -0.446</td> <td>   -0.259</td>\n",
       "</tr>\n",
       "<tr>\n",
       "  <th>K618</th>           <td>   -0.0232</td> <td>    0.016</td> <td>   -1.416</td> <td> 0.157</td> <td>   -0.055</td> <td>    0.009</td>\n",
       "</tr>\n",
       "<tr>\n",
       "  <th>CIT</th>            <td>   -0.0522</td> <td>    0.043</td> <td>   -1.211</td> <td> 0.226</td> <td>   -0.137</td> <td>    0.032</td>\n",
       "</tr>\n",
       "<tr>\n",
       "  <th>UN</th>             <td>   -0.0043</td> <td>    0.006</td> <td>   -0.675</td> <td> 0.500</td> <td>   -0.017</td> <td>    0.008</td>\n",
       "</tr>\n",
       "</table>"
      ],
      "text/latex": [
       "\\begin{center}\n",
       "\\begin{tabular}{lc}\n",
       "\\toprule\n",
       "\\textbf{Dep. Variable:} &      LFP        \\\\\n",
       "\\textbf{Method:}        &      dydx       \\\\\n",
       "\\textbf{At:}            &      mean       \\\\\n",
       "\\bottomrule\n",
       "\\end{tabular}\n",
       "\\begin{tabular}{ccccccc}\n",
       "       \\textbf{}        & \\textbf{dy/dx} & \\textbf{std err} & \\textbf{z} & \\textbf{P$> |$z$|$} & \\textbf{[0.025} & \\textbf{0.975]}  \\\\\n",
       "\\midrule\n",
       "\\bottomrule\n",
       "\\end{tabular}\n",
       "\\begin{tabular}{lcccccc}\n",
       "\\textbf{WA}             &      -0.0154   &        0.003     &    -5.006  &         0.000        &       -0.021    &       -0.009     \\\\\n",
       "\\textbf{np.log(FAMINC)} &       0.0835   &        0.042     &     1.982  &         0.048        &        0.001    &        0.166     \\\\\n",
       "\\textbf{WE}             &       0.0439   &        0.010     &     4.450  &         0.000        &        0.025    &        0.063     \\\\\n",
       "\\textbf{KL6}            &      -0.3527   &        0.048     &    -7.395  &         0.000        &       -0.446    &       -0.259     \\\\\n",
       "\\textbf{K618}           &      -0.0232   &        0.016     &    -1.416  &         0.157        &       -0.055    &        0.009     \\\\\n",
       "\\textbf{CIT}            &      -0.0522   &        0.043     &    -1.211  &         0.226        &       -0.137    &        0.032     \\\\\n",
       "\\textbf{UN}             &      -0.0043   &        0.006     &    -0.675  &         0.500        &       -0.017    &        0.008     \\\\\n",
       "\\bottomrule\n",
       "\\end{tabular}\n",
       "%\\caption{Logit Marginal Effects}\n",
       "\\end{center}"
      ],
      "text/plain": [
       "<class 'statsmodels.iolib.summary.Summary'>\n",
       "\"\"\"\n",
       "        Logit Marginal Effects       \n",
       "=====================================\n",
       "Dep. Variable:                    LFP\n",
       "Method:                          dydx\n",
       "At:                              mean\n",
       "==================================================================================\n",
       "                    dy/dx    std err          z      P>|z|      [0.025      0.975]\n",
       "----------------------------------------------------------------------------------\n",
       "WA                -0.0154      0.003     -5.006      0.000      -0.021      -0.009\n",
       "np.log(FAMINC)     0.0835      0.042      1.982      0.048       0.001       0.166\n",
       "WE                 0.0439      0.010      4.450      0.000       0.025       0.063\n",
       "KL6               -0.3527      0.048     -7.395      0.000      -0.446      -0.259\n",
       "K618              -0.0232      0.016     -1.416      0.157      -0.055       0.009\n",
       "CIT               -0.0522      0.043     -1.211      0.226      -0.137       0.032\n",
       "UN                -0.0043      0.006     -0.675      0.500      -0.017       0.008\n",
       "==================================================================================\n",
       "\"\"\""
      ]
     },
     "execution_count": 45,
     "metadata": {},
     "output_type": "execute_result"
    }
   ],
   "source": [
    "margeff_logit = res_logit.get_margeff(at='mean')\n",
    "# вывод результатов\n",
    "margeff_logit.summary()\n",
    "# краткий отчёт\n",
    "# margeff_logit.summary_frame() "
   ]
  },
  {
   "cell_type": "markdown",
   "metadata": {},
   "source": [
    "### Средние по выборке предельные значения для каждого регрессора в средней точке для logit модели"
   ]
  },
  {
   "cell_type": "code",
   "execution_count": 46,
   "metadata": {},
   "outputs": [
    {
     "data": {
      "text/html": [
       "<table class=\"simpletable\">\n",
       "<caption>Logit Marginal Effects</caption>\n",
       "<tr>\n",
       "  <th>Dep. Variable:</th>   <td>LFP</td>  \n",
       "</tr>\n",
       "<tr>\n",
       "  <th>Method:</th>         <td>dydx</td>  \n",
       "</tr>\n",
       "<tr>\n",
       "  <th>At:</th>            <td>overall</td>\n",
       "</tr>\n",
       "</table>\n",
       "<table class=\"simpletable\">\n",
       "<tr>\n",
       "         <th></th>           <th>dy/dx</th>    <th>std err</th>      <th>z</th>      <th>P>|z|</th>  <th>[0.025</th>    <th>0.975]</th>  \n",
       "</tr>\n",
       "<tr>\n",
       "  <th>WA</th>             <td>   -0.0134</td> <td>    0.003</td> <td>   -5.324</td> <td> 0.000</td> <td>   -0.018</td> <td>   -0.008</td>\n",
       "</tr>\n",
       "<tr>\n",
       "  <th>np.log(FAMINC)</th> <td>    0.0727</td> <td>    0.036</td> <td>    2.001</td> <td> 0.045</td> <td>    0.001</td> <td>    0.144</td>\n",
       "</tr>\n",
       "<tr>\n",
       "  <th>WE</th>             <td>    0.0382</td> <td>    0.008</td> <td>    4.667</td> <td> 0.000</td> <td>    0.022</td> <td>    0.054</td>\n",
       "</tr>\n",
       "<tr>\n",
       "  <th>KL6</th>            <td>   -0.3074</td> <td>    0.036</td> <td>   -8.642</td> <td> 0.000</td> <td>   -0.377</td> <td>   -0.238</td>\n",
       "</tr>\n",
       "<tr>\n",
       "  <th>K618</th>           <td>   -0.0202</td> <td>    0.014</td> <td>   -1.422</td> <td> 0.155</td> <td>   -0.048</td> <td>    0.008</td>\n",
       "</tr>\n",
       "<tr>\n",
       "  <th>CIT</th>            <td>   -0.0455</td> <td>    0.037</td> <td>   -1.215</td> <td> 0.224</td> <td>   -0.119</td> <td>    0.028</td>\n",
       "</tr>\n",
       "<tr>\n",
       "  <th>UN</th>             <td>   -0.0037</td> <td>    0.005</td> <td>   -0.676</td> <td> 0.499</td> <td>   -0.014</td> <td>    0.007</td>\n",
       "</tr>\n",
       "</table>"
      ],
      "text/latex": [
       "\\begin{center}\n",
       "\\begin{tabular}{lc}\n",
       "\\toprule\n",
       "\\textbf{Dep. Variable:} &      LFP        \\\\\n",
       "\\textbf{Method:}        &      dydx       \\\\\n",
       "\\textbf{At:}            &    overall      \\\\\n",
       "\\bottomrule\n",
       "\\end{tabular}\n",
       "\\begin{tabular}{ccccccc}\n",
       "       \\textbf{}        & \\textbf{dy/dx} & \\textbf{std err} & \\textbf{z} & \\textbf{P$> |$z$|$} & \\textbf{[0.025} & \\textbf{0.975]}  \\\\\n",
       "\\midrule\n",
       "\\bottomrule\n",
       "\\end{tabular}\n",
       "\\begin{tabular}{lcccccc}\n",
       "\\textbf{WA}             &      -0.0134   &        0.003     &    -5.324  &         0.000        &       -0.018    &       -0.008     \\\\\n",
       "\\textbf{np.log(FAMINC)} &       0.0727   &        0.036     &     2.001  &         0.045        &        0.001    &        0.144     \\\\\n",
       "\\textbf{WE}             &       0.0382   &        0.008     &     4.667  &         0.000        &        0.022    &        0.054     \\\\\n",
       "\\textbf{KL6}            &      -0.3074   &        0.036     &    -8.642  &         0.000        &       -0.377    &       -0.238     \\\\\n",
       "\\textbf{K618}           &      -0.0202   &        0.014     &    -1.422  &         0.155        &       -0.048    &        0.008     \\\\\n",
       "\\textbf{CIT}            &      -0.0455   &        0.037     &    -1.215  &         0.224        &       -0.119    &        0.028     \\\\\n",
       "\\textbf{UN}             &      -0.0037   &        0.005     &    -0.676  &         0.499        &       -0.014    &        0.007     \\\\\n",
       "\\bottomrule\n",
       "\\end{tabular}\n",
       "%\\caption{Logit Marginal Effects}\n",
       "\\end{center}"
      ],
      "text/plain": [
       "<class 'statsmodels.iolib.summary.Summary'>\n",
       "\"\"\"\n",
       "        Logit Marginal Effects       \n",
       "=====================================\n",
       "Dep. Variable:                    LFP\n",
       "Method:                          dydx\n",
       "At:                           overall\n",
       "==================================================================================\n",
       "                    dy/dx    std err          z      P>|z|      [0.025      0.975]\n",
       "----------------------------------------------------------------------------------\n",
       "WA                -0.0134      0.003     -5.324      0.000      -0.018      -0.008\n",
       "np.log(FAMINC)     0.0727      0.036      2.001      0.045       0.001       0.144\n",
       "WE                 0.0382      0.008      4.667      0.000       0.022       0.054\n",
       "KL6               -0.3074      0.036     -8.642      0.000      -0.377      -0.238\n",
       "K618              -0.0202      0.014     -1.422      0.155      -0.048       0.008\n",
       "CIT               -0.0455      0.037     -1.215      0.224      -0.119       0.028\n",
       "UN                -0.0037      0.005     -0.676      0.499      -0.014       0.007\n",
       "==================================================================================\n",
       "\"\"\""
      ]
     },
     "execution_count": 46,
     "metadata": {},
     "output_type": "execute_result"
    }
   ],
   "source": [
    "margeff_logit = res_logit.get_margeff(at='overall')\n",
    "# вывод результатов\n",
    "margeff_logit.summary()\n",
    "# краткий отчёт\n",
    "# margeff_logit.summary_frame() "
   ]
  },
  {
   "cell_type": "markdown",
   "metadata": {},
   "source": [
    "### Предельные значения для каждого регрессора в средней точке для logit модели"
   ]
  },
  {
   "cell_type": "code",
   "execution_count": 47,
   "metadata": {},
   "outputs": [
    {
     "data": {
      "text/html": [
       "<table class=\"simpletable\">\n",
       "<caption>Probit Marginal Effects</caption>\n",
       "<tr>\n",
       "  <th>Dep. Variable:</th>  <td>LFP</td>\n",
       "</tr>\n",
       "<tr>\n",
       "  <th>Method:</th>        <td>dydx</td>\n",
       "</tr>\n",
       "<tr>\n",
       "  <th>At:</th>            <td>mean</td>\n",
       "</tr>\n",
       "</table>\n",
       "<table class=\"simpletable\">\n",
       "<tr>\n",
       "         <th></th>           <th>dy/dx</th>    <th>std err</th>      <th>z</th>      <th>P>|z|</th>  <th>[0.025</th>    <th>0.975]</th>  \n",
       "</tr>\n",
       "<tr>\n",
       "  <th>WA</th>             <td>   -0.0149</td> <td>    0.003</td> <td>   -5.053</td> <td> 0.000</td> <td>   -0.021</td> <td>   -0.009</td>\n",
       "</tr>\n",
       "<tr>\n",
       "  <th>np.log(FAMINC)</th> <td>    0.0805</td> <td>    0.041</td> <td>    1.973</td> <td> 0.049</td> <td>    0.001</td> <td>    0.161</td>\n",
       "</tr>\n",
       "<tr>\n",
       "  <th>WE</th>             <td>    0.0425</td> <td>    0.009</td> <td>    4.504</td> <td> 0.000</td> <td>    0.024</td> <td>    0.061</td>\n",
       "</tr>\n",
       "<tr>\n",
       "  <th>KL6</th>            <td>   -0.3405</td> <td>    0.044</td> <td>   -7.738</td> <td> 0.000</td> <td>   -0.427</td> <td>   -0.254</td>\n",
       "</tr>\n",
       "<tr>\n",
       "  <th>K618</th>           <td>   -0.0223</td> <td>    0.016</td> <td>   -1.407</td> <td> 0.160</td> <td>   -0.053</td> <td>    0.009</td>\n",
       "</tr>\n",
       "<tr>\n",
       "  <th>CIT</th>            <td>   -0.0492</td> <td>    0.042</td> <td>   -1.170</td> <td> 0.242</td> <td>   -0.132</td> <td>    0.033</td>\n",
       "</tr>\n",
       "<tr>\n",
       "  <th>UN</th>             <td>   -0.0041</td> <td>    0.006</td> <td>   -0.670</td> <td> 0.503</td> <td>   -0.016</td> <td>    0.008</td>\n",
       "</tr>\n",
       "</table>"
      ],
      "text/latex": [
       "\\begin{center}\n",
       "\\begin{tabular}{lc}\n",
       "\\toprule\n",
       "\\textbf{Dep. Variable:} &      LFP        \\\\\n",
       "\\textbf{Method:}        &      dydx       \\\\\n",
       "\\textbf{At:}            &      mean       \\\\\n",
       "\\bottomrule\n",
       "\\end{tabular}\n",
       "\\begin{tabular}{ccccccc}\n",
       "       \\textbf{}        & \\textbf{dy/dx} & \\textbf{std err} & \\textbf{z} & \\textbf{P$> |$z$|$} & \\textbf{[0.025} & \\textbf{0.975]}  \\\\\n",
       "\\midrule\n",
       "\\bottomrule\n",
       "\\end{tabular}\n",
       "\\begin{tabular}{lcccccc}\n",
       "\\textbf{WA}             &      -0.0149   &        0.003     &    -5.053  &         0.000        &       -0.021    &       -0.009     \\\\\n",
       "\\textbf{np.log(FAMINC)} &       0.0805   &        0.041     &     1.973  &         0.049        &        0.001    &        0.161     \\\\\n",
       "\\textbf{WE}             &       0.0425   &        0.009     &     4.504  &         0.000        &        0.024    &        0.061     \\\\\n",
       "\\textbf{KL6}            &      -0.3405   &        0.044     &    -7.738  &         0.000        &       -0.427    &       -0.254     \\\\\n",
       "\\textbf{K618}           &      -0.0223   &        0.016     &    -1.407  &         0.160        &       -0.053    &        0.009     \\\\\n",
       "\\textbf{CIT}            &      -0.0492   &        0.042     &    -1.170  &         0.242        &       -0.132    &        0.033     \\\\\n",
       "\\textbf{UN}             &      -0.0041   &        0.006     &    -0.670  &         0.503        &       -0.016    &        0.008     \\\\\n",
       "\\bottomrule\n",
       "\\end{tabular}\n",
       "%\\caption{Probit Marginal Effects}\n",
       "\\end{center}"
      ],
      "text/plain": [
       "<class 'statsmodels.iolib.summary.Summary'>\n",
       "\"\"\"\n",
       "       Probit Marginal Effects       \n",
       "=====================================\n",
       "Dep. Variable:                    LFP\n",
       "Method:                          dydx\n",
       "At:                              mean\n",
       "==================================================================================\n",
       "                    dy/dx    std err          z      P>|z|      [0.025      0.975]\n",
       "----------------------------------------------------------------------------------\n",
       "WA                -0.0149      0.003     -5.053      0.000      -0.021      -0.009\n",
       "np.log(FAMINC)     0.0805      0.041      1.973      0.049       0.001       0.161\n",
       "WE                 0.0425      0.009      4.504      0.000       0.024       0.061\n",
       "KL6               -0.3405      0.044     -7.738      0.000      -0.427      -0.254\n",
       "K618              -0.0223      0.016     -1.407      0.160      -0.053       0.009\n",
       "CIT               -0.0492      0.042     -1.170      0.242      -0.132       0.033\n",
       "UN                -0.0041      0.006     -0.670      0.503      -0.016       0.008\n",
       "==================================================================================\n",
       "\"\"\""
      ]
     },
     "execution_count": 47,
     "metadata": {},
     "output_type": "execute_result"
    }
   ],
   "source": [
    "margeff_probit = res_probit.get_margeff(at='mean')\n",
    "# вывод результатов\n",
    "margeff_probit.summary()\n",
    "# краткий отчёт\n",
    "# margeff_probit.summary_frame() "
   ]
  },
  {
   "cell_type": "markdown",
   "metadata": {},
   "source": [
    "### Средние по выборке предельные значения для каждого регрессора в средней точке для probit модели"
   ]
  },
  {
   "cell_type": "code",
   "execution_count": 48,
   "metadata": {},
   "outputs": [
    {
     "data": {
      "text/html": [
       "<table class=\"simpletable\">\n",
       "<caption>Probit Marginal Effects</caption>\n",
       "<tr>\n",
       "  <th>Dep. Variable:</th>   <td>LFP</td>  \n",
       "</tr>\n",
       "<tr>\n",
       "  <th>Method:</th>         <td>dydx</td>  \n",
       "</tr>\n",
       "<tr>\n",
       "  <th>At:</th>            <td>overall</td>\n",
       "</tr>\n",
       "</table>\n",
       "<table class=\"simpletable\">\n",
       "<tr>\n",
       "         <th></th>           <th>dy/dx</th>    <th>std err</th>      <th>z</th>      <th>P>|z|</th>  <th>[0.025</th>    <th>0.975]</th>  \n",
       "</tr>\n",
       "<tr>\n",
       "  <th>WA</th>             <td>   -0.0134</td> <td>    0.003</td> <td>   -5.314</td> <td> 0.000</td> <td>   -0.018</td> <td>   -0.008</td>\n",
       "</tr>\n",
       "<tr>\n",
       "  <th>np.log(FAMINC)</th> <td>    0.0720</td> <td>    0.036</td> <td>    1.987</td> <td> 0.047</td> <td>    0.001</td> <td>    0.143</td>\n",
       "</tr>\n",
       "<tr>\n",
       "  <th>WE</th>             <td>    0.0380</td> <td>    0.008</td> <td>    4.686</td> <td> 0.000</td> <td>    0.022</td> <td>    0.054</td>\n",
       "</tr>\n",
       "<tr>\n",
       "  <th>KL6</th>            <td>   -0.3044</td> <td>    0.035</td> <td>   -8.818</td> <td> 0.000</td> <td>   -0.372</td> <td>   -0.237</td>\n",
       "</tr>\n",
       "<tr>\n",
       "  <th>K618</th>           <td>   -0.0199</td> <td>    0.014</td> <td>   -1.412</td> <td> 0.158</td> <td>   -0.048</td> <td>    0.008</td>\n",
       "</tr>\n",
       "<tr>\n",
       "  <th>CIT</th>            <td>   -0.0440</td> <td>    0.038</td> <td>   -1.173</td> <td> 0.241</td> <td>   -0.118</td> <td>    0.030</td>\n",
       "</tr>\n",
       "<tr>\n",
       "  <th>UN</th>             <td>   -0.0037</td> <td>    0.005</td> <td>   -0.671</td> <td> 0.502</td> <td>   -0.014</td> <td>    0.007</td>\n",
       "</tr>\n",
       "</table>"
      ],
      "text/latex": [
       "\\begin{center}\n",
       "\\begin{tabular}{lc}\n",
       "\\toprule\n",
       "\\textbf{Dep. Variable:} &      LFP        \\\\\n",
       "\\textbf{Method:}        &      dydx       \\\\\n",
       "\\textbf{At:}            &    overall      \\\\\n",
       "\\bottomrule\n",
       "\\end{tabular}\n",
       "\\begin{tabular}{ccccccc}\n",
       "       \\textbf{}        & \\textbf{dy/dx} & \\textbf{std err} & \\textbf{z} & \\textbf{P$> |$z$|$} & \\textbf{[0.025} & \\textbf{0.975]}  \\\\\n",
       "\\midrule\n",
       "\\bottomrule\n",
       "\\end{tabular}\n",
       "\\begin{tabular}{lcccccc}\n",
       "\\textbf{WA}             &      -0.0134   &        0.003     &    -5.314  &         0.000        &       -0.018    &       -0.008     \\\\\n",
       "\\textbf{np.log(FAMINC)} &       0.0720   &        0.036     &     1.987  &         0.047        &        0.001    &        0.143     \\\\\n",
       "\\textbf{WE}             &       0.0380   &        0.008     &     4.686  &         0.000        &        0.022    &        0.054     \\\\\n",
       "\\textbf{KL6}            &      -0.3044   &        0.035     &    -8.818  &         0.000        &       -0.372    &       -0.237     \\\\\n",
       "\\textbf{K618}           &      -0.0199   &        0.014     &    -1.412  &         0.158        &       -0.048    &        0.008     \\\\\n",
       "\\textbf{CIT}            &      -0.0440   &        0.038     &    -1.173  &         0.241        &       -0.118    &        0.030     \\\\\n",
       "\\textbf{UN}             &      -0.0037   &        0.005     &    -0.671  &         0.502        &       -0.014    &        0.007     \\\\\n",
       "\\bottomrule\n",
       "\\end{tabular}\n",
       "%\\caption{Probit Marginal Effects}\n",
       "\\end{center}"
      ],
      "text/plain": [
       "<class 'statsmodels.iolib.summary.Summary'>\n",
       "\"\"\"\n",
       "       Probit Marginal Effects       \n",
       "=====================================\n",
       "Dep. Variable:                    LFP\n",
       "Method:                          dydx\n",
       "At:                           overall\n",
       "==================================================================================\n",
       "                    dy/dx    std err          z      P>|z|      [0.025      0.975]\n",
       "----------------------------------------------------------------------------------\n",
       "WA                -0.0134      0.003     -5.314      0.000      -0.018      -0.008\n",
       "np.log(FAMINC)     0.0720      0.036      1.987      0.047       0.001       0.143\n",
       "WE                 0.0380      0.008      4.686      0.000       0.022       0.054\n",
       "KL6               -0.3044      0.035     -8.818      0.000      -0.372      -0.237\n",
       "K618              -0.0199      0.014     -1.412      0.158      -0.048       0.008\n",
       "CIT               -0.0440      0.038     -1.173      0.241      -0.118       0.030\n",
       "UN                -0.0037      0.005     -0.671      0.502      -0.014       0.007\n",
       "==================================================================================\n",
       "\"\"\""
      ]
     },
     "execution_count": 48,
     "metadata": {},
     "output_type": "execute_result"
    }
   ],
   "source": [
    "margeff_probit = res_probit.get_margeff(at='overall')\n",
    "# вывод результатов\n",
    "margeff_probit.summary()\n",
    "# краткий отчёт\n",
    "# margeff_probit.summary_frame() "
   ]
  },
  {
   "cell_type": "code",
   "execution_count": null,
   "metadata": {},
   "outputs": [],
   "source": []
  }
 ],
 "metadata": {
  "kernelspec": {
   "display_name": "base",
   "language": "python",
   "name": "python3"
  },
  "language_info": {
   "codemirror_mode": {
    "name": "ipython",
    "version": 3
   },
   "file_extension": ".py",
   "mimetype": "text/x-python",
   "name": "python",
   "nbconvert_exporter": "python",
   "pygments_lexer": "ipython3",
   "version": "3.11.5"
  }
 },
 "nbformat": 4,
 "nbformat_minor": 2
}
