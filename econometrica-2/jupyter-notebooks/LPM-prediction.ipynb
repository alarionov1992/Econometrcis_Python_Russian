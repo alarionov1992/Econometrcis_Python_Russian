{
 "cells": [
  {
   "cell_type": "markdown",
   "id": "5a4ddfca-03d4-4e67-b7ea-9eb414aa7e03",
   "metadata": {},
   "source": [
    "# LPM-модель: прогнозирование"
   ]
  },
  {
   "cell_type": "code",
   "execution_count": 1,
   "id": "e43a40dd-fb05-4d0a-a893-fa5656fa19ae",
   "metadata": {
    "tags": []
   },
   "outputs": [],
   "source": [
    "import numpy as np\n",
    "import pandas as pd\n",
    "import statsmodels.formula.api as smf\n",
    "\n",
    "# Не показывать FutureWarnings\n",
    "import warnings\n",
    "warnings.simplefilter(action='ignore', category=FutureWarning)"
   ]
  },
  {
   "cell_type": "code",
   "execution_count": 2,
   "id": "ae808882-2efe-4f19-8f67-d69b621a570c",
   "metadata": {
    "tags": []
   },
   "outputs": [],
   "source": [
    "# импорт датасета\n",
    "df = pd.read_csv('loanapp.csv')"
   ]
  },
  {
   "cell_type": "markdown",
   "id": "ff927663-cd97-401b-a153-28bfc8e2701d",
   "metadata": {},
   "source": [
    "## Модель\n",
    "Для датасета `loanapp` рассморим регрессию **approve на mortno, unem, dep, married**"
   ]
  },
  {
   "cell_type": "code",
   "execution_count": 3,
   "id": "182ac7ec-fb52-4285-8b33-a5170ab4c8ef",
   "metadata": {
    "tags": []
   },
   "outputs": [],
   "source": [
    "mod = smf.ols(formula='approve~mortno+unem+dep+married', data=df)\n",
    "res = mod.fit(cov_type='HC3')"
   ]
  },
  {
   "cell_type": "markdown",
   "id": "5a9dcd0f-3703-4868-afad-bea1fe53807f",
   "metadata": {},
   "source": [
    "## Прогноз"
   ]
  },
  {
   "cell_type": "code",
   "execution_count": 7,
   "id": "2abfc773-a537-45a3-9848-ea1ee6c8b0f6",
   "metadata": {
    "tags": []
   },
   "outputs": [
    {
     "data": {
      "text/html": [
       "<div>\n",
       "<style scoped>\n",
       "    .dataframe tbody tr th:only-of-type {\n",
       "        vertical-align: middle;\n",
       "    }\n",
       "\n",
       "    .dataframe tbody tr th {\n",
       "        vertical-align: top;\n",
       "    }\n",
       "\n",
       "    .dataframe thead th {\n",
       "        text-align: right;\n",
       "    }\n",
       "</style>\n",
       "<table border=\"1\" class=\"dataframe\">\n",
       "  <thead>\n",
       "    <tr style=\"text-align: right;\">\n",
       "      <th></th>\n",
       "      <th>mortno</th>\n",
       "      <th>unem</th>\n",
       "      <th>dep</th>\n",
       "      <th>married</th>\n",
       "    </tr>\n",
       "  </thead>\n",
       "  <tbody>\n",
       "    <tr>\n",
       "      <th>0</th>\n",
       "      <td>1</td>\n",
       "      <td>3.2</td>\n",
       "      <td>0</td>\n",
       "      <td>1</td>\n",
       "    </tr>\n",
       "    <tr>\n",
       "      <th>1</th>\n",
       "      <td>1</td>\n",
       "      <td>3.9</td>\n",
       "      <td>1</td>\n",
       "      <td>0</td>\n",
       "    </tr>\n",
       "    <tr>\n",
       "      <th>2</th>\n",
       "      <td>0</td>\n",
       "      <td>1.8</td>\n",
       "      <td>0</td>\n",
       "      <td>1</td>\n",
       "    </tr>\n",
       "  </tbody>\n",
       "</table>\n",
       "</div>"
      ],
      "text/plain": [
       "   mortno  unem  dep  married\n",
       "0       1   3.2    0        1\n",
       "1       1   3.9    1        0\n",
       "2       0   1.8    0        1"
      ]
     },
     "execution_count": 7,
     "metadata": {},
     "output_type": "execute_result"
    }
   ],
   "source": [
    "# Создадим датафрейм с новыми данными регрессоров для прогноза\n",
    "new_data = pd.DataFrame({'mortno': [1, 1, 0], 'unem': [3.2, 3.9, 1.8], \n",
    "                         'dep': [0, 1, 0], 'married': [1, 0, 1] })\n",
    "new_data"
   ]
  },
  {
   "cell_type": "code",
   "execution_count": 9,
   "id": "dab1fe71-326f-4ab7-8f87-406c4729a6e1",
   "metadata": {
    "tags": []
   },
   "outputs": [
    {
     "data": {
      "text/plain": [
       "0    0.959350\n",
       "1    0.889702\n",
       "2    0.899294\n",
       "dtype: float64"
      ]
     },
     "execution_count": 9,
     "metadata": {},
     "output_type": "execute_result"
    }
   ],
   "source": [
    "# Прогноз\n",
    "res.predict(exog=new_data, transform=True)"
   ]
  },
  {
   "cell_type": "markdown",
   "id": "a5edce36-4e91-4014-9188-e2848501e826",
   "metadata": {},
   "source": [
    "**Интерпретация**: вероятность \"положительного исхода\" (одобрения кредита)"
   ]
  }
 ],
 "metadata": {
  "kernelspec": {
   "display_name": "Python 3 (ipykernel)",
   "language": "python",
   "name": "python3"
  },
  "language_info": {
   "codemirror_mode": {
    "name": "ipython",
    "version": 3
   },
   "file_extension": ".py",
   "mimetype": "text/x-python",
   "name": "python",
   "nbconvert_exporter": "python",
   "pygments_lexer": "ipython3",
   "version": "3.11.6"
  }
 },
 "nbformat": 4,
 "nbformat_minor": 5
}
