{
 "cells": [
  {
   "cell_type": "markdown",
   "metadata": {},
   "source": [
    "# F-тест: Совместная значимость\n",
    "\n",
    "Тестируется гипотеза $H_0:\\beta_1=\\cdots=\\beta_J=0$\n",
    "\n",
    "Тестовая статистика $F$ (расчитывается автоматически)\n",
    "\n",
    "Критическое значение $F_{cr}=F_{df1=J, df2=n-k-1}(\\alpha)$\n",
    "\n",
    "Гипотеза отвергается если $F>F_{cr}$ или $P<\\alpha$"
   ]
  },
  {
   "cell_type": "markdown",
   "metadata": {},
   "source": [
    "# LPM-модель: F-тест на совместную значимость"
   ]
  },
  {
   "cell_type": "code",
   "execution_count": 14,
   "metadata": {},
   "outputs": [],
   "source": [
    "import numpy as np\n",
    "import pandas as pd\n",
    "import statsmodels.formula.api as smf\n",
    "from statsmodels.iolib.summary2 import summary_col, summary_params # вывод результатов тестирования\n",
    "from scipy.stats import f # F-распределение"
   ]
  },
  {
   "cell_type": "markdown",
   "metadata": {},
   "source": [
    "## approve equation #1\n",
    "\n",
    "Для датасета `loanapp` рассморим регрессию **approve на appinc, appinc^2, mortno, unem, dep, male, married, yjob, self**"
   ]
  },
  {
   "cell_type": "code",
   "execution_count": 15,
   "metadata": {},
   "outputs": [],
   "source": [
    "# загрузим данные\n",
    "loanapp_df = pd.read_csv('https://raw.githubusercontent.com/artamonoff/econometrica/main/econometrica2/data-csv/loanapp.csv', na_values=(' ', '', '  '))"
   ]
  },
  {
   "cell_type": "code",
   "execution_count": 16,
   "metadata": {},
   "outputs": [],
   "source": [
    "#зададим спецификацию модели через формулу\n",
    "mod_lpm = smf.ols(formula='approve~appinc+I(appinc**2)+mortno+unem+dep+male+married+yjob+self', data=loanapp_df)"
   ]
  },
  {
   "cell_type": "code",
   "execution_count": 17,
   "metadata": {},
   "outputs": [
    {
     "name": "stdout",
     "output_type": "stream",
     "text": [
      "                            OLS Regression Results                            \n",
      "==============================================================================\n",
      "Dep. Variable:                approve   R-squared:                       0.025\n",
      "Model:                            OLS   Adj. R-squared:                  0.021\n",
      "No. Observations:                1971   F-statistic:                     5.032\n",
      "Covariance Type:                  HC3   Prob (F-statistic):           9.81e-07\n",
      "==================================================================================\n",
      "                     coef    std err          z      P>|z|      [0.025      0.975]\n",
      "----------------------------------------------------------------------------------\n",
      "Intercept          0.8420      0.027     31.003      0.000       0.789       0.895\n",
      "appinc             0.0005      0.000      1.958      0.050   -4.48e-07       0.001\n",
      "I(appinc ** 2) -1.007e-06   4.24e-07     -2.374      0.018   -1.84e-06   -1.76e-07\n",
      "mortno             0.0660      0.015      4.321      0.000       0.036       0.096\n",
      "unem              -0.0061      0.004     -1.515      0.130      -0.014       0.002\n",
      "dep               -0.0171      0.007     -2.280      0.023      -0.032      -0.002\n",
      "male              -0.0029      0.021     -0.135      0.893      -0.045       0.039\n",
      "married            0.0433      0.019      2.309      0.021       0.007       0.080\n",
      "yjob              -0.0009      0.006     -0.140      0.889      -0.013       0.011\n",
      "self              -0.0404      0.025     -1.602      0.109      -0.090       0.009\n",
      "==================================================================================\n",
      "\n",
      "Notes:\n",
      "[1] Standard Errors are heteroscedasticity robust (HC3)\n",
      "[2] The condition number is large, 2.29e+05. This might indicate that there are\n",
      "strong multicollinearity or other numerical problems.\n"
     ]
    }
   ],
   "source": [
    "# подгонка модели с поправкой на гетероскедастичность\n",
    "res_lpm_hc = mod_lpm.fit(cov_type='HC3')\n",
    "print(res_lpm_hc.summary(slim=True))"
   ]
  },
  {
   "cell_type": "markdown",
   "metadata": {},
   "source": [
    "## Гипотеза 1"
   ]
  },
  {
   "cell_type": "markdown",
   "metadata": {},
   "source": [
    "### Тестируем значимость влияния дохода, т.е. гипотезу $$H_0:\\beta_{appinc}=\\beta_{appinc^2}=0$$\n",
    "\n",
    "### Степени свободы для нахождения критического значения: df1=2, df2=n-k-1"
   ]
  },
  {
   "cell_type": "code",
   "execution_count": 18,
   "metadata": {},
   "outputs": [],
   "source": [
    "# зададим уровень значимости\n",
    "alpha = 0.05"
   ]
  },
  {
   "cell_type": "code",
   "execution_count": 19,
   "metadata": {},
   "outputs": [
    {
     "data": {
      "text/plain": [
       "3.0"
      ]
     },
     "execution_count": 19,
     "metadata": {},
     "output_type": "execute_result"
    }
   ],
   "source": [
    "# 5%-критическое значение F-распределения\n",
    "f.ppf(q=1-alpha, dfn=2, dfd=res_lpm_hc.df_resid).round(3)"
   ]
  },
  {
   "cell_type": "markdown",
   "metadata": {},
   "source": [
    "## Результаты робастного F-теста"
   ]
  },
  {
   "cell_type": "markdown",
   "metadata": {},
   "source": [
    "### Первый способ: через спецификацию гипотезы"
   ]
  },
  {
   "cell_type": "code",
   "execution_count": 20,
   "metadata": {},
   "outputs": [
    {
     "name": "stdout",
     "output_type": "stream",
     "text": [
      "<F test: F=2.960755420317824, p=0.05201130430276352, df_denom=1.96e+03, df_num=2>\n"
     ]
    }
   ],
   "source": [
    "# тестовая статистика, P-значение и степени свободы\n",
    "print(res_lpm_hc.f_test('appinc=I(appinc ** 2)=0'))"
   ]
  },
  {
   "cell_type": "code",
   "execution_count": 21,
   "metadata": {},
   "outputs": [
    {
     "name": "stdout",
     "output_type": "stream",
     "text": [
      "<F test: F=array([[2.96075542]]), p=0.05201130430276352, df_denom=1.96e+03, df_num=2>\n"
     ]
    },
    {
     "name": "stderr",
     "output_type": "stream",
     "text": [
      "/opt/homebrew/Caskroom/miniconda/base/lib/python3.11/site-packages/statsmodels/base/model.py:1906: FutureWarning: The behavior of wald_test will change after 0.14 to returning scalar test statistic values. To get the future behavior now, set scalar to True. To silence this message while retaining the legacy behavior, set scalar to False.\n",
      "  warnings.warn(\n"
     ]
    }
   ],
   "source": [
    "# тестовая статистика, P-значение и степени свободы\n",
    "print(res_lpm_hc.wald_test('appinc=I(appinc ** 2)=0', use_f=True))"
   ]
  },
  {
   "cell_type": "markdown",
   "metadata": {},
   "source": [
    "### Второй способ: через вспомогательную регрессию с ограничениями \n",
    "### `(не работает в случае робастной оценки ковариационной матрицы)`"
   ]
  },
  {
   "cell_type": "code",
   "execution_count": 22,
   "metadata": {},
   "outputs": [],
   "source": [
    "# подгонка вспомогательной модели\n",
    "restr1_hc = smf.ols(formula='approve~mortno+unem+dep+male+married+yjob+self', data=loanapp_df).fit(cov_type='HC3')"
   ]
  },
  {
   "cell_type": "code",
   "execution_count": 23,
   "metadata": {},
   "outputs": [
    {
     "name": "stderr",
     "output_type": "stream",
     "text": [
      "/opt/homebrew/Caskroom/miniconda/base/lib/python3.11/site-packages/statsmodels/regression/linear_model.py:2273: InvalidTestWarning: F test for comparison is likely invalid with robust covariance, proceeding anyway\n",
      "  warnings.warn('F test for comparison is likely invalid with ' +\n"
     ]
    },
    {
     "data": {
      "text/plain": [
       "(5.148746797768447, 0.005885429662337571, 2.0)"
      ]
     },
     "execution_count": 23,
     "metadata": {},
     "output_type": "execute_result"
    }
   ],
   "source": [
    "# тестовая статистика, P-значение и число ограничений\n",
    "res_lpm_hc.compare_f_test(restr1_hc)"
   ]
  },
  {
   "cell_type": "markdown",
   "metadata": {},
   "source": [
    "## Результаты неробастного F-теста"
   ]
  },
  {
   "cell_type": "markdown",
   "metadata": {},
   "source": [
    "### Первый способ: через спецификацию гипотезы"
   ]
  },
  {
   "cell_type": "code",
   "execution_count": 24,
   "metadata": {},
   "outputs": [
    {
     "name": "stdout",
     "output_type": "stream",
     "text": [
      "<F test: F=5.148746799299675, p=0.005885429653372957, df_denom=1.96e+03, df_num=2>\n"
     ]
    }
   ],
   "source": [
    "# подгонка модели\n",
    "res_lpm_ols = mod_lpm.fit(cov_type='nonrobust')\n",
    "# тестовая статистика, P-значение и степени свободы\n",
    "print(res_lpm_ols.f_test('appinc=I(appinc ** 2)=0'))"
   ]
  },
  {
   "cell_type": "markdown",
   "metadata": {},
   "source": [
    "### Второй способ: через вспомогательную регрессию с ограничениями"
   ]
  },
  {
   "cell_type": "code",
   "execution_count": 25,
   "metadata": {},
   "outputs": [
    {
     "data": {
      "text/plain": [
       "(5.148746797768447, 0.005885429662337571, 2.0)"
      ]
     },
     "execution_count": 25,
     "metadata": {},
     "output_type": "execute_result"
    }
   ],
   "source": [
    "# подгонка вспомогательной модели\n",
    "restr1_ols = smf.ols(formula='approve~mortno+unem+dep+male+married+yjob+self', data=loanapp_df).fit(cov_type='nonrobust')\n",
    "# тестовая статистика, P-значение и число ограничений\n",
    "res_lpm_ols.compare_f_test(restr1_ols)"
   ]
  },
  {
   "cell_type": "markdown",
   "metadata": {},
   "source": [
    "## **Вывод:** Гипотеза 1 не отвергается!"
   ]
  }
 ],
 "metadata": {
  "kernelspec": {
   "display_name": "base",
   "language": "python",
   "name": "python3"
  },
  "language_info": {
   "codemirror_mode": {
    "name": "ipython",
    "version": 3
   },
   "file_extension": ".py",
   "mimetype": "text/x-python",
   "name": "python",
   "nbconvert_exporter": "python",
   "pygments_lexer": "ipython3",
   "version": "3.11.5"
  }
 },
 "nbformat": 4,
 "nbformat_minor": 2
}
