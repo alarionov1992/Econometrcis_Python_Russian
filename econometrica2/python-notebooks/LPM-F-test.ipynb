{
 "cells": [
  {
   "cell_type": "markdown",
   "id": "401ad541-7395-4bdf-8390-e384c3a40646",
   "metadata": {},
   "source": [
    "# LPM-модель: F-тест"
   ]
  },
  {
   "cell_type": "code",
   "execution_count": 1,
   "id": "03476088-7b01-4637-adaa-505cf4953939",
   "metadata": {
    "tags": []
   },
   "outputs": [],
   "source": [
    "import numpy as np\n",
    "import pandas as pd\n",
    "import statsmodels.formula.api as smf\n",
    "\n",
    "from scipy.stats import f # критические значения F-распределения\n",
    "\n",
    "# Не показывать FutureWarnings\n",
    "import warnings\n",
    "warnings.simplefilter(action='ignore', category=FutureWarning)"
   ]
  },
  {
   "cell_type": "code",
   "execution_count": 2,
   "id": "8a432989-b03e-407d-a822-2a0436388b12",
   "metadata": {
    "tags": []
   },
   "outputs": [
    {
     "data": {
      "text/html": [
       "<div>\n",
       "<style scoped>\n",
       "    .dataframe tbody tr th:only-of-type {\n",
       "        vertical-align: middle;\n",
       "    }\n",
       "\n",
       "    .dataframe tbody tr th {\n",
       "        vertical-align: top;\n",
       "    }\n",
       "\n",
       "    .dataframe thead th {\n",
       "        text-align: right;\n",
       "    }\n",
       "</style>\n",
       "<table border=\"1\" class=\"dataframe\">\n",
       "  <thead>\n",
       "    <tr style=\"text-align: right;\">\n",
       "      <th></th>\n",
       "      <th>occ</th>\n",
       "      <th>loanamt</th>\n",
       "      <th>action</th>\n",
       "      <th>msa</th>\n",
       "      <th>suffolk</th>\n",
       "      <th>appinc</th>\n",
       "      <th>typur</th>\n",
       "      <th>unit</th>\n",
       "      <th>married</th>\n",
       "      <th>dep</th>\n",
       "      <th>...</th>\n",
       "      <th>approve</th>\n",
       "      <th>mortno</th>\n",
       "      <th>mortperf</th>\n",
       "      <th>mortlat1</th>\n",
       "      <th>mortlat2</th>\n",
       "      <th>chist</th>\n",
       "      <th>multi</th>\n",
       "      <th>loanprc</th>\n",
       "      <th>thick</th>\n",
       "      <th>white</th>\n",
       "    </tr>\n",
       "  </thead>\n",
       "  <tbody>\n",
       "    <tr>\n",
       "      <th>0</th>\n",
       "      <td>1</td>\n",
       "      <td>89</td>\n",
       "      <td>1</td>\n",
       "      <td>1120</td>\n",
       "      <td>0</td>\n",
       "      <td>72</td>\n",
       "      <td>0</td>\n",
       "      <td>1.0</td>\n",
       "      <td>0.0</td>\n",
       "      <td>0.0</td>\n",
       "      <td>...</td>\n",
       "      <td>1</td>\n",
       "      <td>0</td>\n",
       "      <td>1</td>\n",
       "      <td>0</td>\n",
       "      <td>0</td>\n",
       "      <td>1</td>\n",
       "      <td>0.0</td>\n",
       "      <td>0.754237</td>\n",
       "      <td>0.0</td>\n",
       "      <td>1</td>\n",
       "    </tr>\n",
       "    <tr>\n",
       "      <th>1</th>\n",
       "      <td>1</td>\n",
       "      <td>128</td>\n",
       "      <td>3</td>\n",
       "      <td>1120</td>\n",
       "      <td>0</td>\n",
       "      <td>74</td>\n",
       "      <td>0</td>\n",
       "      <td>1.0</td>\n",
       "      <td>1.0</td>\n",
       "      <td>1.0</td>\n",
       "      <td>...</td>\n",
       "      <td>0</td>\n",
       "      <td>0</td>\n",
       "      <td>1</td>\n",
       "      <td>0</td>\n",
       "      <td>0</td>\n",
       "      <td>1</td>\n",
       "      <td>0.0</td>\n",
       "      <td>0.800000</td>\n",
       "      <td>1.0</td>\n",
       "      <td>1</td>\n",
       "    </tr>\n",
       "    <tr>\n",
       "      <th>2</th>\n",
       "      <td>1</td>\n",
       "      <td>128</td>\n",
       "      <td>1</td>\n",
       "      <td>1120</td>\n",
       "      <td>0</td>\n",
       "      <td>84</td>\n",
       "      <td>3</td>\n",
       "      <td>1.0</td>\n",
       "      <td>0.0</td>\n",
       "      <td>0.0</td>\n",
       "      <td>...</td>\n",
       "      <td>1</td>\n",
       "      <td>0</td>\n",
       "      <td>1</td>\n",
       "      <td>0</td>\n",
       "      <td>0</td>\n",
       "      <td>1</td>\n",
       "      <td>0.0</td>\n",
       "      <td>0.895105</td>\n",
       "      <td>1.0</td>\n",
       "      <td>1</td>\n",
       "    </tr>\n",
       "    <tr>\n",
       "      <th>3</th>\n",
       "      <td>1</td>\n",
       "      <td>66</td>\n",
       "      <td>1</td>\n",
       "      <td>1120</td>\n",
       "      <td>0</td>\n",
       "      <td>36</td>\n",
       "      <td>0</td>\n",
       "      <td>1.0</td>\n",
       "      <td>1.0</td>\n",
       "      <td>0.0</td>\n",
       "      <td>...</td>\n",
       "      <td>1</td>\n",
       "      <td>0</td>\n",
       "      <td>1</td>\n",
       "      <td>0</td>\n",
       "      <td>0</td>\n",
       "      <td>0</td>\n",
       "      <td>0.0</td>\n",
       "      <td>0.600000</td>\n",
       "      <td>0.0</td>\n",
       "      <td>1</td>\n",
       "    </tr>\n",
       "    <tr>\n",
       "      <th>4</th>\n",
       "      <td>1</td>\n",
       "      <td>120</td>\n",
       "      <td>1</td>\n",
       "      <td>1120</td>\n",
       "      <td>0</td>\n",
       "      <td>59</td>\n",
       "      <td>8</td>\n",
       "      <td>1.0</td>\n",
       "      <td>1.0</td>\n",
       "      <td>0.0</td>\n",
       "      <td>...</td>\n",
       "      <td>1</td>\n",
       "      <td>0</td>\n",
       "      <td>1</td>\n",
       "      <td>0</td>\n",
       "      <td>0</td>\n",
       "      <td>1</td>\n",
       "      <td>0.0</td>\n",
       "      <td>0.895522</td>\n",
       "      <td>0.0</td>\n",
       "      <td>1</td>\n",
       "    </tr>\n",
       "    <tr>\n",
       "      <th>...</th>\n",
       "      <td>...</td>\n",
       "      <td>...</td>\n",
       "      <td>...</td>\n",
       "      <td>...</td>\n",
       "      <td>...</td>\n",
       "      <td>...</td>\n",
       "      <td>...</td>\n",
       "      <td>...</td>\n",
       "      <td>...</td>\n",
       "      <td>...</td>\n",
       "      <td>...</td>\n",
       "      <td>...</td>\n",
       "      <td>...</td>\n",
       "      <td>...</td>\n",
       "      <td>...</td>\n",
       "      <td>...</td>\n",
       "      <td>...</td>\n",
       "      <td>...</td>\n",
       "      <td>...</td>\n",
       "      <td>...</td>\n",
       "      <td>...</td>\n",
       "    </tr>\n",
       "    <tr>\n",
       "      <th>1984</th>\n",
       "      <td>1</td>\n",
       "      <td>158</td>\n",
       "      <td>1</td>\n",
       "      <td>1120</td>\n",
       "      <td>0</td>\n",
       "      <td>96</td>\n",
       "      <td>0</td>\n",
       "      <td>1.0</td>\n",
       "      <td>1.0</td>\n",
       "      <td>0.0</td>\n",
       "      <td>...</td>\n",
       "      <td>1</td>\n",
       "      <td>0</td>\n",
       "      <td>1</td>\n",
       "      <td>0</td>\n",
       "      <td>0</td>\n",
       "      <td>1</td>\n",
       "      <td>0.0</td>\n",
       "      <td>0.897727</td>\n",
       "      <td>0.0</td>\n",
       "      <td>1</td>\n",
       "    </tr>\n",
       "    <tr>\n",
       "      <th>1985</th>\n",
       "      <td>1</td>\n",
       "      <td>35</td>\n",
       "      <td>1</td>\n",
       "      <td>1120</td>\n",
       "      <td>0</td>\n",
       "      <td>169</td>\n",
       "      <td>1</td>\n",
       "      <td>1.0</td>\n",
       "      <td>1.0</td>\n",
       "      <td>0.0</td>\n",
       "      <td>...</td>\n",
       "      <td>1</td>\n",
       "      <td>1</td>\n",
       "      <td>0</td>\n",
       "      <td>0</td>\n",
       "      <td>0</td>\n",
       "      <td>1</td>\n",
       "      <td>0.0</td>\n",
       "      <td>0.111111</td>\n",
       "      <td>0.0</td>\n",
       "      <td>1</td>\n",
       "    </tr>\n",
       "    <tr>\n",
       "      <th>1986</th>\n",
       "      <td>2</td>\n",
       "      <td>225</td>\n",
       "      <td>1</td>\n",
       "      <td>1120</td>\n",
       "      <td>0</td>\n",
       "      <td>49</td>\n",
       "      <td>0</td>\n",
       "      <td>2.0</td>\n",
       "      <td>1.0</td>\n",
       "      <td>0.0</td>\n",
       "      <td>...</td>\n",
       "      <td>1</td>\n",
       "      <td>0</td>\n",
       "      <td>1</td>\n",
       "      <td>0</td>\n",
       "      <td>0</td>\n",
       "      <td>1</td>\n",
       "      <td>1.0</td>\n",
       "      <td>1.000000</td>\n",
       "      <td>0.0</td>\n",
       "      <td>1</td>\n",
       "    </tr>\n",
       "    <tr>\n",
       "      <th>1987</th>\n",
       "      <td>1</td>\n",
       "      <td>98</td>\n",
       "      <td>1</td>\n",
       "      <td>1120</td>\n",
       "      <td>1</td>\n",
       "      <td>110</td>\n",
       "      <td>1</td>\n",
       "      <td>1.0</td>\n",
       "      <td>0.0</td>\n",
       "      <td>0.0</td>\n",
       "      <td>...</td>\n",
       "      <td>1</td>\n",
       "      <td>1</td>\n",
       "      <td>0</td>\n",
       "      <td>0</td>\n",
       "      <td>0</td>\n",
       "      <td>1</td>\n",
       "      <td>0.0</td>\n",
       "      <td>0.455814</td>\n",
       "      <td>0.0</td>\n",
       "      <td>1</td>\n",
       "    </tr>\n",
       "    <tr>\n",
       "      <th>1988</th>\n",
       "      <td>1</td>\n",
       "      <td>133</td>\n",
       "      <td>3</td>\n",
       "      <td>1120</td>\n",
       "      <td>0</td>\n",
       "      <td>55</td>\n",
       "      <td>0</td>\n",
       "      <td>1.0</td>\n",
       "      <td>0.0</td>\n",
       "      <td>0.0</td>\n",
       "      <td>...</td>\n",
       "      <td>0</td>\n",
       "      <td>0</td>\n",
       "      <td>1</td>\n",
       "      <td>0</td>\n",
       "      <td>0</td>\n",
       "      <td>1</td>\n",
       "      <td>0.0</td>\n",
       "      <td>0.898649</td>\n",
       "      <td>0.0</td>\n",
       "      <td>0</td>\n",
       "    </tr>\n",
       "  </tbody>\n",
       "</table>\n",
       "<p>1989 rows × 59 columns</p>\n",
       "</div>"
      ],
      "text/plain": [
       "      occ  loanamt  action   msa  suffolk  appinc  typur  unit  married  dep  \\\n",
       "0       1       89       1  1120        0      72      0   1.0      0.0  0.0   \n",
       "1       1      128       3  1120        0      74      0   1.0      1.0  1.0   \n",
       "2       1      128       1  1120        0      84      3   1.0      0.0  0.0   \n",
       "3       1       66       1  1120        0      36      0   1.0      1.0  0.0   \n",
       "4       1      120       1  1120        0      59      8   1.0      1.0  0.0   \n",
       "...   ...      ...     ...   ...      ...     ...    ...   ...      ...  ...   \n",
       "1984    1      158       1  1120        0      96      0   1.0      1.0  0.0   \n",
       "1985    1       35       1  1120        0     169      1   1.0      1.0  0.0   \n",
       "1986    2      225       1  1120        0      49      0   2.0      1.0  0.0   \n",
       "1987    1       98       1  1120        1     110      1   1.0      0.0  0.0   \n",
       "1988    1      133       3  1120        0      55      0   1.0      0.0  0.0   \n",
       "\n",
       "      ...  approve  mortno  mortperf  mortlat1  mortlat2  chist  multi  \\\n",
       "0     ...        1       0         1         0         0      1    0.0   \n",
       "1     ...        0       0         1         0         0      1    0.0   \n",
       "2     ...        1       0         1         0         0      1    0.0   \n",
       "3     ...        1       0         1         0         0      0    0.0   \n",
       "4     ...        1       0         1         0         0      1    0.0   \n",
       "...   ...      ...     ...       ...       ...       ...    ...    ...   \n",
       "1984  ...        1       0         1         0         0      1    0.0   \n",
       "1985  ...        1       1         0         0         0      1    0.0   \n",
       "1986  ...        1       0         1         0         0      1    1.0   \n",
       "1987  ...        1       1         0         0         0      1    0.0   \n",
       "1988  ...        0       0         1         0         0      1    0.0   \n",
       "\n",
       "       loanprc  thick  white  \n",
       "0     0.754237    0.0      1  \n",
       "1     0.800000    1.0      1  \n",
       "2     0.895105    1.0      1  \n",
       "3     0.600000    0.0      1  \n",
       "4     0.895522    0.0      1  \n",
       "...        ...    ...    ...  \n",
       "1984  0.897727    0.0      1  \n",
       "1985  0.111111    0.0      1  \n",
       "1986  1.000000    0.0      1  \n",
       "1987  0.455814    0.0      1  \n",
       "1988  0.898649    0.0      0  \n",
       "\n",
       "[1989 rows x 59 columns]"
      ]
     },
     "execution_count": 2,
     "metadata": {},
     "output_type": "execute_result"
    }
   ],
   "source": [
    "# импорт датасета\n",
    "df = pd.read_csv('loanapp.csv')\n",
    "df"
   ]
  },
  {
   "cell_type": "markdown",
   "id": "971c7f51-f9a3-4446-8698-53b029a95b28",
   "metadata": {},
   "source": [
    "## F-тест: значимость регрессии\n",
    "Для датасета `loanapp` рассморим регрессию **approve на unem, male, yjob, self**"
   ]
  },
  {
   "cell_type": "code",
   "execution_count": 3,
   "id": "c9747cd9-971c-4c4b-a500-0185c6d45b1e",
   "metadata": {
    "tags": []
   },
   "outputs": [
    {
     "data": {
      "text/html": [
       "<table class=\"simpletable\">\n",
       "<caption>OLS Regression Results</caption>\n",
       "<tr>\n",
       "  <th>Dep. Variable:</th>    <td>approve</td> <th>  R-squared:         </th> <td>   0.004</td>\n",
       "</tr>\n",
       "<tr>\n",
       "  <th>Model:</th>              <td>OLS</td>   <th>  Adj. R-squared:    </th> <td>   0.002</td>\n",
       "</tr>\n",
       "<tr>\n",
       "  <th>No. Observations:</th> <td>  1974</td>  <th>  F-statistic:       </th> <td>   1.677</td>\n",
       "</tr>\n",
       "<tr>\n",
       "  <th>Covariance Type:</th>    <td>HC3</td>   <th>  Prob (F-statistic):</th>  <td> 0.153</td> \n",
       "</tr>\n",
       "</table>\n",
       "<table class=\"simpletable\">\n",
       "<tr>\n",
       "      <td></td>         <th>coef</th>     <th>std err</th>      <th>z</th>      <th>P>|z|</th>  <th>[0.025</th>    <th>0.975]</th>  \n",
       "</tr>\n",
       "<tr>\n",
       "  <th>Intercept</th> <td>    0.8914</td> <td>    0.023</td> <td>   39.586</td> <td> 0.000</td> <td>    0.847</td> <td>    0.936</td>\n",
       "</tr>\n",
       "<tr>\n",
       "  <th>unem</th>      <td>   -0.0074</td> <td>    0.004</td> <td>   -1.838</td> <td> 0.066</td> <td>   -0.015</td> <td>    0.000</td>\n",
       "</tr>\n",
       "<tr>\n",
       "  <th>male</th>      <td>    0.0209</td> <td>    0.020</td> <td>    1.056</td> <td> 0.291</td> <td>   -0.018</td> <td>    0.060</td>\n",
       "</tr>\n",
       "<tr>\n",
       "  <th>yjob</th>      <td>    0.0013</td> <td>    0.006</td> <td>    0.210</td> <td> 0.834</td> <td>   -0.011</td> <td>    0.013</td>\n",
       "</tr>\n",
       "<tr>\n",
       "  <th>self</th>      <td>   -0.0298</td> <td>    0.025</td> <td>   -1.205</td> <td> 0.228</td> <td>   -0.078</td> <td>    0.019</td>\n",
       "</tr>\n",
       "</table><br/><br/>Notes:<br/>[1] Standard Errors are heteroscedasticity robust (HC3)"
      ],
      "text/latex": [
       "\\begin{center}\n",
       "\\begin{tabular}{lclc}\n",
       "\\toprule\n",
       "\\textbf{Dep. Variable:}    &    approve    & \\textbf{  R-squared:         } &     0.004   \\\\\n",
       "\\textbf{Model:}            &      OLS      & \\textbf{  Adj. R-squared:    } &     0.002   \\\\\n",
       "\\textbf{No. Observations:} &       1974    & \\textbf{  F-statistic:       } &     1.677   \\\\\n",
       "\\textbf{Covariance Type:}  &      HC3      & \\textbf{  Prob (F-statistic):} &    0.153    \\\\\n",
       "\\bottomrule\n",
       "\\end{tabular}\n",
       "\\begin{tabular}{lcccccc}\n",
       "                   & \\textbf{coef} & \\textbf{std err} & \\textbf{z} & \\textbf{P$> |$z$|$} & \\textbf{[0.025} & \\textbf{0.975]}  \\\\\n",
       "\\midrule\n",
       "\\textbf{Intercept} &       0.8914  &        0.023     &    39.586  &         0.000        &        0.847    &        0.936     \\\\\n",
       "\\textbf{unem}      &      -0.0074  &        0.004     &    -1.838  &         0.066        &       -0.015    &        0.000     \\\\\n",
       "\\textbf{male}      &       0.0209  &        0.020     &     1.056  &         0.291        &       -0.018    &        0.060     \\\\\n",
       "\\textbf{yjob}      &       0.0013  &        0.006     &     0.210  &         0.834        &       -0.011    &        0.013     \\\\\n",
       "\\textbf{self}      &      -0.0298  &        0.025     &    -1.205  &         0.228        &       -0.078    &        0.019     \\\\\n",
       "\\bottomrule\n",
       "\\end{tabular}\n",
       "%\\caption{OLS Regression Results}\n",
       "\\end{center}\n",
       "\n",
       "Notes: \\newline\n",
       " [1] Standard Errors are heteroscedasticity robust (HC3)"
      ],
      "text/plain": [
       "<class 'statsmodels.iolib.summary.Summary'>\n",
       "\"\"\"\n",
       "                            OLS Regression Results                            \n",
       "==============================================================================\n",
       "Dep. Variable:                approve   R-squared:                       0.004\n",
       "Model:                            OLS   Adj. R-squared:                  0.002\n",
       "No. Observations:                1974   F-statistic:                     1.677\n",
       "Covariance Type:                  HC3   Prob (F-statistic):              0.153\n",
       "==============================================================================\n",
       "                 coef    std err          z      P>|z|      [0.025      0.975]\n",
       "------------------------------------------------------------------------------\n",
       "Intercept      0.8914      0.023     39.586      0.000       0.847       0.936\n",
       "unem          -0.0074      0.004     -1.838      0.066      -0.015       0.000\n",
       "male           0.0209      0.020      1.056      0.291      -0.018       0.060\n",
       "yjob           0.0013      0.006      0.210      0.834      -0.011       0.013\n",
       "self          -0.0298      0.025     -1.205      0.228      -0.078       0.019\n",
       "==============================================================================\n",
       "\n",
       "Notes:\n",
       "[1] Standard Errors are heteroscedasticity robust (HC3)\n",
       "\"\"\""
      ]
     },
     "execution_count": 3,
     "metadata": {},
     "output_type": "execute_result"
    }
   ],
   "source": [
    "mod = smf.ols(formula='approve~unem+male+yjob+self', data=df)\n",
    "res_hc = mod.fit(cov_type='HC3') # подгонка модели с поправкой на гетероскедастиность\n",
    "res_hc.summary(slim=True)"
   ]
  },
  {
   "cell_type": "markdown",
   "id": "b8e401e4-54c7-45b9-b8e6-6baefc546725",
   "metadata": {},
   "source": [
    "Тестируем значимость регрессии, т.е. гипотезу $H_0:\\beta_{unem}=\\beta_{male}=\\beta_{yjob}=\\beta_{self}=0$.\n",
    "<span style=\"color: blue\">Уровень значимости выберем $\\alpha=10\\%$</span>\n",
    "\n",
    "Робастная F-статистика и её P-значение"
   ]
  },
  {
   "cell_type": "code",
   "execution_count": 4,
   "id": "7c6b35a0-8aeb-48d1-9770-fc12eb687a62",
   "metadata": {
    "tags": []
   },
   "outputs": [
    {
     "data": {
      "text/plain": [
       "(1.6774796752587282, 0.15250462834383727)"
      ]
     },
     "execution_count": 4,
     "metadata": {},
     "output_type": "execute_result"
    }
   ],
   "source": [
    "res_hc.fvalue, res_hc.f_pvalue"
   ]
  },
  {
   "cell_type": "markdown",
   "id": "c41bda39-6386-4176-a19e-cbadb76b5835",
   "metadata": {},
   "source": [
    "**Вывод**: регрессия незначима ($P>\\alpha$)\n",
    "\n",
    "Число наблюдений, по которым была оценена модель"
   ]
  },
  {
   "cell_type": "code",
   "execution_count": 5,
   "id": "2653919e-ebf7-4b47-ba42-40253f19254b",
   "metadata": {
    "tags": []
   },
   "outputs": [
    {
     "data": {
      "text/plain": [
       "1974.0"
      ]
     },
     "execution_count": 5,
     "metadata": {},
     "output_type": "execute_result"
    }
   ],
   "source": [
    "res_hc.nobs"
   ]
  },
  {
   "cell_type": "markdown",
   "id": "bcef41a3-6528-477a-859b-3ab97020c585",
   "metadata": {
    "tags": []
   },
   "source": [
    "Степени свободы для F-распределения: $df_1=k, df_2=n-k-1$"
   ]
  },
  {
   "cell_type": "code",
   "execution_count": 6,
   "id": "de1bcbf4-7d93-4b4e-b399-2232900726e4",
   "metadata": {
    "tags": []
   },
   "outputs": [
    {
     "data": {
      "text/plain": [
       "(4.0, 1969.0)"
      ]
     },
     "execution_count": 6,
     "metadata": {},
     "output_type": "execute_result"
    }
   ],
   "source": [
    "res_hc.df_model, res_hc.df_resid"
   ]
  },
  {
   "cell_type": "code",
   "execution_count": 7,
   "id": "63ea8622-256b-4ad9-ae34-bda3e14d6bb8",
   "metadata": {
    "tags": []
   },
   "outputs": [
    {
     "data": {
      "text/plain": [
       "1.9477166136395"
      ]
     },
     "execution_count": 7,
     "metadata": {},
     "output_type": "execute_result"
    }
   ],
   "source": [
    "# критическое значение F-распределения с уровнем значимости 10%=0.1\n",
    "f.ppf(q=1-0.1, dfn=res_hc.df_model, dfd=res_hc.df_resid)"
   ]
  },
  {
   "cell_type": "code",
   "execution_count": 8,
   "id": "66c4556b-755b-4167-a09e-e141df866f47",
   "metadata": {
    "tags": []
   },
   "outputs": [
    {
     "data": {
      "text/html": [
       "<table class=\"simpletable\">\n",
       "<caption>OLS Regression Results</caption>\n",
       "<tr>\n",
       "  <th>Dep. Variable:</th>     <td>approve</td>  <th>  R-squared:         </th> <td>   0.004</td>\n",
       "</tr>\n",
       "<tr>\n",
       "  <th>Model:</th>               <td>OLS</td>    <th>  Adj. R-squared:    </th> <td>   0.002</td>\n",
       "</tr>\n",
       "<tr>\n",
       "  <th>No. Observations:</th>  <td>  1974</td>   <th>  F-statistic:       </th> <td>   2.029</td>\n",
       "</tr>\n",
       "<tr>\n",
       "  <th>Covariance Type:</th>  <td>nonrobust</td> <th>  Prob (F-statistic):</th>  <td>0.0878</td> \n",
       "</tr>\n",
       "</table>\n",
       "<table class=\"simpletable\">\n",
       "<tr>\n",
       "      <td></td>         <th>coef</th>     <th>std err</th>      <th>t</th>      <th>P>|t|</th>  <th>[0.025</th>    <th>0.975]</th>  \n",
       "</tr>\n",
       "<tr>\n",
       "  <th>Intercept</th> <td>    0.8914</td> <td>    0.021</td> <td>   42.284</td> <td> 0.000</td> <td>    0.850</td> <td>    0.933</td>\n",
       "</tr>\n",
       "<tr>\n",
       "  <th>unem</th>      <td>   -0.0074</td> <td>    0.003</td> <td>   -2.122</td> <td> 0.034</td> <td>   -0.014</td> <td>   -0.001</td>\n",
       "</tr>\n",
       "<tr>\n",
       "  <th>male</th>      <td>    0.0209</td> <td>    0.019</td> <td>    1.094</td> <td> 0.274</td> <td>   -0.017</td> <td>    0.058</td>\n",
       "</tr>\n",
       "<tr>\n",
       "  <th>yjob</th>      <td>    0.0013</td> <td>    0.007</td> <td>    0.194</td> <td> 0.846</td> <td>   -0.012</td> <td>    0.014</td>\n",
       "</tr>\n",
       "<tr>\n",
       "  <th>self</th>      <td>   -0.0298</td> <td>    0.022</td> <td>   -1.334</td> <td> 0.182</td> <td>   -0.074</td> <td>    0.014</td>\n",
       "</tr>\n",
       "</table><br/><br/>Notes:<br/>[1] Standard Errors assume that the covariance matrix of the errors is correctly specified."
      ],
      "text/latex": [
       "\\begin{center}\n",
       "\\begin{tabular}{lclc}\n",
       "\\toprule\n",
       "\\textbf{Dep. Variable:}    &    approve    & \\textbf{  R-squared:         } &     0.004   \\\\\n",
       "\\textbf{Model:}            &      OLS      & \\textbf{  Adj. R-squared:    } &     0.002   \\\\\n",
       "\\textbf{No. Observations:} &       1974    & \\textbf{  F-statistic:       } &     2.029   \\\\\n",
       "\\textbf{Covariance Type:}  &   nonrobust   & \\textbf{  Prob (F-statistic):} &   0.0878    \\\\\n",
       "\\bottomrule\n",
       "\\end{tabular}\n",
       "\\begin{tabular}{lcccccc}\n",
       "                   & \\textbf{coef} & \\textbf{std err} & \\textbf{t} & \\textbf{P$> |$t$|$} & \\textbf{[0.025} & \\textbf{0.975]}  \\\\\n",
       "\\midrule\n",
       "\\textbf{Intercept} &       0.8914  &        0.021     &    42.284  &         0.000        &        0.850    &        0.933     \\\\\n",
       "\\textbf{unem}      &      -0.0074  &        0.003     &    -2.122  &         0.034        &       -0.014    &       -0.001     \\\\\n",
       "\\textbf{male}      &       0.0209  &        0.019     &     1.094  &         0.274        &       -0.017    &        0.058     \\\\\n",
       "\\textbf{yjob}      &       0.0013  &        0.007     &     0.194  &         0.846        &       -0.012    &        0.014     \\\\\n",
       "\\textbf{self}      &      -0.0298  &        0.022     &    -1.334  &         0.182        &       -0.074    &        0.014     \\\\\n",
       "\\bottomrule\n",
       "\\end{tabular}\n",
       "%\\caption{OLS Regression Results}\n",
       "\\end{center}\n",
       "\n",
       "Notes: \\newline\n",
       " [1] Standard Errors assume that the covariance matrix of the errors is correctly specified."
      ],
      "text/plain": [
       "<class 'statsmodels.iolib.summary.Summary'>\n",
       "\"\"\"\n",
       "                            OLS Regression Results                            \n",
       "==============================================================================\n",
       "Dep. Variable:                approve   R-squared:                       0.004\n",
       "Model:                            OLS   Adj. R-squared:                  0.002\n",
       "No. Observations:                1974   F-statistic:                     2.029\n",
       "Covariance Type:            nonrobust   Prob (F-statistic):             0.0878\n",
       "==============================================================================\n",
       "                 coef    std err          t      P>|t|      [0.025      0.975]\n",
       "------------------------------------------------------------------------------\n",
       "Intercept      0.8914      0.021     42.284      0.000       0.850       0.933\n",
       "unem          -0.0074      0.003     -2.122      0.034      -0.014      -0.001\n",
       "male           0.0209      0.019      1.094      0.274      -0.017       0.058\n",
       "yjob           0.0013      0.007      0.194      0.846      -0.012       0.014\n",
       "self          -0.0298      0.022     -1.334      0.182      -0.074       0.014\n",
       "==============================================================================\n",
       "\n",
       "Notes:\n",
       "[1] Standard Errors assume that the covariance matrix of the errors is correctly specified.\n",
       "\"\"\""
      ]
     },
     "execution_count": 8,
     "metadata": {},
     "output_type": "execute_result"
    }
   ],
   "source": [
    "# Неправильный (неробастный) F-тест с настройками по умолчанию\n",
    "res_ols = mod.fit()\n",
    "res_ols.summary(slim=True)"
   ]
  },
  {
   "cell_type": "markdown",
   "id": "522c738b-7c7c-4ded-93c1-e6319faeab00",
   "metadata": {},
   "source": [
    "Какие можно сделать выводы?"
   ]
  },
  {
   "cell_type": "markdown",
   "id": "3c192385-a71b-4185-bff3-c025f14b0e1a",
   "metadata": {},
   "source": [
    "## F-тест: совместная значимость\n",
    "Для датасета `loanapp` рассморим регрессию **approve на appinc, appinc^2, mortno, unem, dep, male, married, yjob, self**"
   ]
  },
  {
   "cell_type": "code",
   "execution_count": 9,
   "id": "db928e3e-ffde-465c-b1ac-5c1249324179",
   "metadata": {
    "tags": []
   },
   "outputs": [
    {
     "data": {
      "text/html": [
       "<table class=\"simpletable\">\n",
       "<caption>OLS Regression Results</caption>\n",
       "<tr>\n",
       "  <th>Dep. Variable:</th>    <td>approve</td> <th>  R-squared:         </th> <td>   0.025</td>\n",
       "</tr>\n",
       "<tr>\n",
       "  <th>Model:</th>              <td>OLS</td>   <th>  Adj. R-squared:    </th> <td>   0.021</td>\n",
       "</tr>\n",
       "<tr>\n",
       "  <th>No. Observations:</th> <td>  1971</td>  <th>  F-statistic:       </th> <td>   5.032</td>\n",
       "</tr>\n",
       "<tr>\n",
       "  <th>Covariance Type:</th>    <td>HC3</td>   <th>  Prob (F-statistic):</th> <td>9.81e-07</td>\n",
       "</tr>\n",
       "</table>\n",
       "<table class=\"simpletable\">\n",
       "<tr>\n",
       "         <td></td>           <th>coef</th>     <th>std err</th>      <th>z</th>      <th>P>|z|</th>  <th>[0.025</th>    <th>0.975]</th>  \n",
       "</tr>\n",
       "<tr>\n",
       "  <th>Intercept</th>      <td>    0.8420</td> <td>    0.027</td> <td>   31.003</td> <td> 0.000</td> <td>    0.789</td> <td>    0.895</td>\n",
       "</tr>\n",
       "<tr>\n",
       "  <th>appinc</th>         <td>    0.0005</td> <td>    0.000</td> <td>    1.958</td> <td> 0.050</td> <td>-4.48e-07</td> <td>    0.001</td>\n",
       "</tr>\n",
       "<tr>\n",
       "  <th>I(appinc ** 2)</th> <td>-1.007e-06</td> <td> 4.24e-07</td> <td>   -2.374</td> <td> 0.018</td> <td>-1.84e-06</td> <td>-1.76e-07</td>\n",
       "</tr>\n",
       "<tr>\n",
       "  <th>mortno</th>         <td>    0.0660</td> <td>    0.015</td> <td>    4.321</td> <td> 0.000</td> <td>    0.036</td> <td>    0.096</td>\n",
       "</tr>\n",
       "<tr>\n",
       "  <th>unem</th>           <td>   -0.0061</td> <td>    0.004</td> <td>   -1.515</td> <td> 0.130</td> <td>   -0.014</td> <td>    0.002</td>\n",
       "</tr>\n",
       "<tr>\n",
       "  <th>dep</th>            <td>   -0.0171</td> <td>    0.007</td> <td>   -2.280</td> <td> 0.023</td> <td>   -0.032</td> <td>   -0.002</td>\n",
       "</tr>\n",
       "<tr>\n",
       "  <th>male</th>           <td>   -0.0029</td> <td>    0.021</td> <td>   -0.135</td> <td> 0.893</td> <td>   -0.045</td> <td>    0.039</td>\n",
       "</tr>\n",
       "<tr>\n",
       "  <th>married</th>        <td>    0.0433</td> <td>    0.019</td> <td>    2.309</td> <td> 0.021</td> <td>    0.007</td> <td>    0.080</td>\n",
       "</tr>\n",
       "<tr>\n",
       "  <th>yjob</th>           <td>   -0.0009</td> <td>    0.006</td> <td>   -0.140</td> <td> 0.889</td> <td>   -0.013</td> <td>    0.011</td>\n",
       "</tr>\n",
       "<tr>\n",
       "  <th>self</th>           <td>   -0.0404</td> <td>    0.025</td> <td>   -1.602</td> <td> 0.109</td> <td>   -0.090</td> <td>    0.009</td>\n",
       "</tr>\n",
       "</table><br/><br/>Notes:<br/>[1] Standard Errors are heteroscedasticity robust (HC3)<br/>[2] The condition number is large, 2.29e+05. This might indicate that there are<br/>strong multicollinearity or other numerical problems."
      ],
      "text/latex": [
       "\\begin{center}\n",
       "\\begin{tabular}{lclc}\n",
       "\\toprule\n",
       "\\textbf{Dep. Variable:}    &    approve    & \\textbf{  R-squared:         } &     0.025   \\\\\n",
       "\\textbf{Model:}            &      OLS      & \\textbf{  Adj. R-squared:    } &     0.021   \\\\\n",
       "\\textbf{No. Observations:} &       1971    & \\textbf{  F-statistic:       } &     5.032   \\\\\n",
       "\\textbf{Covariance Type:}  &      HC3      & \\textbf{  Prob (F-statistic):} &  9.81e-07   \\\\\n",
       "\\bottomrule\n",
       "\\end{tabular}\n",
       "\\begin{tabular}{lcccccc}\n",
       "                        & \\textbf{coef} & \\textbf{std err} & \\textbf{z} & \\textbf{P$> |$z$|$} & \\textbf{[0.025} & \\textbf{0.975]}  \\\\\n",
       "\\midrule\n",
       "\\textbf{Intercept}      &       0.8420  &        0.027     &    31.003  &         0.000        &        0.789    &        0.895     \\\\\n",
       "\\textbf{appinc}         &       0.0005  &        0.000     &     1.958  &         0.050        &    -4.48e-07    &        0.001     \\\\\n",
       "\\textbf{I(appinc ** 2)} &   -1.007e-06  &     4.24e-07     &    -2.374  &         0.018        &    -1.84e-06    &    -1.76e-07     \\\\\n",
       "\\textbf{mortno}         &       0.0660  &        0.015     &     4.321  &         0.000        &        0.036    &        0.096     \\\\\n",
       "\\textbf{unem}           &      -0.0061  &        0.004     &    -1.515  &         0.130        &       -0.014    &        0.002     \\\\\n",
       "\\textbf{dep}            &      -0.0171  &        0.007     &    -2.280  &         0.023        &       -0.032    &       -0.002     \\\\\n",
       "\\textbf{male}           &      -0.0029  &        0.021     &    -0.135  &         0.893        &       -0.045    &        0.039     \\\\\n",
       "\\textbf{married}        &       0.0433  &        0.019     &     2.309  &         0.021        &        0.007    &        0.080     \\\\\n",
       "\\textbf{yjob}           &      -0.0009  &        0.006     &    -0.140  &         0.889        &       -0.013    &        0.011     \\\\\n",
       "\\textbf{self}           &      -0.0404  &        0.025     &    -1.602  &         0.109        &       -0.090    &        0.009     \\\\\n",
       "\\bottomrule\n",
       "\\end{tabular}\n",
       "%\\caption{OLS Regression Results}\n",
       "\\end{center}\n",
       "\n",
       "Notes: \\newline\n",
       " [1] Standard Errors are heteroscedasticity robust (HC3) \\newline\n",
       " [2] The condition number is large, 2.29e+05. This might indicate that there are \\newline\n",
       " strong multicollinearity or other numerical problems."
      ],
      "text/plain": [
       "<class 'statsmodels.iolib.summary.Summary'>\n",
       "\"\"\"\n",
       "                            OLS Regression Results                            \n",
       "==============================================================================\n",
       "Dep. Variable:                approve   R-squared:                       0.025\n",
       "Model:                            OLS   Adj. R-squared:                  0.021\n",
       "No. Observations:                1971   F-statistic:                     5.032\n",
       "Covariance Type:                  HC3   Prob (F-statistic):           9.81e-07\n",
       "==================================================================================\n",
       "                     coef    std err          z      P>|z|      [0.025      0.975]\n",
       "----------------------------------------------------------------------------------\n",
       "Intercept          0.8420      0.027     31.003      0.000       0.789       0.895\n",
       "appinc             0.0005      0.000      1.958      0.050   -4.48e-07       0.001\n",
       "I(appinc ** 2) -1.007e-06   4.24e-07     -2.374      0.018   -1.84e-06   -1.76e-07\n",
       "mortno             0.0660      0.015      4.321      0.000       0.036       0.096\n",
       "unem              -0.0061      0.004     -1.515      0.130      -0.014       0.002\n",
       "dep               -0.0171      0.007     -2.280      0.023      -0.032      -0.002\n",
       "male              -0.0029      0.021     -0.135      0.893      -0.045       0.039\n",
       "married            0.0433      0.019      2.309      0.021       0.007       0.080\n",
       "yjob              -0.0009      0.006     -0.140      0.889      -0.013       0.011\n",
       "self              -0.0404      0.025     -1.602      0.109      -0.090       0.009\n",
       "==================================================================================\n",
       "\n",
       "Notes:\n",
       "[1] Standard Errors are heteroscedasticity robust (HC3)\n",
       "[2] The condition number is large, 2.29e+05. This might indicate that there are\n",
       "strong multicollinearity or other numerical problems.\n",
       "\"\"\""
      ]
     },
     "execution_count": 9,
     "metadata": {},
     "output_type": "execute_result"
    }
   ],
   "source": [
    "mod = smf.ols(formula='approve~appinc+I(appinc**2)+mortno+unem+dep+male+married+yjob+self', data=df)\n",
    "res_hc = mod.fit(cov_type='HC3') # подгонка модели с поправкой на гетероскедастиность\n",
    "res_hc.summary(slim=True)"
   ]
  },
  {
   "cell_type": "markdown",
   "id": "1de0dcdd-d75a-4b48-bf17-ea6869b9bdb6",
   "metadata": {},
   "source": [
    "Число наблюдений, по которым была оценен модель"
   ]
  },
  {
   "cell_type": "code",
   "execution_count": 10,
   "id": "76991592-632e-434e-a2d3-91de4e89c2d7",
   "metadata": {
    "tags": []
   },
   "outputs": [
    {
     "data": {
      "text/plain": [
       "1971.0"
      ]
     },
     "execution_count": 10,
     "metadata": {},
     "output_type": "execute_result"
    }
   ],
   "source": [
    "res_hc.nobs"
   ]
  },
  {
   "cell_type": "markdown",
   "id": "17b5803d-86ab-42f6-8c66-a7e2286b35fb",
   "metadata": {},
   "source": [
    "Тестируйте значимость влияния дохода, т.е. $H_0:\\beta_{appinc}=\\beta_{appinc^2}=0$.\n",
    "<span style=\"color: blue\">Уровень значимости выберем $\\alpha=5\\%$</span>."
   ]
  },
  {
   "cell_type": "code",
   "execution_count": 11,
   "id": "e86646cf-5d15-49f5-99c5-5722fcd47117",
   "metadata": {
    "tags": []
   },
   "outputs": [
    {
     "data": {
      "text/plain": [
       "<class 'statsmodels.stats.contrast.ContrastResults'>\n",
       "<F test: F=array([[2.96075542]]), p=0.052011304302157044, df_denom=1.96e+03, df_num=2>"
      ]
     },
     "execution_count": 11,
     "metadata": {},
     "output_type": "execute_result"
    }
   ],
   "source": [
    "res_hc.wald_test('appinc=0, I(appinc ** 2)=0', use_f=True)"
   ]
  },
  {
   "cell_type": "markdown",
   "id": "844c34c6-ad63-4b8b-aa14-8c1d69738e4c",
   "metadata": {},
   "source": [
    "**Вывод**: влияние незначимо ($P>\\alpha$)\n",
    "\n",
    "Тестовая статистика и её P-значение"
   ]
  },
  {
   "cell_type": "code",
   "execution_count": 12,
   "id": "c1e41254-6375-4bfb-9e3e-54f1c8330840",
   "metadata": {
    "tags": []
   },
   "outputs": [
    {
     "data": {
      "text/plain": [
       "(array([[2.96075542]]), array(0.0520113))"
      ]
     },
     "execution_count": 12,
     "metadata": {},
     "output_type": "execute_result"
    }
   ],
   "source": [
    "res_F_test = res_hc.wald_test('appinc=0, I(appinc ** 2)=0', use_f=True)\n",
    "res_F_test.fvalue, res_F_test.pvalue"
   ]
  },
  {
   "cell_type": "markdown",
   "id": "24774fd7-5d1c-4bbc-af35-bedb622221f6",
   "metadata": {},
   "source": [
    "Степеми свободы для F-распределения $df_1=2, dd_2=n-k-1$"
   ]
  },
  {
   "cell_type": "code",
   "execution_count": 13,
   "id": "29496eaf-39a1-4d32-9d9b-cd13c43a4c30",
   "metadata": {
    "tags": []
   },
   "outputs": [
    {
     "data": {
      "text/plain": [
       "(2.0, 1961.0)"
      ]
     },
     "execution_count": 13,
     "metadata": {},
     "output_type": "execute_result"
    }
   ],
   "source": [
    "res_F_test.df_num, res_F_test.df_denom"
   ]
  },
  {
   "cell_type": "code",
   "execution_count": 14,
   "id": "ff1533f6-4cbd-4399-96f4-f789daba17cf",
   "metadata": {
    "tags": []
   },
   "outputs": [
    {
     "data": {
      "text/plain": [
       "3.0003133845755365"
      ]
     },
     "execution_count": 14,
     "metadata": {},
     "output_type": "execute_result"
    }
   ],
   "source": [
    "# критическое значение F-распределения с уровнем значимости 5%=0.05\n",
    "f.ppf(q=1-0.05, dfn=res_F_test.df_num, dfd=res_F_test.df_denom)"
   ]
  },
  {
   "cell_type": "code",
   "execution_count": 15,
   "id": "717b6a28-cb92-468b-8b48-4957d0395816",
   "metadata": {
    "tags": []
   },
   "outputs": [
    {
     "data": {
      "text/plain": [
       "<class 'statsmodels.stats.contrast.ContrastResults'>\n",
       "<F test: F=array([[5.1487468]]), p=0.005885429653243116, df_denom=1.96e+03, df_num=2>"
      ]
     },
     "execution_count": 15,
     "metadata": {},
     "output_type": "execute_result"
    }
   ],
   "source": [
    "# Неправильный (неробастный) F-тест с настройками по умолчанию\n",
    "res_ols = mod.fit()\n",
    "res_ols.wald_test('appinc=0, I(appinc ** 2)=0', use_f=True)"
   ]
  },
  {
   "cell_type": "markdown",
   "id": "df5696b1-1291-4293-b2c6-1fe5f9126913",
   "metadata": {},
   "source": [
    "Какой можно сделать вывод?"
   ]
  },
  {
   "cell_type": "code",
   "execution_count": null,
   "id": "4711a418-dbf3-48ce-89cd-c2fb6d5d3bdd",
   "metadata": {},
   "outputs": [],
   "source": []
  }
 ],
 "metadata": {
  "kernelspec": {
   "display_name": "Python 3 (ipykernel)",
   "language": "python",
   "name": "python3"
  },
  "language_info": {
   "codemirror_mode": {
    "name": "ipython",
    "version": 3
   },
   "file_extension": ".py",
   "mimetype": "text/x-python",
   "name": "python",
   "nbconvert_exporter": "python",
   "pygments_lexer": "ipython3",
   "version": "3.11.6"
  }
 },
 "nbformat": 4,
 "nbformat_minor": 5
}
