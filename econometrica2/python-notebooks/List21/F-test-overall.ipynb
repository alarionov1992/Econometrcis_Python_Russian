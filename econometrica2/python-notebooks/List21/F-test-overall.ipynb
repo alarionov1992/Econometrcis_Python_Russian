{
 "cells": [
  {
   "cell_type": "markdown",
   "metadata": {},
   "source": [
    "# F-тест: значимость регрессии\n",
    "\n",
    "Тестируется гипотеза $H_0:\\beta_1=\\cdots=\\beta_k=0$\n",
    "\n",
    "Тестовая статистика $F$ (расчитывается автоматически)\n",
    "\n",
    "Критическое значение $F_{cr}=F_{df1=k, df2=n-k-1}(\\alpha)$\n",
    "\n",
    "Гипотеза отвергается, если $F>F_{cr}$ или $P<\\alpha$"
   ]
  },
  {
   "cell_type": "markdown",
   "metadata": {},
   "source": [
    "# LPM-модель: F-тест на значимость регрессии"
   ]
  },
  {
   "cell_type": "code",
   "execution_count": 11,
   "metadata": {},
   "outputs": [],
   "source": [
    "import numpy as np\n",
    "import pandas as pd\n",
    "import statsmodels.formula.api as smf\n",
    "from statsmodels.iolib.summary2 import summary_col, summary_params # вывод результатов тестирования\n",
    "from scipy.stats import f # F-распределение"
   ]
  },
  {
   "cell_type": "markdown",
   "metadata": {},
   "source": [
    "### approve equation #1\n",
    "\n",
    "Для датасета `loanapp` рассморим регрессию **approve на unem, male, yjob, self**\n",
    "\n",
    "Спецификация: \n",
    "$$\n",
    "  approve=\\beta_0+\\beta_1unem+\\beta_2male+\\beta_3yjob+\\beta_4self+u\n",
    "$$\n",
    "\n",
    "Альтернативная спецификация:\n",
    "$$\n",
    "  P(approve=1)=\\beta_0+\\beta_1unem+\\beta_2male+\\beta_3yjob+\\beta_4self\n",
    "$$"
   ]
  },
  {
   "cell_type": "code",
   "execution_count": 12,
   "metadata": {},
   "outputs": [],
   "source": [
    "# загрузим данные\n",
    "loanapp_df = pd.read_csv('https://raw.githubusercontent.com/artamonoff/econometrica/main/econometrica2/data-csv/loanapp.csv', na_values=(' ', '', '  '))"
   ]
  },
  {
   "cell_type": "code",
   "execution_count": 13,
   "metadata": {},
   "outputs": [],
   "source": [
    "#зададим спецификацию модели через формулу\n",
    "mod_lpm = smf.ols(formula='approve~unem+male+yjob+self', data=loanapp_df)"
   ]
  },
  {
   "cell_type": "code",
   "execution_count": 14,
   "metadata": {},
   "outputs": [
    {
     "name": "stdout",
     "output_type": "stream",
     "text": [
      "                            OLS Regression Results                            \n",
      "==============================================================================\n",
      "Dep. Variable:                approve   R-squared:                       0.004\n",
      "Model:                            OLS   Adj. R-squared:                  0.002\n",
      "No. Observations:                1974   F-statistic:                     1.677\n",
      "Covariance Type:                  HC3   Prob (F-statistic):              0.153\n",
      "==============================================================================\n",
      "                 coef    std err          z      P>|z|      [0.025      0.975]\n",
      "------------------------------------------------------------------------------\n",
      "Intercept      0.8914      0.023     39.586      0.000       0.847       0.936\n",
      "unem          -0.0074      0.004     -1.838      0.066      -0.015       0.000\n",
      "male           0.0209      0.020      1.056      0.291      -0.018       0.060\n",
      "yjob           0.0013      0.006      0.210      0.834      -0.011       0.013\n",
      "self          -0.0298      0.025     -1.205      0.228      -0.078       0.019\n",
      "==============================================================================\n",
      "\n",
      "Notes:\n",
      "[1] Standard Errors are heteroscedasticity robust (HC3)\n"
     ]
    }
   ],
   "source": [
    "# подгонка модели с поправкой на гетероскедастичность\n",
    "res_lpm_hc = mod_lpm.fit(cov_type='HC3')\n",
    "print(res_lpm_hc.summary(slim=True))"
   ]
  },
  {
   "cell_type": "markdown",
   "metadata": {},
   "source": [
    "### Тестируем значимость регрессии, т.е. гипотезу $$H_0:\\beta_{unem}=\\beta_{male}=\\beta_{yjob}=\\beta_{self}=0.$$"
   ]
  },
  {
   "cell_type": "markdown",
   "metadata": {},
   "source": [
    "### Результаты робастного F-теста"
   ]
  },
  {
   "cell_type": "code",
   "execution_count": 15,
   "metadata": {},
   "outputs": [
    {
     "data": {
      "text/plain": [
       "(1.677, 0.153)"
      ]
     },
     "execution_count": 15,
     "metadata": {},
     "output_type": "execute_result"
    }
   ],
   "source": [
    "# тестовая статистика и P-значение\n",
    "np.round(res_lpm_hc.fvalue, 3), np.round(res_lpm_hc.f_pvalue, 3)"
   ]
  },
  {
   "cell_type": "markdown",
   "metadata": {},
   "source": [
    "### Результаты неробастного F-теста"
   ]
  },
  {
   "cell_type": "code",
   "execution_count": 16,
   "metadata": {},
   "outputs": [
    {
     "data": {
      "text/plain": [
       "(2.029, 0.088)"
      ]
     },
     "execution_count": 16,
     "metadata": {},
     "output_type": "execute_result"
    }
   ],
   "source": [
    "# подгонка модели\n",
    "res_lpm_ols = mod_lpm.fit(cov_type='nonrobust')\n",
    "# тестовая статистика и P-значение\n",
    "res_lpm_ols.fvalue.round(3), res_lpm_ols.f_pvalue.round(3)"
   ]
  },
  {
   "cell_type": "code",
   "execution_count": 17,
   "metadata": {},
   "outputs": [],
   "source": [
    "# зададим уровень значимости\n",
    "alpha = 0.1"
   ]
  },
  {
   "cell_type": "markdown",
   "metadata": {},
   "source": [
    "### 10\\%-критическое значение F-распределения"
   ]
  },
  {
   "cell_type": "code",
   "execution_count": 18,
   "metadata": {},
   "outputs": [
    {
     "data": {
      "text/plain": [
       "1.948"
      ]
     },
     "execution_count": 18,
     "metadata": {},
     "output_type": "execute_result"
    }
   ],
   "source": [
    "f.ppf(q=1-0.1, dfn=res_lpm_hc.df_model, dfd=res_lpm_hc.df_resid).round(3)"
   ]
  },
  {
   "cell_type": "code",
   "execution_count": 19,
   "metadata": {},
   "outputs": [
    {
     "data": {
      "text/plain": [
       "1.948"
      ]
     },
     "execution_count": 19,
     "metadata": {},
     "output_type": "execute_result"
    }
   ],
   "source": [
    "# можно использовать переменную alpha\n",
    "f.ppf(q=1-alpha, dfn=res_lpm_hc.df_model, dfd=res_lpm_hc.df_resid).round(3)"
   ]
  },
  {
   "cell_type": "markdown",
   "metadata": {},
   "source": [
    "## **Вывод:** регрессия незначима!"
   ]
  },
  {
   "cell_type": "markdown",
   "metadata": {},
   "source": [
    "### Альтернативный способ: явно специфицируем тестируемую гипотезу"
   ]
  },
  {
   "cell_type": "code",
   "execution_count": 20,
   "metadata": {},
   "outputs": [
    {
     "name": "stdout",
     "output_type": "stream",
     "text": [
      "<F test: F=1.6774796752587853, p=0.15250462834382744, df_denom=1.97e+03, df_num=4>\n"
     ]
    }
   ],
   "source": [
    "# тестовая статистика, P-значение и степени свободы\n",
    "print(res_lpm_hc.f_test('unem=0, male=0, yjob=0, self=0'))"
   ]
  }
 ],
 "metadata": {
  "kernelspec": {
   "display_name": "base",
   "language": "python",
   "name": "python3"
  },
  "language_info": {
   "codemirror_mode": {
    "name": "ipython",
    "version": 3
   },
   "file_extension": ".py",
   "mimetype": "text/x-python",
   "name": "python",
   "nbconvert_exporter": "python",
   "pygments_lexer": "ipython3",
   "version": "3.11.5"
  }
 },
 "nbformat": 4,
 "nbformat_minor": 2
}
