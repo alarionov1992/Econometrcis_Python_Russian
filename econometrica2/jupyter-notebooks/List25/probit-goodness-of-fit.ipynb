{
 "cells": [
  {
   "cell_type": "markdown",
   "metadata": {},
   "source": [
    "# probit-регрессия: Качество подгонки и Сравнение моделей"
   ]
  },
  {
   "cell_type": "code",
   "execution_count": 6,
   "metadata": {},
   "outputs": [],
   "source": [
    "import numpy as np\n",
    "import pandas as pd\n",
    "import statsmodels.formula.api as smf\n",
    "\n",
    "# Не показывать FutureWarnings\n",
    "import warnings\n",
    "warnings.simplefilter(action='ignore', category=FutureWarning)"
   ]
  },
  {
   "cell_type": "code",
   "execution_count": 8,
   "metadata": {},
   "outputs": [
    {
     "data": {
      "text/html": [
       "<div>\n",
       "<style scoped>\n",
       "    .dataframe tbody tr th:only-of-type {\n",
       "        vertical-align: middle;\n",
       "    }\n",
       "\n",
       "    .dataframe tbody tr th {\n",
       "        vertical-align: top;\n",
       "    }\n",
       "\n",
       "    .dataframe thead th {\n",
       "        text-align: right;\n",
       "    }\n",
       "</style>\n",
       "<table border=\"1\" class=\"dataframe\">\n",
       "  <thead>\n",
       "    <tr style=\"text-align: right;\">\n",
       "      <th></th>\n",
       "      <th>LFP</th>\n",
       "      <th>WHRS</th>\n",
       "      <th>KL6</th>\n",
       "      <th>K618</th>\n",
       "      <th>WA</th>\n",
       "      <th>WE</th>\n",
       "      <th>WW</th>\n",
       "      <th>RPWG</th>\n",
       "      <th>HHRS</th>\n",
       "      <th>HA</th>\n",
       "      <th>HE</th>\n",
       "      <th>HW</th>\n",
       "      <th>FAMINC</th>\n",
       "      <th>MTR</th>\n",
       "      <th>WMED</th>\n",
       "      <th>WFED</th>\n",
       "      <th>UN</th>\n",
       "      <th>CIT</th>\n",
       "      <th>AX</th>\n",
       "    </tr>\n",
       "  </thead>\n",
       "  <tbody>\n",
       "    <tr>\n",
       "      <th>0</th>\n",
       "      <td>1</td>\n",
       "      <td>1610</td>\n",
       "      <td>1</td>\n",
       "      <td>0</td>\n",
       "      <td>32</td>\n",
       "      <td>12</td>\n",
       "      <td>3.3540</td>\n",
       "      <td>2.65</td>\n",
       "      <td>2708</td>\n",
       "      <td>34</td>\n",
       "      <td>12</td>\n",
       "      <td>4.0288</td>\n",
       "      <td>16310</td>\n",
       "      <td>0.7215</td>\n",
       "      <td>12</td>\n",
       "      <td>7</td>\n",
       "      <td>5.0</td>\n",
       "      <td>0</td>\n",
       "      <td>14</td>\n",
       "    </tr>\n",
       "    <tr>\n",
       "      <th>1</th>\n",
       "      <td>1</td>\n",
       "      <td>1656</td>\n",
       "      <td>0</td>\n",
       "      <td>2</td>\n",
       "      <td>30</td>\n",
       "      <td>12</td>\n",
       "      <td>1.3889</td>\n",
       "      <td>2.65</td>\n",
       "      <td>2310</td>\n",
       "      <td>30</td>\n",
       "      <td>9</td>\n",
       "      <td>8.4416</td>\n",
       "      <td>21800</td>\n",
       "      <td>0.6615</td>\n",
       "      <td>7</td>\n",
       "      <td>7</td>\n",
       "      <td>11.0</td>\n",
       "      <td>1</td>\n",
       "      <td>5</td>\n",
       "    </tr>\n",
       "    <tr>\n",
       "      <th>2</th>\n",
       "      <td>1</td>\n",
       "      <td>1980</td>\n",
       "      <td>1</td>\n",
       "      <td>3</td>\n",
       "      <td>35</td>\n",
       "      <td>12</td>\n",
       "      <td>4.5455</td>\n",
       "      <td>4.04</td>\n",
       "      <td>3072</td>\n",
       "      <td>40</td>\n",
       "      <td>12</td>\n",
       "      <td>3.5807</td>\n",
       "      <td>21040</td>\n",
       "      <td>0.6915</td>\n",
       "      <td>12</td>\n",
       "      <td>7</td>\n",
       "      <td>5.0</td>\n",
       "      <td>0</td>\n",
       "      <td>15</td>\n",
       "    </tr>\n",
       "    <tr>\n",
       "      <th>3</th>\n",
       "      <td>1</td>\n",
       "      <td>456</td>\n",
       "      <td>0</td>\n",
       "      <td>3</td>\n",
       "      <td>34</td>\n",
       "      <td>12</td>\n",
       "      <td>1.0965</td>\n",
       "      <td>3.25</td>\n",
       "      <td>1920</td>\n",
       "      <td>53</td>\n",
       "      <td>10</td>\n",
       "      <td>3.5417</td>\n",
       "      <td>7300</td>\n",
       "      <td>0.7815</td>\n",
       "      <td>7</td>\n",
       "      <td>7</td>\n",
       "      <td>5.0</td>\n",
       "      <td>0</td>\n",
       "      <td>6</td>\n",
       "    </tr>\n",
       "    <tr>\n",
       "      <th>4</th>\n",
       "      <td>1</td>\n",
       "      <td>1568</td>\n",
       "      <td>1</td>\n",
       "      <td>2</td>\n",
       "      <td>31</td>\n",
       "      <td>14</td>\n",
       "      <td>4.5918</td>\n",
       "      <td>3.60</td>\n",
       "      <td>2000</td>\n",
       "      <td>32</td>\n",
       "      <td>12</td>\n",
       "      <td>10.0000</td>\n",
       "      <td>27300</td>\n",
       "      <td>0.6215</td>\n",
       "      <td>12</td>\n",
       "      <td>14</td>\n",
       "      <td>9.5</td>\n",
       "      <td>1</td>\n",
       "      <td>7</td>\n",
       "    </tr>\n",
       "  </tbody>\n",
       "</table>\n",
       "</div>"
      ],
      "text/plain": [
       "   LFP  WHRS  KL6  K618  WA  WE      WW  RPWG  HHRS  HA  HE       HW  FAMINC  \\\n",
       "0    1  1610    1     0  32  12  3.3540  2.65  2708  34  12   4.0288   16310   \n",
       "1    1  1656    0     2  30  12  1.3889  2.65  2310  30   9   8.4416   21800   \n",
       "2    1  1980    1     3  35  12  4.5455  4.04  3072  40  12   3.5807   21040   \n",
       "3    1   456    0     3  34  12  1.0965  3.25  1920  53  10   3.5417    7300   \n",
       "4    1  1568    1     2  31  14  4.5918  3.60  2000  32  12  10.0000   27300   \n",
       "\n",
       "      MTR  WMED  WFED    UN  CIT  AX   \n",
       "0  0.7215    12     7   5.0    0   14  \n",
       "1  0.6615     7     7  11.0    1    5  \n",
       "2  0.6915    12     7   5.0    0   15  \n",
       "3  0.7815     7     7   5.0    0    6  \n",
       "4  0.6215    12    14   9.5    1    7  "
      ]
     },
     "execution_count": 8,
     "metadata": {},
     "output_type": "execute_result"
    }
   ],
   "source": [
    "# подключим датасет mroz_Greene по ссылке \n",
    "df = pd.read_csv('https://raw.githubusercontent.com/artamonoff/econometrica/main/econometrica2/data-csv/TableF5-1.csv')\n",
    "#подключим датасет mroz_Greene из локального файла\n",
    "#df = pd.read_csv('TableF5-1.csv')\n",
    "df.head()"
   ]
  },
  {
   "cell_type": "markdown",
   "metadata": {},
   "source": [
    "## Спецификация и подгонка"
   ]
  },
  {
   "cell_type": "code",
   "execution_count": 10,
   "metadata": {},
   "outputs": [
    {
     "name": "stdout",
     "output_type": "stream",
     "text": [
      "Optimization terminated successfully.\n",
      "         Current function value: 0.613998\n",
      "         Iterations 5\n"
     ]
    }
   ],
   "source": [
    "# model 1\n",
    "mod_1 = smf.probit(formula = 'LFP~WA+I(WA**2)+WE+KL6+K618+CIT+UN+np.log(FAMINC)', data = df)\n",
    "res_1 = mod_1.fit()"
   ]
  },
  {
   "cell_type": "code",
   "execution_count": 13,
   "metadata": {},
   "outputs": [
    {
     "name": "stdout",
     "output_type": "stream",
     "text": [
      "Optimization terminated successfully.\n",
      "         Current function value: 0.631739\n",
      "         Iterations 5\n"
     ]
    }
   ],
   "source": [
    "# model 2\n",
    "mod_2 = smf.probit(formula = 'LFP~WE+KL6+K618+CIT+UN+np.log(FAMINC)', data = df)\n",
    "res_2 = mod_2.fit()"
   ]
  },
  {
   "cell_type": "code",
   "execution_count": 50,
   "metadata": {},
   "outputs": [
    {
     "name": "stdout",
     "output_type": "stream",
     "text": [
      "Optimization terminated successfully.\n",
      "         Current function value: 0.617126\n",
      "         Iterations 5\n"
     ]
    }
   ],
   "source": [
    "# model 3\n",
    "mod_3 = smf.probit(formula = 'LFP~WA+I(WA**2)+WE+KL6+np.log(FAMINC)', data = df)\n",
    "res_3 = mod_3.fit()"
   ]
  },
  {
   "cell_type": "code",
   "execution_count": 51,
   "metadata": {},
   "outputs": [
    {
     "name": "stdout",
     "output_type": "stream",
     "text": [
      "Optimization terminated successfully.\n",
      "         Current function value: 0.618845\n",
      "         Iterations 5\n"
     ]
    }
   ],
   "source": [
    "# model 4\n",
    "mod_4 = smf.probit(formula = 'LFP~WA+I(WA**2)+WE+KL6', data = df)\n",
    "res_4 = mod_4.fit()"
   ]
  },
  {
   "cell_type": "markdown",
   "metadata": {},
   "source": [
    "## Качество подгонки. Базовые показатели\n",
    "\n",
    "### McDadden's $R^2$\n",
    "$$ \n",
    "\tR^2_{pseudo}=1-\\frac{\\log L_{full}}{\\log L_{null}}\n",
    "$$"
   ]
  },
  {
   "cell_type": "code",
   "execution_count": 22,
   "metadata": {},
   "outputs": [
    {
     "data": {
      "text/plain": [
       "0.102"
      ]
     },
     "execution_count": 22,
     "metadata": {},
     "output_type": "execute_result"
    }
   ],
   "source": [
    "# pseudoR2 for model 1\n",
    "res_1.prsquared.round(3)"
   ]
  },
  {
   "cell_type": "code",
   "execution_count": 23,
   "metadata": {},
   "outputs": [
    {
     "data": {
      "text/plain": [
       "0.076"
      ]
     },
     "execution_count": 23,
     "metadata": {},
     "output_type": "execute_result"
    }
   ],
   "source": [
    "# pseudoR2 for model 2\n",
    "res_2.prsquared.round(3)"
   ]
  },
  {
   "cell_type": "code",
   "execution_count": 52,
   "metadata": {},
   "outputs": [
    {
     "data": {
      "text/plain": [
       "0.097"
      ]
     },
     "execution_count": 52,
     "metadata": {},
     "output_type": "execute_result"
    }
   ],
   "source": [
    "# pseudoR2 for model 3\n",
    "res_3.prsquared.round(3)"
   ]
  },
  {
   "cell_type": "code",
   "execution_count": 53,
   "metadata": {},
   "outputs": [
    {
     "data": {
      "text/plain": [
       "0.095"
      ]
     },
     "execution_count": 53,
     "metadata": {},
     "output_type": "execute_result"
    }
   ],
   "source": [
    "# pseudoR2 for model 4\n",
    "res_4.prsquared.round(3)"
   ]
  },
  {
   "cell_type": "markdown",
   "metadata": {},
   "source": [
    "### McFadden’s Adjusted $R^2$\n",
    "$$ \n",
    "\tR^2_{adj}=1-\\frac{\\log L_{full}-k}{\\log L_{null}}\n",
    "$$"
   ]
  },
  {
   "cell_type": "code",
   "execution_count": 57,
   "metadata": {},
   "outputs": [
    {
     "data": {
      "text/plain": [
       "0.086"
      ]
     },
     "execution_count": 57,
     "metadata": {},
     "output_type": "execute_result"
    }
   ],
   "source": [
    "# pseudoR2.adj for model 1\n",
    "(1-(res_1.llf-res_1.df_model)/res_1.llnull).round(3)"
   ]
  },
  {
   "cell_type": "code",
   "execution_count": 58,
   "metadata": {},
   "outputs": [
    {
     "data": {
      "text/plain": [
       "0.064"
      ]
     },
     "execution_count": 58,
     "metadata": {},
     "output_type": "execute_result"
    }
   ],
   "source": [
    "# pseudoR2.adj for model 2\n",
    "(1-(res_2.llf-res_2.df_model)/res_2.llnull).round(3)"
   ]
  },
  {
   "cell_type": "code",
   "execution_count": 59,
   "metadata": {},
   "outputs": [
    {
     "data": {
      "text/plain": [
       "0.088"
      ]
     },
     "execution_count": 59,
     "metadata": {},
     "output_type": "execute_result"
    }
   ],
   "source": [
    "# pseudoR2.adj for model 3\n",
    "(1-(res_3.llf-res_3.df_model)/res_3.llnull).round(3)"
   ]
  },
  {
   "cell_type": "code",
   "execution_count": 60,
   "metadata": {},
   "outputs": [
    {
     "data": {
      "text/plain": [
       "0.087"
      ]
     },
     "execution_count": 60,
     "metadata": {},
     "output_type": "execute_result"
    }
   ],
   "source": [
    "# pseudoR2.adj for model 4\n",
    "(1-(res_4.llf-res_4.df_model)/res_4.llnull).round(3)"
   ]
  },
  {
   "cell_type": "markdown",
   "metadata": {},
   "source": [
    "### Cox & Snell $R^2$\n",
    "$$\n",
    "\tR^2_{C\\& S}=1-\\left(\\frac{L_{null}}{L_{full}}\\right)^{2/n}=1-\\left(\\frac{\\exp(\\log L_{null})}{\\exp(\\log L_{full})}\\right)^{2/n}=\n",
    "\t1-\\exp\\left(\\frac{2}{n}(\\log L_{null}-\\log L_{full})\\right)=1-\\exp\\left(-\\frac{LR}{n}\\right)\n",
    "$$"
   ]
  },
  {
   "cell_type": "code",
   "execution_count": 61,
   "metadata": {},
   "outputs": [
    {
     "data": {
      "text/plain": [
       "0.13"
      ]
     },
     "execution_count": 61,
     "metadata": {},
     "output_type": "execute_result"
    }
   ],
   "source": [
    "# Cox.Snell.R2 for model 1\n",
    "(1-np.exp(-res_1.llr/res_1.nobs)).round(3)"
   ]
  },
  {
   "cell_type": "code",
   "execution_count": 62,
   "metadata": {},
   "outputs": [
    {
     "data": {
      "text/plain": [
       "0.099"
      ]
     },
     "execution_count": 62,
     "metadata": {},
     "output_type": "execute_result"
    }
   ],
   "source": [
    "# Cox.Snell.R2 for model 2\n",
    "(1-np.exp(-res_2.llr/res_2.nobs)).round(3)"
   ]
  },
  {
   "cell_type": "code",
   "execution_count": 63,
   "metadata": {},
   "outputs": [
    {
     "data": {
      "text/plain": [
       "0.125"
      ]
     },
     "execution_count": 63,
     "metadata": {},
     "output_type": "execute_result"
    }
   ],
   "source": [
    "# Cox.Snell.R2 for model 3\n",
    "(1-np.exp(-res_3.llr/res_3.nobs)).round(3)"
   ]
  },
  {
   "cell_type": "code",
   "execution_count": 64,
   "metadata": {},
   "outputs": [
    {
     "data": {
      "text/plain": [
       "0.122"
      ]
     },
     "execution_count": 64,
     "metadata": {},
     "output_type": "execute_result"
    }
   ],
   "source": [
    "# Cox.Snell.R2 for model 4\n",
    "(1-np.exp(-res_4.llr/res_4.nobs)).round(3)"
   ]
  },
  {
   "cell_type": "markdown",
   "metadata": {},
   "source": [
    "### Nagelkerke / Cragg & Uhler $R^2$\n",
    "$$\n",
    "\tR^2_{N,C\\& U}=\\frac{1-\\left(\\frac{L_{null}}{L_{full}}\\right)^{2/n}}{1-L_{null}^{2/n}}=\n",
    "\t\\frac{1-\\exp\\left(-\\frac{LR}{n}\\right)}{1-\\exp(2\\log L_{null}/n)}\n",
    "$$"
   ]
  },
  {
   "cell_type": "code",
   "execution_count": 43,
   "metadata": {},
   "outputs": [
    {
     "data": {
      "text/plain": [
       "0.175"
      ]
     },
     "execution_count": 43,
     "metadata": {},
     "output_type": "execute_result"
    }
   ],
   "source": [
    "# Nagelkerke.R2 for model 1\n",
    "((1-np.exp(-res_1.llr/res_1.nobs))/(1-np.exp(2*res_1.llnull/res_1.nobs))).round(3)"
   ]
  },
  {
   "cell_type": "code",
   "execution_count": 65,
   "metadata": {},
   "outputs": [
    {
     "data": {
      "text/plain": [
       "0.133"
      ]
     },
     "execution_count": 65,
     "metadata": {},
     "output_type": "execute_result"
    }
   ],
   "source": [
    "# Nagelkerke.R2 for model 2\n",
    "((1-np.exp(-res_2.llr/res_2.nobs))/(1-np.exp(2*res_2.llnull/res_2.nobs))).round(3)"
   ]
  },
  {
   "cell_type": "code",
   "execution_count": 66,
   "metadata": {},
   "outputs": [
    {
     "data": {
      "text/plain": [
       "0.167"
      ]
     },
     "execution_count": 66,
     "metadata": {},
     "output_type": "execute_result"
    }
   ],
   "source": [
    "# Nagelkerke.R2 for model 3\n",
    "((1-np.exp(-res_3.llr/res_3.nobs))/(1-np.exp(2*res_3.llnull/res_3.nobs))).round(3)"
   ]
  },
  {
   "cell_type": "code",
   "execution_count": 67,
   "metadata": {},
   "outputs": [
    {
     "data": {
      "text/plain": [
       "0.163"
      ]
     },
     "execution_count": 67,
     "metadata": {},
     "output_type": "execute_result"
    }
   ],
   "source": [
    "# Nagelkerke.R2 for model 4\n",
    "((1-np.exp(-res_4.llr/res_4.nobs))/(1-np.exp(2*res_4.llnull/res_4.nobs))).round(3)"
   ]
  },
  {
   "cell_type": "markdown",
   "metadata": {},
   "source": [
    "### Efron's $R^2$\n",
    "$$\n",
    "\tR^2_{Efron}=1-\\frac{\\sum(y_i-\\hat{P}_i)^2}{\\sum(y_i-\\bar{y})^2}=1-\\frac{\\sum(y_i-\\hat{P}_i)^2}{n Var(y)}\n",
    "$$"
   ]
  },
  {
   "cell_type": "code",
   "execution_count": 68,
   "metadata": {},
   "outputs": [
    {
     "data": {
      "text/plain": [
       "0.133"
      ]
     },
     "execution_count": 68,
     "metadata": {},
     "output_type": "execute_result"
    }
   ],
   "source": [
    "# Efron.R2 for model 1\n",
    "(1-(np.sum(res_1.resid_response**2))/(res_1.nobs*np.var(mod_1.endog))).round(3)"
   ]
  },
  {
   "cell_type": "code",
   "execution_count": 69,
   "metadata": {},
   "outputs": [
    {
     "data": {
      "text/plain": [
       "0.1"
      ]
     },
     "execution_count": 69,
     "metadata": {},
     "output_type": "execute_result"
    }
   ],
   "source": [
    "# Efron.R2 for model 2\n",
    "(1-(np.sum(res_2.resid_response**2))/(res_2.nobs*np.var(mod_2.endog))).round(3)"
   ]
  },
  {
   "cell_type": "code",
   "execution_count": 70,
   "metadata": {},
   "outputs": [
    {
     "data": {
      "text/plain": [
       "0.127"
      ]
     },
     "execution_count": 70,
     "metadata": {},
     "output_type": "execute_result"
    }
   ],
   "source": [
    "# Efron.R2 for model 3\n",
    "(1-(np.sum(res_3.resid_response**2))/(res_3.nobs*np.var(mod_3.endog))).round(3)"
   ]
  },
  {
   "cell_type": "code",
   "execution_count": 71,
   "metadata": {},
   "outputs": [
    {
     "data": {
      "text/plain": [
       "0.123"
      ]
     },
     "execution_count": 71,
     "metadata": {},
     "output_type": "execute_result"
    }
   ],
   "source": [
    "# Efron.R2 for model 4\n",
    "(1-(np.sum(res_4.resid_response**2))/(res_4.nobs*np.var(mod_4.endog))).round(3)"
   ]
  },
  {
   "cell_type": "markdown",
   "metadata": {},
   "source": [
    "### McKelvey & Zavoina's $R^2$\n",
    "\n",
    "\\begin{align*}\n",
    "\tR^2_{logit}&=\\frac{Var(\\hat{P})}{Var(\\hat{P})+\\pi^2/3} & R^2_{probit}&=\\frac{Var(\\hat{P})}{Var(\\hat{P})+1}\n",
    "\\end{align*}\n"
   ]
  },
  {
   "cell_type": "code",
   "execution_count": 73,
   "metadata": {},
   "outputs": [
    {
     "data": {
      "text/plain": [
       "0.031"
      ]
     },
     "execution_count": 73,
     "metadata": {},
     "output_type": "execute_result"
    }
   ],
   "source": [
    "#McKelvey.Zavoina.R2 for model 1\n",
    "y_prob_1 = res_1.predict(mod_1.exog, transform=False)\n",
    "\n",
    "# probit\n",
    "(np.var(y_prob_1)/(np.var(y_prob_1)+1)).round(3)"
   ]
  },
  {
   "cell_type": "code",
   "execution_count": 74,
   "metadata": {},
   "outputs": [
    {
     "data": {
      "text/plain": [
       "0.024"
      ]
     },
     "execution_count": 74,
     "metadata": {},
     "output_type": "execute_result"
    }
   ],
   "source": [
    "#McKelvey.Zavoina.R2 for model 2\n",
    "y_prob_2 = res_2.predict(mod_2.exog, transform=False)\n",
    "\n",
    "# probit\n",
    "(np.var(y_prob_2)/(np.var(y_prob_2)+1)).round(3)"
   ]
  },
  {
   "cell_type": "code",
   "execution_count": 75,
   "metadata": {},
   "outputs": [
    {
     "data": {
      "text/plain": [
       "0.03"
      ]
     },
     "execution_count": 75,
     "metadata": {},
     "output_type": "execute_result"
    }
   ],
   "source": [
    "#McKelvey.Zavoina.R2 for model 3\n",
    "y_prob_3 = res_3.predict(mod_3.exog, transform=False)\n",
    "\n",
    "# probit\n",
    "(np.var(y_prob_3)/(np.var(y_prob_3)+1)).round(3)"
   ]
  },
  {
   "cell_type": "code",
   "execution_count": 76,
   "metadata": {},
   "outputs": [
    {
     "data": {
      "text/plain": [
       "0.029"
      ]
     },
     "execution_count": 76,
     "metadata": {},
     "output_type": "execute_result"
    }
   ],
   "source": [
    "#McKelvey.Zavoina.R2 for model 4\n",
    "y_prob_4 = res_4.predict(mod_4.exog, transform=False)\n",
    "\n",
    "# probit\n",
    "(np.var(y_prob_4)/(np.var(y_prob_4)+1)).round(3)"
   ]
  }
 ],
 "metadata": {
  "kernelspec": {
   "display_name": "base",
   "language": "python",
   "name": "python3"
  },
  "language_info": {
   "codemirror_mode": {
    "name": "ipython",
    "version": 3
   },
   "file_extension": ".py",
   "mimetype": "text/x-python",
   "name": "python",
   "nbconvert_exporter": "python",
   "pygments_lexer": "ipython3",
   "version": "3.11.5"
  }
 },
 "nbformat": 4,
 "nbformat_minor": 2
}
