{
 "cells": [
  {
   "cell_type": "markdown",
   "metadata": {},
   "source": [
    "# probit-регрессия: Качество подгонки и Сравнение моделей"
   ]
  },
  {
   "cell_type": "code",
   "execution_count": 34,
   "metadata": {},
   "outputs": [],
   "source": [
    "import numpy as np\n",
    "import pandas as pd\n",
    "import statsmodels.formula.api as smf\n",
    "from statsmodels.iolib.summary2 import summary_col # вывод результатов нескольких регрессий\n",
    "\n",
    "# Не показывать FutureWarnings\n",
    "import warnings\n",
    "warnings.simplefilter(action='ignore', category=FutureWarning)"
   ]
  },
  {
   "cell_type": "code",
   "execution_count": 35,
   "metadata": {},
   "outputs": [
    {
     "data": {
      "text/html": [
       "<div>\n",
       "<style scoped>\n",
       "    .dataframe tbody tr th:only-of-type {\n",
       "        vertical-align: middle;\n",
       "    }\n",
       "\n",
       "    .dataframe tbody tr th {\n",
       "        vertical-align: top;\n",
       "    }\n",
       "\n",
       "    .dataframe thead th {\n",
       "        text-align: right;\n",
       "    }\n",
       "</style>\n",
       "<table border=\"1\" class=\"dataframe\">\n",
       "  <thead>\n",
       "    <tr style=\"text-align: right;\">\n",
       "      <th></th>\n",
       "      <th>LFP</th>\n",
       "      <th>WHRS</th>\n",
       "      <th>KL6</th>\n",
       "      <th>K618</th>\n",
       "      <th>WA</th>\n",
       "      <th>WE</th>\n",
       "      <th>WW</th>\n",
       "      <th>RPWG</th>\n",
       "      <th>HHRS</th>\n",
       "      <th>HA</th>\n",
       "      <th>HE</th>\n",
       "      <th>HW</th>\n",
       "      <th>FAMINC</th>\n",
       "      <th>MTR</th>\n",
       "      <th>WMED</th>\n",
       "      <th>WFED</th>\n",
       "      <th>UN</th>\n",
       "      <th>CIT</th>\n",
       "      <th>AX</th>\n",
       "    </tr>\n",
       "  </thead>\n",
       "  <tbody>\n",
       "    <tr>\n",
       "      <th>0</th>\n",
       "      <td>1</td>\n",
       "      <td>1610</td>\n",
       "      <td>1</td>\n",
       "      <td>0</td>\n",
       "      <td>32</td>\n",
       "      <td>12</td>\n",
       "      <td>3.3540</td>\n",
       "      <td>2.65</td>\n",
       "      <td>2708</td>\n",
       "      <td>34</td>\n",
       "      <td>12</td>\n",
       "      <td>4.0288</td>\n",
       "      <td>16310</td>\n",
       "      <td>0.7215</td>\n",
       "      <td>12</td>\n",
       "      <td>7</td>\n",
       "      <td>5.0</td>\n",
       "      <td>0</td>\n",
       "      <td>14</td>\n",
       "    </tr>\n",
       "    <tr>\n",
       "      <th>1</th>\n",
       "      <td>1</td>\n",
       "      <td>1656</td>\n",
       "      <td>0</td>\n",
       "      <td>2</td>\n",
       "      <td>30</td>\n",
       "      <td>12</td>\n",
       "      <td>1.3889</td>\n",
       "      <td>2.65</td>\n",
       "      <td>2310</td>\n",
       "      <td>30</td>\n",
       "      <td>9</td>\n",
       "      <td>8.4416</td>\n",
       "      <td>21800</td>\n",
       "      <td>0.6615</td>\n",
       "      <td>7</td>\n",
       "      <td>7</td>\n",
       "      <td>11.0</td>\n",
       "      <td>1</td>\n",
       "      <td>5</td>\n",
       "    </tr>\n",
       "    <tr>\n",
       "      <th>2</th>\n",
       "      <td>1</td>\n",
       "      <td>1980</td>\n",
       "      <td>1</td>\n",
       "      <td>3</td>\n",
       "      <td>35</td>\n",
       "      <td>12</td>\n",
       "      <td>4.5455</td>\n",
       "      <td>4.04</td>\n",
       "      <td>3072</td>\n",
       "      <td>40</td>\n",
       "      <td>12</td>\n",
       "      <td>3.5807</td>\n",
       "      <td>21040</td>\n",
       "      <td>0.6915</td>\n",
       "      <td>12</td>\n",
       "      <td>7</td>\n",
       "      <td>5.0</td>\n",
       "      <td>0</td>\n",
       "      <td>15</td>\n",
       "    </tr>\n",
       "    <tr>\n",
       "      <th>3</th>\n",
       "      <td>1</td>\n",
       "      <td>456</td>\n",
       "      <td>0</td>\n",
       "      <td>3</td>\n",
       "      <td>34</td>\n",
       "      <td>12</td>\n",
       "      <td>1.0965</td>\n",
       "      <td>3.25</td>\n",
       "      <td>1920</td>\n",
       "      <td>53</td>\n",
       "      <td>10</td>\n",
       "      <td>3.5417</td>\n",
       "      <td>7300</td>\n",
       "      <td>0.7815</td>\n",
       "      <td>7</td>\n",
       "      <td>7</td>\n",
       "      <td>5.0</td>\n",
       "      <td>0</td>\n",
       "      <td>6</td>\n",
       "    </tr>\n",
       "    <tr>\n",
       "      <th>4</th>\n",
       "      <td>1</td>\n",
       "      <td>1568</td>\n",
       "      <td>1</td>\n",
       "      <td>2</td>\n",
       "      <td>31</td>\n",
       "      <td>14</td>\n",
       "      <td>4.5918</td>\n",
       "      <td>3.60</td>\n",
       "      <td>2000</td>\n",
       "      <td>32</td>\n",
       "      <td>12</td>\n",
       "      <td>10.0000</td>\n",
       "      <td>27300</td>\n",
       "      <td>0.6215</td>\n",
       "      <td>12</td>\n",
       "      <td>14</td>\n",
       "      <td>9.5</td>\n",
       "      <td>1</td>\n",
       "      <td>7</td>\n",
       "    </tr>\n",
       "  </tbody>\n",
       "</table>\n",
       "</div>"
      ],
      "text/plain": [
       "   LFP  WHRS  KL6  K618  WA  WE      WW  RPWG  HHRS  HA  HE       HW  FAMINC  \\\n",
       "0    1  1610    1     0  32  12  3.3540  2.65  2708  34  12   4.0288   16310   \n",
       "1    1  1656    0     2  30  12  1.3889  2.65  2310  30   9   8.4416   21800   \n",
       "2    1  1980    1     3  35  12  4.5455  4.04  3072  40  12   3.5807   21040   \n",
       "3    1   456    0     3  34  12  1.0965  3.25  1920  53  10   3.5417    7300   \n",
       "4    1  1568    1     2  31  14  4.5918  3.60  2000  32  12  10.0000   27300   \n",
       "\n",
       "      MTR  WMED  WFED    UN  CIT  AX   \n",
       "0  0.7215    12     7   5.0    0   14  \n",
       "1  0.6615     7     7  11.0    1    5  \n",
       "2  0.6915    12     7   5.0    0   15  \n",
       "3  0.7815     7     7   5.0    0    6  \n",
       "4  0.6215    12    14   9.5    1    7  "
      ]
     },
     "execution_count": 35,
     "metadata": {},
     "output_type": "execute_result"
    }
   ],
   "source": [
    "# подключим датасет mroz_Greene по ссылке \n",
    "df = pd.read_csv('https://raw.githubusercontent.com/artamonoff/econometrica/main/econometrica2/data-csv/TableF5-1.csv')\n",
    "#подключим датасет mroz_Greene из локального файла\n",
    "#df = pd.read_csv('TableF5-1.csv')\n",
    "df.head()"
   ]
  },
  {
   "cell_type": "markdown",
   "metadata": {},
   "source": [
    "## Спецификация и подгонка"
   ]
  },
  {
   "cell_type": "code",
   "execution_count": 36,
   "metadata": {},
   "outputs": [
    {
     "name": "stdout",
     "output_type": "stream",
     "text": [
      "Optimization terminated successfully.\n",
      "         Current function value: 0.613998\n",
      "         Iterations 5\n"
     ]
    }
   ],
   "source": [
    "# model 1\n",
    "mod_1 = smf.probit(formula = 'LFP~WA+I(WA**2)+WE+KL6+K618+CIT+UN+np.log(FAMINC)', data = df)\n",
    "res_1 = mod_1.fit()"
   ]
  },
  {
   "cell_type": "code",
   "execution_count": 37,
   "metadata": {},
   "outputs": [
    {
     "name": "stdout",
     "output_type": "stream",
     "text": [
      "Optimization terminated successfully.\n",
      "         Current function value: 0.631739\n",
      "         Iterations 5\n"
     ]
    }
   ],
   "source": [
    "# model 2\n",
    "mod_2 = smf.probit(formula = 'LFP~WE+KL6+K618+CIT+UN+np.log(FAMINC)', data = df)\n",
    "res_2 = mod_2.fit()"
   ]
  },
  {
   "cell_type": "code",
   "execution_count": 38,
   "metadata": {},
   "outputs": [
    {
     "name": "stdout",
     "output_type": "stream",
     "text": [
      "Optimization terminated successfully.\n",
      "         Current function value: 0.617126\n",
      "         Iterations 5\n"
     ]
    }
   ],
   "source": [
    "# model 3\n",
    "mod_3 = smf.probit(formula = 'LFP~WA+I(WA**2)+WE+KL6+np.log(FAMINC)', data = df)\n",
    "res_3 = mod_3.fit()"
   ]
  },
  {
   "cell_type": "code",
   "execution_count": 39,
   "metadata": {},
   "outputs": [
    {
     "name": "stdout",
     "output_type": "stream",
     "text": [
      "Optimization terminated successfully.\n",
      "         Current function value: 0.618845\n",
      "         Iterations 5\n"
     ]
    }
   ],
   "source": [
    "# model 4\n",
    "mod_4 = smf.probit(formula = 'LFP~WA+I(WA**2)+WE+KL6', data = df)\n",
    "res_4 = mod_4.fit()"
   ]
  },
  {
   "cell_type": "code",
   "execution_count": 66,
   "metadata": {},
   "outputs": [
    {
     "data": {
      "text/html": [
       "<table class=\"simpletable\">\n",
       "<tr>\n",
       "         <td></td>        <th>Модель 1</th>  <th>Модель 2</th>  <th>Модель 3</th>  <th>Модель 4</th> \n",
       "</tr>\n",
       "<tr>\n",
       "  <th>Intercept</th>       <td>-2.005</td>   <td>-2.673***</td>  <td>-1.435</td>    <td>-0.281</td>  \n",
       "</tr>\n",
       "<tr>\n",
       "  <th></th>                <td>(1.705)</td>   <td>(0.957)</td>   <td>(1.667)</td>   <td>(1.503)</td> \n",
       "</tr>\n",
       "<tr>\n",
       "  <th>WA</th>               <td>0.008</td>       <td></td>       <td>-0.018</td>    <td>-0.006</td>  \n",
       "</tr>\n",
       "<tr>\n",
       "  <th></th>                <td>(0.070)</td>      <td></td>       <td>(0.069)</td>   <td>(0.068)</td> \n",
       "</tr>\n",
       "<tr>\n",
       "  <th>I(WA ** 2)</th>      <td>-0.001</td>       <td></td>       <td>-0.000</td>    <td>-0.000</td>  \n",
       "</tr>\n",
       "<tr>\n",
       "  <th></th>                <td>(0.001)</td>      <td></td>       <td>(0.001)</td>   <td>(0.001)</td> \n",
       "</tr>\n",
       "<tr>\n",
       "  <th>WE</th>             <td>0.109***</td>  <td>0.124***</td>  <td>0.109***</td>  <td>0.123***</td> \n",
       "</tr>\n",
       "<tr>\n",
       "  <th></th>                <td>(0.024)</td>   <td>(0.024)</td>   <td>(0.024)</td>   <td>(0.022)</td> \n",
       "</tr>\n",
       "<tr>\n",
       "  <th>KL6</th>            <td>-0.851***</td> <td>-0.621***</td> <td>-0.847***</td> <td>-0.855***</td>\n",
       "</tr>\n",
       "<tr>\n",
       "  <th></th>                <td>(0.115)</td>   <td>(0.098)</td>   <td>(0.114)</td>   <td>(0.115)</td> \n",
       "</tr>\n",
       "<tr>\n",
       "  <th>K618</th>            <td>-0.063</td>     <td>0.031</td>       <td></td>          <td></td>     \n",
       "</tr>\n",
       "<tr>\n",
       "  <th></th>                <td>(0.042)</td>   <td>(0.036)</td>      <td></td>          <td></td>     \n",
       "</tr>\n",
       "<tr>\n",
       "  <th>CIT</th>             <td>-0.128</td>    <td>-0.165</td>       <td></td>          <td></td>     \n",
       "</tr>\n",
       "<tr>\n",
       "  <th></th>                <td>(0.107)</td>   <td>(0.106)</td>      <td></td>          <td></td>     \n",
       "</tr>\n",
       "<tr>\n",
       "  <th>UN</th>              <td>-0.011</td>    <td>-0.017</td>       <td></td>          <td></td>     \n",
       "</tr>\n",
       "<tr>\n",
       "  <th></th>                <td>(0.016)</td>   <td>(0.016)</td>      <td></td>          <td></td>     \n",
       "</tr>\n",
       "<tr>\n",
       "  <th>np.log(FAMINC)</th>  <td>0.200*</td>    <td>0.170*</td>     <td>0.163</td>       <td></td>     \n",
       "</tr>\n",
       "<tr>\n",
       "  <th></th>                <td>(0.105)</td>   <td>(0.103)</td>   <td>(0.101)</td>      <td></td>     \n",
       "</tr>\n",
       "</table><br/>\n",
       "Standard errors in parentheses.<br/>\n",
       "* p<.1, ** p<.05, ***p<.01"
      ],
      "text/latex": [
       "\\begin{table}\n",
       "\\caption{}\n",
       "\\label{}\n",
       "\\begin{center}\n",
       "\\begin{tabular}{lllll}\n",
       "\\hline\n",
       "               & Модель 1  & Модель 2  & Модель 3  & Модель 4   \\\\\n",
       "\\hline\n",
       "Intercept      & -2.005    & -2.673*** & -1.435    & -0.281     \\\\\n",
       "               & (1.705)   & (0.957)   & (1.667)   & (1.503)    \\\\\n",
       "WA             & 0.008     &           & -0.018    & -0.006     \\\\\n",
       "               & (0.070)   &           & (0.069)   & (0.068)    \\\\\n",
       "I(WA ** 2)     & -0.001    &           & -0.000    & -0.000     \\\\\n",
       "               & (0.001)   &           & (0.001)   & (0.001)    \\\\\n",
       "WE             & 0.109***  & 0.124***  & 0.109***  & 0.123***   \\\\\n",
       "               & (0.024)   & (0.024)   & (0.024)   & (0.022)    \\\\\n",
       "KL6            & -0.851*** & -0.621*** & -0.847*** & -0.855***  \\\\\n",
       "               & (0.115)   & (0.098)   & (0.114)   & (0.115)    \\\\\n",
       "K618           & -0.063    & 0.031     &           &            \\\\\n",
       "               & (0.042)   & (0.036)   &           &            \\\\\n",
       "CIT            & -0.128    & -0.165    &           &            \\\\\n",
       "               & (0.107)   & (0.106)   &           &            \\\\\n",
       "UN             & -0.011    & -0.017    &           &            \\\\\n",
       "               & (0.016)   & (0.016)   &           &            \\\\\n",
       "np.log(FAMINC) & 0.200*    & 0.170*    & 0.163     &            \\\\\n",
       "               & (0.105)   & (0.103)   & (0.101)   &            \\\\\n",
       "\\hline\n",
       "\\end{tabular}\n",
       "\\end{center}\n",
       "\\end{table}\n",
       "\\bigskip\n",
       "Standard errors in parentheses. \\newline \n",
       "* p<.1, ** p<.05, ***p<.01"
      ],
      "text/plain": [
       "<class 'statsmodels.iolib.summary2.Summary'>\n",
       "\"\"\"\n",
       "\n",
       "======================================================\n",
       "                Модель 1  Модель 2  Модель 3  Модель 4\n",
       "------------------------------------------------------\n",
       "Intercept      -2.005    -2.673*** -1.435    -0.281   \n",
       "               (1.705)   (0.957)   (1.667)   (1.503)  \n",
       "WA             0.008               -0.018    -0.006   \n",
       "               (0.070)             (0.069)   (0.068)  \n",
       "I(WA ** 2)     -0.001              -0.000    -0.000   \n",
       "               (0.001)             (0.001)   (0.001)  \n",
       "WE             0.109***  0.124***  0.109***  0.123*** \n",
       "               (0.024)   (0.024)   (0.024)   (0.022)  \n",
       "KL6            -0.851*** -0.621*** -0.847*** -0.855***\n",
       "               (0.115)   (0.098)   (0.114)   (0.115)  \n",
       "K618           -0.063    0.031                        \n",
       "               (0.042)   (0.036)                      \n",
       "CIT            -0.128    -0.165                       \n",
       "               (0.107)   (0.106)                      \n",
       "UN             -0.011    -0.017                       \n",
       "               (0.016)   (0.016)                      \n",
       "np.log(FAMINC) 0.200*    0.170*    0.163              \n",
       "               (0.105)   (0.103)   (0.101)            \n",
       "======================================================\n",
       "Standard errors in parentheses.\n",
       "* p<.1, ** p<.05, ***p<.01\n",
       "\"\"\""
      ]
     },
     "execution_count": 66,
     "metadata": {},
     "output_type": "execute_result"
    }
   ],
   "source": [
    "# Сравнение моделей\n",
    "# Имена моделей\n",
    "mod_names = ['Модель 1', 'Модель 2', 'Модель 3', 'Модель 4']\n",
    "# порядок регрессоров в таблице\n",
    "reg_order = ['Intercept', 'WA', 'I(WA ** 2)', 'WE', 'KL6', 'K618', 'CIT','UN', 'np.log(FAMINC)']\n",
    "# Зависимая переменная LFP\n",
    "summary_col([res_1, res_2, res_3, res_4], model_names=mod_names, stars=True, regressor_order=reg_order, float_format='%.3f')"
   ]
  },
  {
   "cell_type": "markdown",
   "metadata": {},
   "source": [
    "## Качество подгонки. Базовые показатели\n",
    "\n",
    "### McDadden's $R^2$\n",
    "$$ \n",
    "\tR^2_{pseudo}=1-\\frac{\\log L_{full}}{\\log L_{null}}\n",
    "$$"
   ]
  },
  {
   "cell_type": "code",
   "execution_count": 41,
   "metadata": {},
   "outputs": [
    {
     "data": {
      "text/plain": [
       "0.102"
      ]
     },
     "execution_count": 41,
     "metadata": {},
     "output_type": "execute_result"
    }
   ],
   "source": [
    "# pseudoR2 for model 1\n",
    "res_1.prsquared.round(3)"
   ]
  },
  {
   "cell_type": "code",
   "execution_count": 42,
   "metadata": {},
   "outputs": [
    {
     "data": {
      "text/plain": [
       "0.076"
      ]
     },
     "execution_count": 42,
     "metadata": {},
     "output_type": "execute_result"
    }
   ],
   "source": [
    "# pseudoR2 for model 2\n",
    "res_2.prsquared.round(3)"
   ]
  },
  {
   "cell_type": "code",
   "execution_count": 43,
   "metadata": {},
   "outputs": [
    {
     "data": {
      "text/plain": [
       "0.097"
      ]
     },
     "execution_count": 43,
     "metadata": {},
     "output_type": "execute_result"
    }
   ],
   "source": [
    "# pseudoR2 for model 3\n",
    "res_3.prsquared.round(3)"
   ]
  },
  {
   "cell_type": "code",
   "execution_count": 44,
   "metadata": {},
   "outputs": [
    {
     "data": {
      "text/plain": [
       "0.095"
      ]
     },
     "execution_count": 44,
     "metadata": {},
     "output_type": "execute_result"
    }
   ],
   "source": [
    "# pseudoR2 for model 4\n",
    "res_4.prsquared.round(3)"
   ]
  },
  {
   "cell_type": "markdown",
   "metadata": {},
   "source": [
    "### McFadden’s Adjusted $R^2$\n",
    "$$ \n",
    "\tR^2_{adj}=1-\\frac{\\log L_{full}-k}{\\log L_{null}}\n",
    "$$"
   ]
  },
  {
   "cell_type": "code",
   "execution_count": 45,
   "metadata": {},
   "outputs": [
    {
     "data": {
      "text/plain": [
       "0.086"
      ]
     },
     "execution_count": 45,
     "metadata": {},
     "output_type": "execute_result"
    }
   ],
   "source": [
    "# pseudoR2.adj for model 1\n",
    "(1-(res_1.llf-res_1.df_model)/res_1.llnull).round(3)"
   ]
  },
  {
   "cell_type": "code",
   "execution_count": 46,
   "metadata": {},
   "outputs": [
    {
     "data": {
      "text/plain": [
       "0.064"
      ]
     },
     "execution_count": 46,
     "metadata": {},
     "output_type": "execute_result"
    }
   ],
   "source": [
    "# pseudoR2.adj for model 2\n",
    "(1-(res_2.llf-res_2.df_model)/res_2.llnull).round(3)"
   ]
  },
  {
   "cell_type": "code",
   "execution_count": 47,
   "metadata": {},
   "outputs": [
    {
     "data": {
      "text/plain": [
       "0.088"
      ]
     },
     "execution_count": 47,
     "metadata": {},
     "output_type": "execute_result"
    }
   ],
   "source": [
    "# pseudoR2.adj for model 3\n",
    "(1-(res_3.llf-res_3.df_model)/res_3.llnull).round(3)"
   ]
  },
  {
   "cell_type": "code",
   "execution_count": 48,
   "metadata": {},
   "outputs": [
    {
     "data": {
      "text/plain": [
       "0.087"
      ]
     },
     "execution_count": 48,
     "metadata": {},
     "output_type": "execute_result"
    }
   ],
   "source": [
    "# pseudoR2.adj for model 4\n",
    "(1-(res_4.llf-res_4.df_model)/res_4.llnull).round(3)"
   ]
  },
  {
   "cell_type": "markdown",
   "metadata": {},
   "source": [
    "### Cox & Snell $R^2$\n",
    "$$\n",
    "\tR^2_{C\\& S}=1-\\left(\\frac{L_{null}}{L_{full}}\\right)^{2/n}=1-\\left(\\frac{\\exp(\\log L_{null})}{\\exp(\\log L_{full})}\\right)^{2/n}=\n",
    "\t1-\\exp\\left(\\frac{2}{n}(\\log L_{null}-\\log L_{full})\\right)=1-\\exp\\left(-\\frac{LR}{n}\\right)\n",
    "$$"
   ]
  },
  {
   "cell_type": "code",
   "execution_count": 49,
   "metadata": {},
   "outputs": [
    {
     "data": {
      "text/plain": [
       "0.13"
      ]
     },
     "execution_count": 49,
     "metadata": {},
     "output_type": "execute_result"
    }
   ],
   "source": [
    "# Cox.Snell.R2 for model 1\n",
    "(1-np.exp(-res_1.llr/res_1.nobs)).round(3)"
   ]
  },
  {
   "cell_type": "code",
   "execution_count": 50,
   "metadata": {},
   "outputs": [
    {
     "data": {
      "text/plain": [
       "0.099"
      ]
     },
     "execution_count": 50,
     "metadata": {},
     "output_type": "execute_result"
    }
   ],
   "source": [
    "# Cox.Snell.R2 for model 2\n",
    "(1-np.exp(-res_2.llr/res_2.nobs)).round(3)"
   ]
  },
  {
   "cell_type": "code",
   "execution_count": 51,
   "metadata": {},
   "outputs": [
    {
     "data": {
      "text/plain": [
       "0.125"
      ]
     },
     "execution_count": 51,
     "metadata": {},
     "output_type": "execute_result"
    }
   ],
   "source": [
    "# Cox.Snell.R2 for model 3\n",
    "(1-np.exp(-res_3.llr/res_3.nobs)).round(3)"
   ]
  },
  {
   "cell_type": "code",
   "execution_count": 52,
   "metadata": {},
   "outputs": [
    {
     "data": {
      "text/plain": [
       "0.122"
      ]
     },
     "execution_count": 52,
     "metadata": {},
     "output_type": "execute_result"
    }
   ],
   "source": [
    "# Cox.Snell.R2 for model 4\n",
    "(1-np.exp(-res_4.llr/res_4.nobs)).round(3)"
   ]
  },
  {
   "cell_type": "markdown",
   "metadata": {},
   "source": [
    "### Nagelkerke / Cragg & Uhler $R^2$\n",
    "$$\n",
    "\tR^2_{N,C\\& U}=\\frac{1-\\left(\\frac{L_{null}}{L_{full}}\\right)^{2/n}}{1-L_{null}^{2/n}}=\n",
    "\t\\frac{1-\\exp\\left(-\\frac{LR}{n}\\right)}{1-\\exp(2\\log L_{null}/n)}\n",
    "$$"
   ]
  },
  {
   "cell_type": "code",
   "execution_count": 53,
   "metadata": {},
   "outputs": [
    {
     "data": {
      "text/plain": [
       "0.175"
      ]
     },
     "execution_count": 53,
     "metadata": {},
     "output_type": "execute_result"
    }
   ],
   "source": [
    "# Nagelkerke.R2 for model 1\n",
    "((1-np.exp(-res_1.llr/res_1.nobs))/(1-np.exp(2*res_1.llnull/res_1.nobs))).round(3)"
   ]
  },
  {
   "cell_type": "code",
   "execution_count": 54,
   "metadata": {},
   "outputs": [
    {
     "data": {
      "text/plain": [
       "0.133"
      ]
     },
     "execution_count": 54,
     "metadata": {},
     "output_type": "execute_result"
    }
   ],
   "source": [
    "# Nagelkerke.R2 for model 2\n",
    "((1-np.exp(-res_2.llr/res_2.nobs))/(1-np.exp(2*res_2.llnull/res_2.nobs))).round(3)"
   ]
  },
  {
   "cell_type": "code",
   "execution_count": 55,
   "metadata": {},
   "outputs": [
    {
     "data": {
      "text/plain": [
       "0.167"
      ]
     },
     "execution_count": 55,
     "metadata": {},
     "output_type": "execute_result"
    }
   ],
   "source": [
    "# Nagelkerke.R2 for model 3\n",
    "((1-np.exp(-res_3.llr/res_3.nobs))/(1-np.exp(2*res_3.llnull/res_3.nobs))).round(3)"
   ]
  },
  {
   "cell_type": "code",
   "execution_count": 56,
   "metadata": {},
   "outputs": [
    {
     "data": {
      "text/plain": [
       "0.163"
      ]
     },
     "execution_count": 56,
     "metadata": {},
     "output_type": "execute_result"
    }
   ],
   "source": [
    "# Nagelkerke.R2 for model 4\n",
    "((1-np.exp(-res_4.llr/res_4.nobs))/(1-np.exp(2*res_4.llnull/res_4.nobs))).round(3)"
   ]
  },
  {
   "cell_type": "markdown",
   "metadata": {},
   "source": [
    "### Efron's $R^2$\n",
    "$$\n",
    "\tR^2_{Efron}=1-\\frac{\\sum(y_i-\\hat{P}_i)^2}{\\sum(y_i-\\bar{y})^2}=1-\\frac{\\sum(y_i-\\hat{P}_i)^2}{n Var(y)}\n",
    "$$"
   ]
  },
  {
   "cell_type": "code",
   "execution_count": 57,
   "metadata": {},
   "outputs": [
    {
     "data": {
      "text/plain": [
       "0.133"
      ]
     },
     "execution_count": 57,
     "metadata": {},
     "output_type": "execute_result"
    }
   ],
   "source": [
    "# Efron.R2 for model 1\n",
    "(1-(np.sum(res_1.resid_response**2))/(res_1.nobs*np.var(mod_1.endog))).round(3)"
   ]
  },
  {
   "cell_type": "code",
   "execution_count": 58,
   "metadata": {},
   "outputs": [
    {
     "data": {
      "text/plain": [
       "0.1"
      ]
     },
     "execution_count": 58,
     "metadata": {},
     "output_type": "execute_result"
    }
   ],
   "source": [
    "# Efron.R2 for model 2\n",
    "(1-(np.sum(res_2.resid_response**2))/(res_2.nobs*np.var(mod_2.endog))).round(3)"
   ]
  },
  {
   "cell_type": "code",
   "execution_count": 59,
   "metadata": {},
   "outputs": [
    {
     "data": {
      "text/plain": [
       "0.127"
      ]
     },
     "execution_count": 59,
     "metadata": {},
     "output_type": "execute_result"
    }
   ],
   "source": [
    "# Efron.R2 for model 3\n",
    "(1-(np.sum(res_3.resid_response**2))/(res_3.nobs*np.var(mod_3.endog))).round(3)"
   ]
  },
  {
   "cell_type": "code",
   "execution_count": 60,
   "metadata": {},
   "outputs": [
    {
     "data": {
      "text/plain": [
       "0.123"
      ]
     },
     "execution_count": 60,
     "metadata": {},
     "output_type": "execute_result"
    }
   ],
   "source": [
    "# Efron.R2 for model 4\n",
    "(1-(np.sum(res_4.resid_response**2))/(res_4.nobs*np.var(mod_4.endog))).round(3)"
   ]
  },
  {
   "cell_type": "markdown",
   "metadata": {},
   "source": [
    "### McKelvey & Zavoina's $R^2$\n",
    "\n",
    "\\begin{align*}\n",
    "\tR^2_{logit}&=\\frac{Var(\\hat{P})}{Var(\\hat{P})+\\pi^2/3} & R^2_{probit}&=\\frac{Var(\\hat{P})}{Var(\\hat{P})+1}\n",
    "\\end{align*}\n"
   ]
  },
  {
   "cell_type": "code",
   "execution_count": 61,
   "metadata": {},
   "outputs": [
    {
     "data": {
      "text/plain": [
       "0.031"
      ]
     },
     "execution_count": 61,
     "metadata": {},
     "output_type": "execute_result"
    }
   ],
   "source": [
    "#McKelvey.Zavoina.R2 for model 1\n",
    "y_prob_1 = res_1.predict(mod_1.exog, transform=False)\n",
    "\n",
    "# probit\n",
    "(np.var(y_prob_1)/(np.var(y_prob_1)+1)).round(3)"
   ]
  },
  {
   "cell_type": "code",
   "execution_count": 62,
   "metadata": {},
   "outputs": [
    {
     "data": {
      "text/plain": [
       "0.024"
      ]
     },
     "execution_count": 62,
     "metadata": {},
     "output_type": "execute_result"
    }
   ],
   "source": [
    "#McKelvey.Zavoina.R2 for model 2\n",
    "y_prob_2 = res_2.predict(mod_2.exog, transform=False)\n",
    "\n",
    "# probit\n",
    "(np.var(y_prob_2)/(np.var(y_prob_2)+1)).round(3)"
   ]
  },
  {
   "cell_type": "code",
   "execution_count": 63,
   "metadata": {},
   "outputs": [
    {
     "data": {
      "text/plain": [
       "0.03"
      ]
     },
     "execution_count": 63,
     "metadata": {},
     "output_type": "execute_result"
    }
   ],
   "source": [
    "#McKelvey.Zavoina.R2 for model 3\n",
    "y_prob_3 = res_3.predict(mod_3.exog, transform=False)\n",
    "\n",
    "# probit\n",
    "(np.var(y_prob_3)/(np.var(y_prob_3)+1)).round(3)"
   ]
  },
  {
   "cell_type": "code",
   "execution_count": 64,
   "metadata": {},
   "outputs": [
    {
     "data": {
      "text/plain": [
       "0.029"
      ]
     },
     "execution_count": 64,
     "metadata": {},
     "output_type": "execute_result"
    }
   ],
   "source": [
    "#McKelvey.Zavoina.R2 for model 4\n",
    "y_prob_4 = res_4.predict(mod_4.exog, transform=False)\n",
    "\n",
    "# probit\n",
    "(np.var(y_prob_4)/(np.var(y_prob_4)+1)).round(3)"
   ]
  }
 ],
 "metadata": {
  "kernelspec": {
   "display_name": "base",
   "language": "python",
   "name": "python3"
  },
  "language_info": {
   "codemirror_mode": {
    "name": "ipython",
    "version": 3
   },
   "file_extension": ".py",
   "mimetype": "text/x-python",
   "name": "python",
   "nbconvert_exporter": "python",
   "pygments_lexer": "ipython3",
   "version": "3.11.5"
  }
 },
 "nbformat": 4,
 "nbformat_minor": 2
}
