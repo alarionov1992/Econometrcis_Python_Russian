{
 "cells": [
  {
   "cell_type": "markdown",
   "metadata": {},
   "source": [
    "# probit-регрессия: LR-тест, значимость регресии"
   ]
  },
  {
   "cell_type": "code",
   "execution_count": 1,
   "metadata": {},
   "outputs": [],
   "source": [
    "import numpy as np\n",
    "import pandas as pd\n",
    "import statsmodels.formula.api as smf\n",
    "from scipy.stats import chi2 # критические значения chi2\n",
    "\n",
    "# Не показывать FutureWarnings\n",
    "import warnings\n",
    "warnings.simplefilter(action='ignore', category=FutureWarning)"
   ]
  },
  {
   "cell_type": "code",
   "execution_count": 2,
   "metadata": {},
   "outputs": [
    {
     "data": {
      "text/html": [
       "<div>\n",
       "<style scoped>\n",
       "    .dataframe tbody tr th:only-of-type {\n",
       "        vertical-align: middle;\n",
       "    }\n",
       "\n",
       "    .dataframe tbody tr th {\n",
       "        vertical-align: top;\n",
       "    }\n",
       "\n",
       "    .dataframe thead th {\n",
       "        text-align: right;\n",
       "    }\n",
       "</style>\n",
       "<table border=\"1\" class=\"dataframe\">\n",
       "  <thead>\n",
       "    <tr style=\"text-align: right;\">\n",
       "      <th></th>\n",
       "      <th>occ</th>\n",
       "      <th>loanamt</th>\n",
       "      <th>action</th>\n",
       "      <th>msa</th>\n",
       "      <th>suffolk</th>\n",
       "      <th>appinc</th>\n",
       "      <th>typur</th>\n",
       "      <th>unit</th>\n",
       "      <th>married</th>\n",
       "      <th>dep</th>\n",
       "      <th>...</th>\n",
       "      <th>approve</th>\n",
       "      <th>mortno</th>\n",
       "      <th>mortperf</th>\n",
       "      <th>mortlat1</th>\n",
       "      <th>mortlat2</th>\n",
       "      <th>chist</th>\n",
       "      <th>multi</th>\n",
       "      <th>loanprc</th>\n",
       "      <th>thick</th>\n",
       "      <th>white</th>\n",
       "    </tr>\n",
       "  </thead>\n",
       "  <tbody>\n",
       "    <tr>\n",
       "      <th>0</th>\n",
       "      <td>1</td>\n",
       "      <td>89</td>\n",
       "      <td>1</td>\n",
       "      <td>1120</td>\n",
       "      <td>0</td>\n",
       "      <td>72</td>\n",
       "      <td>0</td>\n",
       "      <td>1.0</td>\n",
       "      <td>0.0</td>\n",
       "      <td>0.0</td>\n",
       "      <td>...</td>\n",
       "      <td>1</td>\n",
       "      <td>0</td>\n",
       "      <td>1</td>\n",
       "      <td>0</td>\n",
       "      <td>0</td>\n",
       "      <td>1</td>\n",
       "      <td>0.0</td>\n",
       "      <td>0.754237</td>\n",
       "      <td>0.0</td>\n",
       "      <td>1</td>\n",
       "    </tr>\n",
       "    <tr>\n",
       "      <th>1</th>\n",
       "      <td>1</td>\n",
       "      <td>128</td>\n",
       "      <td>3</td>\n",
       "      <td>1120</td>\n",
       "      <td>0</td>\n",
       "      <td>74</td>\n",
       "      <td>0</td>\n",
       "      <td>1.0</td>\n",
       "      <td>1.0</td>\n",
       "      <td>1.0</td>\n",
       "      <td>...</td>\n",
       "      <td>0</td>\n",
       "      <td>0</td>\n",
       "      <td>1</td>\n",
       "      <td>0</td>\n",
       "      <td>0</td>\n",
       "      <td>1</td>\n",
       "      <td>0.0</td>\n",
       "      <td>0.800000</td>\n",
       "      <td>1.0</td>\n",
       "      <td>1</td>\n",
       "    </tr>\n",
       "    <tr>\n",
       "      <th>2</th>\n",
       "      <td>1</td>\n",
       "      <td>128</td>\n",
       "      <td>1</td>\n",
       "      <td>1120</td>\n",
       "      <td>0</td>\n",
       "      <td>84</td>\n",
       "      <td>3</td>\n",
       "      <td>1.0</td>\n",
       "      <td>0.0</td>\n",
       "      <td>0.0</td>\n",
       "      <td>...</td>\n",
       "      <td>1</td>\n",
       "      <td>0</td>\n",
       "      <td>1</td>\n",
       "      <td>0</td>\n",
       "      <td>0</td>\n",
       "      <td>1</td>\n",
       "      <td>0.0</td>\n",
       "      <td>0.895105</td>\n",
       "      <td>1.0</td>\n",
       "      <td>1</td>\n",
       "    </tr>\n",
       "    <tr>\n",
       "      <th>3</th>\n",
       "      <td>1</td>\n",
       "      <td>66</td>\n",
       "      <td>1</td>\n",
       "      <td>1120</td>\n",
       "      <td>0</td>\n",
       "      <td>36</td>\n",
       "      <td>0</td>\n",
       "      <td>1.0</td>\n",
       "      <td>1.0</td>\n",
       "      <td>0.0</td>\n",
       "      <td>...</td>\n",
       "      <td>1</td>\n",
       "      <td>0</td>\n",
       "      <td>1</td>\n",
       "      <td>0</td>\n",
       "      <td>0</td>\n",
       "      <td>0</td>\n",
       "      <td>0.0</td>\n",
       "      <td>0.600000</td>\n",
       "      <td>0.0</td>\n",
       "      <td>1</td>\n",
       "    </tr>\n",
       "    <tr>\n",
       "      <th>4</th>\n",
       "      <td>1</td>\n",
       "      <td>120</td>\n",
       "      <td>1</td>\n",
       "      <td>1120</td>\n",
       "      <td>0</td>\n",
       "      <td>59</td>\n",
       "      <td>8</td>\n",
       "      <td>1.0</td>\n",
       "      <td>1.0</td>\n",
       "      <td>0.0</td>\n",
       "      <td>...</td>\n",
       "      <td>1</td>\n",
       "      <td>0</td>\n",
       "      <td>1</td>\n",
       "      <td>0</td>\n",
       "      <td>0</td>\n",
       "      <td>1</td>\n",
       "      <td>0.0</td>\n",
       "      <td>0.895522</td>\n",
       "      <td>0.0</td>\n",
       "      <td>1</td>\n",
       "    </tr>\n",
       "    <tr>\n",
       "      <th>...</th>\n",
       "      <td>...</td>\n",
       "      <td>...</td>\n",
       "      <td>...</td>\n",
       "      <td>...</td>\n",
       "      <td>...</td>\n",
       "      <td>...</td>\n",
       "      <td>...</td>\n",
       "      <td>...</td>\n",
       "      <td>...</td>\n",
       "      <td>...</td>\n",
       "      <td>...</td>\n",
       "      <td>...</td>\n",
       "      <td>...</td>\n",
       "      <td>...</td>\n",
       "      <td>...</td>\n",
       "      <td>...</td>\n",
       "      <td>...</td>\n",
       "      <td>...</td>\n",
       "      <td>...</td>\n",
       "      <td>...</td>\n",
       "      <td>...</td>\n",
       "    </tr>\n",
       "    <tr>\n",
       "      <th>1984</th>\n",
       "      <td>1</td>\n",
       "      <td>158</td>\n",
       "      <td>1</td>\n",
       "      <td>1120</td>\n",
       "      <td>0</td>\n",
       "      <td>96</td>\n",
       "      <td>0</td>\n",
       "      <td>1.0</td>\n",
       "      <td>1.0</td>\n",
       "      <td>0.0</td>\n",
       "      <td>...</td>\n",
       "      <td>1</td>\n",
       "      <td>0</td>\n",
       "      <td>1</td>\n",
       "      <td>0</td>\n",
       "      <td>0</td>\n",
       "      <td>1</td>\n",
       "      <td>0.0</td>\n",
       "      <td>0.897727</td>\n",
       "      <td>0.0</td>\n",
       "      <td>1</td>\n",
       "    </tr>\n",
       "    <tr>\n",
       "      <th>1985</th>\n",
       "      <td>1</td>\n",
       "      <td>35</td>\n",
       "      <td>1</td>\n",
       "      <td>1120</td>\n",
       "      <td>0</td>\n",
       "      <td>169</td>\n",
       "      <td>1</td>\n",
       "      <td>1.0</td>\n",
       "      <td>1.0</td>\n",
       "      <td>0.0</td>\n",
       "      <td>...</td>\n",
       "      <td>1</td>\n",
       "      <td>1</td>\n",
       "      <td>0</td>\n",
       "      <td>0</td>\n",
       "      <td>0</td>\n",
       "      <td>1</td>\n",
       "      <td>0.0</td>\n",
       "      <td>0.111111</td>\n",
       "      <td>0.0</td>\n",
       "      <td>1</td>\n",
       "    </tr>\n",
       "    <tr>\n",
       "      <th>1986</th>\n",
       "      <td>2</td>\n",
       "      <td>225</td>\n",
       "      <td>1</td>\n",
       "      <td>1120</td>\n",
       "      <td>0</td>\n",
       "      <td>49</td>\n",
       "      <td>0</td>\n",
       "      <td>2.0</td>\n",
       "      <td>1.0</td>\n",
       "      <td>0.0</td>\n",
       "      <td>...</td>\n",
       "      <td>1</td>\n",
       "      <td>0</td>\n",
       "      <td>1</td>\n",
       "      <td>0</td>\n",
       "      <td>0</td>\n",
       "      <td>1</td>\n",
       "      <td>1.0</td>\n",
       "      <td>1.000000</td>\n",
       "      <td>0.0</td>\n",
       "      <td>1</td>\n",
       "    </tr>\n",
       "    <tr>\n",
       "      <th>1987</th>\n",
       "      <td>1</td>\n",
       "      <td>98</td>\n",
       "      <td>1</td>\n",
       "      <td>1120</td>\n",
       "      <td>1</td>\n",
       "      <td>110</td>\n",
       "      <td>1</td>\n",
       "      <td>1.0</td>\n",
       "      <td>0.0</td>\n",
       "      <td>0.0</td>\n",
       "      <td>...</td>\n",
       "      <td>1</td>\n",
       "      <td>1</td>\n",
       "      <td>0</td>\n",
       "      <td>0</td>\n",
       "      <td>0</td>\n",
       "      <td>1</td>\n",
       "      <td>0.0</td>\n",
       "      <td>0.455814</td>\n",
       "      <td>0.0</td>\n",
       "      <td>1</td>\n",
       "    </tr>\n",
       "    <tr>\n",
       "      <th>1988</th>\n",
       "      <td>1</td>\n",
       "      <td>133</td>\n",
       "      <td>3</td>\n",
       "      <td>1120</td>\n",
       "      <td>0</td>\n",
       "      <td>55</td>\n",
       "      <td>0</td>\n",
       "      <td>1.0</td>\n",
       "      <td>0.0</td>\n",
       "      <td>0.0</td>\n",
       "      <td>...</td>\n",
       "      <td>0</td>\n",
       "      <td>0</td>\n",
       "      <td>1</td>\n",
       "      <td>0</td>\n",
       "      <td>0</td>\n",
       "      <td>1</td>\n",
       "      <td>0.0</td>\n",
       "      <td>0.898649</td>\n",
       "      <td>0.0</td>\n",
       "      <td>0</td>\n",
       "    </tr>\n",
       "  </tbody>\n",
       "</table>\n",
       "<p>1989 rows × 59 columns</p>\n",
       "</div>"
      ],
      "text/plain": [
       "      occ  loanamt  action   msa  suffolk  appinc  typur  unit  married  dep  \\\n",
       "0       1       89       1  1120        0      72      0   1.0      0.0  0.0   \n",
       "1       1      128       3  1120        0      74      0   1.0      1.0  1.0   \n",
       "2       1      128       1  1120        0      84      3   1.0      0.0  0.0   \n",
       "3       1       66       1  1120        0      36      0   1.0      1.0  0.0   \n",
       "4       1      120       1  1120        0      59      8   1.0      1.0  0.0   \n",
       "...   ...      ...     ...   ...      ...     ...    ...   ...      ...  ...   \n",
       "1984    1      158       1  1120        0      96      0   1.0      1.0  0.0   \n",
       "1985    1       35       1  1120        0     169      1   1.0      1.0  0.0   \n",
       "1986    2      225       1  1120        0      49      0   2.0      1.0  0.0   \n",
       "1987    1       98       1  1120        1     110      1   1.0      0.0  0.0   \n",
       "1988    1      133       3  1120        0      55      0   1.0      0.0  0.0   \n",
       "\n",
       "      ...  approve  mortno  mortperf  mortlat1  mortlat2  chist  multi  \\\n",
       "0     ...        1       0         1         0         0      1    0.0   \n",
       "1     ...        0       0         1         0         0      1    0.0   \n",
       "2     ...        1       0         1         0         0      1    0.0   \n",
       "3     ...        1       0         1         0         0      0    0.0   \n",
       "4     ...        1       0         1         0         0      1    0.0   \n",
       "...   ...      ...     ...       ...       ...       ...    ...    ...   \n",
       "1984  ...        1       0         1         0         0      1    0.0   \n",
       "1985  ...        1       1         0         0         0      1    0.0   \n",
       "1986  ...        1       0         1         0         0      1    1.0   \n",
       "1987  ...        1       1         0         0         0      1    0.0   \n",
       "1988  ...        0       0         1         0         0      1    0.0   \n",
       "\n",
       "       loanprc  thick  white  \n",
       "0     0.754237    0.0      1  \n",
       "1     0.800000    1.0      1  \n",
       "2     0.895105    1.0      1  \n",
       "3     0.600000    0.0      1  \n",
       "4     0.895522    0.0      1  \n",
       "...        ...    ...    ...  \n",
       "1984  0.897727    0.0      1  \n",
       "1985  0.111111    0.0      1  \n",
       "1986  1.000000    0.0      1  \n",
       "1987  0.455814    0.0      1  \n",
       "1988  0.898649    0.0      0  \n",
       "\n",
       "[1989 rows x 59 columns]"
      ]
     },
     "execution_count": 2,
     "metadata": {},
     "output_type": "execute_result"
    }
   ],
   "source": [
    "# импорт датасета\n",
    "df = pd.read_csv('https://raw.githubusercontent.com/artamonoff/econometrica/main/econometrica2/data-csv/loanapp.csv', na_values=(' ', '', '  '))\n",
    "# импорт данных из локального файла\n",
    "# df = pd.read_csv('loanapp.csv')\n",
    "df"
   ]
  },
  {
   "cell_type": "markdown",
   "metadata": {},
   "source": [
    "## Спецификация и подгонка модели\n",
    "Для датасета `loanapp`\n",
    "рассморим probit-регрессию **approve на appinc, unem, male, yjob, self**"
   ]
  },
  {
   "cell_type": "code",
   "execution_count": 3,
   "metadata": {},
   "outputs": [
    {
     "name": "stdout",
     "output_type": "stream",
     "text": [
      "Optimization terminated successfully.\n",
      "         Current function value: 0.371879\n",
      "         Iterations 5\n"
     ]
    },
    {
     "data": {
      "text/html": [
       "<table class=\"simpletable\">\n",
       "<caption>Probit Regression Results</caption>\n",
       "<tr>\n",
       "  <th>Dep. Variable:</th>        <td>approve</td>     <th>  No. Observations:  </th>  <td>  1974</td> \n",
       "</tr>\n",
       "<tr>\n",
       "  <th>Model:</th>                <td>Probit</td>      <th>  Df Residuals:      </th>  <td>  1968</td> \n",
       "</tr>\n",
       "<tr>\n",
       "  <th>Method:</th>                 <td>MLE</td>       <th>  Df Model:          </th>  <td>     5</td> \n",
       "</tr>\n",
       "<tr>\n",
       "  <th>Date:</th>            <td>Fri, 24 Nov 2023</td> <th>  Pseudo R-squ.:     </th> <td>0.005805</td>\n",
       "</tr>\n",
       "<tr>\n",
       "  <th>Time:</th>                <td>16:33:45</td>     <th>  Log-Likelihood:    </th> <td> -734.09</td>\n",
       "</tr>\n",
       "<tr>\n",
       "  <th>converged:</th>             <td>True</td>       <th>  LL-Null:           </th> <td> -738.38</td>\n",
       "</tr>\n",
       "<tr>\n",
       "  <th>Covariance Type:</th>     <td>nonrobust</td>    <th>  LLR p-value:       </th>  <td>0.1274</td> \n",
       "</tr>\n",
       "</table>\n",
       "<table class=\"simpletable\">\n",
       "<tr>\n",
       "      <td></td>         <th>coef</th>     <th>std err</th>      <th>z</th>      <th>P>|z|</th>  <th>[0.025</th>    <th>0.975]</th>  \n",
       "</tr>\n",
       "<tr>\n",
       "  <th>Intercept</th> <td>    1.2548</td> <td>    0.105</td> <td>   11.981</td> <td> 0.000</td> <td>    1.050</td> <td>    1.460</td>\n",
       "</tr>\n",
       "<tr>\n",
       "  <th>appinc</th>    <td>   -0.0004</td> <td>    0.000</td> <td>   -0.988</td> <td> 0.323</td> <td>   -0.001</td> <td>    0.000</td>\n",
       "</tr>\n",
       "<tr>\n",
       "  <th>unem</th>      <td>   -0.0341</td> <td>    0.016</td> <td>   -2.139</td> <td> 0.032</td> <td>   -0.065</td> <td>   -0.003</td>\n",
       "</tr>\n",
       "<tr>\n",
       "  <th>male</th>      <td>    0.1063</td> <td>    0.093</td> <td>    1.147</td> <td> 0.251</td> <td>   -0.075</td> <td>    0.288</td>\n",
       "</tr>\n",
       "<tr>\n",
       "  <th>yjob</th>      <td>    0.0059</td> <td>    0.033</td> <td>    0.178</td> <td> 0.859</td> <td>   -0.059</td> <td>    0.071</td>\n",
       "</tr>\n",
       "<tr>\n",
       "  <th>self</th>      <td>   -0.1255</td> <td>    0.105</td> <td>   -1.194</td> <td> 0.233</td> <td>   -0.331</td> <td>    0.081</td>\n",
       "</tr>\n",
       "</table>"
      ],
      "text/latex": [
       "\\begin{center}\n",
       "\\begin{tabular}{lclc}\n",
       "\\toprule\n",
       "\\textbf{Dep. Variable:}   &     approve      & \\textbf{  No. Observations:  } &     1974    \\\\\n",
       "\\textbf{Model:}           &      Probit      & \\textbf{  Df Residuals:      } &     1968    \\\\\n",
       "\\textbf{Method:}          &       MLE        & \\textbf{  Df Model:          } &        5    \\\\\n",
       "\\textbf{Date:}            & Fri, 24 Nov 2023 & \\textbf{  Pseudo R-squ.:     } &  0.005805   \\\\\n",
       "\\textbf{Time:}            &     16:33:45     & \\textbf{  Log-Likelihood:    } &   -734.09   \\\\\n",
       "\\textbf{converged:}       &       True       & \\textbf{  LL-Null:           } &   -738.38   \\\\\n",
       "\\textbf{Covariance Type:} &    nonrobust     & \\textbf{  LLR p-value:       } &   0.1274    \\\\\n",
       "\\bottomrule\n",
       "\\end{tabular}\n",
       "\\begin{tabular}{lcccccc}\n",
       "                   & \\textbf{coef} & \\textbf{std err} & \\textbf{z} & \\textbf{P$> |$z$|$} & \\textbf{[0.025} & \\textbf{0.975]}  \\\\\n",
       "\\midrule\n",
       "\\textbf{Intercept} &       1.2548  &        0.105     &    11.981  &         0.000        &        1.050    &        1.460     \\\\\n",
       "\\textbf{appinc}    &      -0.0004  &        0.000     &    -0.988  &         0.323        &       -0.001    &        0.000     \\\\\n",
       "\\textbf{unem}      &      -0.0341  &        0.016     &    -2.139  &         0.032        &       -0.065    &       -0.003     \\\\\n",
       "\\textbf{male}      &       0.1063  &        0.093     &     1.147  &         0.251        &       -0.075    &        0.288     \\\\\n",
       "\\textbf{yjob}      &       0.0059  &        0.033     &     0.178  &         0.859        &       -0.059    &        0.071     \\\\\n",
       "\\textbf{self}      &      -0.1255  &        0.105     &    -1.194  &         0.233        &       -0.331    &        0.081     \\\\\n",
       "\\bottomrule\n",
       "\\end{tabular}\n",
       "%\\caption{Probit Regression Results}\n",
       "\\end{center}"
      ],
      "text/plain": [
       "<class 'statsmodels.iolib.summary.Summary'>\n",
       "\"\"\"\n",
       "                          Probit Regression Results                           \n",
       "==============================================================================\n",
       "Dep. Variable:                approve   No. Observations:                 1974\n",
       "Model:                         Probit   Df Residuals:                     1968\n",
       "Method:                           MLE   Df Model:                            5\n",
       "Date:                Fri, 24 Nov 2023   Pseudo R-squ.:                0.005805\n",
       "Time:                        16:33:45   Log-Likelihood:                -734.09\n",
       "converged:                       True   LL-Null:                       -738.38\n",
       "Covariance Type:            nonrobust   LLR p-value:                    0.1274\n",
       "==============================================================================\n",
       "                 coef    std err          z      P>|z|      [0.025      0.975]\n",
       "------------------------------------------------------------------------------\n",
       "Intercept      1.2548      0.105     11.981      0.000       1.050       1.460\n",
       "appinc        -0.0004      0.000     -0.988      0.323      -0.001       0.000\n",
       "unem          -0.0341      0.016     -2.139      0.032      -0.065      -0.003\n",
       "male           0.1063      0.093      1.147      0.251      -0.075       0.288\n",
       "yjob           0.0059      0.033      0.178      0.859      -0.059       0.071\n",
       "self          -0.1255      0.105     -1.194      0.233      -0.331       0.081\n",
       "==============================================================================\n",
       "\"\"\""
      ]
     },
     "execution_count": 3,
     "metadata": {},
     "output_type": "execute_result"
    }
   ],
   "source": [
    "mod = smf.probit(formula='approve~appinc+unem+male+yjob+self', data=df) # спецификация модели\n",
    "res = mod.fit() # подгонка модели\n",
    "res.summary() # отчет"
   ]
  },
  {
   "cell_type": "code",
   "execution_count": 4,
   "metadata": {},
   "outputs": [
    {
     "data": {
      "text/plain": [
       "1974"
      ]
     },
     "execution_count": 4,
     "metadata": {},
     "output_type": "execute_result"
    }
   ],
   "source": [
    "# Число наблюдений, по которым была оценена модель\n",
    "res.nobs"
   ]
  },
  {
   "cell_type": "code",
   "execution_count": 5,
   "metadata": {},
   "outputs": [
    {
     "data": {
      "text/plain": [
       "-734.089"
      ]
     },
     "execution_count": 5,
     "metadata": {},
     "output_type": "execute_result"
    }
   ],
   "source": [
    "# логарифм функции правдоподобия для модели\n",
    "res.llf.round(3)"
   ]
  },
  {
   "cell_type": "code",
   "execution_count": 6,
   "metadata": {},
   "outputs": [
    {
     "data": {
      "text/plain": [
       "-738.375"
      ]
     },
     "execution_count": 6,
     "metadata": {},
     "output_type": "execute_result"
    }
   ],
   "source": [
    "# логарфим функции правдоподобия для регрессии без объясняющих переменных (только на константу)\n",
    "res.llnull.round(3)"
   ]
  },
  {
   "cell_type": "markdown",
   "metadata": {},
   "source": [
    "## LR-тест: значимость регресии\n",
    "Тестируем значимость регрессии, т.е. гипотезу $$H_0:\\beta_{appinc}=\\beta_{unem}=\\beta_{male}=\\beta_{yjob}=\\beta_{self}=0.$$\n",
    "\n",
    "При подгонке модели LR-статистика и её P-значение вычисляется по умолчанию"
   ]
  },
  {
   "cell_type": "markdown",
   "metadata": {},
   "source": [
    "## Вычислительные подробности\n",
    "$LR=2(\\log L-\\log L_{null})$, где \n",
    "- $\\log L$ – лог-правдоподобие для исходной регрессии\n",
    "- $\\log L_{null}$ - лог-правдоподобие для регрессии на константу"
   ]
  },
  {
   "cell_type": "markdown",
   "metadata": {},
   "source": [
    "## Уровень значимости\n",
    "Пусть уровень значимости $\\alpha=10\\%=0.1$"
   ]
  },
  {
   "cell_type": "code",
   "execution_count": 7,
   "metadata": {},
   "outputs": [
    {
     "data": {
      "text/plain": [
       "(8.573, 0.127)"
      ]
     },
     "execution_count": 7,
     "metadata": {},
     "output_type": "execute_result"
    }
   ],
   "source": [
    "# Тестовая статистика LR-теста и её P-значение с округленим\n",
    "res.llr.round(3), res.llr_pvalue.round(3)"
   ]
  },
  {
   "cell_type": "markdown",
   "metadata": {},
   "source": [
    "### Степени свободы для $\\chi^2$-распределения "
   ]
  },
  {
   "cell_type": "code",
   "execution_count": 8,
   "metadata": {},
   "outputs": [
    {
     "data": {
      "text/plain": [
       "5.0"
      ]
     },
     "execution_count": 8,
     "metadata": {},
     "output_type": "execute_result"
    }
   ],
   "source": [
    "res.df_model"
   ]
  },
  {
   "cell_type": "markdown",
   "metadata": {},
   "source": [
    "### Критическое значение $\\chi_{df}^2(\\alpha)$"
   ]
  },
  {
   "cell_type": "code",
   "execution_count": 9,
   "metadata": {},
   "outputs": [
    {
     "data": {
      "text/plain": [
       "9.236"
      ]
     },
     "execution_count": 9,
     "metadata": {},
     "output_type": "execute_result"
    }
   ],
   "source": [
    "sign_level = 0.1 # уровень значимости\n",
    "chi2.ppf(q=1-sign_level, df=res.df_model).round(3) "
   ]
  },
  {
   "cell_type": "markdown",
   "metadata": {},
   "source": [
    "### Значима ли регрессия? \n",
    "\n",
    "`Способ 1`\n",
    "\n",
    "---\n",
    "Отвергаем нулевую гипотезу при $LR_{stat}>\\chi_{df}^2(\\alpha)$, `регрессия значима`\n",
    "\n",
    "Не отвергаем нулевую гипотезу при $LR_{stat}<\\chi_{df}^2(\\alpha)$, `регрессия незначима`\n",
    "\n",
    "---\n",
    "\n",
    "`Способ 2`\n",
    "\n",
    "---\n",
    "Отвергаем нулевую гипотезу при $P<\\alpha$, `регрессия значима`\n",
    "\n",
    "Не отвергаем нулевую гипотезу при $P>\\alpha$, `регрессия незначима`\n",
    "\n",
    "---"
   ]
  },
  {
   "cell_type": "markdown",
   "metadata": {},
   "source": [
    "### **<span style=\"color:#59afe1\">Вывод о значимости регрессии</span>**, используя критическое значение\n",
    "\n",
    "`регрессия незначима` $(LR_{stat}<\\chi_{df}^2(\\alpha))$"
   ]
  },
  {
   "cell_type": "markdown",
   "metadata": {},
   "source": [
    "### **<span style=\"color:#59afe1\">Вывод о значимости регрессии</span>**, используя  $P$-значение\n",
    "\n",
    "`регрессия незначима` ($P>\\alpha$)"
   ]
  }
 ],
 "metadata": {
  "kernelspec": {
   "display_name": "base",
   "language": "python",
   "name": "python3"
  },
  "language_info": {
   "codemirror_mode": {
    "name": "ipython",
    "version": 3
   },
   "file_extension": ".py",
   "mimetype": "text/x-python",
   "name": "python",
   "nbconvert_exporter": "python",
   "pygments_lexer": "ipython3",
   "version": "3.11.5"
  }
 },
 "nbformat": 4,
 "nbformat_minor": 2
}
