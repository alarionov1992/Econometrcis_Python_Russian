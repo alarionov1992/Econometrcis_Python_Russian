{
 "cells": [
  {
   "cell_type": "markdown",
   "metadata": {},
   "source": [
    "# logit-регрессия: LR-тест "
   ]
  },
  {
   "cell_type": "code",
   "execution_count": 1,
   "metadata": {},
   "outputs": [],
   "source": [
    "import numpy as np\n",
    "import pandas as pd\n",
    "import statsmodels.formula.api as smf\n",
    "from scipy.stats import chi2 # критические значения chi2\n",
    "\n",
    "# Не показывать FutureWarnings\n",
    "import warnings\n",
    "warnings.simplefilter(action='ignore', category=FutureWarning)"
   ]
  },
  {
   "cell_type": "code",
   "execution_count": 2,
   "metadata": {},
   "outputs": [
    {
     "data": {
      "text/html": [
       "<div>\n",
       "<style scoped>\n",
       "    .dataframe tbody tr th:only-of-type {\n",
       "        vertical-align: middle;\n",
       "    }\n",
       "\n",
       "    .dataframe tbody tr th {\n",
       "        vertical-align: top;\n",
       "    }\n",
       "\n",
       "    .dataframe thead th {\n",
       "        text-align: right;\n",
       "    }\n",
       "</style>\n",
       "<table border=\"1\" class=\"dataframe\">\n",
       "  <thead>\n",
       "    <tr style=\"text-align: right;\">\n",
       "      <th></th>\n",
       "      <th>occ</th>\n",
       "      <th>loanamt</th>\n",
       "      <th>action</th>\n",
       "      <th>msa</th>\n",
       "      <th>suffolk</th>\n",
       "      <th>appinc</th>\n",
       "      <th>typur</th>\n",
       "      <th>unit</th>\n",
       "      <th>married</th>\n",
       "      <th>dep</th>\n",
       "      <th>...</th>\n",
       "      <th>approve</th>\n",
       "      <th>mortno</th>\n",
       "      <th>mortperf</th>\n",
       "      <th>mortlat1</th>\n",
       "      <th>mortlat2</th>\n",
       "      <th>chist</th>\n",
       "      <th>multi</th>\n",
       "      <th>loanprc</th>\n",
       "      <th>thick</th>\n",
       "      <th>white</th>\n",
       "    </tr>\n",
       "  </thead>\n",
       "  <tbody>\n",
       "    <tr>\n",
       "      <th>0</th>\n",
       "      <td>1</td>\n",
       "      <td>89</td>\n",
       "      <td>1</td>\n",
       "      <td>1120</td>\n",
       "      <td>0</td>\n",
       "      <td>72</td>\n",
       "      <td>0</td>\n",
       "      <td>1.0</td>\n",
       "      <td>0.0</td>\n",
       "      <td>0.0</td>\n",
       "      <td>...</td>\n",
       "      <td>1</td>\n",
       "      <td>0</td>\n",
       "      <td>1</td>\n",
       "      <td>0</td>\n",
       "      <td>0</td>\n",
       "      <td>1</td>\n",
       "      <td>0.0</td>\n",
       "      <td>0.754237</td>\n",
       "      <td>0.0</td>\n",
       "      <td>1</td>\n",
       "    </tr>\n",
       "    <tr>\n",
       "      <th>1</th>\n",
       "      <td>1</td>\n",
       "      <td>128</td>\n",
       "      <td>3</td>\n",
       "      <td>1120</td>\n",
       "      <td>0</td>\n",
       "      <td>74</td>\n",
       "      <td>0</td>\n",
       "      <td>1.0</td>\n",
       "      <td>1.0</td>\n",
       "      <td>1.0</td>\n",
       "      <td>...</td>\n",
       "      <td>0</td>\n",
       "      <td>0</td>\n",
       "      <td>1</td>\n",
       "      <td>0</td>\n",
       "      <td>0</td>\n",
       "      <td>1</td>\n",
       "      <td>0.0</td>\n",
       "      <td>0.800000</td>\n",
       "      <td>1.0</td>\n",
       "      <td>1</td>\n",
       "    </tr>\n",
       "    <tr>\n",
       "      <th>2</th>\n",
       "      <td>1</td>\n",
       "      <td>128</td>\n",
       "      <td>1</td>\n",
       "      <td>1120</td>\n",
       "      <td>0</td>\n",
       "      <td>84</td>\n",
       "      <td>3</td>\n",
       "      <td>1.0</td>\n",
       "      <td>0.0</td>\n",
       "      <td>0.0</td>\n",
       "      <td>...</td>\n",
       "      <td>1</td>\n",
       "      <td>0</td>\n",
       "      <td>1</td>\n",
       "      <td>0</td>\n",
       "      <td>0</td>\n",
       "      <td>1</td>\n",
       "      <td>0.0</td>\n",
       "      <td>0.895105</td>\n",
       "      <td>1.0</td>\n",
       "      <td>1</td>\n",
       "    </tr>\n",
       "    <tr>\n",
       "      <th>3</th>\n",
       "      <td>1</td>\n",
       "      <td>66</td>\n",
       "      <td>1</td>\n",
       "      <td>1120</td>\n",
       "      <td>0</td>\n",
       "      <td>36</td>\n",
       "      <td>0</td>\n",
       "      <td>1.0</td>\n",
       "      <td>1.0</td>\n",
       "      <td>0.0</td>\n",
       "      <td>...</td>\n",
       "      <td>1</td>\n",
       "      <td>0</td>\n",
       "      <td>1</td>\n",
       "      <td>0</td>\n",
       "      <td>0</td>\n",
       "      <td>0</td>\n",
       "      <td>0.0</td>\n",
       "      <td>0.600000</td>\n",
       "      <td>0.0</td>\n",
       "      <td>1</td>\n",
       "    </tr>\n",
       "    <tr>\n",
       "      <th>4</th>\n",
       "      <td>1</td>\n",
       "      <td>120</td>\n",
       "      <td>1</td>\n",
       "      <td>1120</td>\n",
       "      <td>0</td>\n",
       "      <td>59</td>\n",
       "      <td>8</td>\n",
       "      <td>1.0</td>\n",
       "      <td>1.0</td>\n",
       "      <td>0.0</td>\n",
       "      <td>...</td>\n",
       "      <td>1</td>\n",
       "      <td>0</td>\n",
       "      <td>1</td>\n",
       "      <td>0</td>\n",
       "      <td>0</td>\n",
       "      <td>1</td>\n",
       "      <td>0.0</td>\n",
       "      <td>0.895522</td>\n",
       "      <td>0.0</td>\n",
       "      <td>1</td>\n",
       "    </tr>\n",
       "    <tr>\n",
       "      <th>...</th>\n",
       "      <td>...</td>\n",
       "      <td>...</td>\n",
       "      <td>...</td>\n",
       "      <td>...</td>\n",
       "      <td>...</td>\n",
       "      <td>...</td>\n",
       "      <td>...</td>\n",
       "      <td>...</td>\n",
       "      <td>...</td>\n",
       "      <td>...</td>\n",
       "      <td>...</td>\n",
       "      <td>...</td>\n",
       "      <td>...</td>\n",
       "      <td>...</td>\n",
       "      <td>...</td>\n",
       "      <td>...</td>\n",
       "      <td>...</td>\n",
       "      <td>...</td>\n",
       "      <td>...</td>\n",
       "      <td>...</td>\n",
       "      <td>...</td>\n",
       "    </tr>\n",
       "    <tr>\n",
       "      <th>1984</th>\n",
       "      <td>1</td>\n",
       "      <td>158</td>\n",
       "      <td>1</td>\n",
       "      <td>1120</td>\n",
       "      <td>0</td>\n",
       "      <td>96</td>\n",
       "      <td>0</td>\n",
       "      <td>1.0</td>\n",
       "      <td>1.0</td>\n",
       "      <td>0.0</td>\n",
       "      <td>...</td>\n",
       "      <td>1</td>\n",
       "      <td>0</td>\n",
       "      <td>1</td>\n",
       "      <td>0</td>\n",
       "      <td>0</td>\n",
       "      <td>1</td>\n",
       "      <td>0.0</td>\n",
       "      <td>0.897727</td>\n",
       "      <td>0.0</td>\n",
       "      <td>1</td>\n",
       "    </tr>\n",
       "    <tr>\n",
       "      <th>1985</th>\n",
       "      <td>1</td>\n",
       "      <td>35</td>\n",
       "      <td>1</td>\n",
       "      <td>1120</td>\n",
       "      <td>0</td>\n",
       "      <td>169</td>\n",
       "      <td>1</td>\n",
       "      <td>1.0</td>\n",
       "      <td>1.0</td>\n",
       "      <td>0.0</td>\n",
       "      <td>...</td>\n",
       "      <td>1</td>\n",
       "      <td>1</td>\n",
       "      <td>0</td>\n",
       "      <td>0</td>\n",
       "      <td>0</td>\n",
       "      <td>1</td>\n",
       "      <td>0.0</td>\n",
       "      <td>0.111111</td>\n",
       "      <td>0.0</td>\n",
       "      <td>1</td>\n",
       "    </tr>\n",
       "    <tr>\n",
       "      <th>1986</th>\n",
       "      <td>2</td>\n",
       "      <td>225</td>\n",
       "      <td>1</td>\n",
       "      <td>1120</td>\n",
       "      <td>0</td>\n",
       "      <td>49</td>\n",
       "      <td>0</td>\n",
       "      <td>2.0</td>\n",
       "      <td>1.0</td>\n",
       "      <td>0.0</td>\n",
       "      <td>...</td>\n",
       "      <td>1</td>\n",
       "      <td>0</td>\n",
       "      <td>1</td>\n",
       "      <td>0</td>\n",
       "      <td>0</td>\n",
       "      <td>1</td>\n",
       "      <td>1.0</td>\n",
       "      <td>1.000000</td>\n",
       "      <td>0.0</td>\n",
       "      <td>1</td>\n",
       "    </tr>\n",
       "    <tr>\n",
       "      <th>1987</th>\n",
       "      <td>1</td>\n",
       "      <td>98</td>\n",
       "      <td>1</td>\n",
       "      <td>1120</td>\n",
       "      <td>1</td>\n",
       "      <td>110</td>\n",
       "      <td>1</td>\n",
       "      <td>1.0</td>\n",
       "      <td>0.0</td>\n",
       "      <td>0.0</td>\n",
       "      <td>...</td>\n",
       "      <td>1</td>\n",
       "      <td>1</td>\n",
       "      <td>0</td>\n",
       "      <td>0</td>\n",
       "      <td>0</td>\n",
       "      <td>1</td>\n",
       "      <td>0.0</td>\n",
       "      <td>0.455814</td>\n",
       "      <td>0.0</td>\n",
       "      <td>1</td>\n",
       "    </tr>\n",
       "    <tr>\n",
       "      <th>1988</th>\n",
       "      <td>1</td>\n",
       "      <td>133</td>\n",
       "      <td>3</td>\n",
       "      <td>1120</td>\n",
       "      <td>0</td>\n",
       "      <td>55</td>\n",
       "      <td>0</td>\n",
       "      <td>1.0</td>\n",
       "      <td>0.0</td>\n",
       "      <td>0.0</td>\n",
       "      <td>...</td>\n",
       "      <td>0</td>\n",
       "      <td>0</td>\n",
       "      <td>1</td>\n",
       "      <td>0</td>\n",
       "      <td>0</td>\n",
       "      <td>1</td>\n",
       "      <td>0.0</td>\n",
       "      <td>0.898649</td>\n",
       "      <td>0.0</td>\n",
       "      <td>0</td>\n",
       "    </tr>\n",
       "  </tbody>\n",
       "</table>\n",
       "<p>1989 rows × 59 columns</p>\n",
       "</div>"
      ],
      "text/plain": [
       "      occ  loanamt  action   msa  suffolk  appinc  typur  unit  married  dep  \\\n",
       "0       1       89       1  1120        0      72      0   1.0      0.0  0.0   \n",
       "1       1      128       3  1120        0      74      0   1.0      1.0  1.0   \n",
       "2       1      128       1  1120        0      84      3   1.0      0.0  0.0   \n",
       "3       1       66       1  1120        0      36      0   1.0      1.0  0.0   \n",
       "4       1      120       1  1120        0      59      8   1.0      1.0  0.0   \n",
       "...   ...      ...     ...   ...      ...     ...    ...   ...      ...  ...   \n",
       "1984    1      158       1  1120        0      96      0   1.0      1.0  0.0   \n",
       "1985    1       35       1  1120        0     169      1   1.0      1.0  0.0   \n",
       "1986    2      225       1  1120        0      49      0   2.0      1.0  0.0   \n",
       "1987    1       98       1  1120        1     110      1   1.0      0.0  0.0   \n",
       "1988    1      133       3  1120        0      55      0   1.0      0.0  0.0   \n",
       "\n",
       "      ...  approve  mortno  mortperf  mortlat1  mortlat2  chist  multi  \\\n",
       "0     ...        1       0         1         0         0      1    0.0   \n",
       "1     ...        0       0         1         0         0      1    0.0   \n",
       "2     ...        1       0         1         0         0      1    0.0   \n",
       "3     ...        1       0         1         0         0      0    0.0   \n",
       "4     ...        1       0         1         0         0      1    0.0   \n",
       "...   ...      ...     ...       ...       ...       ...    ...    ...   \n",
       "1984  ...        1       0         1         0         0      1    0.0   \n",
       "1985  ...        1       1         0         0         0      1    0.0   \n",
       "1986  ...        1       0         1         0         0      1    1.0   \n",
       "1987  ...        1       1         0         0         0      1    0.0   \n",
       "1988  ...        0       0         1         0         0      1    0.0   \n",
       "\n",
       "       loanprc  thick  white  \n",
       "0     0.754237    0.0      1  \n",
       "1     0.800000    1.0      1  \n",
       "2     0.895105    1.0      1  \n",
       "3     0.600000    0.0      1  \n",
       "4     0.895522    0.0      1  \n",
       "...        ...    ...    ...  \n",
       "1984  0.897727    0.0      1  \n",
       "1985  0.111111    0.0      1  \n",
       "1986  1.000000    0.0      1  \n",
       "1987  0.455814    0.0      1  \n",
       "1988  0.898649    0.0      0  \n",
       "\n",
       "[1989 rows x 59 columns]"
      ]
     },
     "execution_count": 2,
     "metadata": {},
     "output_type": "execute_result"
    }
   ],
   "source": [
    "# импорт датасета\n",
    "df = pd.read_csv('https://raw.githubusercontent.com/artamonoff/econometrica/main/econometrica2/data-csv/loanapp.csv', na_values=(' ', '', '  '))\n",
    "# импорт данных из локального файла\n",
    "# df = pd.read_csv('loanapp.csv')\n",
    "df"
   ]
  },
  {
   "cell_type": "markdown",
   "metadata": {},
   "source": [
    "# LR-тест: значимость регресии"
   ]
  },
  {
   "cell_type": "markdown",
   "metadata": {},
   "source": [
    "## Спецификация и подгонка модели\n",
    "Для датасета `loanapp`\n",
    "рассморим logit-регрессию **approve на appinc, appinc^2, mortno, unem, dep, male, married, yjob, self**"
   ]
  },
  {
   "cell_type": "code",
   "execution_count": 3,
   "metadata": {},
   "outputs": [
    {
     "name": "stdout",
     "output_type": "stream",
     "text": [
      "Optimization terminated successfully.\n",
      "         Current function value: 0.362116\n",
      "         Iterations 7\n"
     ]
    },
    {
     "data": {
      "text/html": [
       "<table class=\"simpletable\">\n",
       "<caption>Logit Regression Results</caption>\n",
       "<tr>\n",
       "  <th>Dep. Variable:</th>        <td>approve</td>     <th>  No. Observations:  </th>  <td>  1971</td>  \n",
       "</tr>\n",
       "<tr>\n",
       "  <th>Model:</th>                 <td>Logit</td>      <th>  Df Residuals:      </th>  <td>  1961</td>  \n",
       "</tr>\n",
       "<tr>\n",
       "  <th>Method:</th>                 <td>MLE</td>       <th>  Df Model:          </th>  <td>     9</td>  \n",
       "</tr>\n",
       "<tr>\n",
       "  <th>Date:</th>            <td>Thu, 23 Nov 2023</td> <th>  Pseudo R-squ.:     </th>  <td>0.03286</td> \n",
       "</tr>\n",
       "<tr>\n",
       "  <th>Time:</th>                <td>12:58:34</td>     <th>  Log-Likelihood:    </th> <td> -713.73</td> \n",
       "</tr>\n",
       "<tr>\n",
       "  <th>converged:</th>             <td>True</td>       <th>  LL-Null:           </th> <td> -737.98</td> \n",
       "</tr>\n",
       "<tr>\n",
       "  <th>Covariance Type:</th>     <td>nonrobust</td>    <th>  LLR p-value:       </th> <td>2.063e-07</td>\n",
       "</tr>\n",
       "</table>\n",
       "<table class=\"simpletable\">\n",
       "<tr>\n",
       "         <td></td>           <th>coef</th>     <th>std err</th>      <th>z</th>      <th>P>|z|</th>  <th>[0.025</th>    <th>0.975]</th>  \n",
       "</tr>\n",
       "<tr>\n",
       "  <th>Intercept</th>      <td>    1.6806</td> <td>    0.228</td> <td>    7.363</td> <td> 0.000</td> <td>    1.233</td> <td>    2.128</td>\n",
       "</tr>\n",
       "<tr>\n",
       "  <th>appinc</th>         <td>    0.0042</td> <td>    0.002</td> <td>    1.724</td> <td> 0.085</td> <td>   -0.001</td> <td>    0.009</td>\n",
       "</tr>\n",
       "<tr>\n",
       "  <th>I(appinc ** 2)</th> <td>-7.338e-06</td> <td>  3.3e-06</td> <td>   -2.226</td> <td> 0.026</td> <td>-1.38e-05</td> <td>-8.76e-07</td>\n",
       "</tr>\n",
       "<tr>\n",
       "  <th>mortno</th>         <td>    0.7072</td> <td>    0.175</td> <td>    4.042</td> <td> 0.000</td> <td>    0.364</td> <td>    1.050</td>\n",
       "</tr>\n",
       "<tr>\n",
       "  <th>unem</th>           <td>   -0.0498</td> <td>    0.030</td> <td>   -1.685</td> <td> 0.092</td> <td>   -0.108</td> <td>    0.008</td>\n",
       "</tr>\n",
       "<tr>\n",
       "  <th>dep</th>            <td>   -0.1545</td> <td>    0.065</td> <td>   -2.371</td> <td> 0.018</td> <td>   -0.282</td> <td>   -0.027</td>\n",
       "</tr>\n",
       "<tr>\n",
       "  <th>male</th>           <td>   -0.0207</td> <td>    0.188</td> <td>   -0.110</td> <td> 0.912</td> <td>   -0.388</td> <td>    0.347</td>\n",
       "</tr>\n",
       "<tr>\n",
       "  <th>married</th>        <td>    0.3977</td> <td>    0.163</td> <td>    2.438</td> <td> 0.015</td> <td>    0.078</td> <td>    0.718</td>\n",
       "</tr>\n",
       "<tr>\n",
       "  <th>yjob</th>           <td>   -0.0101</td> <td>    0.065</td> <td>   -0.156</td> <td> 0.876</td> <td>   -0.137</td> <td>    0.117</td>\n",
       "</tr>\n",
       "<tr>\n",
       "  <th>self</th>           <td>   -0.3593</td> <td>    0.200</td> <td>   -1.801</td> <td> 0.072</td> <td>   -0.750</td> <td>    0.032</td>\n",
       "</tr>\n",
       "</table>"
      ],
      "text/latex": [
       "\\begin{center}\n",
       "\\begin{tabular}{lclc}\n",
       "\\toprule\n",
       "\\textbf{Dep. Variable:}   &     approve      & \\textbf{  No. Observations:  } &     1971    \\\\\n",
       "\\textbf{Model:}           &      Logit       & \\textbf{  Df Residuals:      } &     1961    \\\\\n",
       "\\textbf{Method:}          &       MLE        & \\textbf{  Df Model:          } &        9    \\\\\n",
       "\\textbf{Date:}            & Thu, 23 Nov 2023 & \\textbf{  Pseudo R-squ.:     } &  0.03286    \\\\\n",
       "\\textbf{Time:}            &     12:58:34     & \\textbf{  Log-Likelihood:    } &   -713.73   \\\\\n",
       "\\textbf{converged:}       &       True       & \\textbf{  LL-Null:           } &   -737.98   \\\\\n",
       "\\textbf{Covariance Type:} &    nonrobust     & \\textbf{  LLR p-value:       } & 2.063e-07   \\\\\n",
       "\\bottomrule\n",
       "\\end{tabular}\n",
       "\\begin{tabular}{lcccccc}\n",
       "                        & \\textbf{coef} & \\textbf{std err} & \\textbf{z} & \\textbf{P$> |$z$|$} & \\textbf{[0.025} & \\textbf{0.975]}  \\\\\n",
       "\\midrule\n",
       "\\textbf{Intercept}      &       1.6806  &        0.228     &     7.363  &         0.000        &        1.233    &        2.128     \\\\\n",
       "\\textbf{appinc}         &       0.0042  &        0.002     &     1.724  &         0.085        &       -0.001    &        0.009     \\\\\n",
       "\\textbf{I(appinc ** 2)} &   -7.338e-06  &      3.3e-06     &    -2.226  &         0.026        &    -1.38e-05    &    -8.76e-07     \\\\\n",
       "\\textbf{mortno}         &       0.7072  &        0.175     &     4.042  &         0.000        &        0.364    &        1.050     \\\\\n",
       "\\textbf{unem}           &      -0.0498  &        0.030     &    -1.685  &         0.092        &       -0.108    &        0.008     \\\\\n",
       "\\textbf{dep}            &      -0.1545  &        0.065     &    -2.371  &         0.018        &       -0.282    &       -0.027     \\\\\n",
       "\\textbf{male}           &      -0.0207  &        0.188     &    -0.110  &         0.912        &       -0.388    &        0.347     \\\\\n",
       "\\textbf{married}        &       0.3977  &        0.163     &     2.438  &         0.015        &        0.078    &        0.718     \\\\\n",
       "\\textbf{yjob}           &      -0.0101  &        0.065     &    -0.156  &         0.876        &       -0.137    &        0.117     \\\\\n",
       "\\textbf{self}           &      -0.3593  &        0.200     &    -1.801  &         0.072        &       -0.750    &        0.032     \\\\\n",
       "\\bottomrule\n",
       "\\end{tabular}\n",
       "%\\caption{Logit Regression Results}\n",
       "\\end{center}"
      ],
      "text/plain": [
       "<class 'statsmodels.iolib.summary.Summary'>\n",
       "\"\"\"\n",
       "                           Logit Regression Results                           \n",
       "==============================================================================\n",
       "Dep. Variable:                approve   No. Observations:                 1971\n",
       "Model:                          Logit   Df Residuals:                     1961\n",
       "Method:                           MLE   Df Model:                            9\n",
       "Date:                Thu, 23 Nov 2023   Pseudo R-squ.:                 0.03286\n",
       "Time:                        12:58:34   Log-Likelihood:                -713.73\n",
       "converged:                       True   LL-Null:                       -737.98\n",
       "Covariance Type:            nonrobust   LLR p-value:                 2.063e-07\n",
       "==================================================================================\n",
       "                     coef    std err          z      P>|z|      [0.025      0.975]\n",
       "----------------------------------------------------------------------------------\n",
       "Intercept          1.6806      0.228      7.363      0.000       1.233       2.128\n",
       "appinc             0.0042      0.002      1.724      0.085      -0.001       0.009\n",
       "I(appinc ** 2) -7.338e-06    3.3e-06     -2.226      0.026   -1.38e-05   -8.76e-07\n",
       "mortno             0.7072      0.175      4.042      0.000       0.364       1.050\n",
       "unem              -0.0498      0.030     -1.685      0.092      -0.108       0.008\n",
       "dep               -0.1545      0.065     -2.371      0.018      -0.282      -0.027\n",
       "male              -0.0207      0.188     -0.110      0.912      -0.388       0.347\n",
       "married            0.3977      0.163      2.438      0.015       0.078       0.718\n",
       "yjob              -0.0101      0.065     -0.156      0.876      -0.137       0.117\n",
       "self              -0.3593      0.200     -1.801      0.072      -0.750       0.032\n",
       "==================================================================================\n",
       "\"\"\""
      ]
     },
     "execution_count": 3,
     "metadata": {},
     "output_type": "execute_result"
    }
   ],
   "source": [
    "mod = smf.logit(formula='approve~appinc+I(appinc**2)+mortno+unem+dep+male+married+yjob+self', data=df) # спецификация модели\n",
    "res = mod.fit() # подгонка модели\n",
    "res.summary() # отчет"
   ]
  },
  {
   "cell_type": "code",
   "execution_count": 4,
   "metadata": {},
   "outputs": [
    {
     "data": {
      "text/plain": [
       "1971"
      ]
     },
     "execution_count": 4,
     "metadata": {},
     "output_type": "execute_result"
    }
   ],
   "source": [
    "# Число наблюдений, по которым была оценена модель\n",
    "res.nobs"
   ]
  },
  {
   "cell_type": "code",
   "execution_count": 5,
   "metadata": {},
   "outputs": [
    {
     "data": {
      "text/plain": [
       "-713.731"
      ]
     },
     "execution_count": 5,
     "metadata": {},
     "output_type": "execute_result"
    }
   ],
   "source": [
    "# логарифм функции правдоподобия для модели\n",
    "res.llf.round(3)"
   ]
  },
  {
   "cell_type": "code",
   "execution_count": 6,
   "metadata": {},
   "outputs": [
    {
     "data": {
      "text/plain": [
       "-737.979"
      ]
     },
     "execution_count": 6,
     "metadata": {},
     "output_type": "execute_result"
    }
   ],
   "source": [
    "# логарфим функции правдоподобия для регрессии без объясняющих переменных (только на константу)\n",
    "res.llnull.round(3)"
   ]
  },
  {
   "cell_type": "markdown",
   "metadata": {},
   "source": [
    "## Гипотеза\n",
    "Тестируем значимость регрессии, т.е. гипотезу $$H_0:\\beta_{appinc}=\\beta_{appinc^2}=\\beta_{mortno}=\\beta_{unem}=\\beta_{dep}=\\beta_{male}=\\beta_{married}=\\beta_{yjob}=\\beta_{self}=0.$$"
   ]
  },
  {
   "cell_type": "markdown",
   "metadata": {},
   "source": [
    "## Уровень значимости\n",
    "Пусть уровень значимости $\\alpha=5\\%=0.05$"
   ]
  },
  {
   "cell_type": "code",
   "execution_count": 7,
   "metadata": {},
   "outputs": [
    {
     "data": {
      "text/plain": [
       "(48.496, 0.0)"
      ]
     },
     "execution_count": 7,
     "metadata": {},
     "output_type": "execute_result"
    }
   ],
   "source": [
    "# Тестовая статистика LR-теста и её P-значение с округленим\n",
    "res.llr.round(3), res.llr_pvalue.round(3)"
   ]
  },
  {
   "cell_type": "markdown",
   "metadata": {},
   "source": [
    "### Критическое значение $\\chi_{df=k}^2(\\alpha)$"
   ]
  },
  {
   "cell_type": "code",
   "execution_count": 8,
   "metadata": {},
   "outputs": [
    {
     "data": {
      "text/plain": [
       "14.684"
      ]
     },
     "execution_count": 8,
     "metadata": {},
     "output_type": "execute_result"
    }
   ],
   "source": [
    "sign_level = 0.1 # уровень значимости\n",
    "chi2.ppf(q=1-sign_level, df=res.df_model).round(3) "
   ]
  },
  {
   "cell_type": "markdown",
   "metadata": {},
   "source": [
    "### Значима ли регрессия? \n",
    "\n",
    "`Способ 1`\n",
    "\n",
    "---\n",
    "Отвергаем нулевую гипотезу при $LR_{stat}>\\chi_{df=k}^2(\\alpha)$, `регрессия значима`\n",
    "\n",
    "Не отвергаем нулевую гипотезу при $LR_{stat}<\\chi_{df=k}^2(\\alpha)$, `регрессия незначима`\n",
    "\n",
    "---\n",
    "\n",
    "`Способ 2`\n",
    "\n",
    "---\n",
    "Отвергаем нулевую гипотезу при $P<\\alpha$, `регрессия значима`\n",
    "\n",
    "Не отвергаем нулевую гипотезу при $P>\\alpha$, `регрессия незначима`\n",
    "\n",
    "---"
   ]
  },
  {
   "cell_type": "markdown",
   "metadata": {},
   "source": [
    "### **<span style=\"color:#59afe1\">Вывод о значимости регрессии</span>**, используя критическое значение\n",
    "\n",
    "`регрессия незначима` $(LR_{stat}<\\chi_{df=k}^2(\\alpha))$"
   ]
  },
  {
   "cell_type": "markdown",
   "metadata": {},
   "source": [
    "### **<span style=\"color:#59afe1\">Вывод о значимости регрессии</span>**, используя  $P$-значение\n",
    "\n",
    "`регрессия незначима` ($P>\\alpha$)"
   ]
  },
  {
   "cell_type": "markdown",
   "metadata": {},
   "source": [
    "# LR-тест: совместная значимость"
   ]
  },
  {
   "cell_type": "markdown",
   "metadata": {},
   "source": [
    "## Гипотеза\n",
    "Тестируем значимость влияния дохода, т.е. $$H_0:\\beta_{appinc}=\\beta_{appinc^2}=0.$$"
   ]
  },
  {
   "cell_type": "markdown",
   "metadata": {},
   "source": [
    "## Уровень значимости\n",
    "Пусть уровень значимости $\\alpha=1\\%=0.01$"
   ]
  },
  {
   "cell_type": "code",
   "execution_count": 9,
   "metadata": {},
   "outputs": [
    {
     "name": "stdout",
     "output_type": "stream",
     "text": [
      "Optimization terminated successfully.\n",
      "         Current function value: 0.363993\n",
      "         Iterations 7\n"
     ]
    }
   ],
   "source": [
    "restricted = smf.logit(formula='approve~mortno+unem+dep+male+married+yjob+self', data=df).fit() # спецификация и подгонка модели"
   ]
  },
  {
   "cell_type": "code",
   "execution_count": 10,
   "metadata": {},
   "outputs": [
    {
     "ename": "AttributeError",
     "evalue": "'LogitResults' object has no attribute 'compare_lr_test'",
     "output_type": "error",
     "traceback": [
      "\u001b[0;31m---------------------------------------------------------------------------\u001b[0m",
      "\u001b[0;31mAttributeError\u001b[0m                            Traceback (most recent call last)",
      "\u001b[1;32m/Users/lata/Documents/GitHub/econometrica/econometrica2/jupyter-notebooks/List22/logit-LR-test.ipynb Cell 22\u001b[0m line \u001b[0;36m1\n\u001b[0;32m----> <a href='vscode-notebook-cell:/Users/lata/Documents/GitHub/econometrica/econometrica2/jupyter-notebooks/List22/logit-LR-test.ipynb#X36sZmlsZQ%3D%3D?line=0'>1</a>\u001b[0m res\u001b[39m.\u001b[39;49mcompare_lr_test(restricted)\n",
      "File \u001b[0;32m/opt/homebrew/Caskroom/miniconda/base/lib/python3.11/site-packages/statsmodels/base/wrapper.py:34\u001b[0m, in \u001b[0;36mResultsWrapper.__getattribute__\u001b[0;34m(self, attr)\u001b[0m\n\u001b[1;32m     31\u001b[0m \u001b[39mexcept\u001b[39;00m \u001b[39mAttributeError\u001b[39;00m:\n\u001b[1;32m     32\u001b[0m     \u001b[39mpass\u001b[39;00m\n\u001b[0;32m---> 34\u001b[0m obj \u001b[39m=\u001b[39m \u001b[39mgetattr\u001b[39m(results, attr)\n\u001b[1;32m     35\u001b[0m data \u001b[39m=\u001b[39m results\u001b[39m.\u001b[39mmodel\u001b[39m.\u001b[39mdata\n\u001b[1;32m     36\u001b[0m how \u001b[39m=\u001b[39m \u001b[39mself\u001b[39m\u001b[39m.\u001b[39m_wrap_attrs\u001b[39m.\u001b[39mget(attr)\n",
      "\u001b[0;31mAttributeError\u001b[0m: 'LogitResults' object has no attribute 'compare_lr_test'"
     ]
    }
   ],
   "source": [
    "res.compare_lr_test(restricted)"
   ]
  },
  {
   "cell_type": "markdown",
   "metadata": {},
   "source": [
    "## Формула для расчета $LR$ статистики"
   ]
  },
  {
   "cell_type": "code",
   "execution_count": 16,
   "metadata": {},
   "outputs": [
    {
     "data": {
      "text/plain": [
       "(7.399458185385811, 0.024730225161638596)"
      ]
     },
     "execution_count": 16,
     "metadata": {},
     "output_type": "execute_result"
    }
   ],
   "source": [
    "# вычислим тестовую статистику LR-теста и её P-значение по формуле\n",
    "llf_full = res.llf\n",
    "llf_restr = restricted.llf\n",
    "df_full = res.df_resid \n",
    "df_restr = restricted.df_resid \n",
    "lr_df = (df_restr - df_full)\n",
    "lr_stat = -2*(llf_restr - llf_full)\n",
    "lr_pvalue = chi2.sf(lrstat, df=lr_df)\n",
    "lr_stat, lr_pvalue"
   ]
  },
  {
   "cell_type": "code",
   "execution_count": 11,
   "metadata": {},
   "outputs": [
    {
     "data": {
      "text/plain": [
       "<class 'statsmodels.stats.contrast.ContrastResults'>\n",
       "<Wald test (chi2): statistic=[[7.1202905]], p-value=0.028434694253215525, df_denom=2>"
      ]
     },
     "execution_count": 11,
     "metadata": {},
     "output_type": "execute_result"
    }
   ],
   "source": [
    "# Тестовая статистика LR-теста и её P-значение с округленим\n",
    "res.wald_test('appinc=I(appinc ** 2)=0')"
   ]
  },
  {
   "cell_type": "markdown",
   "metadata": {},
   "source": [
    "### Критическое значение $\\chi_{df=df\\_denom}^2(\\alpha)$"
   ]
  },
  {
   "cell_type": "code",
   "execution_count": null,
   "metadata": {},
   "outputs": [
    {
     "data": {
      "text/plain": [
       "9.21"
      ]
     },
     "execution_count": 11,
     "metadata": {},
     "output_type": "execute_result"
    }
   ],
   "source": [
    "sign_level = 0.01 # уровень значимости\n",
    "chi2.ppf(q=1-sign_level, df=2).round(3) "
   ]
  },
  {
   "cell_type": "markdown",
   "metadata": {},
   "source": [
    "### Значимо ли влияние дохода?"
   ]
  },
  {
   "cell_type": "markdown",
   "metadata": {},
   "source": [
    "`влияние дохода незначимо` $(LR_{stat}<\\chi_{df=df\\_denom}^2(\\alpha))$"
   ]
  }
 ],
 "metadata": {
  "kernelspec": {
   "display_name": "base",
   "language": "python",
   "name": "python3"
  },
  "language_info": {
   "codemirror_mode": {
    "name": "ipython",
    "version": 3
   },
   "file_extension": ".py",
   "mimetype": "text/x-python",
   "name": "python",
   "nbconvert_exporter": "python",
   "pygments_lexer": "ipython3",
   "version": "3.11.5"
  }
 },
 "nbformat": 4,
 "nbformat_minor": 2
}
