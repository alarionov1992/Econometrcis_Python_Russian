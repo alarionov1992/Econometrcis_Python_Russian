{
 "cells": [
  {
   "cell_type": "markdown",
   "metadata": {},
   "source": [
    "# logit-регрессия: Wald-тест, совместная значимость"
   ]
  },
  {
   "cell_type": "code",
   "execution_count": 21,
   "metadata": {},
   "outputs": [],
   "source": [
    "import numpy as np\n",
    "import pandas as pd\n",
    "import statsmodels.formula.api as smf\n",
    "from scipy.stats import chi2 # критические значения chi2-распределения\n",
    "\n",
    "# Не показывать FutureWarnings\n",
    "import warnings\n",
    "warnings.simplefilter(action='ignore', category=FutureWarning)"
   ]
  },
  {
   "cell_type": "code",
   "execution_count": 22,
   "metadata": {},
   "outputs": [
    {
     "data": {
      "text/html": [
       "<div>\n",
       "<style scoped>\n",
       "    .dataframe tbody tr th:only-of-type {\n",
       "        vertical-align: middle;\n",
       "    }\n",
       "\n",
       "    .dataframe tbody tr th {\n",
       "        vertical-align: top;\n",
       "    }\n",
       "\n",
       "    .dataframe thead th {\n",
       "        text-align: right;\n",
       "    }\n",
       "</style>\n",
       "<table border=\"1\" class=\"dataframe\">\n",
       "  <thead>\n",
       "    <tr style=\"text-align: right;\">\n",
       "      <th></th>\n",
       "      <th>participation</th>\n",
       "      <th>income</th>\n",
       "      <th>age</th>\n",
       "      <th>education</th>\n",
       "      <th>youngkids</th>\n",
       "      <th>oldkids</th>\n",
       "      <th>foreign</th>\n",
       "    </tr>\n",
       "  </thead>\n",
       "  <tbody>\n",
       "    <tr>\n",
       "      <th>0</th>\n",
       "      <td>no</td>\n",
       "      <td>10.787497</td>\n",
       "      <td>3.0</td>\n",
       "      <td>8</td>\n",
       "      <td>1</td>\n",
       "      <td>1</td>\n",
       "      <td>no</td>\n",
       "    </tr>\n",
       "    <tr>\n",
       "      <th>1</th>\n",
       "      <td>yes</td>\n",
       "      <td>10.524251</td>\n",
       "      <td>4.5</td>\n",
       "      <td>8</td>\n",
       "      <td>0</td>\n",
       "      <td>1</td>\n",
       "      <td>no</td>\n",
       "    </tr>\n",
       "    <tr>\n",
       "      <th>2</th>\n",
       "      <td>no</td>\n",
       "      <td>10.968578</td>\n",
       "      <td>4.6</td>\n",
       "      <td>9</td>\n",
       "      <td>0</td>\n",
       "      <td>0</td>\n",
       "      <td>no</td>\n",
       "    </tr>\n",
       "    <tr>\n",
       "      <th>3</th>\n",
       "      <td>no</td>\n",
       "      <td>11.104999</td>\n",
       "      <td>3.1</td>\n",
       "      <td>11</td>\n",
       "      <td>2</td>\n",
       "      <td>0</td>\n",
       "      <td>no</td>\n",
       "    </tr>\n",
       "    <tr>\n",
       "      <th>4</th>\n",
       "      <td>no</td>\n",
       "      <td>11.108470</td>\n",
       "      <td>4.4</td>\n",
       "      <td>12</td>\n",
       "      <td>0</td>\n",
       "      <td>2</td>\n",
       "      <td>no</td>\n",
       "    </tr>\n",
       "    <tr>\n",
       "      <th>...</th>\n",
       "      <td>...</td>\n",
       "      <td>...</td>\n",
       "      <td>...</td>\n",
       "      <td>...</td>\n",
       "      <td>...</td>\n",
       "      <td>...</td>\n",
       "      <td>...</td>\n",
       "    </tr>\n",
       "    <tr>\n",
       "      <th>867</th>\n",
       "      <td>no</td>\n",
       "      <td>10.597393</td>\n",
       "      <td>2.4</td>\n",
       "      <td>4</td>\n",
       "      <td>2</td>\n",
       "      <td>1</td>\n",
       "      <td>yes</td>\n",
       "    </tr>\n",
       "    <tr>\n",
       "      <th>868</th>\n",
       "      <td>yes</td>\n",
       "      <td>10.377773</td>\n",
       "      <td>4.8</td>\n",
       "      <td>8</td>\n",
       "      <td>0</td>\n",
       "      <td>0</td>\n",
       "      <td>yes</td>\n",
       "    </tr>\n",
       "    <tr>\n",
       "      <th>869</th>\n",
       "      <td>no</td>\n",
       "      <td>10.133740</td>\n",
       "      <td>2.4</td>\n",
       "      <td>6</td>\n",
       "      <td>2</td>\n",
       "      <td>0</td>\n",
       "      <td>yes</td>\n",
       "    </tr>\n",
       "    <tr>\n",
       "      <th>870</th>\n",
       "      <td>yes</td>\n",
       "      <td>10.932351</td>\n",
       "      <td>4.1</td>\n",
       "      <td>10</td>\n",
       "      <td>0</td>\n",
       "      <td>1</td>\n",
       "      <td>yes</td>\n",
       "    </tr>\n",
       "    <tr>\n",
       "      <th>871</th>\n",
       "      <td>no</td>\n",
       "      <td>11.220691</td>\n",
       "      <td>5.1</td>\n",
       "      <td>10</td>\n",
       "      <td>0</td>\n",
       "      <td>0</td>\n",
       "      <td>yes</td>\n",
       "    </tr>\n",
       "  </tbody>\n",
       "</table>\n",
       "<p>872 rows × 7 columns</p>\n",
       "</div>"
      ],
      "text/plain": [
       "    participation     income  age  education  youngkids  oldkids foreign\n",
       "0              no  10.787497  3.0          8          1        1      no\n",
       "1             yes  10.524251  4.5          8          0        1      no\n",
       "2              no  10.968578  4.6          9          0        0      no\n",
       "3              no  11.104999  3.1         11          2        0      no\n",
       "4              no  11.108470  4.4         12          0        2      no\n",
       "..            ...        ...  ...        ...        ...      ...     ...\n",
       "867            no  10.597393  2.4          4          2        1     yes\n",
       "868           yes  10.377773  4.8          8          0        0     yes\n",
       "869            no  10.133740  2.4          6          2        0     yes\n",
       "870           yes  10.932351  4.1         10          0        1     yes\n",
       "871            no  11.220691  5.1         10          0        0     yes\n",
       "\n",
       "[872 rows x 7 columns]"
      ]
     },
     "execution_count": 22,
     "metadata": {},
     "output_type": "execute_result"
    }
   ],
   "source": [
    "# импорт датасета\n",
    "#df = pd.read_csv('https://raw.githubusercontent.com/artamonoff/econometrica/main/econometrica2/data-csv/SwissLabor.csv')\n",
    "df = pd.read_csv('https://raw.githubusercontent.com/artamonoff/econometrica-spring23/master/python-notebooks/data-csv/SwissLabor.csv')\n",
    "# импорт данных из локального файла\n",
    "# df = pd.read_csv('SwissLabor.csv')\n",
    "df"
   ]
  },
  {
   "cell_type": "code",
   "execution_count": 23,
   "metadata": {},
   "outputs": [
    {
     "name": "stdout",
     "output_type": "stream",
     "text": [
      "<class 'pandas.core.frame.DataFrame'>\n",
      "RangeIndex: 872 entries, 0 to 871\n",
      "Data columns (total 7 columns):\n",
      " #   Column         Non-Null Count  Dtype  \n",
      "---  ------         --------------  -----  \n",
      " 0   participation  872 non-null    object \n",
      " 1   income         872 non-null    float64\n",
      " 2   age            872 non-null    float64\n",
      " 3   education      872 non-null    int64  \n",
      " 4   youngkids      872 non-null    int64  \n",
      " 5   oldkids        872 non-null    int64  \n",
      " 6   foreign        872 non-null    object \n",
      "dtypes: float64(2), int64(3), object(2)\n",
      "memory usage: 47.8+ KB\n"
     ]
    }
   ],
   "source": [
    "df.info()"
   ]
  },
  {
   "cell_type": "code",
   "execution_count": 24,
   "metadata": {},
   "outputs": [
    {
     "data": {
      "text/html": [
       "<div>\n",
       "<style scoped>\n",
       "    .dataframe tbody tr th:only-of-type {\n",
       "        vertical-align: middle;\n",
       "    }\n",
       "\n",
       "    .dataframe tbody tr th {\n",
       "        vertical-align: top;\n",
       "    }\n",
       "\n",
       "    .dataframe thead th {\n",
       "        text-align: right;\n",
       "    }\n",
       "</style>\n",
       "<table border=\"1\" class=\"dataframe\">\n",
       "  <thead>\n",
       "    <tr style=\"text-align: right;\">\n",
       "      <th></th>\n",
       "      <th>participation</th>\n",
       "      <th>income</th>\n",
       "      <th>age</th>\n",
       "      <th>education</th>\n",
       "      <th>youngkids</th>\n",
       "      <th>oldkids</th>\n",
       "      <th>foreign</th>\n",
       "    </tr>\n",
       "  </thead>\n",
       "  <tbody>\n",
       "    <tr>\n",
       "      <th>0</th>\n",
       "      <td>0</td>\n",
       "      <td>10.787497</td>\n",
       "      <td>3.0</td>\n",
       "      <td>8</td>\n",
       "      <td>1</td>\n",
       "      <td>1</td>\n",
       "      <td>0</td>\n",
       "    </tr>\n",
       "    <tr>\n",
       "      <th>1</th>\n",
       "      <td>1</td>\n",
       "      <td>10.524251</td>\n",
       "      <td>4.5</td>\n",
       "      <td>8</td>\n",
       "      <td>0</td>\n",
       "      <td>1</td>\n",
       "      <td>0</td>\n",
       "    </tr>\n",
       "    <tr>\n",
       "      <th>2</th>\n",
       "      <td>0</td>\n",
       "      <td>10.968578</td>\n",
       "      <td>4.6</td>\n",
       "      <td>9</td>\n",
       "      <td>0</td>\n",
       "      <td>0</td>\n",
       "      <td>0</td>\n",
       "    </tr>\n",
       "    <tr>\n",
       "      <th>3</th>\n",
       "      <td>0</td>\n",
       "      <td>11.104999</td>\n",
       "      <td>3.1</td>\n",
       "      <td>11</td>\n",
       "      <td>2</td>\n",
       "      <td>0</td>\n",
       "      <td>0</td>\n",
       "    </tr>\n",
       "    <tr>\n",
       "      <th>4</th>\n",
       "      <td>0</td>\n",
       "      <td>11.108470</td>\n",
       "      <td>4.4</td>\n",
       "      <td>12</td>\n",
       "      <td>0</td>\n",
       "      <td>2</td>\n",
       "      <td>0</td>\n",
       "    </tr>\n",
       "    <tr>\n",
       "      <th>...</th>\n",
       "      <td>...</td>\n",
       "      <td>...</td>\n",
       "      <td>...</td>\n",
       "      <td>...</td>\n",
       "      <td>...</td>\n",
       "      <td>...</td>\n",
       "      <td>...</td>\n",
       "    </tr>\n",
       "    <tr>\n",
       "      <th>867</th>\n",
       "      <td>0</td>\n",
       "      <td>10.597393</td>\n",
       "      <td>2.4</td>\n",
       "      <td>4</td>\n",
       "      <td>2</td>\n",
       "      <td>1</td>\n",
       "      <td>1</td>\n",
       "    </tr>\n",
       "    <tr>\n",
       "      <th>868</th>\n",
       "      <td>1</td>\n",
       "      <td>10.377773</td>\n",
       "      <td>4.8</td>\n",
       "      <td>8</td>\n",
       "      <td>0</td>\n",
       "      <td>0</td>\n",
       "      <td>1</td>\n",
       "    </tr>\n",
       "    <tr>\n",
       "      <th>869</th>\n",
       "      <td>0</td>\n",
       "      <td>10.133740</td>\n",
       "      <td>2.4</td>\n",
       "      <td>6</td>\n",
       "      <td>2</td>\n",
       "      <td>0</td>\n",
       "      <td>1</td>\n",
       "    </tr>\n",
       "    <tr>\n",
       "      <th>870</th>\n",
       "      <td>1</td>\n",
       "      <td>10.932351</td>\n",
       "      <td>4.1</td>\n",
       "      <td>10</td>\n",
       "      <td>0</td>\n",
       "      <td>1</td>\n",
       "      <td>1</td>\n",
       "    </tr>\n",
       "    <tr>\n",
       "      <th>871</th>\n",
       "      <td>0</td>\n",
       "      <td>11.220691</td>\n",
       "      <td>5.1</td>\n",
       "      <td>10</td>\n",
       "      <td>0</td>\n",
       "      <td>0</td>\n",
       "      <td>1</td>\n",
       "    </tr>\n",
       "  </tbody>\n",
       "</table>\n",
       "<p>872 rows × 7 columns</p>\n",
       "</div>"
      ],
      "text/plain": [
       "     participation     income  age  education  youngkids  oldkids  foreign\n",
       "0                0  10.787497  3.0          8          1        1        0\n",
       "1                1  10.524251  4.5          8          0        1        0\n",
       "2                0  10.968578  4.6          9          0        0        0\n",
       "3                0  11.104999  3.1         11          2        0        0\n",
       "4                0  11.108470  4.4         12          0        2        0\n",
       "..             ...        ...  ...        ...        ...      ...      ...\n",
       "867              0  10.597393  2.4          4          2        1        1\n",
       "868              1  10.377773  4.8          8          0        0        1\n",
       "869              0  10.133740  2.4          6          2        0        1\n",
       "870              1  10.932351  4.1         10          0        1        1\n",
       "871              0  11.220691  5.1         10          0        0        1\n",
       "\n",
       "[872 rows x 7 columns]"
      ]
     },
     "execution_count": 24,
     "metadata": {},
     "output_type": "execute_result"
    }
   ],
   "source": [
    "# преобразуем данные столбцов participation и foreign\n",
    "df['participation'] = df['participation'].replace('yes', 1)\n",
    "df['participation'] = df['participation'].replace('no', 0)\n",
    "df['foreign'] = df['foreign'].replace('yes', 1)\n",
    "df['foreign'] = df['foreign'].replace('no', 0)\n",
    "df"
   ]
  },
  {
   "cell_type": "markdown",
   "metadata": {},
   "source": [
    "## Спецификация и подгонка модели\n",
    "Для датасета `SwissLabour`\n",
    "рассморим logit-регрессию **participation на income, income^2, age, age^2, youngkids, oldkids, foreign**"
   ]
  },
  {
   "cell_type": "code",
   "execution_count": 25,
   "metadata": {},
   "outputs": [
    {
     "name": "stdout",
     "output_type": "stream",
     "text": [
      "Optimization terminated successfully.\n",
      "         Current function value: 0.583749\n",
      "         Iterations 6\n"
     ]
    },
    {
     "data": {
      "text/html": [
       "<table class=\"simpletable\">\n",
       "<caption>Logit Regression Results</caption>\n",
       "<tr>\n",
       "  <th>Dep. Variable:</th>     <td>participation</td>  <th>  No. Observations:  </th>  <td>   872</td>  \n",
       "</tr>\n",
       "<tr>\n",
       "  <th>Model:</th>                 <td>Logit</td>      <th>  Df Residuals:      </th>  <td>   864</td>  \n",
       "</tr>\n",
       "<tr>\n",
       "  <th>Method:</th>                 <td>MLE</td>       <th>  Df Model:          </th>  <td>     7</td>  \n",
       "</tr>\n",
       "<tr>\n",
       "  <th>Date:</th>            <td>Fri, 24 Nov 2023</td> <th>  Pseudo R-squ.:     </th>  <td>0.1539</td>  \n",
       "</tr>\n",
       "<tr>\n",
       "  <th>Time:</th>                <td>17:05:54</td>     <th>  Log-Likelihood:    </th> <td> -509.03</td> \n",
       "</tr>\n",
       "<tr>\n",
       "  <th>converged:</th>             <td>True</td>       <th>  LL-Null:           </th> <td> -601.61</td> \n",
       "</tr>\n",
       "<tr>\n",
       "  <th>Covariance Type:</th>     <td>nonrobust</td>    <th>  LLR p-value:       </th> <td>1.579e-36</td>\n",
       "</tr>\n",
       "</table>\n",
       "<table class=\"simpletable\">\n",
       "<tr>\n",
       "         <td></td>           <th>coef</th>     <th>std err</th>      <th>z</th>      <th>P>|z|</th>  <th>[0.025</th>    <th>0.975]</th>  \n",
       "</tr>\n",
       "<tr>\n",
       "  <th>Intercept</th>      <td>   -9.4763</td> <td>   17.245</td> <td>   -0.549</td> <td> 0.583</td> <td>  -43.277</td> <td>   24.324</td>\n",
       "</tr>\n",
       "<tr>\n",
       "  <th>income</th>         <td>    1.8753</td> <td>    3.266</td> <td>    0.574</td> <td> 0.566</td> <td>   -4.526</td> <td>    8.277</td>\n",
       "</tr>\n",
       "<tr>\n",
       "  <th>I(income ** 2)</th> <td>   -0.1377</td> <td>    0.155</td> <td>   -0.887</td> <td> 0.375</td> <td>   -0.442</td> <td>    0.166</td>\n",
       "</tr>\n",
       "<tr>\n",
       "  <th>age</th>            <td>    3.4025</td> <td>    0.687</td> <td>    4.955</td> <td> 0.000</td> <td>    2.057</td> <td>    4.748</td>\n",
       "</tr>\n",
       "<tr>\n",
       "  <th>I(age ** 2)</th>    <td>   -0.4846</td> <td>    0.085</td> <td>   -5.692</td> <td> 0.000</td> <td>   -0.651</td> <td>   -0.318</td>\n",
       "</tr>\n",
       "<tr>\n",
       "  <th>youngkids</th>      <td>   -1.1813</td> <td>    0.172</td> <td>   -6.858</td> <td> 0.000</td> <td>   -1.519</td> <td>   -0.844</td>\n",
       "</tr>\n",
       "<tr>\n",
       "  <th>oldkids</th>        <td>   -0.2471</td> <td>    0.084</td> <td>   -2.932</td> <td> 0.003</td> <td>   -0.412</td> <td>   -0.082</td>\n",
       "</tr>\n",
       "<tr>\n",
       "  <th>foreign</th>        <td>    1.0728</td> <td>    0.187</td> <td>    5.737</td> <td> 0.000</td> <td>    0.706</td> <td>    1.439</td>\n",
       "</tr>\n",
       "</table>"
      ],
      "text/latex": [
       "\\begin{center}\n",
       "\\begin{tabular}{lclc}\n",
       "\\toprule\n",
       "\\textbf{Dep. Variable:}   &  participation   & \\textbf{  No. Observations:  } &      872    \\\\\n",
       "\\textbf{Model:}           &      Logit       & \\textbf{  Df Residuals:      } &      864    \\\\\n",
       "\\textbf{Method:}          &       MLE        & \\textbf{  Df Model:          } &        7    \\\\\n",
       "\\textbf{Date:}            & Fri, 24 Nov 2023 & \\textbf{  Pseudo R-squ.:     } &   0.1539    \\\\\n",
       "\\textbf{Time:}            &     17:05:54     & \\textbf{  Log-Likelihood:    } &   -509.03   \\\\\n",
       "\\textbf{converged:}       &       True       & \\textbf{  LL-Null:           } &   -601.61   \\\\\n",
       "\\textbf{Covariance Type:} &    nonrobust     & \\textbf{  LLR p-value:       } & 1.579e-36   \\\\\n",
       "\\bottomrule\n",
       "\\end{tabular}\n",
       "\\begin{tabular}{lcccccc}\n",
       "                        & \\textbf{coef} & \\textbf{std err} & \\textbf{z} & \\textbf{P$> |$z$|$} & \\textbf{[0.025} & \\textbf{0.975]}  \\\\\n",
       "\\midrule\n",
       "\\textbf{Intercept}      &      -9.4763  &       17.245     &    -0.549  &         0.583        &      -43.277    &       24.324     \\\\\n",
       "\\textbf{income}         &       1.8753  &        3.266     &     0.574  &         0.566        &       -4.526    &        8.277     \\\\\n",
       "\\textbf{I(income ** 2)} &      -0.1377  &        0.155     &    -0.887  &         0.375        &       -0.442    &        0.166     \\\\\n",
       "\\textbf{age}            &       3.4025  &        0.687     &     4.955  &         0.000        &        2.057    &        4.748     \\\\\n",
       "\\textbf{I(age ** 2)}    &      -0.4846  &        0.085     &    -5.692  &         0.000        &       -0.651    &       -0.318     \\\\\n",
       "\\textbf{youngkids}      &      -1.1813  &        0.172     &    -6.858  &         0.000        &       -1.519    &       -0.844     \\\\\n",
       "\\textbf{oldkids}        &      -0.2471  &        0.084     &    -2.932  &         0.003        &       -0.412    &       -0.082     \\\\\n",
       "\\textbf{foreign}        &       1.0728  &        0.187     &     5.737  &         0.000        &        0.706    &        1.439     \\\\\n",
       "\\bottomrule\n",
       "\\end{tabular}\n",
       "%\\caption{Logit Regression Results}\n",
       "\\end{center}"
      ],
      "text/plain": [
       "<class 'statsmodels.iolib.summary.Summary'>\n",
       "\"\"\"\n",
       "                           Logit Regression Results                           \n",
       "==============================================================================\n",
       "Dep. Variable:          participation   No. Observations:                  872\n",
       "Model:                          Logit   Df Residuals:                      864\n",
       "Method:                           MLE   Df Model:                            7\n",
       "Date:                Fri, 24 Nov 2023   Pseudo R-squ.:                  0.1539\n",
       "Time:                        17:05:54   Log-Likelihood:                -509.03\n",
       "converged:                       True   LL-Null:                       -601.61\n",
       "Covariance Type:            nonrobust   LLR p-value:                 1.579e-36\n",
       "==================================================================================\n",
       "                     coef    std err          z      P>|z|      [0.025      0.975]\n",
       "----------------------------------------------------------------------------------\n",
       "Intercept         -9.4763     17.245     -0.549      0.583     -43.277      24.324\n",
       "income             1.8753      3.266      0.574      0.566      -4.526       8.277\n",
       "I(income ** 2)    -0.1377      0.155     -0.887      0.375      -0.442       0.166\n",
       "age                3.4025      0.687      4.955      0.000       2.057       4.748\n",
       "I(age ** 2)       -0.4846      0.085     -5.692      0.000      -0.651      -0.318\n",
       "youngkids         -1.1813      0.172     -6.858      0.000      -1.519      -0.844\n",
       "oldkids           -0.2471      0.084     -2.932      0.003      -0.412      -0.082\n",
       "foreign            1.0728      0.187      5.737      0.000       0.706       1.439\n",
       "==================================================================================\n",
       "\"\"\""
      ]
     },
     "execution_count": 25,
     "metadata": {},
     "output_type": "execute_result"
    }
   ],
   "source": [
    "mod = smf.logit(formula='participation~income+I(income**2)+age+I(age**2)+youngkids+oldkids+foreign', data=df) # спецификация модели\n",
    "res = mod.fit() # подгонка модели\n",
    "res.summary()"
   ]
  },
  {
   "cell_type": "markdown",
   "metadata": {},
   "source": [
    "## Тест Вальда: совместная значимость\n",
    "Тестируем значимость влияния дохода, т.е. $$H_0:\\beta_{income}=\\beta_{income^2}=0.$$\n"
   ]
  },
  {
   "cell_type": "markdown",
   "metadata": {},
   "source": [
    "## Уровень значимости\n",
    "Пусть уровень значимости $\\alpha=5\\%=0.05$"
   ]
  },
  {
   "cell_type": "code",
   "execution_count": 26,
   "metadata": {},
   "outputs": [
    {
     "data": {
      "text/plain": [
       "<class 'statsmodels.stats.contrast.ContrastResults'>\n",
       "<Wald test (chi2): statistic=[[24.4405137]], p-value=4.929579593913696e-06, df_denom=2>"
      ]
     },
     "execution_count": 26,
     "metadata": {},
     "output_type": "execute_result"
    }
   ],
   "source": [
    "# Статистика теста Вальда и её P-значение\n",
    "res.wald_test('income=I(income ** 2)=0')"
   ]
  },
  {
   "cell_type": "markdown",
   "metadata": {},
   "source": [
    "### Степени свободы для $\\chi^2$-распределения"
   ]
  },
  {
   "cell_type": "code",
   "execution_count": 27,
   "metadata": {},
   "outputs": [
    {
     "data": {
      "text/plain": [
       "2"
      ]
     },
     "execution_count": 27,
     "metadata": {},
     "output_type": "execute_result"
    }
   ],
   "source": [
    "2"
   ]
  },
  {
   "cell_type": "markdown",
   "metadata": {},
   "source": [
    "### Критическое значение $\\chi_{df}^2(\\alpha)$"
   ]
  },
  {
   "cell_type": "code",
   "execution_count": 28,
   "metadata": {},
   "outputs": [
    {
     "data": {
      "text/plain": [
       "5.991"
      ]
     },
     "execution_count": 28,
     "metadata": {},
     "output_type": "execute_result"
    }
   ],
   "source": [
    "sign_level = 0.05 # уровень значимости\n",
    "chi2.ppf(q=1-sign_level, df=2).round(3) "
   ]
  },
  {
   "cell_type": "markdown",
   "metadata": {},
   "source": [
    "### Значимо ли влияние дохода?"
   ]
  },
  {
   "cell_type": "markdown",
   "metadata": {},
   "source": [
    "`влияние дохода значимо` $(Chisq>\\chi_{df}^2(\\alpha))$"
   ]
  }
 ],
 "metadata": {
  "kernelspec": {
   "display_name": "base",
   "language": "python",
   "name": "python3"
  },
  "language_info": {
   "codemirror_mode": {
    "name": "ipython",
    "version": 3
   },
   "file_extension": ".py",
   "mimetype": "text/x-python",
   "name": "python",
   "nbconvert_exporter": "python",
   "pygments_lexer": "ipython3",
   "version": "3.11.5"
  }
 },
 "nbformat": 4,
 "nbformat_minor": 2
}
