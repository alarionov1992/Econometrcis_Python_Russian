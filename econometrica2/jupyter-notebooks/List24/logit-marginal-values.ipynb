{
 "cells": [
  {
   "cell_type": "markdown",
   "metadata": {},
   "source": [
    "# logit-регрессия: предельные значения"
   ]
  },
  {
   "cell_type": "code",
   "execution_count": 1,
   "metadata": {},
   "outputs": [],
   "source": [
    "import numpy as np\n",
    "import pandas as pd\n",
    "import statsmodels.formula.api as smf\n",
    "from statsmodels.iolib.summary2 import summary_col\n",
    "\n",
    "# Не показывать FutureWarnings\n",
    "import warnings\n",
    "warnings.simplefilter(action='ignore', category=FutureWarning)"
   ]
  },
  {
   "cell_type": "markdown",
   "metadata": {},
   "source": [
    "## labour force equation\n",
    "\n",
    "Для датасета [mroz_Green](http://www.stern.nyu.edu/~wgreene/Text/Edition7/TableF5-1.csv)\n",
    "рассморим logit-регрессию **LFP на WA, log(FAMINC), WE, KL6, K618, CIT, UN**"
   ]
  },
  {
   "cell_type": "code",
   "execution_count": 2,
   "metadata": {},
   "outputs": [],
   "source": [
    "# подключим датасет mroz_Greene по ссылке \n",
    "df = pd.read_csv('https://raw.githubusercontent.com/artamonoff/econometrica/main/econometrica2/data-csv/TableF5-1.csv', na_values=(' ', '', '  '))\n",
    "#подключим датасет mroz_Greene из локального файла\n",
    "#df = pd.read_csv('TableF5-1.csv', na_values=(' ', '', '  '))"
   ]
  },
  {
   "cell_type": "markdown",
   "metadata": {},
   "source": [
    "## Спецификация и подгонка"
   ]
  },
  {
   "cell_type": "code",
   "execution_count": 3,
   "metadata": {},
   "outputs": [
    {
     "name": "stdout",
     "output_type": "stream",
     "text": [
      "Optimization terminated successfully.\n",
      "         Current function value: 0.614104\n",
      "         Iterations 5\n"
     ]
    }
   ],
   "source": [
    "# logit\n",
    "mod = smf.logit(formula='LFP~WA+np.log(FAMINC)+WE+KL6+K618+CIT+UN', data=df)\n",
    "res = mod.fit()"
   ]
  },
  {
   "cell_type": "markdown",
   "metadata": {},
   "source": [
    "## Предельные значения\n",
    "Для вычисления нужно указать указать параметр `at`:\n",
    "* `mean` для вычисления предельного значения в средней точке\n",
    "* `overall` для вычисления среднего по выборке предельного значения\n",
    "\n",
    "[Документация](https://www.statsmodels.org/dev/generated/statsmodels.discrete.discrete_model.LogitResults.get_margeff.html) "
   ]
  },
  {
   "cell_type": "markdown",
   "metadata": {},
   "source": [
    "### Предельные значения для каждого регрессора в средней точке для logit модели"
   ]
  },
  {
   "cell_type": "code",
   "execution_count": 4,
   "metadata": {},
   "outputs": [
    {
     "data": {
      "text/html": [
       "<table class=\"simpletable\">\n",
       "<caption>Logit Marginal Effects</caption>\n",
       "<tr>\n",
       "  <th>Dep. Variable:</th>  <td>LFP</td>\n",
       "</tr>\n",
       "<tr>\n",
       "  <th>Method:</th>        <td>dydx</td>\n",
       "</tr>\n",
       "<tr>\n",
       "  <th>At:</th>            <td>mean</td>\n",
       "</tr>\n",
       "</table>\n",
       "<table class=\"simpletable\">\n",
       "<tr>\n",
       "         <th></th>           <th>dy/dx</th>    <th>std err</th>      <th>z</th>      <th>P>|z|</th>  <th>[0.025</th>    <th>0.975]</th>  \n",
       "</tr>\n",
       "<tr>\n",
       "  <th>WA</th>             <td>   -0.0154</td> <td>    0.003</td> <td>   -5.006</td> <td> 0.000</td> <td>   -0.021</td> <td>   -0.009</td>\n",
       "</tr>\n",
       "<tr>\n",
       "  <th>np.log(FAMINC)</th> <td>    0.0835</td> <td>    0.042</td> <td>    1.982</td> <td> 0.048</td> <td>    0.001</td> <td>    0.166</td>\n",
       "</tr>\n",
       "<tr>\n",
       "  <th>WE</th>             <td>    0.0439</td> <td>    0.010</td> <td>    4.450</td> <td> 0.000</td> <td>    0.025</td> <td>    0.063</td>\n",
       "</tr>\n",
       "<tr>\n",
       "  <th>KL6</th>            <td>   -0.3527</td> <td>    0.048</td> <td>   -7.395</td> <td> 0.000</td> <td>   -0.446</td> <td>   -0.259</td>\n",
       "</tr>\n",
       "<tr>\n",
       "  <th>K618</th>           <td>   -0.0232</td> <td>    0.016</td> <td>   -1.416</td> <td> 0.157</td> <td>   -0.055</td> <td>    0.009</td>\n",
       "</tr>\n",
       "<tr>\n",
       "  <th>CIT</th>            <td>   -0.0522</td> <td>    0.043</td> <td>   -1.211</td> <td> 0.226</td> <td>   -0.137</td> <td>    0.032</td>\n",
       "</tr>\n",
       "<tr>\n",
       "  <th>UN</th>             <td>   -0.0043</td> <td>    0.006</td> <td>   -0.675</td> <td> 0.500</td> <td>   -0.017</td> <td>    0.008</td>\n",
       "</tr>\n",
       "</table>"
      ],
      "text/latex": [
       "\\begin{center}\n",
       "\\begin{tabular}{lc}\n",
       "\\toprule\n",
       "\\textbf{Dep. Variable:} &      LFP        \\\\\n",
       "\\textbf{Method:}        &      dydx       \\\\\n",
       "\\textbf{At:}            &      mean       \\\\\n",
       "\\bottomrule\n",
       "\\end{tabular}\n",
       "\\begin{tabular}{ccccccc}\n",
       "       \\textbf{}        & \\textbf{dy/dx} & \\textbf{std err} & \\textbf{z} & \\textbf{P$> |$z$|$} & \\textbf{[0.025} & \\textbf{0.975]}  \\\\\n",
       "\\midrule\n",
       "\\bottomrule\n",
       "\\end{tabular}\n",
       "\\begin{tabular}{lcccccc}\n",
       "\\textbf{WA}             &      -0.0154   &        0.003     &    -5.006  &         0.000        &       -0.021    &       -0.009     \\\\\n",
       "\\textbf{np.log(FAMINC)} &       0.0835   &        0.042     &     1.982  &         0.048        &        0.001    &        0.166     \\\\\n",
       "\\textbf{WE}             &       0.0439   &        0.010     &     4.450  &         0.000        &        0.025    &        0.063     \\\\\n",
       "\\textbf{KL6}            &      -0.3527   &        0.048     &    -7.395  &         0.000        &       -0.446    &       -0.259     \\\\\n",
       "\\textbf{K618}           &      -0.0232   &        0.016     &    -1.416  &         0.157        &       -0.055    &        0.009     \\\\\n",
       "\\textbf{CIT}            &      -0.0522   &        0.043     &    -1.211  &         0.226        &       -0.137    &        0.032     \\\\\n",
       "\\textbf{UN}             &      -0.0043   &        0.006     &    -0.675  &         0.500        &       -0.017    &        0.008     \\\\\n",
       "\\bottomrule\n",
       "\\end{tabular}\n",
       "%\\caption{Logit Marginal Effects}\n",
       "\\end{center}"
      ],
      "text/plain": [
       "<class 'statsmodels.iolib.summary.Summary'>\n",
       "\"\"\"\n",
       "        Logit Marginal Effects       \n",
       "=====================================\n",
       "Dep. Variable:                    LFP\n",
       "Method:                          dydx\n",
       "At:                              mean\n",
       "==================================================================================\n",
       "                    dy/dx    std err          z      P>|z|      [0.025      0.975]\n",
       "----------------------------------------------------------------------------------\n",
       "WA                -0.0154      0.003     -5.006      0.000      -0.021      -0.009\n",
       "np.log(FAMINC)     0.0835      0.042      1.982      0.048       0.001       0.166\n",
       "WE                 0.0439      0.010      4.450      0.000       0.025       0.063\n",
       "KL6               -0.3527      0.048     -7.395      0.000      -0.446      -0.259\n",
       "K618              -0.0232      0.016     -1.416      0.157      -0.055       0.009\n",
       "CIT               -0.0522      0.043     -1.211      0.226      -0.137       0.032\n",
       "UN                -0.0043      0.006     -0.675      0.500      -0.017       0.008\n",
       "==================================================================================\n",
       "\"\"\""
      ]
     },
     "execution_count": 4,
     "metadata": {},
     "output_type": "execute_result"
    }
   ],
   "source": [
    "margeff_res = res.get_margeff(at='mean')\n",
    "# вывод результатов\n",
    "margeff_res.summary()\n",
    "# краткий отчёт\n",
    "# margeff_res.summary_frame() "
   ]
  },
  {
   "cell_type": "markdown",
   "metadata": {},
   "source": [
    "### Средние по выборке предельные значения для каждого регрессора в средней точке для logit модели"
   ]
  },
  {
   "cell_type": "code",
   "execution_count": 5,
   "metadata": {},
   "outputs": [
    {
     "data": {
      "text/html": [
       "<table class=\"simpletable\">\n",
       "<caption>Logit Marginal Effects</caption>\n",
       "<tr>\n",
       "  <th>Dep. Variable:</th>   <td>LFP</td>  \n",
       "</tr>\n",
       "<tr>\n",
       "  <th>Method:</th>         <td>dydx</td>  \n",
       "</tr>\n",
       "<tr>\n",
       "  <th>At:</th>            <td>overall</td>\n",
       "</tr>\n",
       "</table>\n",
       "<table class=\"simpletable\">\n",
       "<tr>\n",
       "         <th></th>           <th>dy/dx</th>    <th>std err</th>      <th>z</th>      <th>P>|z|</th>  <th>[0.025</th>    <th>0.975]</th>  \n",
       "</tr>\n",
       "<tr>\n",
       "  <th>WA</th>             <td>   -0.0134</td> <td>    0.003</td> <td>   -5.324</td> <td> 0.000</td> <td>   -0.018</td> <td>   -0.008</td>\n",
       "</tr>\n",
       "<tr>\n",
       "  <th>np.log(FAMINC)</th> <td>    0.0727</td> <td>    0.036</td> <td>    2.001</td> <td> 0.045</td> <td>    0.001</td> <td>    0.144</td>\n",
       "</tr>\n",
       "<tr>\n",
       "  <th>WE</th>             <td>    0.0382</td> <td>    0.008</td> <td>    4.667</td> <td> 0.000</td> <td>    0.022</td> <td>    0.054</td>\n",
       "</tr>\n",
       "<tr>\n",
       "  <th>KL6</th>            <td>   -0.3074</td> <td>    0.036</td> <td>   -8.642</td> <td> 0.000</td> <td>   -0.377</td> <td>   -0.238</td>\n",
       "</tr>\n",
       "<tr>\n",
       "  <th>K618</th>           <td>   -0.0202</td> <td>    0.014</td> <td>   -1.422</td> <td> 0.155</td> <td>   -0.048</td> <td>    0.008</td>\n",
       "</tr>\n",
       "<tr>\n",
       "  <th>CIT</th>            <td>   -0.0455</td> <td>    0.037</td> <td>   -1.215</td> <td> 0.224</td> <td>   -0.119</td> <td>    0.028</td>\n",
       "</tr>\n",
       "<tr>\n",
       "  <th>UN</th>             <td>   -0.0037</td> <td>    0.005</td> <td>   -0.676</td> <td> 0.499</td> <td>   -0.014</td> <td>    0.007</td>\n",
       "</tr>\n",
       "</table>"
      ],
      "text/latex": [
       "\\begin{center}\n",
       "\\begin{tabular}{lc}\n",
       "\\toprule\n",
       "\\textbf{Dep. Variable:} &      LFP        \\\\\n",
       "\\textbf{Method:}        &      dydx       \\\\\n",
       "\\textbf{At:}            &    overall      \\\\\n",
       "\\bottomrule\n",
       "\\end{tabular}\n",
       "\\begin{tabular}{ccccccc}\n",
       "       \\textbf{}        & \\textbf{dy/dx} & \\textbf{std err} & \\textbf{z} & \\textbf{P$> |$z$|$} & \\textbf{[0.025} & \\textbf{0.975]}  \\\\\n",
       "\\midrule\n",
       "\\bottomrule\n",
       "\\end{tabular}\n",
       "\\begin{tabular}{lcccccc}\n",
       "\\textbf{WA}             &      -0.0134   &        0.003     &    -5.324  &         0.000        &       -0.018    &       -0.008     \\\\\n",
       "\\textbf{np.log(FAMINC)} &       0.0727   &        0.036     &     2.001  &         0.045        &        0.001    &        0.144     \\\\\n",
       "\\textbf{WE}             &       0.0382   &        0.008     &     4.667  &         0.000        &        0.022    &        0.054     \\\\\n",
       "\\textbf{KL6}            &      -0.3074   &        0.036     &    -8.642  &         0.000        &       -0.377    &       -0.238     \\\\\n",
       "\\textbf{K618}           &      -0.0202   &        0.014     &    -1.422  &         0.155        &       -0.048    &        0.008     \\\\\n",
       "\\textbf{CIT}            &      -0.0455   &        0.037     &    -1.215  &         0.224        &       -0.119    &        0.028     \\\\\n",
       "\\textbf{UN}             &      -0.0037   &        0.005     &    -0.676  &         0.499        &       -0.014    &        0.007     \\\\\n",
       "\\bottomrule\n",
       "\\end{tabular}\n",
       "%\\caption{Logit Marginal Effects}\n",
       "\\end{center}"
      ],
      "text/plain": [
       "<class 'statsmodels.iolib.summary.Summary'>\n",
       "\"\"\"\n",
       "        Logit Marginal Effects       \n",
       "=====================================\n",
       "Dep. Variable:                    LFP\n",
       "Method:                          dydx\n",
       "At:                           overall\n",
       "==================================================================================\n",
       "                    dy/dx    std err          z      P>|z|      [0.025      0.975]\n",
       "----------------------------------------------------------------------------------\n",
       "WA                -0.0134      0.003     -5.324      0.000      -0.018      -0.008\n",
       "np.log(FAMINC)     0.0727      0.036      2.001      0.045       0.001       0.144\n",
       "WE                 0.0382      0.008      4.667      0.000       0.022       0.054\n",
       "KL6               -0.3074      0.036     -8.642      0.000      -0.377      -0.238\n",
       "K618              -0.0202      0.014     -1.422      0.155      -0.048       0.008\n",
       "CIT               -0.0455      0.037     -1.215      0.224      -0.119       0.028\n",
       "UN                -0.0037      0.005     -0.676      0.499      -0.014       0.007\n",
       "==================================================================================\n",
       "\"\"\""
      ]
     },
     "execution_count": 5,
     "metadata": {},
     "output_type": "execute_result"
    }
   ],
   "source": [
    "margeff_res = res.get_margeff(at='overall')\n",
    "# вывод результатов\n",
    "margeff_res.summary()\n",
    "# краткий отчёт\n",
    "# margeff_res.summary_frame() "
   ]
  }
 ],
 "metadata": {
  "kernelspec": {
   "display_name": "base",
   "language": "python",
   "name": "python3"
  },
  "language_info": {
   "codemirror_mode": {
    "name": "ipython",
    "version": 3
   },
   "file_extension": ".py",
   "mimetype": "text/x-python",
   "name": "python",
   "nbconvert_exporter": "python",
   "pygments_lexer": "ipython3",
   "version": "3.11.5"
  }
 },
 "nbformat": 4,
 "nbformat_minor": 2
}
