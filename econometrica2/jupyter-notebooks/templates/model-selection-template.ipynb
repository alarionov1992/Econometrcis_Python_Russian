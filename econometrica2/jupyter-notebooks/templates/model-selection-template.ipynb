{
 "cells": [
  {
   "cell_type": "markdown",
   "metadata": {},
   "source": [
    "# logit/probit-регрессия: Сравнение моделей"
   ]
  },
  {
   "cell_type": "code",
   "execution_count": null,
   "metadata": {},
   "outputs": [],
   "source": [
    "import numpy as np\n",
    "import pandas as pd\n",
    "import statsmodels.formula.api as smf\n",
    "from statsmodels.iolib.summary2 import summary_col # вывод результатов нескольких регрессий\n",
    "\n",
    "\n",
    "# Не показывать FutureWarnings\n",
    "import warnings\n",
    "warnings.simplefilter(action='ignore', category=FutureWarning)"
   ]
  },
  {
   "cell_type": "code",
   "execution_count": null,
   "metadata": {},
   "outputs": [],
   "source": [
    "# импорт данных\n",
    "df = pd.read_csv('Filename.csv')"
   ]
  },
  {
   "cell_type": "markdown",
   "metadata": {},
   "source": [
    "## Спецификация и подгонка нескольких моделей"
   ]
  },
  {
   "cell_type": "code",
   "execution_count": null,
   "metadata": {},
   "outputs": [],
   "source": [
    "mod1 = smf.logit(formula = , data = df)\n",
    "# mod1 = smf.probit(formula = , data = df)\n",
    "res1 = mod1.fit()\n",
    "\n",
    "mod2 = smf.logit(formula = , data = df)\n",
    "# mod2 = smf.probit(formula = , data = df)\n",
    "res2 = mod2.fit()"
   ]
  },
  {
   "cell_type": "markdown",
   "metadata": {},
   "source": [
    "## Вывод нескольких моделей на в одной таблице с включением показателей AIC, BIC, pseudo-R^2_adj"
   ]
  },
  {
   "cell_type": "code",
   "execution_count": null,
   "metadata": {},
   "outputs": [],
   "source": [
    "# Имена моделей\n",
    "mod_names = ['Модель 1', 'Модель 2', ]\n",
    "# порядок регрессоров в таблице\n",
    "# reg_order = ['Intercept', ]\n",
    "# словарь с тем, что добавим\n",
    "info_to_add = {'AIC': lambda x: x.aic, 'BIC': lambda x: x.bic, 'R2_adj': lambda x: 1-(x.llf-x.df_model)/x.llnull }\n",
    "\n",
    "summary_col(results=[res1, res2, ], model_names=mod_names, stars=True, float_format='%.3f', # regressor_order=reg_order,\n",
    "             info_dict=info_to_add)"
   ]
  }
 ],
 "metadata": {
  "language_info": {
   "name": "python"
  }
 },
 "nbformat": 4,
 "nbformat_minor": 2
}
