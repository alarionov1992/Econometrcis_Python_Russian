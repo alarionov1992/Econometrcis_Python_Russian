{
 "cells": [
  {
   "cell_type": "markdown",
   "metadata": {},
   "source": [
    "# logit/probit-регрессия: Качество подгонки"
   ]
  },
  {
   "cell_type": "code",
   "execution_count": null,
   "metadata": {},
   "outputs": [],
   "source": [
    "import numpy as np\n",
    "import pandas as pd\n",
    "import statsmodels.formula.api as smf\n",
    "\n",
    "# Не показывать FutureWarnings\n",
    "import warnings\n",
    "warnings.simplefilter(action='ignore', category=FutureWarning)"
   ]
  },
  {
   "cell_type": "code",
   "execution_count": null,
   "metadata": {},
   "outputs": [],
   "source": [
    "# импорт данных\n",
    "df = pd.read_csv('Filename.csv')"
   ]
  },
  {
   "cell_type": "markdown",
   "metadata": {},
   "source": [
    "## Спецификация и подгонка"
   ]
  },
  {
   "cell_type": "code",
   "execution_count": null,
   "metadata": {},
   "outputs": [],
   "source": [
    "mod = smf.logit(formula = , data = df)\n",
    "# mod = smf.probit(formula = , data = df)\n",
    "res = mod.fit()"
   ]
  },
  {
   "cell_type": "markdown",
   "metadata": {},
   "source": [
    "## Качество подгонки. Базовые показатели\n",
    "McDadden's $R^2$\n",
    "$$ \n",
    "\tR^2_{pseudo}=1-\\frac{\\log L_{full}}{\\log L_{null}}\n",
    "$$"
   ]
  },
  {
   "cell_type": "code",
   "execution_count": null,
   "metadata": {},
   "outputs": [],
   "source": [
    "res.prsquared"
   ]
  },
  {
   "cell_type": "markdown",
   "metadata": {},
   "source": [
    "McFadden’s Adjusted $R^2$\n",
    "$$ \n",
    "\tR^2_{adj}=1-\\frac{\\log L_{full}-k}{\\log L_{null}}\n",
    "$$"
   ]
  },
  {
   "cell_type": "code",
   "execution_count": null,
   "metadata": {},
   "outputs": [],
   "source": [
    "1-(res.llf-res.df_model)/res.llnull"
   ]
  },
  {
   "cell_type": "markdown",
   "metadata": {},
   "source": [
    "Cox & Snell $R^2$\n",
    "$$\n",
    "\tR^2_{C\\& S}=1-\\left(\\frac{L_{null}}{L_{full}}\\right)^{2/n}=1-\\left(\\frac{\\exp(\\log L_{null})}{\\exp(\\log L_{full})}\\right)^{2/n}=\n",
    "\t1-\\exp\\left(\\frac{2}{n}(\\log L_{null}-\\log L_{full})\\right)=1-\\exp\\left(-\\frac{LR_{overall}}{n}\\right)\n",
    "$$"
   ]
  },
  {
   "cell_type": "code",
   "execution_count": null,
   "metadata": {},
   "outputs": [],
   "source": [
    "1-np.exp(-res.llr/res.nobs)"
   ]
  },
  {
   "cell_type": "markdown",
   "metadata": {},
   "source": [
    "Nagelkerke / Cragg & Uhler $R^2$\n",
    "$$\n",
    "\tR^2_{N,C\\& U}=\\frac{1-\\left(\\frac{L_{null}}{L_{full}}\\right)^{2/n}}{1-L_{null}^{2/n}}=\n",
    "\t\\frac{1-\\exp\\left(-\\frac{LR}{n}\\right)}{1-\\exp(2\\log L_{null}/n)}\n",
    "$$"
   ]
  },
  {
   "cell_type": "code",
   "execution_count": null,
   "metadata": {},
   "outputs": [],
   "source": [
    "(1-np.exp(-res.llr/res.nobs))/(1-np.exp(2*res.llnull/res.nobs))"
   ]
  },
  {
   "cell_type": "markdown",
   "metadata": {},
   "source": [
    "Efron's $R^2$\n",
    "$$\n",
    "\tR^2_{Efron}=1-\\frac{\\sum(y_i-\\hat{P}_i)^2}{\\sum(y_i-\\bar{y})^2}=1-\\frac{\\sum(y_i-\\hat{P}_i)^2}{n Var(y)}\n",
    "$$"
   ]
  },
  {
   "cell_type": "code",
   "execution_count": null,
   "metadata": {},
   "outputs": [],
   "source": [
    "1-(np.sum(res.resid_response**2))/(res.nobs*np.var(mod.endog))"
   ]
  },
  {
   "cell_type": "markdown",
   "metadata": {},
   "source": [
    "McKelvey & Zavoina's $R^2$\n",
    "\\begin{align*}\n",
    "\tR^2_{logit}&=\\frac{Var(\\hat{P})}{Var(\\hat{P})+\\pi^2/3} & R^2_{probit}&=\\frac{Var(\\hat{P})}{Var(\\hat{P})+1}\n",
    "\\end{align*}"
   ]
  },
  {
   "cell_type": "code",
   "execution_count": null,
   "metadata": {},
   "outputs": [],
   "source": [
    "y_prob = res.predict(mod.exog, transform=False)\n",
    "\n",
    "# logit\n",
    "np.var(y_prob)/(np.var(y_prob)+np.pi**2/3)\n",
    "\n",
    "# probit\n",
    "# np.var(y_prob)/(np.var(y_prob)+1)"
   ]
  }
 ],
 "metadata": {
  "language_info": {
   "name": "python"
  }
 },
 "nbformat": 4,
 "nbformat_minor": 2
}
