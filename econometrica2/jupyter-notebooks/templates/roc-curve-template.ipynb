{
 "cells": [
  {
   "cell_type": "code",
   "execution_count": null,
   "metadata": {},
   "outputs": [],
   "source": [
    "import numpy as np\n",
    "import pandas as pd\n",
    "import statsmodels.api as sm\n",
    "from statsmodels.tools import add_constant\n",
    "\n",
    "from sklearn.model_selection import train_test_split \n",
    "from sklearn.metrics import roc_curve, roc_auc_score # ROC-curve and AUC\n",
    "\n",
    "import matplotlib.pyplot as plt\n",
    "\n",
    "# Не показывать FutureWarnings\n",
    "import warnings\n",
    "warnings.simplefilter(action='ignore', category=FutureWarning)"
   ]
  },
  {
   "cell_type": "code",
   "execution_count": null,
   "metadata": {},
   "outputs": [],
   "source": [
    "# импорт данных\n",
    "df = pd.read_csv('Filename.csv')"
   ]
  },
  {
   "cell_type": "code",
   "execution_count": null,
   "metadata": {},
   "outputs": [],
   "source": [
    "# зададим зависимую переменную\n",
    "y = df['dependent_var']\n",
    "# Добавляем столбец с единицами к матрице регрессоров (признаков), искллючив из нее переменные DEFAULT, SPENDING, LOGSPEND\n",
    "X = add_constant(df[exogeneous_vars])\n",
    "# Разделение данных на обучающий и тестовый наборы в отношении 80:20\n",
    "X_train, X_test, y_train, y_test = train_test_split(X,y,test_size=0.2,random_state=0)"
   ]
  },
  {
   "cell_type": "markdown",
   "metadata": {},
   "source": [
    "## Спецификация и подгонка"
   ]
  },
  {
   "cell_type": "code",
   "execution_count": null,
   "metadata": {},
   "outputs": [],
   "source": [
    "mod = sm.Logit(endog=y_train, exog=X_train)\n",
    "# mod = sm.Probit(endog=y_train, exog=X_train)\n",
    "# mod = sm.OLS(endog=y_train, exog=X_train)\n",
    "res = mod.fit()"
   ]
  },
  {
   "cell_type": "markdown",
   "metadata": {},
   "source": [
    "## Строим ROC-кривую"
   ]
  },
  {
   "cell_type": "code",
   "execution_count": null,
   "metadata": {},
   "outputs": [],
   "source": [
    "# строим прогнозы для тестового набора данных по логит-модели\n",
    "y_pred_prob = res_logit.predict(X_test)\n",
    "\n",
    "fpr, tpr, threshold = roc_curve(y_test, y_pred_prob)\n",
    "# fpr False Positive Rate\n",
    "# tpr True Positive Rate\n",
    "# threshold пороговые значения вероятностей\n",
    "\n",
    "# вычисляем площадь под ROC-кривой\n",
    "auc_roc = roc_auc_score(y_test, y_pred_prob)\n",
    "# построение ROC-кривой\n",
    "plt.figure(figsize=(8, 6))\n",
    "plt.title('Receiver Operating Characteristic (ROC) Curve')\n",
    "\n",
    "plt.plot (fpr, tpr, label=\" AUC= %0.3f\" % auc_roc)\n",
    "\n",
    "plt.ylabel('True Positive Rate')\n",
    "plt.xlabel('False Positive Rate')\n",
    "plt.legend(loc='lower right')\n",
    "plt.show()"
   ]
  }
 ],
 "metadata": {
  "language_info": {
   "name": "python"
  }
 },
 "nbformat": 4,
 "nbformat_minor": 2
}
