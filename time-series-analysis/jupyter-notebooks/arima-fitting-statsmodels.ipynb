{
 "cells": [
  {
   "cell_type": "markdown",
   "metadata": {},
   "source": [
    "# Подгонка ARIMA (пакет [`statsmodels`](https://www.statsmodels.org/stable/index.html))\n",
    "\n",
    "Для подгонки используем классы \n",
    "* [ARIMA](https://www.statsmodels.org/stable/generated/statsmodels.tsa.arima.model.ARIMA.html#statsmodels.tsa.arima.model.ARIMA) (специфицированная модель)\n",
    "* [ARIMAResult](https://www.statsmodels.org/stable/generated/statsmodels.tsa.arima.model.ARIMAResults.html#statsmodels.tsa.arima.model.ARIMAResults) (подогнанная модель)"
   ]
  },
  {
   "cell_type": "code",
   "execution_count": null,
   "metadata": {},
   "outputs": [],
   "source": [
    "import numpy as np\n",
    "import pandas as pd\n",
    "\n",
    "import statsmodels.tsa.api as tsa\n",
    "from statsmodels.stats.diagnostic import het_arch, acorr_ljungbox\n",
    "\n",
    "import pandas_datareader.data as web\n",
    "\n",
    "# настройки визуализация\n",
    "import matplotlib.pyplot as plt\n",
    "\n",
    "# Не показывать Warnings\n",
    "import warnings\n",
    "warnings.simplefilter(action='ignore', category=Warning)"
   ]
  },
  {
   "cell_type": "markdown",
   "metadata": {},
   "source": [
    "## Подгонка ARIMA заданного порядка без сноса\n",
    "\n",
    "Загрузим из БД [`FRED`](https://fred.stlouisfed.org/) недельные данные по Market Yield on U.S. Treasury Securities at 10-Year Constant Maturity (Symbol [`WGS10YR`](https://fred.stlouisfed.org/series/WGS10YR)) с 2000-01-01 по 2023-12-31 и создадим датафрейм `y`\n",
    "\n"
   ]
  },
  {
   "cell_type": "code",
   "execution_count": null,
   "metadata": {},
   "outputs": [],
   "source": [
    "y = web.DataReader(name='WGS10YR', data_source='fred', start='2000-01-01', end='2023-12-31')"
   ]
  },
  {
   "cell_type": "markdown",
   "metadata": {},
   "source": [
    "Подгоним модель ARIMA(2,1,1) без сноса для `y`\n",
    "\n",
    "Спецификация\n",
    "\n",
    "$$\n",
    "\t(1-\\phi_1L-\\phi_2 L^2)(1-L) y_t=u_t+\\theta u_{t-1}\n",
    "$$"
   ]
  },
  {
   "cell_type": "code",
   "execution_count": null,
   "metadata": {},
   "outputs": [],
   "source": [
    "# спецификация модели\n",
    "arima_mod = tsa.ARIMA(y, order=(2,1,1), trend='n', missing='drop')\n",
    "# подгонка модели на данных\n",
    "arima_res = arima_mod.fit()\n",
    "# выводим результаты подгонки\n",
    "arima_res.summary(alpha=0.05)"
   ]
  },
  {
   "cell_type": "markdown",
   "metadata": {},
   "source": [
    "## Диагностика подогнанной модели\n",
    "\n",
    "Базовые графики"
   ]
  },
  {
   "cell_type": "code",
   "execution_count": null,
   "metadata": {},
   "outputs": [],
   "source": [
    "arima_res.plot_diagnostics(lags=15)\n",
    "\n",
    "plt.show()"
   ]
  },
  {
   "cell_type": "markdown",
   "metadata": {},
   "source": [
    "Тест на серийную корреляцию (Ljung-Box test). Выберем число лагов 7"
   ]
  },
  {
   "cell_type": "code",
   "execution_count": null,
   "metadata": {},
   "outputs": [],
   "source": [
    "acorr_ljungbox(arima_res.resid[1:] , lags=[7], model_df=2+1)"
   ]
  },
  {
   "cell_type": "markdown",
   "metadata": {},
   "source": [
    "Тест на гетероскедастичность (на ARCH-эффекты)"
   ]
  },
  {
   "cell_type": "code",
   "execution_count": null,
   "metadata": {},
   "outputs": [],
   "source": [
    "lm_stat, lm_pval, f_stat, f_pval = het_arch(arima_res.resid[1:], nlags=7, ddof=2+1)\n",
    "\n",
    "lm_stat, lm_pval"
   ]
  },
  {
   "cell_type": "markdown",
   "metadata": {},
   "source": [
    "## Подгонка ARIMA заданного порядка со сносом\n",
    "\n",
    "Загрузим из БД [`FRED`](https://fred.stlouisfed.org/) квартальные данные по ВВП (Symbol [`GDP`](https://fred.stlouisfed.org/series/GDP)) с 1990 Q1 по 2023 Q4 и создадим датафрейм `y=log(GDP)`"
   ]
  },
  {
   "cell_type": "code",
   "execution_count": null,
   "metadata": {},
   "outputs": [],
   "source": [
    "y = np.log(web.DataReader(name='GDP', data_source='fred', start='1990-1', end='2023-12' ) )"
   ]
  },
  {
   "cell_type": "markdown",
   "metadata": {},
   "source": [
    "Подгоним модель ARIMA(1,1,1) со сносом для `y` \n",
    "\n",
    "Спецификация\n",
    "\n",
    "$$\n",
    "\t(1-\\phi L)(1-L) y_t=\\alpha_0+u_t+\\theta u_{t-1}\n",
    "$$"
   ]
  },
  {
   "cell_type": "code",
   "execution_count": null,
   "metadata": {},
   "outputs": [],
   "source": [
    "# спецификация модели\n",
    "arima_drift_mod = tsa.ARIMA(y, order=(1,1,1), trend='t', missing='drop')\n",
    "# подгонка модели на данных\n",
    "arima_drift_res = arima_drift_mod.fit()\n",
    "# выводим результаты подгонки\n",
    "arima_drift_res.summary(alpha=0.05)"
   ]
  },
  {
   "cell_type": "code",
   "execution_count": null,
   "metadata": {},
   "outputs": [],
   "source": [
    "arima_drift_res.plot_diagnostics(lags=15)\n",
    "\n",
    "plt.show()"
   ]
  },
  {
   "cell_type": "code",
   "execution_count": null,
   "metadata": {},
   "outputs": [],
   "source": [
    "# model_df = p+q+1 (drift)\n",
    "# исключаем первый остаток .resid[1:] т.к. дифференцируем один раз\n",
    "acorr_ljungbox(arima_drift_res.resid[1:], lags=[5], model_df=1+1+1)"
   ]
  },
  {
   "cell_type": "code",
   "execution_count": null,
   "metadata": {},
   "outputs": [],
   "source": [
    "arima_drift_res.test_serial_correlation(method=None, lags=[5], df_adjust=True)"
   ]
  },
  {
   "cell_type": "code",
   "execution_count": null,
   "metadata": {},
   "outputs": [],
   "source": [
    "lm_stat, lm_pval, f_stat, f_pval = het_arch(arima_drift_res.resid[1:], nlags=7, ddof=1+1+1)\n",
    "\n",
    "lm_stat, lm_pval"
   ]
  }
 ],
 "metadata": {
  "kernelspec": {
   "display_name": "base",
   "language": "python",
   "name": "python3"
  },
  "language_info": {
   "codemirror_mode": {
    "name": "ipython",
    "version": 3
   },
   "file_extension": ".py",
   "mimetype": "text/x-python",
   "name": "python",
   "nbconvert_exporter": "python",
   "pygments_lexer": "ipython3",
   "version": "3.11.6"
  }
 },
 "nbformat": 4,
 "nbformat_minor": 2
}
