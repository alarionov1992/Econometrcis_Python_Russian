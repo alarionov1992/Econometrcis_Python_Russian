{
 "cells": [
  {
   "cell_type": "markdown",
   "metadata": {},
   "source": [
    "# Тесты единичного корня (пакет [`sktime`](https://www.sktime.net/en/stable/index.html))"
   ]
  },
  {
   "cell_type": "code",
   "execution_count": null,
   "metadata": {},
   "outputs": [],
   "source": [
    "import numpy as np\n",
    "import pandas as pd\n",
    "\n",
    "from sktime.param_est.stationarity import StationarityADF, StationarityKPSS, StationarityDFGLS, \\\n",
    "\tStationarityPhillipsPerron, StationarityADFArch, StationarityKPSSArch\n",
    "\n",
    "import pandas_datareader.data as web\n",
    "\n",
    "# настройки визуализации\n",
    "import matplotlib.pyplot as plt\n",
    "\n",
    "# Не показывать Warnings\n",
    "import warnings\n",
    "warnings.simplefilter(action='ignore', category=Warning)\n",
    "# Не показывать InterpolationWarning из statsmodels\n",
    "from statsmodels.tools.sm_exceptions import InterpolationWarning\n",
    "warnings.simplefilter('ignore', category=InterpolationWarning)"
   ]
  },
  {
   "cell_type": "markdown",
   "metadata": {},
   "source": [
    "Загрузим из БД [`FRED`](https://fred.stlouisfed.org/) месячные данные по M2 (Symbol [`M2SL`](https://fred.stlouisfed.org/series/M2SL)) с 2000-01 по 2023-12 и создадим датафрейм `y`=log(M2)"
   ]
  },
  {
   "cell_type": "code",
   "execution_count": null,
   "metadata": {},
   "outputs": [],
   "source": [
    "y = np.log( web.DataReader(name='M2SL', data_source='fred', start='2000-01', end='2023-12') )"
   ]
  },
  {
   "cell_type": "code",
   "execution_count": null,
   "metadata": {},
   "outputs": [],
   "source": [
    "ax = y.plot(title='M2 Monthly data')\n",
    "\n",
    "# надпись по ос oX\n",
    "ax.set_xlabel('Date')\n",
    "# надпись по ос oY\n",
    "ax.set_ylabel('log(M2)')\n",
    "# отобразить сетку\n",
    "ax.grid()\n",
    "# удалим легенду\n",
    "ax.legend().remove()\n",
    "\n",
    "plt.show()"
   ]
  },
  {
   "cell_type": "markdown",
   "metadata": {},
   "source": [
    "## ADF-тест\n",
    "\n",
    "### Вариант №1\n",
    "\n",
    "Используем метод [`StationarityADF`](https://www.sktime.net/en/stable/api_reference/auto_generated/sktime.param_est.stationarity.StationarityADF.html#sktime.param_est.stationarity.StationarityADF) (фактически используется метод из `statsmodels`)\n",
    "\n",
    "Выберем вариант теста\n",
    "* с трендом\n",
    "* с автоматическим выбором лагов по критерию BIC"
   ]
  },
  {
   "cell_type": "code",
   "execution_count": null,
   "metadata": {},
   "outputs": [],
   "source": [
    "sty_est = StationarityADF(p_threshold=0.05, regression='ct', autolag='BIC')\n",
    "sty_est.fit(y) \n",
    "sty_est.get_fitted_params()[\"stationary\"]  "
   ]
  },
  {
   "cell_type": "code",
   "execution_count": null,
   "metadata": {},
   "outputs": [],
   "source": [
    "# полный протокол теста\n",
    "sty_est.get_fitted_params()"
   ]
  },
  {
   "cell_type": "markdown",
   "metadata": {},
   "source": [
    "### Вариант №2\n",
    "\n",
    "Используем метод [`StationarityADFArch`](https://www.sktime.net/en/stable/api_reference/auto_generated/sktime.param_est.stationarity.StationarityADFArch.html#sktime.param_est.stationarity.StationarityADFArch) (фактически используется метод из `arch`)\n",
    "\n",
    "Выберем вариант теста\n",
    "* с трендом\n",
    "* с автоматическим выбором лагов по критерию BIC"
   ]
  },
  {
   "cell_type": "code",
   "execution_count": null,
   "metadata": {},
   "outputs": [],
   "source": [
    "sty_est = StationarityADFArch(trend='ct', method='bic', p_threshold=0.05)\n",
    "sty_est.fit(y) \n",
    "sty_est.get_fitted_params()[\"stationary\"]"
   ]
  },
  {
   "cell_type": "code",
   "execution_count": null,
   "metadata": {},
   "outputs": [],
   "source": [
    "# полный протокол теста\n",
    "sty_est.get_fitted_params()"
   ]
  },
  {
   "cell_type": "markdown",
   "metadata": {},
   "source": [
    "## KPSS-тест\n",
    "\n",
    "### Вариант 1\n",
    "\n",
    "Используем метод [`StationarityKPSS`](https://www.sktime.net/en/stable/api_reference/auto_generated/sktime.param_est.stationarity.StationarityKPSS.html#sktime.param_est.stationarity.StationarityKPSS) (фактические используется метод из `statsmodels`)\n",
    "\n",
    "Выберем вариант теста с трендом"
   ]
  },
  {
   "cell_type": "code",
   "execution_count": null,
   "metadata": {},
   "outputs": [],
   "source": [
    "sty_est = StationarityKPSS(p_threshold=0.05, regression='ct')\n",
    "sty_est.fit(y)\n",
    "sty_est.get_fitted_params()[\"stationary\"]"
   ]
  },
  {
   "cell_type": "code",
   "execution_count": null,
   "metadata": {},
   "outputs": [],
   "source": [
    "# полный протокол теста\n",
    "sty_est.get_fitted_params()"
   ]
  },
  {
   "cell_type": "markdown",
   "metadata": {},
   "source": [
    "### Вариант 2\n",
    "\n",
    "Используем метод [`StationarityKPSSArch`](https://www.sktime.net/en/stable/api_reference/auto_generated/sktime.param_est.stationarity.StationarityKPSSArch.html#sktime.param_est.stationarity.StationarityKPSSArch) (фактические используется метод из `arch`)\n",
    "\n",
    "Выберем вариант теста с трендом"
   ]
  },
  {
   "cell_type": "code",
   "execution_count": null,
   "metadata": {},
   "outputs": [],
   "source": [
    "sty_est = StationarityKPSSArch(p_threshold=0.05, trend='ct')\n",
    "sty_est.fit(y)\n",
    "sty_est.get_fitted_params()[\"stationary\"]"
   ]
  },
  {
   "cell_type": "code",
   "execution_count": null,
   "metadata": {},
   "outputs": [],
   "source": [
    "# полный протокол теста\n",
    "sty_est.get_fitted_params()"
   ]
  },
  {
   "cell_type": "markdown",
   "metadata": {},
   "source": [
    "## PP-тест\n",
    "\n",
    "Используем метод [`StationarityPhillipsPerron`](https://www.sktime.net/en/stable/api_reference/auto_generated/sktime.param_est.stationarity.StationarityPhillipsPerron.html#sktime.param_est.stationarity.StationarityPhillipsPerron) (фактические используется метод из `arch`)\n",
    "\n",
    "Выберем вариант теста \n",
    "* с трендом\n",
    "* тестовая статистика tau"
   ]
  },
  {
   "cell_type": "code",
   "execution_count": null,
   "metadata": {},
   "outputs": [],
   "source": [
    "sty_est = StationarityPhillipsPerron(p_threshold=0.05, trend='ct', test_type='tau')\n",
    "sty_est.fit(y)\n",
    "sty_est.get_fitted_params()[\"stationary\"]"
   ]
  },
  {
   "cell_type": "code",
   "execution_count": null,
   "metadata": {},
   "outputs": [],
   "source": [
    "# полный протокол теста\n",
    "sty_est.get_fitted_params()"
   ]
  },
  {
   "cell_type": "markdown",
   "metadata": {},
   "source": [
    "## DF-GLS-тест\n",
    "\n",
    "Используем метод [`StationarityDFGLS`](https://www.sktime.net/en/stable/api_reference/auto_generated/sktime.param_est.stationarity.StationarityDFGLS.html#sktime.param_est.stationarity.StationarityDFGLS) (фактические используется метод из `arch`)\n",
    "\n",
    "Выберем вариант теста\n",
    "* с трендом\n",
    "* с автоматическим выбором лагов по критерию BIC"
   ]
  },
  {
   "cell_type": "code",
   "execution_count": null,
   "metadata": {},
   "outputs": [],
   "source": [
    "sty_est = StationarityDFGLS(trend='ct', method='bic', p_threshold=0.05)\n",
    "sty_est.fit(y)\n",
    "sty_est.get_fitted_params()[\"stationary\"]"
   ]
  },
  {
   "cell_type": "code",
   "execution_count": null,
   "metadata": {},
   "outputs": [],
   "source": [
    "# полный протокол теста\n",
    "sty_est.get_fitted_params()"
   ]
  }
 ],
 "metadata": {
  "kernelspec": {
   "display_name": "base",
   "language": "python",
   "name": "python3"
  },
  "language_info": {
   "codemirror_mode": {
    "name": "ipython",
    "version": 3
   },
   "file_extension": ".py",
   "mimetype": "text/x-python",
   "name": "python",
   "nbconvert_exporter": "python",
   "pygments_lexer": "ipython3",
   "version": "3.12.3"
  }
 },
 "nbformat": 4,
 "nbformat_minor": 2
}
