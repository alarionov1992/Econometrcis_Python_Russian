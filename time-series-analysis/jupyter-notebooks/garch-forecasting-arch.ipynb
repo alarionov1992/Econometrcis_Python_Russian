{
 "cells": [
  {
   "cell_type": "markdown",
   "metadata": {},
   "source": [
    "# Прогнозирование (*)ARCH (пакет ['arch](https://arch.readthedocs.io/en/latest/index.html))"
   ]
  },
  {
   "cell_type": "code",
   "execution_count": null,
   "metadata": {},
   "outputs": [],
   "source": [
    "import numpy as np\n",
    "import pandas as pd\n",
    "\n",
    "from arch import arch_model\n",
    "\n",
    "import pandas_datareader.data as web\n",
    "\n",
    "# настройки визуализация\n",
    "import matplotlib.pyplot as plt\n",
    "\n",
    "# Не показывать Warnings\n",
    "import warnings\n",
    "warnings.simplefilter(action='ignore', category=Warning)"
   ]
  },
  {
   "cell_type": "markdown",
   "metadata": {},
   "source": [
    "Загрузим из БД [`FRED`](https://fred.stlouisfed.org/) недельные данные по 3-Month Treasury Bill Secondary Market Rate (Symbol [`WTB3MS`](https://fred.stlouisfed.org/series/WTB3MS)) с 2000-01-01 по 2023-12-31 и создадим датафрейм `y` - первая разность ставки"
   ]
  },
  {
   "cell_type": "code",
   "execution_count": null,
   "metadata": {},
   "outputs": [],
   "source": [
    "rate = web.DataReader(name='WTB3MS', data_source='fred', start='2000-01-01', end='2023-12-31')\n",
    "y = 100*rate.diff().dropna()\n",
    "\n",
    "y.plot()\n",
    "plt.show()"
   ]
  },
  {
   "cell_type": "markdown",
   "metadata": {},
   "source": [
    "Подгоним модель AR(2)-GARCH(2,2)\n",
    "\n",
    "Спецификация\n",
    "\n",
    "\\begin{align*}\n",
    "\ty_t&=\\alpha_0+\\phi_1y_{t-1}+\\phi_2y_{t-2}+u_t \\\\ u_t&=\\sigma_t \\epsilon_t \\\\\n",
    "\t\\sigma^\\lambda_t &=\\omega+\\alpha_1|\\epsilon_{t-1}|^\\lambda+\\alpha_2|\\epsilon_{t-2}|^\\lambda+\\beta_1\\sigma^\\lambda_{t-1}+\\beta_2\\sigma^\\lambda_{t-2}\n",
    "\\end{align*}\n",
    "\n",
    "где $\\lambda=2$"
   ]
  },
  {
   "cell_type": "code",
   "execution_count": null,
   "metadata": {},
   "outputs": [],
   "source": [
    "am = arch_model(y, mean='ARX', lags=1, vol='GARCH', p=2, q=2)\n",
    "\n",
    "res = am.fit()\n",
    "\n",
    "res.summary()"
   ]
  },
  {
   "cell_type": "markdown",
   "metadata": {},
   "source": [
    "# Прогнозирование\n",
    "\n",
    "Построим прогноз на на 5 периодов"
   ]
  },
  {
   "cell_type": "code",
   "execution_count": null,
   "metadata": {},
   "outputs": [],
   "source": [
    "y_forecasts = res.forecast(horizon=5)"
   ]
  },
  {
   "cell_type": "code",
   "execution_count": null,
   "metadata": {},
   "outputs": [],
   "source": [
    "y_forecasts.mean"
   ]
  },
  {
   "cell_type": "code",
   "execution_count": null,
   "metadata": {},
   "outputs": [],
   "source": [
    "y_forecasts.residual_variance"
   ]
  },
  {
   "cell_type": "code",
   "execution_count": null,
   "metadata": {},
   "outputs": [],
   "source": [
    "y_forecasts.variance"
   ]
  }
 ],
 "metadata": {
  "kernelspec": {
   "display_name": "base",
   "language": "python",
   "name": "python3"
  },
  "language_info": {
   "codemirror_mode": {
    "name": "ipython",
    "version": 3
   },
   "file_extension": ".py",
   "mimetype": "text/x-python",
   "name": "python",
   "nbconvert_exporter": "python",
   "pygments_lexer": "ipython3",
   "version": "3.11.6"
  }
 },
 "nbformat": 4,
 "nbformat_minor": 2
}
