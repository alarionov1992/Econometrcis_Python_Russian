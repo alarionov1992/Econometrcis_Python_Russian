{
 "cells": [
  {
   "cell_type": "markdown",
   "metadata": {},
   "source": [
    "# Подгонка ARIMA (пакет [`sktime`](https://www.sktime.net/en/stable/))"
   ]
  },
  {
   "cell_type": "code",
   "execution_count": 1,
   "metadata": {},
   "outputs": [],
   "source": [
    "import numpy as np\n",
    "import pandas as pd\n",
    "\n",
    "from sktime.forecasting.arima import ARIMA, AutoARIMA\n",
    "from sktime.utils.plotting import plot_series\n",
    "\n",
    "import pandas_datareader.data as web\n",
    "\n",
    "# настройки визуализация\n",
    "import matplotlib.pyplot as plt\n",
    "\n",
    "# Не показывать Warnings\n",
    "import warnings\n",
    "warnings.simplefilter(action='ignore', category=Warning)\n",
    "# Не показывать ValueWarning, ConvergenceWarning из statsmodels\n",
    "from statsmodels.tools.sm_exceptions import ValueWarning, ConvergenceWarning\n",
    "warnings.simplefilter('ignore', category=ValueWarning)\n",
    "warnings.simplefilter('ignore', category=ConvergenceWarning)"
   ]
  },
  {
   "cell_type": "markdown",
   "metadata": {},
   "source": [
    "## Подгонка ARIMA заданного порядка без сноса\n",
    "\n",
    "Загрузим из БД [`FRED`](https://fred.stlouisfed.org/) недельные данные по 3-Month Treasury Bill Secondary Market Rate (Symbol [`WTB3MS`](https://fred.stlouisfed.org/series/WTB3MS)) с 2000-01-01 по 2023-12-31 и создадим датафрейм `rate`"
   ]
  },
  {
   "cell_type": "code",
   "execution_count": 2,
   "metadata": {},
   "outputs": [],
   "source": [
    "y = web.DataReader(name='WTB3MS', data_source='fred', start='2000-01-01', end='2023-12-31')"
   ]
  },
  {
   "cell_type": "markdown",
   "metadata": {},
   "source": [
    "Подгоним модель ARMA(2,1,2) без сноса для `y`\n",
    "\n",
    "Спецификация\n",
    "\n",
    "$$\n",
    "\t(1-\\phi_1L-\\phi_2 L^2)(1-L) y_t=u_t+\\theta_1 u_{t-1}+\\theta_2 u_{t-2}\n",
    "$$"
   ]
  },
  {
   "cell_type": "code",
   "execution_count": 3,
   "metadata": {},
   "outputs": [
    {
     "data": {
      "text/html": [
       "<table class=\"simpletable\">\n",
       "<caption>SARIMAX Results</caption>\n",
       "<tr>\n",
       "  <th>Dep. Variable:</th>           <td>y</td>        <th>  No. Observations:  </th>   <td>1252</td>   \n",
       "</tr>\n",
       "<tr>\n",
       "  <th>Model:</th>           <td>SARIMAX(2, 1, 2)</td> <th>  Log Likelihood     </th> <td>1386.078</td> \n",
       "</tr>\n",
       "<tr>\n",
       "  <th>Date:</th>            <td>Mon, 18 Mar 2024</td> <th>  AIC                </th> <td>-2762.157</td>\n",
       "</tr>\n",
       "<tr>\n",
       "  <th>Time:</th>                <td>15:55:45</td>     <th>  BIC                </th> <td>-2736.498</td>\n",
       "</tr>\n",
       "<tr>\n",
       "  <th>Sample:</th>             <td>01-07-2000</td>    <th>  HQIC               </th> <td>-2752.511</td>\n",
       "</tr>\n",
       "<tr>\n",
       "  <th></th>                   <td>- 12-29-2023</td>   <th>                     </th>     <td> </td>    \n",
       "</tr>\n",
       "<tr>\n",
       "  <th>Covariance Type:</th>        <td>opg</td>       <th>                     </th>     <td> </td>    \n",
       "</tr>\n",
       "</table>\n",
       "<table class=\"simpletable\">\n",
       "<tr>\n",
       "     <td></td>       <th>coef</th>     <th>std err</th>      <th>z</th>      <th>P>|z|</th>  <th>[0.025</th>    <th>0.975]</th>  \n",
       "</tr>\n",
       "<tr>\n",
       "  <th>ar.L1</th>  <td>    0.8581</td> <td>    0.116</td> <td>    7.396</td> <td> 0.000</td> <td>    0.631</td> <td>    1.086</td>\n",
       "</tr>\n",
       "<tr>\n",
       "  <th>ar.L2</th>  <td>    0.1188</td> <td>    0.110</td> <td>    1.082</td> <td> 0.279</td> <td>   -0.096</td> <td>    0.334</td>\n",
       "</tr>\n",
       "<tr>\n",
       "  <th>ma.L1</th>  <td>   -0.6665</td> <td>    0.117</td> <td>   -5.687</td> <td> 0.000</td> <td>   -0.896</td> <td>   -0.437</td>\n",
       "</tr>\n",
       "<tr>\n",
       "  <th>ma.L2</th>  <td>   -0.2458</td> <td>    0.099</td> <td>   -2.478</td> <td> 0.013</td> <td>   -0.440</td> <td>   -0.051</td>\n",
       "</tr>\n",
       "<tr>\n",
       "  <th>sigma2</th> <td>    0.0064</td> <td> 6.72e-05</td> <td>   94.904</td> <td> 0.000</td> <td>    0.006</td> <td>    0.007</td>\n",
       "</tr>\n",
       "</table>\n",
       "<table class=\"simpletable\">\n",
       "<tr>\n",
       "  <th>Ljung-Box (L1) (Q):</th>     <td>0.00</td> <th>  Jarque-Bera (JB):  </th> <td>81356.64</td>\n",
       "</tr>\n",
       "<tr>\n",
       "  <th>Prob(Q):</th>                <td>0.96</td> <th>  Prob(JB):          </th>   <td>0.00</td>  \n",
       "</tr>\n",
       "<tr>\n",
       "  <th>Heteroskedasticity (H):</th> <td>0.49</td> <th>  Skew:              </th>   <td>-2.23</td> \n",
       "</tr>\n",
       "<tr>\n",
       "  <th>Prob(H) (two-sided):</th>    <td>0.00</td> <th>  Kurtosis:          </th>   <td>42.25</td> \n",
       "</tr>\n",
       "</table><br/><br/>Warnings:<br/>[1] Covariance matrix calculated using the outer product of gradients (complex-step)."
      ],
      "text/latex": [
       "\\begin{center}\n",
       "\\begin{tabular}{lclc}\n",
       "\\toprule\n",
       "\\textbf{Dep. Variable:}          &        y         & \\textbf{  No. Observations:  } &    1252     \\\\\n",
       "\\textbf{Model:}                  & SARIMAX(2, 1, 2) & \\textbf{  Log Likelihood     } &  1386.078   \\\\\n",
       "\\textbf{Date:}                   & Mon, 18 Mar 2024 & \\textbf{  AIC                } & -2762.157   \\\\\n",
       "\\textbf{Time:}                   &     15:55:45     & \\textbf{  BIC                } & -2736.498   \\\\\n",
       "\\textbf{Sample:}                 &    01-07-2000    & \\textbf{  HQIC               } & -2752.511   \\\\\n",
       "\\textbf{}                        &   - 12-29-2023   & \\textbf{                     } &             \\\\\n",
       "\\textbf{Covariance Type:}        &       opg        & \\textbf{                     } &             \\\\\n",
       "\\bottomrule\n",
       "\\end{tabular}\n",
       "\\begin{tabular}{lcccccc}\n",
       "                & \\textbf{coef} & \\textbf{std err} & \\textbf{z} & \\textbf{P$> |$z$|$} & \\textbf{[0.025} & \\textbf{0.975]}  \\\\\n",
       "\\midrule\n",
       "\\textbf{ar.L1}  &       0.8581  &        0.116     &     7.396  &         0.000        &        0.631    &        1.086     \\\\\n",
       "\\textbf{ar.L2}  &       0.1188  &        0.110     &     1.082  &         0.279        &       -0.096    &        0.334     \\\\\n",
       "\\textbf{ma.L1}  &      -0.6665  &        0.117     &    -5.687  &         0.000        &       -0.896    &       -0.437     \\\\\n",
       "\\textbf{ma.L2}  &      -0.2458  &        0.099     &    -2.478  &         0.013        &       -0.440    &       -0.051     \\\\\n",
       "\\textbf{sigma2} &       0.0064  &     6.72e-05     &    94.904  &         0.000        &        0.006    &        0.007     \\\\\n",
       "\\bottomrule\n",
       "\\end{tabular}\n",
       "\\begin{tabular}{lclc}\n",
       "\\textbf{Ljung-Box (L1) (Q):}     & 0.00 & \\textbf{  Jarque-Bera (JB):  } & 81356.64  \\\\\n",
       "\\textbf{Prob(Q):}                & 0.96 & \\textbf{  Prob(JB):          } &   0.00    \\\\\n",
       "\\textbf{Heteroskedasticity (H):} & 0.49 & \\textbf{  Skew:              } &  -2.23    \\\\\n",
       "\\textbf{Prob(H) (two-sided):}    & 0.00 & \\textbf{  Kurtosis:          } &  42.25    \\\\\n",
       "\\bottomrule\n",
       "\\end{tabular}\n",
       "%\\caption{SARIMAX Results}\n",
       "\\end{center}\n",
       "\n",
       "Warnings: \\newline\n",
       " [1] Covariance matrix calculated using the outer product of gradients (complex-step)."
      ],
      "text/plain": [
       "<class 'statsmodels.iolib.summary.Summary'>\n",
       "\"\"\"\n",
       "                               SARIMAX Results                                \n",
       "==============================================================================\n",
       "Dep. Variable:                      y   No. Observations:                 1252\n",
       "Model:               SARIMAX(2, 1, 2)   Log Likelihood                1386.078\n",
       "Date:                Mon, 18 Mar 2024   AIC                          -2762.157\n",
       "Time:                        15:55:45   BIC                          -2736.498\n",
       "Sample:                    01-07-2000   HQIC                         -2752.511\n",
       "                         - 12-29-2023                                         \n",
       "Covariance Type:                  opg                                         \n",
       "==============================================================================\n",
       "                 coef    std err          z      P>|z|      [0.025      0.975]\n",
       "------------------------------------------------------------------------------\n",
       "ar.L1          0.8581      0.116      7.396      0.000       0.631       1.086\n",
       "ar.L2          0.1188      0.110      1.082      0.279      -0.096       0.334\n",
       "ma.L1         -0.6665      0.117     -5.687      0.000      -0.896      -0.437\n",
       "ma.L2         -0.2458      0.099     -2.478      0.013      -0.440      -0.051\n",
       "sigma2         0.0064   6.72e-05     94.904      0.000       0.006       0.007\n",
       "===================================================================================\n",
       "Ljung-Box (L1) (Q):                   0.00   Jarque-Bera (JB):             81356.64\n",
       "Prob(Q):                              0.96   Prob(JB):                         0.00\n",
       "Heteroskedasticity (H):               0.49   Skew:                            -2.23\n",
       "Prob(H) (two-sided):                  0.00   Kurtosis:                        42.25\n",
       "===================================================================================\n",
       "\n",
       "Warnings:\n",
       "[1] Covariance matrix calculated using the outer product of gradients (complex-step).\n",
       "\"\"\""
      ]
     },
     "execution_count": 3,
     "metadata": {},
     "output_type": "execute_result"
    }
   ],
   "source": [
    "forecaster = ARIMA(order=(2,1,2), trend='n')\n",
    "forecaster.fit(y)\n",
    "forecaster.summary()"
   ]
  },
  {
   "cell_type": "code",
   "execution_count": 4,
   "metadata": {},
   "outputs": [
    {
     "data": {
      "text/plain": [
       "{'ar.L1': 0.8581486121792634,\n",
       " 'ar.L2': 0.11880003924782097,\n",
       " 'ma.L1': -0.666457623042958,\n",
       " 'ma.L2': -0.24581090047515824,\n",
       " 'sigma2': 0.006382110157672486,\n",
       " 'aic': -2762.156688218109,\n",
       " 'aicc': -2762.108495447025,\n",
       " 'bic': -2736.498195665775,\n",
       " 'hqic': -2752.5111939549283}"
      ]
     },
     "execution_count": 4,
     "metadata": {},
     "output_type": "execute_result"
    }
   ],
   "source": [
    "forecaster.get_fitted_params()"
   ]
  },
  {
   "cell_type": "markdown",
   "metadata": {},
   "source": [
    "## Подгонка ARMA заданного порядка со сносом\n",
    "\n",
    "Загрузим из БД [`FRED`](https://fred.stlouisfed.org/) квартальные данные по ВВП (Symbol [`GDP`](https://fred.stlouisfed.org/series/GDP)) с 1990 Q1 по 2023 Q4 и создадим датафрейм `y=log(GDP)`"
   ]
  },
  {
   "cell_type": "code",
   "execution_count": 6,
   "metadata": {},
   "outputs": [],
   "source": [
    "y = np.log(web.DataReader(name='GDP', data_source='fred', start='1990-1', end='2023-12' ) )"
   ]
  },
  {
   "cell_type": "markdown",
   "metadata": {},
   "source": [
    "Подгоним модель ARMA(1,1,1) со сносом для `y` \n",
    "\n",
    "Спецификация\n",
    "\n",
    "$$\n",
    "\t(1-\\phi L)(1-L) y_t=\\alpha_0+u_t+\\theta u_{t-1}\n",
    "$$"
   ]
  },
  {
   "cell_type": "code",
   "execution_count": 8,
   "metadata": {},
   "outputs": [
    {
     "data": {
      "text/html": [
       "<table class=\"simpletable\">\n",
       "<caption>SARIMAX Results</caption>\n",
       "<tr>\n",
       "  <th>Dep. Variable:</th>           <td>y</td>        <th>  No. Observations:  </th>    <td>136</td>  \n",
       "</tr>\n",
       "<tr>\n",
       "  <th>Model:</th>           <td>SARIMAX(1, 1, 1)</td> <th>  Log Likelihood     </th>  <td>387.875</td>\n",
       "</tr>\n",
       "<tr>\n",
       "  <th>Date:</th>            <td>Mon, 18 Mar 2024</td> <th>  AIC                </th> <td>-767.751</td>\n",
       "</tr>\n",
       "<tr>\n",
       "  <th>Time:</th>                <td>15:57:30</td>     <th>  BIC                </th> <td>-756.130</td>\n",
       "</tr>\n",
       "<tr>\n",
       "  <th>Sample:</th>             <td>01-01-1990</td>    <th>  HQIC               </th> <td>-763.028</td>\n",
       "</tr>\n",
       "<tr>\n",
       "  <th></th>                   <td>- 10-01-2023</td>   <th>                     </th>     <td> </td>   \n",
       "</tr>\n",
       "<tr>\n",
       "  <th>Covariance Type:</th>        <td>opg</td>       <th>                     </th>     <td> </td>   \n",
       "</tr>\n",
       "</table>\n",
       "<table class=\"simpletable\">\n",
       "<tr>\n",
       "     <td></td>       <th>coef</th>     <th>std err</th>      <th>z</th>      <th>P>|z|</th>  <th>[0.025</th>    <th>0.975]</th>  \n",
       "</tr>\n",
       "<tr>\n",
       "  <th>drift</th>  <td> 3.909e-05</td> <td>    0.000</td> <td>    0.310</td> <td> 0.756</td> <td>   -0.000</td> <td>    0.000</td>\n",
       "</tr>\n",
       "<tr>\n",
       "  <th>ar.L1</th>  <td>    0.6610</td> <td>    1.083</td> <td>    0.610</td> <td> 0.542</td> <td>   -1.461</td> <td>    2.783</td>\n",
       "</tr>\n",
       "<tr>\n",
       "  <th>ma.L1</th>  <td>   -0.6140</td> <td>    1.118</td> <td>   -0.549</td> <td> 0.583</td> <td>   -2.806</td> <td>    1.578</td>\n",
       "</tr>\n",
       "<tr>\n",
       "  <th>sigma2</th> <td>    0.0002</td> <td>    1e-05</td> <td>   18.226</td> <td> 0.000</td> <td>    0.000</td> <td>    0.000</td>\n",
       "</tr>\n",
       "</table>\n",
       "<table class=\"simpletable\">\n",
       "<tr>\n",
       "  <th>Ljung-Box (L1) (Q):</th>     <td>0.03</td> <th>  Jarque-Bera (JB):  </th> <td>5290.79</td>\n",
       "</tr>\n",
       "<tr>\n",
       "  <th>Prob(Q):</th>                <td>0.86</td> <th>  Prob(JB):          </th>  <td>0.00</td>  \n",
       "</tr>\n",
       "<tr>\n",
       "  <th>Heteroskedasticity (H):</th> <td>3.46</td> <th>  Skew:              </th>  <td>-2.38</td> \n",
       "</tr>\n",
       "<tr>\n",
       "  <th>Prob(H) (two-sided):</th>    <td>0.00</td> <th>  Kurtosis:          </th>  <td>33.30</td> \n",
       "</tr>\n",
       "</table><br/><br/>Warnings:<br/>[1] Covariance matrix calculated using the outer product of gradients (complex-step)."
      ],
      "text/latex": [
       "\\begin{center}\n",
       "\\begin{tabular}{lclc}\n",
       "\\toprule\n",
       "\\textbf{Dep. Variable:}          &        y         & \\textbf{  No. Observations:  } &    136      \\\\\n",
       "\\textbf{Model:}                  & SARIMAX(1, 1, 1) & \\textbf{  Log Likelihood     } &  387.875    \\\\\n",
       "\\textbf{Date:}                   & Mon, 18 Mar 2024 & \\textbf{  AIC                } &  -767.751   \\\\\n",
       "\\textbf{Time:}                   &     15:57:30     & \\textbf{  BIC                } &  -756.130   \\\\\n",
       "\\textbf{Sample:}                 &    01-01-1990    & \\textbf{  HQIC               } &  -763.028   \\\\\n",
       "\\textbf{}                        &   - 10-01-2023   & \\textbf{                     } &             \\\\\n",
       "\\textbf{Covariance Type:}        &       opg        & \\textbf{                     } &             \\\\\n",
       "\\bottomrule\n",
       "\\end{tabular}\n",
       "\\begin{tabular}{lcccccc}\n",
       "                & \\textbf{coef} & \\textbf{std err} & \\textbf{z} & \\textbf{P$> |$z$|$} & \\textbf{[0.025} & \\textbf{0.975]}  \\\\\n",
       "\\midrule\n",
       "\\textbf{drift}  &    3.909e-05  &        0.000     &     0.310  &         0.756        &       -0.000    &        0.000     \\\\\n",
       "\\textbf{ar.L1}  &       0.6610  &        1.083     &     0.610  &         0.542        &       -1.461    &        2.783     \\\\\n",
       "\\textbf{ma.L1}  &      -0.6140  &        1.118     &    -0.549  &         0.583        &       -2.806    &        1.578     \\\\\n",
       "\\textbf{sigma2} &       0.0002  &        1e-05     &    18.226  &         0.000        &        0.000    &        0.000     \\\\\n",
       "\\bottomrule\n",
       "\\end{tabular}\n",
       "\\begin{tabular}{lclc}\n",
       "\\textbf{Ljung-Box (L1) (Q):}     & 0.03 & \\textbf{  Jarque-Bera (JB):  } & 5290.79  \\\\\n",
       "\\textbf{Prob(Q):}                & 0.86 & \\textbf{  Prob(JB):          } &   0.00   \\\\\n",
       "\\textbf{Heteroskedasticity (H):} & 3.46 & \\textbf{  Skew:              } &  -2.38   \\\\\n",
       "\\textbf{Prob(H) (two-sided):}    & 0.00 & \\textbf{  Kurtosis:          } &  33.30   \\\\\n",
       "\\bottomrule\n",
       "\\end{tabular}\n",
       "%\\caption{SARIMAX Results}\n",
       "\\end{center}\n",
       "\n",
       "Warnings: \\newline\n",
       " [1] Covariance matrix calculated using the outer product of gradients (complex-step)."
      ],
      "text/plain": [
       "<class 'statsmodels.iolib.summary.Summary'>\n",
       "\"\"\"\n",
       "                               SARIMAX Results                                \n",
       "==============================================================================\n",
       "Dep. Variable:                      y   No. Observations:                  136\n",
       "Model:               SARIMAX(1, 1, 1)   Log Likelihood                 387.875\n",
       "Date:                Mon, 18 Mar 2024   AIC                           -767.751\n",
       "Time:                        15:57:30   BIC                           -756.130\n",
       "Sample:                    01-01-1990   HQIC                          -763.028\n",
       "                         - 10-01-2023                                         \n",
       "Covariance Type:                  opg                                         \n",
       "==============================================================================\n",
       "                 coef    std err          z      P>|z|      [0.025      0.975]\n",
       "------------------------------------------------------------------------------\n",
       "drift       3.909e-05      0.000      0.310      0.756      -0.000       0.000\n",
       "ar.L1          0.6610      1.083      0.610      0.542      -1.461       2.783\n",
       "ma.L1         -0.6140      1.118     -0.549      0.583      -2.806       1.578\n",
       "sigma2         0.0002      1e-05     18.226      0.000       0.000       0.000\n",
       "===================================================================================\n",
       "Ljung-Box (L1) (Q):                   0.03   Jarque-Bera (JB):              5290.79\n",
       "Prob(Q):                              0.86   Prob(JB):                         0.00\n",
       "Heteroskedasticity (H):               3.46   Skew:                            -2.38\n",
       "Prob(H) (two-sided):                  0.00   Kurtosis:                        33.30\n",
       "===================================================================================\n",
       "\n",
       "Warnings:\n",
       "[1] Covariance matrix calculated using the outer product of gradients (complex-step).\n",
       "\"\"\""
      ]
     },
     "execution_count": 8,
     "metadata": {},
     "output_type": "execute_result"
    }
   ],
   "source": [
    "forecaster = ARIMA(order=(1,1,1), trend='t')\n",
    "forecaster.fit(y)\n",
    "forecaster.summary()"
   ]
  },
  {
   "cell_type": "markdown",
   "metadata": {},
   "source": [
    "# Автоматический выбор порядка модели\n",
    "\n",
    "Выбор порядка по информационным критериям. Выведем только порядок подогнанной модели"
   ]
  },
  {
   "cell_type": "code",
   "execution_count": 14,
   "metadata": {},
   "outputs": [
    {
     "data": {
      "text/plain": [
       "{'intercept': 0.011554757113466504,\n",
       " 'sigma2': 0.00015721389010940986,\n",
       " 'order': (0, 1, 0),\n",
       " 'seasonal_order': (0, 0, 0, 0),\n",
       " 'aic': -795.1978113081782,\n",
       " 'aicc': -795.1069022172691,\n",
       " 'bic': -789.3872617513014,\n",
       " 'hqic': -792.8365668621092}"
      ]
     },
     "execution_count": 14,
     "metadata": {},
     "output_type": "execute_result"
    }
   ],
   "source": [
    "forecaster = AutoARIMA(start_p=1, start_q=1, max_p=5, max_q=5, information_criterion='aic', seasonal=False)\n",
    "forecaster.fit(y)\n",
    "forecaster.get_fitted_params() #['order']"
   ]
  },
  {
   "cell_type": "code",
   "execution_count": 15,
   "metadata": {},
   "outputs": [
    {
     "data": {
      "text/plain": [
       "(0, 1, 0)"
      ]
     },
     "execution_count": 15,
     "metadata": {},
     "output_type": "execute_result"
    }
   ],
   "source": [
    "forecaster = AutoARIMA(start_p=1, start_q=1, max_p=5, max_q=5, information_criterion='bic', seasonal=False)\n",
    "forecaster.fit(y)\n",
    "forecaster.get_fitted_params()['order']"
   ]
  },
  {
   "cell_type": "code",
   "execution_count": 16,
   "metadata": {},
   "outputs": [
    {
     "data": {
      "text/plain": [
       "(0, 1, 0)"
      ]
     },
     "execution_count": 16,
     "metadata": {},
     "output_type": "execute_result"
    }
   ],
   "source": [
    "forecaster = AutoARIMA(start_p=1, start_q=1, max_p=5, max_q=5, information_criterion='bic', seasonal=False)\n",
    "forecaster.fit(y)\n",
    "forecaster.get_fitted_params()['order']"
   ]
  }
 ],
 "metadata": {
  "kernelspec": {
   "display_name": "base",
   "language": "python",
   "name": "python3"
  },
  "language_info": {
   "codemirror_mode": {
    "name": "ipython",
    "version": 3
   },
   "file_extension": ".py",
   "mimetype": "text/x-python",
   "name": "python",
   "nbconvert_exporter": "python",
   "pygments_lexer": "ipython3",
   "version": "3.11.6"
  }
 },
 "nbformat": 4,
 "nbformat_minor": 2
}
