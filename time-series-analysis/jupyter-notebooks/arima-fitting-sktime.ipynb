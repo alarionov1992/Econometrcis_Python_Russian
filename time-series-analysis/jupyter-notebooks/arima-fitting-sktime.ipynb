{
 "cells": [
  {
   "cell_type": "markdown",
   "metadata": {},
   "source": [
    "# Подгонка ARIMA (пакет [`sktime`](https://www.sktime.net/en/stable/))"
   ]
  },
  {
   "cell_type": "code",
   "execution_count": null,
   "metadata": {},
   "outputs": [],
   "source": [
    "import numpy as np\n",
    "import pandas as pd\n",
    "\n",
    "from sktime.forecasting.arima import ARIMA, AutoARIMA\n",
    "from sktime.utils.plotting import plot_series\n",
    "\n",
    "import pandas_datareader.data as web\n",
    "\n",
    "# тесты диагностики\n",
    "from statsmodels.stats.diagnostic import het_arch, acorr_ljungbox\n",
    "\n",
    "# настройки визуализация\n",
    "import matplotlib.pyplot as plt\n",
    "\n",
    "# Не показывать Warnings\n",
    "import warnings\n",
    "warnings.simplefilter(action='ignore', category=Warning)\n",
    "# Не показывать ValueWarning, ConvergenceWarning из statsmodels\n",
    "from statsmodels.tools.sm_exceptions import ValueWarning, ConvergenceWarning\n",
    "warnings.simplefilter('ignore', category=ValueWarning)\n",
    "warnings.simplefilter('ignore', category=ConvergenceWarning)"
   ]
  },
  {
   "cell_type": "markdown",
   "metadata": {},
   "source": [
    "## Подгонка ARIMA заданного порядка без сноса\n",
    "\n",
    "Загрузим из БД [`FRED`](https://fred.stlouisfed.org/) недельные данные по 3-Month Treasury Bill Secondary Market Rate (Symbol [`WTB3MS`](https://fred.stlouisfed.org/series/WTB3MS)) с 2000-01-01 по 2023-12-31 и создадим датафрейм `rate`"
   ]
  },
  {
   "cell_type": "code",
   "execution_count": null,
   "metadata": {},
   "outputs": [],
   "source": [
    "y = web.DataReader(name='WTB3MS', data_source='fred', start='2000-01-01', end='2023-12-31')"
   ]
  },
  {
   "cell_type": "markdown",
   "metadata": {},
   "source": [
    "Подгоним модель ARMA(2,1,2) без сноса для `y`\n",
    "\n",
    "Спецификация\n",
    "\n",
    "$$\n",
    "\t(1-\\phi_1L-\\phi_2 L^2)(1-L) y_t=u_t+\\theta_1 u_{t-1}+\\theta_2 u_{t-2}\n",
    "$$"
   ]
  },
  {
   "cell_type": "code",
   "execution_count": null,
   "metadata": {},
   "outputs": [],
   "source": [
    "forecaster = ARIMA(order=(2,1,2), trend='n')\n",
    "forecaster.fit(y)\n",
    "forecaster.summary()"
   ]
  },
  {
   "cell_type": "code",
   "execution_count": null,
   "metadata": {},
   "outputs": [],
   "source": [
    "forecaster.get_fitted_params()"
   ]
  },
  {
   "cell_type": "markdown",
   "metadata": {},
   "source": [
    "## Диагностика модели\n",
    "\n",
    "Остатки (__обратим внимание на пропущенные значения!__)"
   ]
  },
  {
   "cell_type": "code",
   "execution_count": null,
   "metadata": {},
   "outputs": [],
   "source": [
    "forecaster.predict_residuals(y)"
   ]
  },
  {
   "cell_type": "markdown",
   "metadata": {},
   "source": [
    "Тест на серийную корреляцию (Ljung-Box)\n",
    "\n",
    "__Важно__ удалим пропущенные значения для остатков"
   ]
  },
  {
   "cell_type": "code",
   "execution_count": null,
   "metadata": {},
   "outputs": [],
   "source": [
    "# model_df = p+q\n",
    "acorr_ljungbox(forecaster.predict_residuals(y).dropna() , lags=[7], model_df=2+2)"
   ]
  },
  {
   "cell_type": "markdown",
   "metadata": {},
   "source": [
    "Тест на гетероскедастичность\n",
    "\n",
    "__Важно__ удалим пропущенные значения для остатков"
   ]
  },
  {
   "cell_type": "code",
   "execution_count": null,
   "metadata": {},
   "outputs": [],
   "source": [
    "lm_stat, lm_pval, f_stat, f_pval = het_arch(forecaster.predict_residuals(y).dropna(), nlags=7, ddof=2+2)\n",
    "\n",
    "lm_stat, lm_pval"
   ]
  },
  {
   "cell_type": "markdown",
   "metadata": {},
   "source": [
    "## Подгонка ARIMA заданного порядка со сносом\n",
    "\n",
    "Загрузим из БД [`FRED`](https://fred.stlouisfed.org/) квартальные данные по ВВП (Symbol [`GDP`](https://fred.stlouisfed.org/series/GDP)) с 1990 Q1 по 2023 Q4 и создадим датафрейм `y=log(GDP)`"
   ]
  },
  {
   "cell_type": "code",
   "execution_count": null,
   "metadata": {},
   "outputs": [],
   "source": [
    "y = np.log(web.DataReader(name='GDP', data_source='fred', start='1990-1', end='2023-12' ) )"
   ]
  },
  {
   "cell_type": "markdown",
   "metadata": {},
   "source": [
    "Подгоним модель ARMA(1,1,1) со сносом для `y` \n",
    "\n",
    "Спецификация\n",
    "\n",
    "$$\n",
    "\t(1-\\phi L)(1-L) y_t=\\alpha_0+u_t+\\theta u_{t-1}\n",
    "$$"
   ]
  },
  {
   "cell_type": "code",
   "execution_count": null,
   "metadata": {},
   "outputs": [],
   "source": [
    "forecaster = ARIMA(order=(1,1,1), trend='c')\n",
    "forecaster.fit(y)\n",
    "forecaster.summary()"
   ]
  },
  {
   "cell_type": "markdown",
   "metadata": {},
   "source": [
    "## Диагностика"
   ]
  },
  {
   "cell_type": "code",
   "execution_count": null,
   "metadata": {},
   "outputs": [],
   "source": [
    "# model_df = p+q+1 (drift)\n",
    "acorr_ljungbox(forecaster.predict_residuals(y).dropna() , lags=[7], model_df=1+1+1)"
   ]
  },
  {
   "cell_type": "code",
   "execution_count": null,
   "metadata": {},
   "outputs": [],
   "source": [
    "# model_df = p+q+1 (drift)\n",
    "lm_stat, lm_pval, f_stat, f_pval = het_arch(forecaster.predict_residuals(y).dropna(), nlags=7, ddof=1+1+1)\n",
    "\n",
    "lm_stat, lm_pval"
   ]
  },
  {
   "cell_type": "markdown",
   "metadata": {},
   "source": [
    "# Автоматический выбор порядка модели\n",
    "\n",
    "Выбор порядка по информационным критериям. Выведем только порядок подогнанной модели"
   ]
  },
  {
   "cell_type": "code",
   "execution_count": null,
   "metadata": {},
   "outputs": [],
   "source": [
    "forecaster = AutoARIMA(start_p=1, start_q=1, max_p=5, max_q=5, information_criterion='aic', seasonal=False)\n",
    "forecaster.fit(y)\n",
    "forecaster.get_fitted_params() #['order']"
   ]
  },
  {
   "cell_type": "code",
   "execution_count": null,
   "metadata": {},
   "outputs": [],
   "source": [
    "forecaster = AutoARIMA(start_p=1, start_q=1, max_p=5, max_q=5, information_criterion='bic', seasonal=False)\n",
    "forecaster.fit(y)\n",
    "forecaster.get_fitted_params()['order']"
   ]
  },
  {
   "cell_type": "code",
   "execution_count": null,
   "metadata": {},
   "outputs": [],
   "source": [
    "forecaster = AutoARIMA(start_p=1, start_q=1, max_p=5, max_q=5, information_criterion='bic', seasonal=False)\n",
    "forecaster.fit(y)\n",
    "forecaster.get_fitted_params()['order']"
   ]
  }
 ],
 "metadata": {
  "kernelspec": {
   "display_name": "base",
   "language": "python",
   "name": "python3"
  },
  "language_info": {
   "codemirror_mode": {
    "name": "ipython",
    "version": 3
   },
   "file_extension": ".py",
   "mimetype": "text/x-python",
   "name": "python",
   "nbconvert_exporter": "python",
   "pygments_lexer": "ipython3",
   "version": "3.12.2"
  }
 },
 "nbformat": 4,
 "nbformat_minor": 2
}
