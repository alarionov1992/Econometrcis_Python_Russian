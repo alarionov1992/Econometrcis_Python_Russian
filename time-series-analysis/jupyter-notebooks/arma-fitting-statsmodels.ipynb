{
 "cells": [
  {
   "cell_type": "markdown",
   "metadata": {},
   "source": [
    "# Подгонка ARMA (пакет [`statsmodels`](https://www.statsmodels.org/stable/index.html))\n",
    "\n",
    "__Важно__: $ARMA$ рассматривается как частный случай $ARIMA$: \n",
    "\n",
    "$$\n",
    "\tARMA(p,q)=ARIMA(p,0,q).\n",
    "$$\n",
    "\n",
    "Для подгонки используем классы \n",
    "* [ARIMA](https://www.statsmodels.org/stable/generated/statsmodels.tsa.arima.model.ARIMA.html#statsmodels.tsa.arima.model.ARIMA) (специфицированная модель)\n",
    "* [ARIMAResult](https://www.statsmodels.org/stable/generated/statsmodels.tsa.arima.model.ARIMAResults.html#statsmodels.tsa.arima.model.ARIMAResults) (подогнанная модель)"
   ]
  },
  {
   "cell_type": "code",
   "execution_count": null,
   "metadata": {},
   "outputs": [],
   "source": [
    "import numpy as np\n",
    "import pandas as pd\n",
    "\n",
    "import statsmodels.tsa.api as tsa\n",
    "from statsmodels.stats.diagnostic import het_arch, acorr_ljungbox\n",
    "\n",
    "import pandas_datareader.data as web\n",
    "\n",
    "# настройки визуализация\n",
    "import matplotlib.pyplot as plt\n",
    "\n",
    "# Не показывать Warnings\n",
    "import warnings\n",
    "warnings.simplefilter(action='ignore', category=Warning)"
   ]
  },
  {
   "cell_type": "markdown",
   "metadata": {},
   "source": [
    "## Подгонка ARMA заданного порядка\n",
    "\n",
    "Загрузим из БД [`FRED`](https://fred.stlouisfed.org/) недельные данные по Market Yield on U.S. Treasury Securities at 10-Year Constant Maturity (Symbol [`WGS10YR`](https://fred.stlouisfed.org/series/WGS10YR)) с 2000-01-01 по 2023-12-31 и создадим датафрейм `rate`\n",
    "\n"
   ]
  },
  {
   "cell_type": "code",
   "execution_count": null,
   "metadata": {},
   "outputs": [],
   "source": [
    "rate = web.DataReader(name='WGS10YR', data_source='fred', start='2000-01-01', end='2023-12-31')"
   ]
  },
  {
   "cell_type": "markdown",
   "metadata": {},
   "source": [
    "Пусть `y` – первая разность ставки (не забудем удалить пропущенные наблюдения)"
   ]
  },
  {
   "cell_type": "code",
   "execution_count": null,
   "metadata": {},
   "outputs": [],
   "source": [
    "y = rate.diff().dropna()"
   ]
  },
  {
   "cell_type": "markdown",
   "metadata": {},
   "source": [
    "Подгоним модель ARMA(2,1) для `y`\n",
    "\n",
    "Спецификация\n",
    "\n",
    "$$\n",
    "\ty_t=\\alpha_0+\\phi_1y_{t-1}+\\phi_2y_{t-2}+u_1+\\theta u_{t-1}\n",
    "$$"
   ]
  },
  {
   "cell_type": "code",
   "execution_count": null,
   "metadata": {},
   "outputs": [],
   "source": [
    "# спецификация модели\n",
    "arma_mod = tsa.ARIMA(y, order=(2,0,1), trend='c', missing='drop')\n",
    "# подгонка модели на данных\n",
    "arma_res = arma_mod.fit()\n",
    "# выводим результаты подгонки\n",
    "arma_res.summary(alpha=0.05)"
   ]
  },
  {
   "cell_type": "markdown",
   "metadata": {},
   "source": [
    "## Диагностика подогнанной модели\n",
    "\n",
    "Базовые графики"
   ]
  },
  {
   "cell_type": "code",
   "execution_count": null,
   "metadata": {},
   "outputs": [],
   "source": [
    "arma_res.plot_diagnostics(lags=15)\n",
    "\n",
    "plt.show()"
   ]
  },
  {
   "cell_type": "markdown",
   "metadata": {},
   "source": [
    "Тест на серийную корреляцию (Ljung-Box test). Выберем число лагов 10"
   ]
  },
  {
   "cell_type": "code",
   "execution_count": null,
   "metadata": {},
   "outputs": [],
   "source": [
    "arma_res.test_serial_correlation(method='ljungbox', lags=[10], df_adjust=True)"
   ]
  },
  {
   "cell_type": "markdown",
   "metadata": {},
   "source": [
    "Альтернативный вариант"
   ]
  },
  {
   "cell_type": "code",
   "execution_count": null,
   "metadata": {},
   "outputs": [],
   "source": [
    "acorr_ljungbox(arma_res.resid, lags=[10], model_df=2+1)"
   ]
  },
  {
   "cell_type": "markdown",
   "metadata": {},
   "source": [
    "Тест на гетероскедастичность (на ARCH-эффекты)"
   ]
  },
  {
   "cell_type": "code",
   "execution_count": null,
   "metadata": {},
   "outputs": [],
   "source": [
    "lm_stat, lm_pval, f_stat, f_pval = het_arch(arma_res.resid, nlags=7, ddof=2+1)\n",
    "\n",
    "lm_stat, lm_pval"
   ]
  },
  {
   "cell_type": "markdown",
   "metadata": {},
   "source": [
    "## Подбор порядка лагов\n",
    "\n",
    "Используем информационные критерии для подбора \"оптимального\" порядка модели:\n",
    "* BIC\n",
    "* AIC\n",
    "* AICC\n",
    "* HQIC\n",
    "\n",
    "__Замечаение__: результат выдаётся в виде словаря"
   ]
  },
  {
   "cell_type": "code",
   "execution_count": null,
   "metadata": {},
   "outputs": [],
   "source": [
    "# используем критерий BIC\n",
    "tsa.arma_order_select_ic(y, max_ar=4, max_ma=4, trend='c', ic='bic')"
   ]
  },
  {
   "cell_type": "code",
   "execution_count": null,
   "metadata": {},
   "outputs": [],
   "source": [
    "# выведем только порядок оптимальной модели\n",
    "optimal_order = tsa.arma_order_select_ic(y, max_ar=4, max_ma=4, trend='c', ic='bic')\n",
    "optimal_order['bic_min_order']"
   ]
  },
  {
   "cell_type": "code",
   "execution_count": null,
   "metadata": {},
   "outputs": [],
   "source": [
    "# Используем информационные критерии AIC, AICC, BIC, HQIC\n",
    "tsa.arma_order_select_ic(y, max_ar=4, max_ma=4, trend='c', ic=['aic', 'aicc', 'bic', 'hqic'])"
   ]
  },
  {
   "cell_type": "markdown",
   "metadata": {},
   "source": [
    "## Подгонка ARMA(1,3) с трендом\n",
    "\n",
    "Спецификация модели\n",
    "\n",
    "$$\n",
    "\ty_t=\\alpha_0+\\alpha_1t+\\phi y_{t-1}+u_t+\\theta_1u_{t-1}+\\theta_2u_{t-2}+\\theta_3u_{t-3}\n",
    "$$"
   ]
  },
  {
   "cell_type": "code",
   "execution_count": null,
   "metadata": {},
   "outputs": [],
   "source": [
    "# спецификация модели\n",
    "arma_trend_mod = tsa.ARIMA(y, order=(1,0,3), trend='ct', missing='drop')\n",
    "# подгонка модели на данных\n",
    "arma_trend_res = arma_trend_mod.fit()\n",
    "# выводим результаты подгонки\n",
    "arma_trend_res.summary(alpha=0.05)"
   ]
  }
 ],
 "metadata": {
  "kernelspec": {
   "display_name": "base",
   "language": "python",
   "name": "python3"
  },
  "language_info": {
   "codemirror_mode": {
    "name": "ipython",
    "version": 3
   },
   "file_extension": ".py",
   "mimetype": "text/x-python",
   "name": "python",
   "nbconvert_exporter": "python",
   "pygments_lexer": "ipython3",
   "version": "3.11.6"
  }
 },
 "nbformat": 4,
 "nbformat_minor": 2
}
