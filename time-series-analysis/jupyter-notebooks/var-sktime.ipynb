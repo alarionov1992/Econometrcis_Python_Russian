{
 "cells": [
  {
   "cell_type": "markdown",
   "metadata": {},
   "source": [
    "# Модель VAR (пакет [`sktime`](https://www.sktime.net/en/stable/index.html))"
   ]
  },
  {
   "cell_type": "code",
   "execution_count": null,
   "metadata": {},
   "outputs": [],
   "source": [
    "import numpy as np\n",
    "import pandas as pd\n",
    "\n",
    "from sktime.forecasting.var import VAR\n",
    "from sktime.forecasting.varmax import VARMAX\n",
    "\n",
    "from sktime.utils.plotting import plot_series\n",
    "\n",
    "from sktime.split import temporal_train_test_split, ExpandingWindowSplitter, SlidingWindowSplitter, SingleWindowSplitter\n",
    "from sktime.performance_metrics.forecasting import MeanSquaredError, MeanAbsoluteError # Метрики MSE, MAE\n",
    "from sktime.forecasting.model_evaluation import evaluate\n",
    "\n",
    "import pandas_datareader.data as web\n",
    "\n",
    "# настройки визуализации\n",
    "import matplotlib.pyplot as plt\n",
    "\n",
    "# Не показывать Warnings\n",
    "import warnings\n",
    "warnings.simplefilter(action='ignore', category=Warning)\n",
    "# Не показывать ValueWarning, ConvergenceWarning из statsmodels\n",
    "from statsmodels.tools.sm_exceptions import ValueWarning, ConvergenceWarning\n",
    "warnings.simplefilter('ignore', category=ValueWarning)\n",
    "warnings.simplefilter('ignore', category=ConvergenceWarning)"
   ]
  },
  {
   "cell_type": "code",
   "execution_count": null,
   "metadata": {},
   "outputs": [],
   "source": [
    "rates = web.DataReader(name=['TB3MS', 'GS10', 'AAA', 'BAA'], data_source='fred', start='2000-01-01', end='2023-12-31')\n",
    "rates.index = pd.period_range(start='2000-01', end='2023-12', freq='M')\n",
    "\n",
    "y = rates.diff().dropna()\n",
    "\n",
    "y.plot(subplots=True)\n",
    "plt.show()"
   ]
  },
  {
   "cell_type": "markdown",
   "metadata": {},
   "source": [
    "## Подгонка модели заданного порядка (VARMAX)"
   ]
  },
  {
   "cell_type": "code",
   "execution_count": null,
   "metadata": {},
   "outputs": [],
   "source": [
    "forecaster = VARMAX(order=(2,0), trend='c')\n",
    "\n",
    "forecaster.fit(y)"
   ]
  },
  {
   "cell_type": "markdown",
   "metadata": {},
   "source": [
    "## Подгонка VAR \"оптимального\" порядка"
   ]
  },
  {
   "cell_type": "code",
   "execution_count": null,
   "metadata": {},
   "outputs": [],
   "source": [
    "forecaster = VAR(maxlags=2, ic='bic', trend='c')\n",
    "\n",
    "forecaster.fit(y)\n",
    "\n",
    "forecaster.get_fitted_params()"
   ]
  },
  {
   "cell_type": "markdown",
   "metadata": {},
   "source": [
    "# Прогнозирование"
   ]
  },
  {
   "cell_type": "code",
   "execution_count": null,
   "metadata": {},
   "outputs": [],
   "source": [
    "forecaster = VARMAX(order=(2,0), trend='c')\n",
    "\n",
    "y_pred = forecaster.fit_predict(y, fh=np.arange(1,11))\n",
    "y_pred"
   ]
  },
  {
   "cell_type": "code",
   "execution_count": null,
   "metadata": {},
   "outputs": [],
   "source": [
    "fig, axs = plt.subplots(nrows=y.shape[1], ncols=1)\n",
    "\n",
    "for i in range(y.shape[1]):\n",
    "\tplot_series(y.iloc[:,i].tail(50), y_pred.iloc[:,i], ax=axs[i], markers=['.', '.'])\n",
    "\n",
    "plt.show()"
   ]
  },
  {
   "cell_type": "markdown",
   "metadata": {},
   "source": [
    "## Кросс-валидация"
   ]
  },
  {
   "cell_type": "code",
   "execution_count": null,
   "metadata": {},
   "outputs": [],
   "source": [
    "# специфицируем модель\n",
    "forecaster = VARMAX(order=(2,0), trend='c')\n",
    "\n",
    "# разбиваем выбору на обучающую (первые 100) и тестовую\n",
    "cv = SlidingWindowSplitter(fh=np.arange(1, 11), initial_window=100, step_length=10)\n",
    "\n",
    "# инициализируем метрику\n",
    "metric = [MeanSquaredError(square_root=False), MeanAbsoluteError()]\n",
    "\n",
    "df = evaluate(forecaster=forecaster, y=y, cv=cv, strategy=\"refit\", return_data=False, scoring=metric)\n",
    "\n",
    "# средняя MSE & MAE\n",
    "df.iloc[:,[0,1]].mean()"
   ]
  }
 ],
 "metadata": {
  "kernelspec": {
   "display_name": "base",
   "language": "python",
   "name": "python3"
  },
  "language_info": {
   "codemirror_mode": {
    "name": "ipython",
    "version": 3
   },
   "file_extension": ".py",
   "mimetype": "text/x-python",
   "name": "python",
   "nbconvert_exporter": "python",
   "pygments_lexer": "ipython3",
   "version": "3.12.2"
  }
 },
 "nbformat": 4,
 "nbformat_minor": 2
}
