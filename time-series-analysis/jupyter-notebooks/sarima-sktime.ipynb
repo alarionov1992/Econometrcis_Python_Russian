{
 "cells": [
  {
   "cell_type": "markdown",
   "metadata": {},
   "source": [
    "# Модель SARIMA (пакет [`sktime`](https://www.sktime.net/en/stable/))"
   ]
  },
  {
   "cell_type": "code",
   "execution_count": null,
   "metadata": {},
   "outputs": [],
   "source": [
    "import numpy as np\n",
    "import pandas as pd\n",
    "\n",
    "from sktime.forecasting.arima import ARIMA, AutoARIMA\n",
    "from sktime.utils.plotting import plot_series\n",
    "\n",
    "import pandas_datareader.data as web\n",
    "\n",
    "# настройки визуализация\n",
    "import matplotlib.pyplot as plt\n",
    "\n",
    "# Не показывать Warnings\n",
    "import warnings\n",
    "warnings.simplefilter(action='ignore', category=Warning)\n",
    "# Не показывать ValueWarning, ConvergenceWarning из statsmodels\n",
    "from statsmodels.tools.sm_exceptions import ValueWarning, ConvergenceWarning\n",
    "warnings.simplefilter('ignore', category=ValueWarning)\n",
    "warnings.simplefilter('ignore', category=ConvergenceWarning)"
   ]
  },
  {
   "cell_type": "markdown",
   "metadata": {},
   "source": [
    "Загрузим из БД [`FRED`](https://fred.stlouisfed.org/) дневные данные по Market Yield on U.S. Treasury Securities at 10-Year Constant Maturity (Symbol [`DGS10`](https://fred.stlouisfed.org/series/DGS10)) с 2010-01-01 по 2023-12-31 и создадим датафрейм `y`"
   ]
  },
  {
   "cell_type": "code",
   "execution_count": null,
   "metadata": {},
   "outputs": [],
   "source": [
    "y = web.DataReader(name='DGS10', data_source='fred', start='2010-01-01', end='2023-12-31').dropna()\n",
    "plot_series(y)"
   ]
  },
  {
   "cell_type": "markdown",
   "metadata": {},
   "source": [
    "## Подгонка SARIMA заданного порядка без сноса\n",
    "\n",
    "Подгоним модель ARMA(1,1,1)(1,1,1)_7 без сноса для `y`\n",
    "\n",
    "Спецификация\n",
    "\n",
    "$$\n",
    "\t(1-\\phi L)(1-\\Phi L^7)(1-L)(1-L^l) y_t=(1+\\theta L)(1-\\Theta L^7)u_t\n",
    "$$"
   ]
  },
  {
   "cell_type": "code",
   "execution_count": null,
   "metadata": {},
   "outputs": [],
   "source": [
    "forecaster = ARIMA(order=(1,1,1), seasonal_order=(1,1,1,7), trend='n')\n",
    "forecaster.fit(y)\n",
    "forecaster.summary()"
   ]
  },
  {
   "cell_type": "markdown",
   "metadata": {},
   "source": [
    "# Автоматический выбор порядка модели\n",
    "\n",
    "Выбор порядка по информационным критериям. Выведем только порядок подогнанной модели"
   ]
  },
  {
   "cell_type": "code",
   "execution_count": null,
   "metadata": {},
   "outputs": [],
   "source": [
    "forecaster = AutoARIMA(information_criterion='aic', seasonal=True, sp=7)\n",
    "forecaster.fit(y)\n",
    "forecaster.get_fitted_params() #['order']"
   ]
  },
  {
   "cell_type": "code",
   "execution_count": null,
   "metadata": {},
   "outputs": [],
   "source": [
    "forecaster = AutoARIMA(information_criterion='bic', seasonal=True, sp=7)\n",
    "forecaster.fit(y)\n",
    "forecaster.get_fitted_params() #['order']"
   ]
  }
 ],
 "metadata": {
  "kernelspec": {
   "display_name": "base",
   "language": "python",
   "name": "python3"
  },
  "language_info": {
   "codemirror_mode": {
    "name": "ipython",
    "version": 3
   },
   "file_extension": ".py",
   "mimetype": "text/x-python",
   "name": "python",
   "nbconvert_exporter": "python",
   "pygments_lexer": "ipython3",
   "version": "3.11.6"
  }
 },
 "nbformat": 4,
 "nbformat_minor": 2
}
