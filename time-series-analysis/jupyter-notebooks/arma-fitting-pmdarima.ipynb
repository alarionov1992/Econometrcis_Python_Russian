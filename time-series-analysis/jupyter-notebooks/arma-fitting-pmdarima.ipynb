{
 "cells": [
  {
   "cell_type": "markdown",
   "metadata": {},
   "source": [
    "# Подгонка ARMA (пакет [`pmdarima`](https://alkaline-ml.com/pmdarima/index.html#))\n",
    "\n",
    "__Важно__: $ARMA$ рассматривается как частный случай $ARIMA$: \n",
    "\n",
    "$$\n",
    "\tARMA(p,q)=ARIMA(p,0,q).\n",
    "$$"
   ]
  },
  {
   "cell_type": "code",
   "execution_count": null,
   "metadata": {},
   "outputs": [],
   "source": [
    "import numpy as np\n",
    "import pandas as pd\n",
    "\n",
    "import pmdarima as pm\n",
    "\n",
    "import pandas_datareader.data as web\n",
    "\n",
    "# настройки визуализация\n",
    "import matplotlib.pyplot as plt\n",
    "\n",
    "# Не показывать Warnings\n",
    "import warnings\n",
    "warnings.simplefilter(action='ignore', category=Warning)"
   ]
  },
  {
   "cell_type": "markdown",
   "metadata": {},
   "source": [
    "Загрузим из БД [`FRED`](https://fred.stlouisfed.org/) недельные данные по 3-Month Treasury Bill Secondary Market Rate (Symbol [`WTB3MS`](https://fred.stlouisfed.org/series/WTB3MS)) с 2000-01-01 по 2023-12-31 и создадим датафрейм `rate`"
   ]
  },
  {
   "cell_type": "code",
   "execution_count": null,
   "metadata": {},
   "outputs": [],
   "source": [
    "rate = web.DataReader(name='WTB3MS', data_source='fred', start='2000-01-01', end='2023-12-31')"
   ]
  },
  {
   "cell_type": "code",
   "execution_count": null,
   "metadata": {},
   "outputs": [],
   "source": [
    "y = rate.diff().dropna()"
   ]
  },
  {
   "cell_type": "code",
   "execution_count": null,
   "metadata": {},
   "outputs": [],
   "source": [
    "pm.plot_acf(y, lags=30, alpha=0.05, unbiased=True)"
   ]
  },
  {
   "cell_type": "code",
   "execution_count": null,
   "metadata": {},
   "outputs": [],
   "source": [
    "pm.plot_pacf(y, lags=30, alpha=0.05)"
   ]
  },
  {
   "cell_type": "markdown",
   "metadata": {},
   "source": [
    "## Подгонка модели заданного порядка\n",
    "\n",
    "Подгоним модель ARMA(2,3)=ARIMA(2,0,3)"
   ]
  },
  {
   "cell_type": "code",
   "execution_count": null,
   "metadata": {},
   "outputs": [],
   "source": [
    "arma = pm.ARIMA(order=(2,0,3), trend='c')\n",
    "arma.fit(y)\n",
    "arma.summary()"
   ]
  },
  {
   "cell_type": "code",
   "execution_count": null,
   "metadata": {},
   "outputs": [],
   "source": [
    "arma.plot_diagnostics()\n",
    "plt.show()"
   ]
  },
  {
   "cell_type": "markdown",
   "metadata": {},
   "source": [
    "## Автоматический выбор порядка модели\n",
    "\n",
    "Выбор порядка по информационным критериям"
   ]
  },
  {
   "cell_type": "code",
   "execution_count": null,
   "metadata": {},
   "outputs": [],
   "source": [
    "arma_aic = pm.auto_arima(y, start_p=1, start_q=1, max_p=5, max_q=5, information_criterion='aic', stationary=True, trend='c', seasonal=False)\n",
    "arma_aic.get_params()"
   ]
  },
  {
   "cell_type": "code",
   "execution_count": null,
   "metadata": {},
   "outputs": [],
   "source": [
    "arma_bic = pm.auto_arima(y, start_p=1, start_q=1, max_p=5, max_q=5, information_criterion='bic', stationary=True, trend='c', seasonal=False)\n",
    "arma_bic.get_params()"
   ]
  },
  {
   "cell_type": "code",
   "execution_count": null,
   "metadata": {},
   "outputs": [],
   "source": [
    "arma_hqic = pm.auto_arima(y, start_p=1, start_q=1, max_p=5, max_q=5, information_criterion='hqic', stationary=True, trend='c', seasonal=False)\n",
    "arma_hqic.get_params()"
   ]
  },
  {
   "cell_type": "markdown",
   "metadata": {},
   "source": [
    "## ARMA с трендом (автоматический выбор порядка модели)\n",
    "\n",
    "Выбор порядка по информационным критериям"
   ]
  },
  {
   "cell_type": "code",
   "execution_count": null,
   "metadata": {},
   "outputs": [],
   "source": [
    "# критерий AIC\n",
    "arma_aic = pm.auto_arima(y, start_p=1, start_q=1, max_p=5, max_q=5, information_criterion='aic', stationary=True, trend='ct', seasonal=False)\n",
    "arma_aic.summary()"
   ]
  },
  {
   "cell_type": "code",
   "execution_count": null,
   "metadata": {},
   "outputs": [],
   "source": [
    "# критерий BIC\n",
    "arma_bic = pm.auto_arima(y, start_p=1, start_q=1, max_p=5, max_q=5, information_criterion='bic', stationary=True, trend='ct', seasonal=False)\n",
    "arma_bic.summary()"
   ]
  },
  {
   "cell_type": "code",
   "execution_count": null,
   "metadata": {},
   "outputs": [],
   "source": [
    "# критерий HQIC\n",
    "arma_hqic = pm.auto_arima(y, start_p=1, start_q=1, max_p=5, max_q=5, information_criterion='hqic', stationary=True, trend='ct', seasonal=False)\n",
    "arma_hqic.summary()"
   ]
  }
 ],
 "metadata": {
  "kernelspec": {
   "display_name": "base",
   "language": "python",
   "name": "python3"
  },
  "language_info": {
   "codemirror_mode": {
    "name": "ipython",
    "version": 3
   },
   "file_extension": ".py",
   "mimetype": "text/x-python",
   "name": "python",
   "nbconvert_exporter": "python",
   "pygments_lexer": "ipython3",
   "version": "3.11.6"
  }
 },
 "nbformat": 4,
 "nbformat_minor": 2
}
