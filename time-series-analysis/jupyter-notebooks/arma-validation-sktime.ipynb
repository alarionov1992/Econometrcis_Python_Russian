{
 "cells": [
  {
   "cell_type": "markdown",
   "metadata": {},
   "source": [
    "# Кросс-валидация ARMA (пакет [`sktime`](https://www.sktime.net/en/stable/))\n",
    "\n",
    "__Важно__: $ARMA$ рассматривается как частный случай $ARIMA$: \n",
    "\n",
    "$$\n",
    "\tARMA(p,q)=ARIMA(p,0,q).\n",
    "$$"
   ]
  },
  {
   "cell_type": "code",
   "execution_count": null,
   "metadata": {},
   "outputs": [],
   "source": [
    "import numpy as np\n",
    "import pandas as pd\n",
    "\n",
    "from sktime.forecasting.arima import ARIMA, AutoARIMA\n",
    "from sktime.utils.plotting import plot_series\n",
    "from sktime.split import temporal_train_test_split, ExpandingWindowSplitter, SlidingWindowSplitter, SingleWindowSplitter\n",
    "from sktime.performance_metrics.forecasting import MeanSquaredError\n",
    "from sktime.forecasting.model_evaluation import evaluate\n",
    "\n",
    "import pandas_datareader.data as web\n",
    "\n",
    "# настройки визуализация\n",
    "import matplotlib.pyplot as plt\n",
    "\n",
    "# Не показывать Warnings\n",
    "import warnings\n",
    "warnings.simplefilter(action='ignore', category=Warning)"
   ]
  },
  {
   "cell_type": "markdown",
   "metadata": {},
   "source": [
    "Загрузим из БД [`FRED`](https://fred.stlouisfed.org/) месячные данные по Market Yield on U.S. Treasury Securities at 10-Year Constant Maturity (Symbol [`GS10`](https://fred.stlouisfed.org/series/GS10)) с 2000-01-01 по 2023-12-31 и создадим датафрейм `rate`\n",
    "\n",
    "Пусть `y` – первая разность ставки (не забудем удалить пропущенные наблюдения)\n"
   ]
  },
  {
   "cell_type": "code",
   "execution_count": null,
   "metadata": {},
   "outputs": [],
   "source": [
    "rate = web.DataReader(name='GS10', data_source='fred', start='2000-01-01', end='2023-12-31')\n",
    "rate.index = pd.period_range(start='2000-01', end='2023-12', freq='M')\n",
    "y = rate.diff().dropna()\n",
    "# длина ряда\n",
    "len(y)"
   ]
  },
  {
   "cell_type": "markdown",
   "metadata": {},
   "source": [
    "## Валидация через разделение на обучающую и тестовую выборки\n",
    "\n",
    "Используем метод [`temporal_train_test_split`](https://www.sktime.net/en/stable/api_reference/auto_generated/sktime.split.temporal_train_test_split.html) из пакета `sktime`\n",
    "\n",
    "В качестве метрики выберем [`MeanSquaredError`](https://www.sktime.net/en/stable/api_reference/auto_generated/sktime.performance_metrics.forecasting.MeanSquaredError.html)\n",
    "\n",
    "Разберём на примере ARMA(2,3)"
   ]
  },
  {
   "cell_type": "code",
   "execution_count": null,
   "metadata": {},
   "outputs": [],
   "source": [
    "# специфицируем модель\n",
    "forecaster = ARIMA(order=(2,0,3), with_intercept=True, trend=None)\n",
    "\n",
    "# разбиваем выбору на обучающую (первые 80%) и тестовую\n",
    "y_train, y_test = temporal_train_test_split(y, train_size=0.8)\n",
    "\n",
    "# Обучаем модель на тестовом множестве\n",
    "forecaster.fit(y_train)\n",
    "\n",
    "# прогнозируем для тестовых наблюдений\n",
    "y_pred = forecaster.predict(fh = y_test.index)\n",
    "\n",
    "# инициализируем метрику\n",
    "mse = MeanSquaredError(square_root=False)\n",
    "# вычисляем метрику на данных\n",
    "mse.evaluate(y_test, y_pred)"
   ]
  },
  {
   "cell_type": "code",
   "execution_count": null,
   "metadata": {},
   "outputs": [],
   "source": [
    "plot_series(y_train, y_test, y_pred, labels=['train', 'test', 'pred'])\n",
    "\n",
    "plt.show()"
   ]
  },
  {
   "cell_type": "markdown",
   "metadata": {},
   "source": [
    "Используем  [`SingleWindowSplitter`](https://www.sktime.net/en/stable/api_reference/auto_generated/sktime.split.SingleWindowSplitter.html) \n",
    "\n",
    "Для вычисления метрики для каждого фолда используем метод [`MeanSquaredError`](https://www.sktime.net/en/stable/api_reference/auto_generated/sktime.performance_metrics.forecasting.MeanSquaredError.html)\n",
    "\n",
    "Для проведения кросс-валидации используем [`evaluate`](https://www.sktime.net/en/stable/api_reference/auto_generated/sktime.forecasting.model_evaluation.evaluate.html)\n",
    "\n",
    "Разберём на примере ARMA(2,3)"
   ]
  },
  {
   "cell_type": "code",
   "execution_count": null,
   "metadata": {},
   "outputs": [],
   "source": [
    "# специфицируем модель\n",
    "forecaster = ARIMA(order=(2,0,3), with_intercept=True, trend=None)\n",
    "\n",
    "# разбиваем выбору на обучающую (первые 80%) и тестовую\n",
    "cv = SingleWindowSplitter(fh=np.arange(1, len(y)-200+1), window_length=200)\n",
    "\n",
    "df = evaluate(forecaster=forecaster, y=y, cv=cv, strategy=\"refit\", return_data=True, scoring=MeanSquaredError(square_root=False))\n",
    "df"
   ]
  },
  {
   "cell_type": "markdown",
   "metadata": {},
   "source": [
    "## Валидация методом k-Fold (расширяем обучающую выборку)\n",
    "\n",
    "Используем  [`ExpandingWindowSplitter`](https://www.sktime.net/en/stable/api_reference/auto_generated/sktime.split.ExpandingWindowSplitter.html) \n",
    "\n",
    "Для вычисления метрики для каждого фолда используем метод [`MeanSquaredError`](https://www.sktime.net/en/stable/api_reference/auto_generated/sktime.performance_metrics.forecasting.MeanSquaredError.html)\n",
    "\n",
    "Для проведения кросс-валидации используем [`evaluate`](https://www.sktime.net/en/stable/api_reference/auto_generated/sktime.forecasting.model_evaluation.evaluate.html)\n",
    "\n",
    "Разберём на примере ARMA(2,3)"
   ]
  },
  {
   "cell_type": "code",
   "execution_count": null,
   "metadata": {},
   "outputs": [],
   "source": [
    "# специфицируем модель\n",
    "forecaster = ARIMA(order=(2,0,3), with_intercept=True, trend=None)\n",
    "\n",
    "# разбиваем выбору на обучающую (первые 80%) и тестовую\n",
    "cv = ExpandingWindowSplitter(fh=np.arange(1, 10), initial_window=100, step_length=10)\n",
    "\n",
    "df = evaluate(forecaster=forecaster, y=y, cv=cv, strategy=\"refit\", return_data=True, scoring=MeanSquaredError(square_root=False))\n",
    "df"
   ]
  },
  {
   "cell_type": "markdown",
   "metadata": {},
   "source": [
    "## Валидация методом k-Fold (скользящая обучающая выборка)\n",
    "\n",
    "Используем метод [`SlidingWindowSplitter`](https://www.sktime.net/en/stable/api_reference/auto_generated/sktime.split.SlidingWindowSplitter.html)\n",
    "\n",
    "Для вычисления метрики для каждого фолда используем метод [`MeanSquaredError`](https://www.sktime.net/en/stable/api_reference/auto_generated/sktime.performance_metrics.forecasting.MeanSquaredError.html)\n",
    "\n",
    "Для проведения кросс-валидации используем [`evaluate`](https://www.sktime.net/en/stable/api_reference/auto_generated/sktime.forecasting.model_evaluation.evaluate.html)\n",
    "\n",
    "Разберём на примере ARMA(2,3)"
   ]
  },
  {
   "cell_type": "code",
   "execution_count": null,
   "metadata": {},
   "outputs": [],
   "source": [
    "# специфицируем модель\n",
    "forecaster = ARIMA(order=(2,0,3), with_intercept=True, trend=None)\n",
    "\n",
    "# разбиваем выбору на обучающую (первые 80%) и тестовую\n",
    "cv = SlidingWindowSplitter(fh=np.arange(1, 10), initial_window=100, step_length=10)\n",
    "\n",
    "df = evaluate(forecaster=forecaster, y=y, cv=cv, strategy=\"refit\", return_data=True, scoring=MeanSquaredError(square_root=False))\n",
    "df"
   ]
  },
  {
   "cell_type": "code",
   "execution_count": null,
   "metadata": {},
   "outputs": [],
   "source": []
  }
 ],
 "metadata": {
  "kernelspec": {
   "display_name": "base",
   "language": "python",
   "name": "python3"
  },
  "language_info": {
   "codemirror_mode": {
    "name": "ipython",
    "version": 3
   },
   "file_extension": ".py",
   "mimetype": "text/x-python",
   "name": "python",
   "nbconvert_exporter": "python",
   "pygments_lexer": "ipython3",
   "version": "3.11.6"
  }
 },
 "nbformat": 4,
 "nbformat_minor": 2
}
