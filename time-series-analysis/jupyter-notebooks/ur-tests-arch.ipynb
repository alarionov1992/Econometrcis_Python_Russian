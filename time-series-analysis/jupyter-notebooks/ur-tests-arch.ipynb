{
 "cells": [
  {
   "cell_type": "markdown",
   "metadata": {},
   "source": [
    "# Тесты единичного корня (пакет [`arch`](https://arch.readthedocs.io/en/latest/index.html))"
   ]
  },
  {
   "cell_type": "code",
   "execution_count": null,
   "metadata": {},
   "outputs": [],
   "source": [
    "import numpy as np\n",
    "import pandas as pd\n",
    "\n",
    "from arch.unitroot import ADF, KPSS, PhillipsPerron, DFGLS\n",
    "\n",
    "import pandas_datareader.data as web\n",
    "\n",
    "# настройки визуализация\n",
    "import matplotlib.pyplot as plt\n",
    "\n",
    "# Не показывать Warnings\n",
    "import warnings\n",
    "warnings.simplefilter(action='ignore', category=Warning)"
   ]
  },
  {
   "cell_type": "markdown",
   "metadata": {},
   "source": [
    "Загрузим из БД [`FRED`](https://fred.stlouisfed.org/) недельные данные по Market Yield on U.S. Treasury Securities at 10-Year Constant Maturity (Symbol [`WGS10YR`](https://fred.stlouisfed.org/series/WGS10YR)) с 2000-01-01 по 2023-12-31 и создадим датафрейм `y`"
   ]
  },
  {
   "cell_type": "code",
   "execution_count": null,
   "metadata": {},
   "outputs": [],
   "source": [
    "y = web.DataReader(name='WGS10YR', data_source='fred', start='2000-01-01', end='2023-12-31')"
   ]
  },
  {
   "cell_type": "code",
   "execution_count": null,
   "metadata": {},
   "outputs": [],
   "source": [
    "ax = y.plot(title='Market Yield on U.S. Treasury Securities')\n",
    "\n",
    "# надпись по ос oX\n",
    "ax.set_xlabel('Date')\n",
    "# надпись по ос oY\n",
    "ax.set_ylabel('10Y Rate (%)')\n",
    "# отобразить сетку\n",
    "ax.grid()\n",
    "# удалим легенду\n",
    "ax.legend().remove()\n",
    "\n",
    "plt.show()"
   ]
  },
  {
   "cell_type": "markdown",
   "metadata": {},
   "source": [
    "## ADF-тест\n",
    "\n",
    "Используем метод [`ADF`](https://arch.readthedocs.io/en/latest/unitroot/generated/arch.unitroot.ADF.html#arch.unitroot.ADF)\n",
    "\n",
    "Выберем вариант теста\n",
    "* с константной (без тренда)\n",
    "* с автоматическим выбором лагов по критерию BIC"
   ]
  },
  {
   "cell_type": "code",
   "execution_count": null,
   "metadata": {},
   "outputs": [],
   "source": [
    "ADF(y, trend='c', method='bic')"
   ]
  },
  {
   "cell_type": "markdown",
   "metadata": {},
   "source": [
    "## KPSS-тест\n",
    "\n",
    "Используем метод [`KPSS`](https://arch.readthedocs.io/en/latest/unitroot/generated/arch.unitroot.KPSS.html#arch.unitroot.KPSS)\n",
    "\n",
    "Выберем вариант теста с константной (без тренда)"
   ]
  },
  {
   "cell_type": "code",
   "execution_count": null,
   "metadata": {},
   "outputs": [],
   "source": [
    "KPSS(y, trend='c')"
   ]
  },
  {
   "cell_type": "markdown",
   "metadata": {},
   "source": [
    "## PP-тест\n",
    "\n",
    "Используем метод [`PhillipsPerron`](https://arch.readthedocs.io/en/latest/unitroot/generated/arch.unitroot.PhillipsPerron.html#arch.unitroot.PhillipsPerron)\n",
    "\n",
    "Выберем вариант теста \n",
    "* с константной (без тренда)\n",
    "* тестовая статистика tau"
   ]
  },
  {
   "cell_type": "code",
   "execution_count": null,
   "metadata": {},
   "outputs": [],
   "source": [
    "PhillipsPerron(y, trend='c', test_type='tau')"
   ]
  },
  {
   "cell_type": "markdown",
   "metadata": {},
   "source": [
    "## DF-GLS-тест\n",
    "\n",
    "Используем метод [`DFGLS`](https://arch.readthedocs.io/en/latest/unitroot/generated/arch.unitroot.DFGLS.html#arch.unitroot.DFGLS)\n",
    "\n",
    "Выберем вариант теста\n",
    "* с константной (без тренда)\n",
    "* с автоматическим выбором лагов по критерию BIC"
   ]
  },
  {
   "cell_type": "code",
   "execution_count": null,
   "metadata": {},
   "outputs": [],
   "source": [
    "DFGLS(y, trend='c', method='bic')"
   ]
  }
 ],
 "metadata": {
  "kernelspec": {
   "display_name": "base",
   "language": "python",
   "name": "python3"
  },
  "language_info": {
   "codemirror_mode": {
    "name": "ipython",
    "version": 3
   },
   "file_extension": ".py",
   "mimetype": "text/x-python",
   "name": "python",
   "nbconvert_exporter": "python",
   "pygments_lexer": "ipython3",
   "version": "3.11.6"
  }
 },
 "nbformat": 4,
 "nbformat_minor": 2
}
