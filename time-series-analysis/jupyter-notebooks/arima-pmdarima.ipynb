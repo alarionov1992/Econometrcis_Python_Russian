{
 "cells": [
  {
   "cell_type": "markdown",
   "metadata": {},
   "source": [
    "# Модель ARIMA (пакет [`pmdarima`](https://alkaline-ml.com/pmdarima/index.html#))\n",
    "\n",
    "Спецификация ARIMA(p,d,q) (ARIMA = AutoRegressive Integrated Moving Average)\n",
    "\n",
    "$$\n",
    "\\begin{aligned}\n",
    "\t\\Delta ^d y_t &= (\\alpha_0+\\alpha_1 t)+\\sum_{j=1}^p\\phi_j\\Delta^d y_{t-j}+u_t+\\sum_{s=1}^q\\theta_s u_{t-s} &\n",
    "\tu_t&\\sim WN(0,\\sigma^2)\n",
    "\\end{aligned}\n",
    "$$\n",
    "где\n",
    "* p - порядок авторегрессионной части\n",
    "* d - порядок интегрирования\n",
    "* q - порядок части скользящего среднего \n",
    "* $\\alpha_0$ - константа (d=0) или снос (d>0)\n",
    "\n",
    "Спецификация с использование лагового оператора\n",
    "\n",
    "$$\n",
    "\\begin{aligned}\n",
    "\t\\phi_p(L)(1-L)^dy_t&=(\\alpha_0+\\alpha_1t)+\\theta_q(L)u_t & u_t&\\sim WN(0,\\sigma^2)\n",
    "\\end{aligned}\n",
    "$$\n",
    "где многочлены\n",
    "$$\n",
    "\\begin{aligned}\n",
    "\t\\phi_p(z)&=1-\\phi_1z-\\cdots-\\phi_pz^p & \\theta_q(z)&=1+\\theta_1z+\\cdots+\\theta_qz^q\n",
    "\\end{aligned}\n",
    "$$"
   ]
  },
  {
   "cell_type": "code",
   "execution_count": null,
   "metadata": {},
   "outputs": [],
   "source": [
    "import numpy as np\n",
    "import pandas as pd\n",
    "\n",
    "import pmdarima as pm\n",
    "\n",
    "import pandas_datareader.data as web\n",
    "\n",
    "# настройки визуализация\n",
    "import matplotlib.pyplot as plt\n",
    "\n",
    "# Не показывать Warnings\n",
    "import warnings\n",
    "warnings.simplefilter(action='ignore', category=Warning)"
   ]
  },
  {
   "cell_type": "markdown",
   "metadata": {},
   "source": [
    "Для подгонки используем класс [ARIMA](https://alkaline-ml.com/pmdarima/modules/generated/pmdarima.arima.ARIMA.html#pmdarima.arima.ARIMA)\n",
    "\n",
    "При спецификации модели нужно задать параметры `order` (порядок модели) и  `trend`\n",
    "\n",
    "|Параметры|`trend`|\n",
    "|-|-|\n",
    "|$\\alpha_0=\\alpha_1=0$|'n'|\n",
    "|$\\alpha_0\\ne0,\\alpha_1=0$|'c'|\n",
    "|$\\alpha_0,\\alpha_1\\ne0$|'ct'|\n"
   ]
  },
  {
   "cell_type": "markdown",
   "metadata": {},
   "source": [
    "## Подгонка ARIMA заданного порядка\n",
    "\n",
    "Загрузим из БД [`FRED`](https://fred.stlouisfed.org/) недельные данные по 3-Month Treasury Bill Secondary Market Rate (Symbol [`WTB3MS`](https://fred.stlouisfed.org/series/WTB3MS)) с 2000-01-01 по 2023-12-31 и создадим датафрейм `rate`"
   ]
  },
  {
   "cell_type": "code",
   "execution_count": null,
   "metadata": {},
   "outputs": [],
   "source": [
    "y = web.DataReader(name='WTB3MS', data_source='fred', start='2000-01-01', end='2023-12-31')"
   ]
  },
  {
   "cell_type": "markdown",
   "metadata": {},
   "source": [
    "Подгоним модель ARIMA(2,1,3) без сноса\n",
    "\n",
    "Спецификация\n",
    "\n",
    "$$\n",
    "\t(1-\\phi_1L-\\phi_2 L^2)(1-L) y_t=u_t+\\theta_1 u_{t-1}+\\theta_2 u_{t-2}+\\theta_3 u_{t-3}\n",
    "$$"
   ]
  },
  {
   "cell_type": "code",
   "execution_count": null,
   "metadata": {},
   "outputs": [],
   "source": [
    "arima = pm.ARIMA(order=(2,1,3), trend='n')\n",
    "arima.fit(y)\n",
    "arima.summary()"
   ]
  },
  {
   "cell_type": "code",
   "execution_count": null,
   "metadata": {},
   "outputs": [],
   "source": [
    "arima.plot_diagnostics()\n",
    "plt.show()"
   ]
  },
  {
   "cell_type": "markdown",
   "metadata": {},
   "source": [
    "## Прогнозирование\n",
    "\n",
    "Построим прогноз  по модели ARIMA(1,1,1) со сносом\n",
    "\n",
    "Спецификация\n",
    "\n",
    "$$\n",
    "\t(1-\\phi L)(1-L) y_t=\\alpha_0+u_t+\\theta u_{t-1}\n",
    "$$\n",
    "\n",
    "Численный прогноз на 10 периодов"
   ]
  },
  {
   "cell_type": "code",
   "execution_count": null,
   "metadata": {},
   "outputs": [],
   "source": [
    "arima = pm.ARIMA(order=(1,1,1), trend='c')\n",
    "# подгонка модели и прогноз\n",
    "forecasts = arima.fit_predict(y, n_periods=10)\n",
    "forecasts"
   ]
  },
  {
   "cell_type": "markdown",
   "metadata": {},
   "source": [
    "Численный прогноз и доверительные интервалы"
   ]
  },
  {
   "cell_type": "code",
   "execution_count": null,
   "metadata": {},
   "outputs": [],
   "source": [
    "forecasts, conf_int = arima.predict(n_periods=10, return_conf_int=True, alpha=0.05)\n",
    "forecasts, conf_int"
   ]
  },
  {
   "cell_type": "markdown",
   "metadata": {},
   "source": [
    "## Автоматический выбор порядка модели\n",
    "\n",
    "используем метод [`auto_arima`](https://alkaline-ml.com/pmdarima/modules/generated/pmdarima.arima.auto_arima.html#pmdarima.arima.auto_arima)\n",
    "\n",
    "Базовые параметры автоматического выбора\n",
    "\n",
    "|Критерий|`auto_arima`|Значения|\n",
    "|-|-|-|\n",
    "|Информационный критерий|`information_criterion`|aic (по умолчанию), aicc, bib, hqic |\n",
    "|тест единичного корня|`test`|kpss (по умолчанию), adf, pp|\n",
    "|max порядок d|`max_d`| 2 по умолчанию |\n",
    "|max порядок p,q|` max_p`, ` max_q`|5 по умолчанию|\n",
    "|модель с сезонностью|`seasonal`|True по умолчанию|\n",
    "|уровень значимость|`alpha`|0.05 по умолчанию|\n",
    "\n",
    "__Замечание__: автоматические выбирается нужно ли включать снос/константу/тренд в модель\n"
   ]
  },
  {
   "cell_type": "code",
   "execution_count": null,
   "metadata": {},
   "outputs": [],
   "source": [
    "arima_opt = pm.auto_arima(y, information_criterion='bic', seasonal=False)\n",
    "arima_opt.get_params()"
   ]
  },
  {
   "cell_type": "markdown",
   "metadata": {},
   "source": [
    "Прогноз по оптимальной модели"
   ]
  },
  {
   "cell_type": "code",
   "execution_count": null,
   "metadata": {},
   "outputs": [],
   "source": [
    "arima_opt.predict(n_periods=10)"
   ]
  }
 ],
 "metadata": {
  "kernelspec": {
   "display_name": "base",
   "language": "python",
   "name": "python3"
  },
  "language_info": {
   "codemirror_mode": {
    "name": "ipython",
    "version": 3
   },
   "file_extension": ".py",
   "mimetype": "text/x-python",
   "name": "python",
   "nbconvert_exporter": "python",
   "pygments_lexer": "ipython3",
   "version": "3.11.6"
  }
 },
 "nbformat": 4,
 "nbformat_minor": 2
}
