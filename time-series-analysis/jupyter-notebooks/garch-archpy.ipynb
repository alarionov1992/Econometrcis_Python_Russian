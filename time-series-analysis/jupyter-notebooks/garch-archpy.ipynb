{
 "cells": [
  {
   "cell_type": "markdown",
   "metadata": {},
   "source": [
    "# Модель (*)ARCH (пакет [`arch`](https://arch.readthedocs.io/en/latest/index.html))"
   ]
  },
  {
   "cell_type": "code",
   "execution_count": null,
   "metadata": {},
   "outputs": [],
   "source": [
    "import numpy as np\n",
    "import pandas as pd\n",
    "\n",
    "from arch import arch_model\n",
    "\n",
    "from arch.univariate import ARX, GARCH, ARCHInMean \n",
    "\n",
    "import pandas_datareader.data as web\n",
    "\n",
    "# настройки визуализация\n",
    "import matplotlib.pyplot as plt\n",
    "\n",
    "# Не показывать Warnings\n",
    "import warnings\n",
    "warnings.simplefilter(action='ignore', category=Warning)"
   ]
  },
  {
   "cell_type": "markdown",
   "metadata": {},
   "source": [
    "Основные модели (*)ARCH\n",
    "* [`ARCH(p)`](https://arch.readthedocs.io/en/latest/univariate/generated/arch.univariate.ARCH.html#arch.univariate.ARCH)\n",
    "* [`GARCH(p,0,q,power)`](https://arch.readthedocs.io/en/latest/univariate/generated/arch.univariate.GARCH.html#arch.univariate.GARCH)\n",
    "* [`EGARCH(p,q)`](https://arch.readthedocs.io/en/latest/univariate/generated/arch.univariate.EGARCH.html#arch.univariate.EGARCH)\n",
    "* [`APARCH(p,o,q,delta)`](https://arch.readthedocs.io/en/latest/univariate/generated/arch.univariate.APARCH.html#arch.univariate.APARCH)\n",
    "* [`EWMAVariance(lambda)`](https://arch.readthedocs.io/en/latest/univariate/generated/arch.univariate.EWMAVariance.html#arch.univariate.EWMAVariance)\n",
    "\n",
    "Для модели `GARCH-in-mean` используем класс [`ARCHInMean`](https://arch.readthedocs.io/en/latest/univariate/generated/arch.univariate.ARCHInMean.html#arch.univariate.ARCHInMean)"
   ]
  },
  {
   "cell_type": "markdown",
   "metadata": {},
   "source": [
    "Загрузим из БД [`FRED`](https://fred.stlouisfed.org/) недельные данные по 3-Month Treasury Bill Secondary Market Rate (Symbol [`WTB3MS`](https://fred.stlouisfed.org/series/WTB3MS)) с 2000-01-01 по 2023-12-31 и создадим датафрейм `y` - первая разность ставки"
   ]
  },
  {
   "cell_type": "code",
   "execution_count": null,
   "metadata": {},
   "outputs": [],
   "source": [
    "rate = web.DataReader(name='WTB3MS', data_source='fred', start='2000-01-01', end='2023-12-31')\n",
    "y = rate.diff().dropna()\n",
    "\n",
    "y.plot()\n",
    "plt.show()"
   ]
  },
  {
   "cell_type": "markdown",
   "metadata": {},
   "source": [
    "## Подгонка AR-(*)ARCH заданного порядка  с использованием `arch_model`\n"
   ]
  },
  {
   "cell_type": "markdown",
   "metadata": {},
   "source": [
    "Подгоним модель AR(2)-GARCH(1,1)\n",
    "\n",
    "Спецификация\n",
    "\n",
    "\\begin{align*}\n",
    "\ty_t&=\\alpha_0+\\phi_1y_{t-1}+\\phi_2y_{t-2}+u_t \\\\ u_t&=\\sigma_t \\epsilon_t \\\\\n",
    "\t\\sigma^\\lambda_t &=\\omega+\\alpha|\\epsilon_{t-1}|^\\lambda+\\beta\\sigma^\\lambda_{t-1}\n",
    "\\end{align*}\n",
    "\n",
    "где $\\lambda=2$"
   ]
  },
  {
   "cell_type": "code",
   "execution_count": null,
   "metadata": {},
   "outputs": [],
   "source": [
    "am = arch_model(y, mean='ARX', lags=2, vol='GARCH', p=1, q=1, power=2)\n",
    "\n",
    "res = am.fit()\n",
    "\n",
    "res.summary()"
   ]
  },
  {
   "cell_type": "code",
   "execution_count": null,
   "metadata": {},
   "outputs": [],
   "source": [
    "res.plot(annualize='W')\n",
    "plt.show()"
   ]
  },
  {
   "cell_type": "code",
   "execution_count": null,
   "metadata": {},
   "outputs": [],
   "source": [
    "res.hedgehog_plot(plot_type='volatility')\n",
    "plt.show()"
   ]
  },
  {
   "cell_type": "code",
   "execution_count": null,
   "metadata": {},
   "outputs": [],
   "source": [
    "res.hedgehog_plot(plot_type='mean')\n",
    "plt.show()"
   ]
  },
  {
   "cell_type": "code",
   "execution_count": null,
   "metadata": {},
   "outputs": [],
   "source": [
    "res.arch_lm_test(lags=5)"
   ]
  },
  {
   "cell_type": "markdown",
   "metadata": {},
   "source": [
    "## Подгонка AR-(*)ARCH заданного порядка\n",
    "\n",
    "Подгоним модель AR(1)-GARCH(1,1,1)\n",
    "\n",
    "Спецификация\n",
    "\n",
    "\\begin{align*}\n",
    "\ty_t&=\\alpha_0+\\phi_1y_{t-1}+u_t \\\\ u_t&=\\sigma_t \\epsilon_t \\\\\n",
    "\t\\sigma^\\lambda_t &=\\omega+\\alpha|\\epsilon_{t-1}|^\\lambda+\\gamma|\\epsilon_{t-1}|^\\lambda I(\\epsilon_{t-1}<0)\n",
    "\t +\\beta\\sigma^\\lambda_{t-1}\n",
    "\\end{align*}\n",
    "\n",
    "где $\\lambda=2$"
   ]
  },
  {
   "cell_type": "code",
   "execution_count": null,
   "metadata": {},
   "outputs": [],
   "source": [
    "ar = ARX(y, lags=1)\n",
    "ar.volatility = GARCH(p=1, o=1, q=1, power=2)\n",
    "\n",
    "res = ar.fit()\n",
    "\n",
    "res.summary()"
   ]
  },
  {
   "cell_type": "markdown",
   "metadata": {},
   "source": [
    "## Прогнозирование\n",
    "\n",
    "построим прогноз на 5 периодов по модели AR(1)-GARCH(1,1)\n",
    "\n",
    "Спецификация\n",
    "\n",
    "\\begin{align*}\n",
    "\ty_t&=\\alpha_0+\\phi y_{t-1}+u_t \\\\ u_t&=\\sigma_t \\epsilon_t \\\\\n",
    "\t\\sigma^\\lambda_t &=\\omega+\\alpha |\\epsilon_{t-1}|^\\lambda+\\beta\\sigma^\\lambda_{t-1}\n",
    "\\end{align*}\n",
    "\n",
    "где $\\lambda=2$"
   ]
  },
  {
   "cell_type": "code",
   "execution_count": null,
   "metadata": {},
   "outputs": [],
   "source": [
    "am = arch_model(y, mean='ARX', lags=1, vol='GARCH', p=1, q=1, o=0)\n",
    "\n",
    "res = am.fit()\n",
    "\n",
    "y_forecasts = res.forecast(horizon=5)\n",
    "\n",
    "# Прогноз среднего\n",
    "y_forecasts.mean"
   ]
  },
  {
   "cell_type": "code",
   "execution_count": null,
   "metadata": {},
   "outputs": [],
   "source": [
    "y_forecasts.residual_variance"
   ]
  },
  {
   "cell_type": "code",
   "execution_count": null,
   "metadata": {},
   "outputs": [],
   "source": [
    "# прогноз волатильности\n",
    "y_forecasts.variance"
   ]
  },
  {
   "cell_type": "code",
   "execution_count": null,
   "metadata": {},
   "outputs": [],
   "source": [
    "am = arch_model(y, mean='ARX', lags=1, vol='EGARCH', p=1, q=1, o=0)\n",
    "\n",
    "res = am.fit()\n",
    "\n",
    "y_forecasts = res.forecast(horizon=1)\n",
    "\n",
    "# Прогноз среднего\n",
    "y_forecasts.mean"
   ]
  },
  {
   "cell_type": "code",
   "execution_count": null,
   "metadata": {},
   "outputs": [],
   "source": [
    "# прогноз волатильности\n",
    "y_forecasts.variance"
   ]
  },
  {
   "cell_type": "markdown",
   "metadata": {},
   "source": [
    "## Подгонка GARCH-in-Mean\n",
    "\n",
    "Спецификация\n",
    "\n",
    "\\begin{align*}\n",
    "\ty_t&=\\alpha_0++\\kappa\\log \\sigma^2_t+\\phi y_{t-1}+u_t \\\\ u_t&=\\sigma_t \\epsilon_t \\\\\n",
    "\t\\sigma^\\lambda_t &=\\omega+\\alpha |\\epsilon_{t-1}|^\\lambda+\\beta\\sigma^\\lambda_{t-1}\n",
    "\\end{align*}\n",
    "\n",
    "где $\\lambda=2$"
   ]
  },
  {
   "cell_type": "code",
   "execution_count": null,
   "metadata": {},
   "outputs": [],
   "source": [
    "gim = ARCHInMean(y, lags=1, volatility=GARCH(p=1,o=0, q=1), form='log')\n",
    "res = gim.fit()\n",
    "\n",
    "res.summary()"
   ]
  }
 ],
 "metadata": {
  "kernelspec": {
   "display_name": "base",
   "language": "python",
   "name": "python3"
  },
  "language_info": {
   "codemirror_mode": {
    "name": "ipython",
    "version": 3
   },
   "file_extension": ".py",
   "mimetype": "text/x-python",
   "name": "python",
   "nbconvert_exporter": "python",
   "pygments_lexer": "ipython3",
   "version": "3.11.8"
  }
 },
 "nbformat": 4,
 "nbformat_minor": 2
}
