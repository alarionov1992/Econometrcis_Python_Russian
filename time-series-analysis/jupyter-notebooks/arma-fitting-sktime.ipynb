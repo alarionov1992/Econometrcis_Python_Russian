{
 "cells": [
  {
   "cell_type": "markdown",
   "metadata": {},
   "source": [
    "# Подгонка ARMA (пакет [`sktime`](https://www.sktime.net/en/stable/))\n",
    "\n",
    "__Важно__: $ARMA$ рассматривается как частный случай $ARIMA$: \n",
    "\n",
    "$$\n",
    "\tARMA(p,q)=ARIMA(p,0,q).\n",
    "$$"
   ]
  },
  {
   "cell_type": "code",
   "execution_count": null,
   "metadata": {},
   "outputs": [],
   "source": [
    "import numpy as np\n",
    "import pandas as pd\n",
    "\n",
    "from sktime.forecasting.arima import ARIMA, AutoARIMA\n",
    "from sktime.utils.plotting import plot_series\n",
    "\n",
    "import pandas_datareader.data as web\n",
    "\n",
    "# настройки визуализация\n",
    "import matplotlib.pyplot as plt\n",
    "\n",
    "# Не показывать Warnings\n",
    "import warnings\n",
    "warnings.simplefilter(action='ignore', category=Warning)\n",
    "# Не показывать ValueWarning, ConvergenceWarning из statsmodels\n",
    "from statsmodels.tools.sm_exceptions import ValueWarning, ConvergenceWarning\n",
    "warnings.simplefilter('ignore', category=ValueWarning)\n",
    "warnings.simplefilter('ignore', category=ConvergenceWarning)"
   ]
  },
  {
   "cell_type": "markdown",
   "metadata": {},
   "source": [
    "Загрузим из БД [`FRED`](https://fred.stlouisfed.org/) недельные данные по 3-Month Treasury Bill Secondary Market Rate (Symbol [`WTB3MS`](https://fred.stlouisfed.org/series/WTB3MS)) с 2000-01-01 по 2023-12-31 и создадим датафрейм `rate`"
   ]
  },
  {
   "cell_type": "code",
   "execution_count": null,
   "metadata": {},
   "outputs": [],
   "source": [
    "rate = web.DataReader(name='WTB3MS', data_source='fred', start='2000-01-01', end='2023-12-31')\n",
    "plot_series(rate)"
   ]
  },
  {
   "cell_type": "code",
   "execution_count": null,
   "metadata": {},
   "outputs": [],
   "source": [
    "y = rate.diff().dropna()"
   ]
  },
  {
   "cell_type": "code",
   "execution_count": null,
   "metadata": {},
   "outputs": [],
   "source": [
    "plot_series(y)"
   ]
  },
  {
   "cell_type": "markdown",
   "metadata": {},
   "source": [
    "## Подгонка модели заданного порядка\n",
    "\n",
    "Подгоним модель ARMA(3,1)=ARIMA(3,0,1)"
   ]
  },
  {
   "cell_type": "code",
   "execution_count": null,
   "metadata": {},
   "outputs": [],
   "source": [
    "forecaster = ARIMA(order=(3,0,1), trend='c')\n",
    "forecaster.fit(y)\n",
    "forecaster.summary()"
   ]
  },
  {
   "cell_type": "code",
   "execution_count": null,
   "metadata": {},
   "outputs": [],
   "source": [
    "forecaster.get_fitted_params()"
   ]
  },
  {
   "cell_type": "markdown",
   "metadata": {},
   "source": [
    "# Автоматический выбор порядка модели\n",
    "\n",
    "Выбор порядка по информационным критериям. Выведем только порядок подогнанной модели"
   ]
  },
  {
   "cell_type": "code",
   "execution_count": null,
   "metadata": {},
   "outputs": [],
   "source": [
    "forecaster = AutoARIMA(start_p=1, start_q=1, max_p=5, max_q=5, stationary=True, information_criterion='aic', trend='c', seasonal=False)\n",
    "forecaster.fit(y)\n",
    "forecaster.get_fitted_params()['order']"
   ]
  },
  {
   "cell_type": "code",
   "execution_count": null,
   "metadata": {},
   "outputs": [],
   "source": [
    "forecaster = AutoARIMA(start_p=1, start_q=1, max_p=5, max_q=5, stationary=True, information_criterion='bic', trend='c', seasonal=False)\n",
    "forecaster.fit(y)\n",
    "forecaster.get_fitted_params()['order']"
   ]
  },
  {
   "cell_type": "code",
   "execution_count": null,
   "metadata": {},
   "outputs": [],
   "source": [
    "forecaster = AutoARIMA(start_p=1, start_q=1, max_p=5, max_q=5, stationary=True, information_criterion='hqic', trend='c', seasonal=False)\n",
    "forecaster.fit(y)\n",
    "forecaster.get_fitted_params()['order']"
   ]
  },
  {
   "cell_type": "markdown",
   "metadata": {},
   "source": [
    "## ARMA с трендом (автоматический выбор порядка модели)\n",
    "\n",
    "Выбор порядка по информационным критериям"
   ]
  },
  {
   "cell_type": "code",
   "execution_count": null,
   "metadata": {},
   "outputs": [],
   "source": [
    "forecaster = AutoARIMA(start_p=1, start_q=1, max_p=5, max_q=5, stationary=True, information_criterion='aic', trend='ct', seasonal=False)\n",
    "forecaster.fit(y)\n",
    "forecaster.summary()"
   ]
  },
  {
   "cell_type": "code",
   "execution_count": null,
   "metadata": {},
   "outputs": [],
   "source": [
    "forecaster = AutoARIMA(start_p=1, start_q=1, max_p=5, max_q=5, stationary=True, information_criterion='bic', trend='ct', seasonal=False)\n",
    "forecaster.fit(y)\n",
    "forecaster.summary()"
   ]
  },
  {
   "cell_type": "code",
   "execution_count": null,
   "metadata": {},
   "outputs": [],
   "source": [
    "forecaster = AutoARIMA(start_p=1, start_q=1, max_p=5, max_q=5, stationary=True, information_criterion='hqic', trend='c', seasonal=False)\n",
    "forecaster.fit(y)\n",
    "forecaster.summary()"
   ]
  }
 ],
 "metadata": {
  "kernelspec": {
   "display_name": "base",
   "language": "python",
   "name": "python3"
  },
  "language_info": {
   "codemirror_mode": {
    "name": "ipython",
    "version": 3
   },
   "file_extension": ".py",
   "mimetype": "text/x-python",
   "name": "python",
   "nbconvert_exporter": "python",
   "pygments_lexer": "ipython3",
   "version": "3.11.6"
  }
 },
 "nbformat": 4,
 "nbformat_minor": 2
}
