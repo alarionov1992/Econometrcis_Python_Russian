{
 "cells": [
  {
   "cell_type": "markdown",
   "metadata": {},
   "source": [
    "# Кросс-валидация ARMA (пакет [`pmdarima`](https://alkaline-ml.com/pmdarima/index.html#))\n",
    "\n",
    "__Важно__: $ARMA$ рассматривается как частный случай $ARIMA$: \n",
    "\n",
    "$$\n",
    "\tARMA(p,q)=ARIMA(p,0,q).\n",
    "$$"
   ]
  },
  {
   "cell_type": "code",
   "execution_count": null,
   "metadata": {},
   "outputs": [],
   "source": [
    "import numpy as np\n",
    "import pandas as pd\n",
    "\n",
    "import pmdarima as pm\n",
    "from pmdarima import model_selection\n",
    "from sklearn.metrics import mean_squared_error as mse \n",
    "\n",
    "import pandas_datareader.data as web\n",
    "\n",
    "# настройки визуализация\n",
    "import matplotlib.pyplot as plt\n",
    "\n",
    "# Не показывать Warnings\n",
    "import warnings\n",
    "warnings.simplefilter(action='ignore', category=Warning)"
   ]
  },
  {
   "cell_type": "markdown",
   "metadata": {},
   "source": [
    "Загрузим из БД [`FRED`](https://fred.stlouisfed.org/) месячные данные по Market Yield on U.S. Treasury Securities at 10-Year Constant Maturity (Symbol [`GS10`](https://fred.stlouisfed.org/series/GS10)) с 2000-01-01 по 2023-12-31 и создадим датафрейм `rate`\n"
   ]
  },
  {
   "cell_type": "code",
   "execution_count": null,
   "metadata": {},
   "outputs": [],
   "source": [
    "rate = web.DataReader(name='GS10', data_source='fred', start='2000-01-01', end='2023-12-31')"
   ]
  },
  {
   "cell_type": "markdown",
   "metadata": {},
   "source": [
    "Пусть `y` – первая разность ставки (не забудем удалить пропущенные наблюдения)"
   ]
  },
  {
   "cell_type": "code",
   "execution_count": null,
   "metadata": {},
   "outputs": [],
   "source": [
    "y = rate.diff().dropna()"
   ]
  },
  {
   "cell_type": "markdown",
   "metadata": {},
   "source": [
    "## Валидация через разделение на обучающую и тестовую выборки\n",
    "\n",
    "Используем метод [`train_test_split`](http://alkaline-ml.com/pmdarima/modules/generated/pmdarima.model_selection.train_test_split.html#pmdarima.model_selection.train_test_split) из пакета `pmdarima`\n",
    "\n",
    "Разберём на примере ARMA(2,3)"
   ]
  },
  {
   "cell_type": "code",
   "execution_count": null,
   "metadata": {},
   "outputs": [],
   "source": [
    "# специфицируем модель\n",
    "arma = pm.ARIMA(order=(2,0,3), with_intercept=True, trend=None)\n",
    "\n",
    "# разбиваем выбору на обучающую (первые 80%) и тестовую\n",
    "train, test = model_selection.train_test_split(y, test_size=0.8)\n",
    "# Обучаем модель на тестовом множестве\n",
    "arma.fit(train)\n",
    "# прогнозируем для тестовых наблюдений\n",
    "forecasts = arma.predict(n_periods=test.shape[0])\n",
    "\n",
    "# считаем метрику MSE\n",
    "mse(test, forecasts)"
   ]
  },
  {
   "cell_type": "markdown",
   "metadata": {},
   "source": [
    "## Валидация методом k-Fold (расширяем обучающую выборку)\n",
    "\n",
    "Используем метод [`RollingForecastCV`](http://alkaline-ml.com/pmdarima/modules/generated/pmdarima.model_selection.RollingForecastCV.html#pmdarima.model_selection.RollingForecastCV) из пакета `pmdarima`\n",
    "\n",
    "Для вычисления метрики для каждого фолда используем метод [`cross_val_score`](http://alkaline-ml.com/pmdarima/modules/generated/pmdarima.model_selection.cross_val_score.html#pmdarima.model_selection.cross_val_score)\n",
    "\n",
    "Разберём на примере ARMA(2,3)"
   ]
  },
  {
   "cell_type": "code",
   "execution_count": null,
   "metadata": {},
   "outputs": [],
   "source": [
    "# специфицируем модель\n",
    "arma = pm.ARIMA(order=(2,0,3), with_intercept=True, trend=None)\n",
    "\n",
    "# специфицируем метод кросс-валидации: h - горизонт прогнозирования, step - шаг увеличения обучающей выборки.\n",
    "# по умолчанию начинаем с 1/3 выборки\n",
    "cv = model_selection.RollingForecastCV(h=10, step=10)\n",
    "\n",
    "# считаем метрику для прогнозов (MSE) для каждой итерации (verbose выдаёт отчёт по каждой итерации)\n",
    "scores = model_selection.cross_val_score(estimator=arma, y=y, cv=cv, scoring='mean_squared_error', verbose=2)\n",
    "\n",
    "# средняя ошибка\n",
    "np.average(scores)"
   ]
  },
  {
   "cell_type": "markdown",
   "metadata": {},
   "source": [
    "## Валидация методом k-Fold (скользящая обучающая выборка)\n",
    "\n",
    "Используем метод [`SlidingWindowForecastCV`](http://alkaline-ml.com/pmdarima/modules/generated/pmdarima.model_selection.SlidingWindowForecastCV.html#pmdarima.model_selection.SlidingWindowForecastCV) из пакета `pmdarima`\n",
    "\n",
    "Для вычисления метрики для каждого фолда используем метод [`cross_val_score`](http://alkaline-ml.com/pmdarima/modules/generated/pmdarima.model_selection.cross_val_score.html#pmdarima.model_selection.cross_val_score)\n",
    "\n",
    "Разберём на примере ARMA(2,3)"
   ]
  },
  {
   "cell_type": "code",
   "execution_count": null,
   "metadata": {},
   "outputs": [],
   "source": [
    "# специфицируем модель\n",
    "arma = pm.ARIMA(order=(2,0,3), with_intercept=True, trend=None)\n",
    "\n",
    "# специфицируем метод кросс-валидации: h - горизонт прогнозирования, step - шаг увеличения обучающей выборки.\n",
    "# по умолчанию начинаем с 1/3 выборки\n",
    "cv = model_selection.SlidingWindowForecastCV(h=10, step=10)\n",
    "\n",
    "# считаем метрику для прогнозов (MSE) для каждой итерации (verbose выдаёт отчёт по каждой итерации)\n",
    "scores = model_selection.cross_val_score(estimator=arma, y=y, cv=cv, scoring='mean_squared_error', verbose=2)\n",
    "\n",
    "# средняя ошибка\n",
    "np.average(scores)"
   ]
  }
 ],
 "metadata": {
  "kernelspec": {
   "display_name": "base",
   "language": "python",
   "name": "python3"
  },
  "language_info": {
   "codemirror_mode": {
    "name": "ipython",
    "version": 3
   },
   "file_extension": ".py",
   "mimetype": "text/x-python",
   "name": "python",
   "nbconvert_exporter": "python",
   "pygments_lexer": "ipython3",
   "version": "3.11.6"
  }
 },
 "nbformat": 4,
 "nbformat_minor": 2
}
